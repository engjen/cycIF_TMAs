{
 "cells": [
  {
   "cell_type": "markdown",
   "id": "8f40b812",
   "metadata": {},
   "source": [
    "## Cluster TMAs\n",
    "\n",
    "**Samples:** \n",
    "- Basel\n",
    "\n",
    "**Method**:\n",
    "\n",
    "- use mesmer segmentation data\n",
    "\n",
    "- leiden cluster on good biomarkers for celltypes"
   ]
  },
  {
   "cell_type": "code",
   "execution_count": null,
   "id": "1ec617d4",
   "metadata": {},
   "outputs": [],
   "source": [
    "#load libraries\n",
    "import pandas as pd\n",
    "import matplotlib.pyplot as plt\n",
    "import numpy as np\n",
    "import os\n",
    "import seaborn as sns\n",
    "import scipy\n",
    "import scanpy as sc\n",
    "import matplotlib as mpl\n",
    "from matplotlib import cm\n",
    "mpl.rc('figure', max_open_warning = 0)\n",
    "codedir = '/home/groups/graylab_share/OMERO.rdsStore/engje/Data/IMC_Data_publication'#os.getcwd()\n",
    "import phenograph\n",
    "os.chdir('/home/groups/graylab_share/OMERO.rdsStore/engje/Data')\n",
    "from mplex_image import visualize as viz, process, preprocess, normalize, mpimage\n",
    "np.random.seed(1221)"
   ]
  },
  {
   "cell_type": "code",
   "execution_count": null,
   "id": "974c3ad6",
   "metadata": {},
   "outputs": [],
   "source": [
    "s_date = '20220114'\n",
    "os.chdir(codedir)\n",
    "if not os.path.exists(s_date):\n",
    "    os.mkdir(s_date)\n",
    "%matplotlib inline"
   ]
  },
  {
   "cell_type": "markdown",
   "id": "5f5043a2",
   "metadata": {},
   "source": [
    "# Table of contents <a name=\"contents\"></a>\n",
    "1. [Load annotation](#loadold)\n",
    "2. [load data](#cluster)\n",
    "3. [load thresholds](#load)\n",
    "  [gating](#gating)  [colocalization](#coloc)\n",
    "4. [bg subtract](#leiden)\n",
    "5. [single cell Umap](#l7)\n",
    "6. [Leiden celltypes](#l8)\n",
    "[annotate leiden celltypes](#lbar)\n",
    "7. [Tissue means](#tissue)\n",
    "8. [single variable survival](#surv)\n",
    "9. [subtyping survival](#subt)"
   ]
  },
  {
   "cell_type": "markdown",
   "id": "9d57385a",
   "metadata": {},
   "source": [
    "# Load annotation <a name=\"loadold\"></a>\n",
    "\n",
    "[contents](#contents)"
   ]
  },
  {
   "cell_type": "code",
   "execution_count": null,
   "id": "82d36aee",
   "metadata": {},
   "outputs": [],
   "source": [
    "df_a = pd.read_csv(f'{codedir}/BaselTMA/Basel_PatientMetadata.csv')\n",
    "#basel has 285 patients with overall survival\n",
    "print(len(df_a.PID.unique()))\n",
    "print(df_a[~df_a.PID.duplicated()].groupby('clinical_type').PID.count())\n",
    "print(df_a[~df_a.PID.duplicated()].groupby('clinical_type').PID.count().sum())\n",
    "#df_a.columns\n",
    "#s_col = 'diseasestatus' # == tumor 'Count_Cells' #\n",
    "#s_id = 238\n",
    "#df_a.loc[df_a.PID==s_id,[s_col,'TMALocation']]\n",
    "#df_a.loc[:,s_col].unique()\n",
    "#df_a[~df_a.PID.duplicated()]\n",
    "#df_a.OSmonth.dropna()"
   ]
  },
  {
   "cell_type": "code",
   "execution_count": null,
   "id": "394697f4",
   "metadata": {},
   "outputs": [],
   "source": [
    "#no survival data for zurich\n",
    "'''\n",
    "df_z = pd.read_csv(f'{codedir}/ZurichTMA/Zuri_PatientMetadata.csv',index_col=0)\n",
    "df_z.OSmonth.isna().sum()\n",
    "'''\n",
    "df_s = pd.read_csv(f'{codedir}/Basel_Zuri_StainingPanel.csv')\n",
    "#df_s.loc[~df_s.loc[:,'Antibody Clone'].isna()].Target\n",
    "df_s.head()"
   ]
  },
  {
   "cell_type": "markdown",
   "id": "f0fd3dce",
   "metadata": {},
   "source": [
    "# Basel TMA  <a name=\"cluster\"></a>\n",
    "\n",
    "Basel TMA, 279 patients with overal survival, subtype\n",
    "\n",
    "\n",
    "\n",
    "| clinical_type | no. |\n",
    "| --- | ----------- |\n",
    "| HR+HER2+   |   30 |\n",
    "| HR+HER2-   |  176 |\n",
    "| HR-HER2+   |   24 |\n",
    "| TripleNeg  |   49 |\n",
    "\n",
    "\n",
    "[contents](#contents)"
   ]
  },
  {
   "cell_type": "code",
   "execution_count": null,
   "id": "cd798569",
   "metadata": {},
   "outputs": [],
   "source": [
    "segdir = f'{codedir}/Segmentation'\n",
    "df_mi = pd.read_csv((f'{segdir}/features_IMC_MeanIntensity_Centroid_Shape.csv'),index_col=0)\n",
    "df_mi = df_mi.dropna()"
   ]
  },
  {
   "cell_type": "code",
   "execution_count": null,
   "id": "154c66f8",
   "metadata": {},
   "outputs": [],
   "source": [
    "sorted(df_mi.columns)"
   ]
  },
  {
   "cell_type": "code",
   "execution_count": null,
   "id": "614f8bb8",
   "metadata": {},
   "outputs": [],
   "source": [
    "#filter sbcellular location\n",
    "\n",
    "#150 cells are na in the markers: probaly too small for the expansion (get borders erased them)\n",
    "#os.listdir(f'{codedir}/BaselTMA')\n",
    "sorted(df_mi.columns)\n",
    "ls_marker = ['CD20_cytoplasm','CD31_cytoplasm','CD3_cytoplasm','CD44_cytoplasm','CD45_cytoplasm',\n",
    "             'CD68_cytoplasm','CarbonicAnhydraseIX_cytoplasm', 'Cytokeratin19_cytoplasm','Cytokeratin5_cytoplasm',\n",
    "              'Cytokeratin7_cytoplasm','Cytokeratin818_cytoplasm','DAPI1_nuclei','EGFR_cytoplasm','ER_nuclei','Ecad_cytoplasm',\n",
    "             'EpCAM_cytoplasm','Erk12_nuclei','Fibronectin_cytoplasm','GATA3_nuclei','HistoneH3_nuclei','Keratin14_cytoplasm',\n",
    "             'Ki67_nuclei','ProgesteroneReceptorAB_nuclei','S6_cytoplasm','SMA_cytoplasm', ##'RabbitIgGHL_cell' now ER_nuclei,\n",
    "             'Slug_nuclei','Sox9_nuclei','Twist_nuclei','Vimentin_cytoplasm','area_nuclei','bCatenin_nuclei',\n",
    "              'cMyc_nuclei', 'centroid-0_nuclei', 'centroid-1_nuclei','cerbB2Her2_cytoplasm','cleavedPARP_nuclei',\n",
    "            'eccentricity_nuclei','mTOR_cytoplasm','p53_nuclei','panCytokeratin_cytoplasm',\n",
    "            ]\n",
    "sorted(df_mi.columns)\n",
    "len(ls_marker)"
   ]
  },
  {
   "cell_type": "code",
   "execution_count": null,
   "id": "96571b65",
   "metadata": {},
   "outputs": [],
   "source": [
    "'''exclude_channels = [\"ImageId\" ,\"CellId\" ,\"In115 115InIn115Di\",\"Xe134 134XeXe134Di\",\"Hg202 202HgHg202Di\",\"Pb204 204PbPb204Di\",\n",
    "                     \"Pb206 206PbPb206Di\",\"ArAr80 80ArArArAr80Di\", \"10311239Ru96Di Rutheni\",\"10311240Ru98Di Rutheni\",\n",
    "                     \"10311241Ru99Di Rutheni\", \"10311242Ru100Di Rutheni\",\"10311243Ru101Di Rutheni\", \"10311244Ru102Di Rutheni\",\n",
    "                     \"10311245Ru104Di Rutheni\",\"Xe126 126XeXe126Di\",\"I127 127II127Di\",\"Xe131 131XeXe131Di\",\"Pb207 207PbPb207Di\",\n",
    "                     \"Pb208 208PbPb208Di\",\"EulerNumber\",\"MajorAxisLength\",\"MinorAxisLength\", \"Orientation\",\n",
    "                     \"10331253Ir191Di Iridium\",\"Perimeter\",\"Solidity\", # excluded in Jackson et al\n",
    "                   'Extent', 'Percent_Touching', 'Number_Neighbors', #I excluded these three\n",
    "                   ]\n",
    "#29 markers used in jackson et al\n",
    "ls_jackson = ['iridium', 'histone', 'phosphorylated histone', 'CK14', 'CK5', 'CK8/18', 'CK19', 'CK7', 'pan-CK',\n",
    "'E/P-cadherin', 'ER', 'PR', 'HER2', 'GATA3', 'SMA', 'vimentin', 'fibronectin', 'vWF/ CD31',\n",
    "'CD44', 'CD45', 'CD68', 'CD3', 'CD20', 'cleaved caspase 3/cleaved PARP',\n",
    "'carbonic anhydrase', 'phosphorylated S6', 'Ki67', 'p53', 'EGFR', 'area', 'eccentricity']\n",
    "'''"
   ]
  },
  {
   "cell_type": "code",
   "execution_count": null,
   "id": "ba26a980",
   "metadata": {},
   "outputs": [],
   "source": [
    "#len(df_data.Marker.unique()) #34 in watershed"
   ]
  },
  {
   "cell_type": "code",
   "execution_count": null,
   "id": "bfab384b",
   "metadata": {},
   "outputs": [],
   "source": [
    "#df_test = df_data.loc[df_data.id.str.contains('BaselTMA_SP41_257'),['id','mc_counts','Marker']]\n",
    "#df_test.pivot_table(index=\"id\", columns='Marker',  values='mc_counts')\n",
    "#df_wide = df_data.loc[:,['id','mc_counts','Marker']].pivot_table(index=\"id\",columns='Marker',values='mc_counts')"
   ]
  },
  {
   "cell_type": "code",
   "execution_count": null,
   "id": "40a2cdaf",
   "metadata": {},
   "outputs": [],
   "source": [
    "#watershed df_wide.shape (855668, 34)\n",
    "#mesmer df_mi.loc[:,ls_marker].shape (618811, 40)"
   ]
  },
  {
   "cell_type": "code",
   "execution_count": null,
   "id": "9c2333c2",
   "metadata": {
    "scrolled": true
   },
   "outputs": [],
   "source": [
    "## add slide scene\n",
    "df_mi['slide_scene'] = [item.split('_cell')[0].replace(\"scene\",\"\") for item in df_mi.index]\n",
    "df_mi.loc[:,ls_marker+['slide_scene']].head()"
   ]
  },
  {
   "cell_type": "code",
   "execution_count": null,
   "id": "c6d3dce1",
   "metadata": {},
   "outputs": [],
   "source": [
    "#add core\n",
    "for s_core in df_a.core.unique():\n",
    "    s_scene = s_core.split('_')[-2] + '_' + s_core.split('_')[-1]\n",
    "    df_mi.loc[df_mi.slide_scene==s_scene,'core'] = s_core\n",
    "    #break\n",
    "#old\n",
    "#for s_core in df_a.core.unique():\n",
    "#    df_wide.loc[df_wide.index.str.contains(f'{s_core}_'),'core'] = s_core\n",
    "df_wide = df_mi.loc[:,ls_marker+['slide_scene','core']]"
   ]
  },
  {
   "cell_type": "code",
   "execution_count": null,
   "id": "cea875ce",
   "metadata": {},
   "outputs": [],
   "source": [
    "#rename columns\n",
    "d_replace = {'centroid-0_nuclei':'DAPI_Y',\n",
    "       'centroid-1_nuclei':'DAPI_X',\n",
    "            'cerbB2Her2_cytoplasm':'HER2_cytoplasm',\n",
    "            'ProgesteroneReceptorAB_nuclei':'PgR_nuclei',\n",
    "             'panCytokeratin_cytoplasm':'panCK_cytoplasm',\n",
    "            'Cytokeratin19_cytoplasm':'CK19_cytoplasm',\n",
    "             'Cytokeratin5_cytoplasm':'CK5_cytoplasm',\n",
    "       'Cytokeratin7_cytoplasm':'CK7_cytoplasm',\n",
    "             'Cytokeratin818_cytoplasm':'CK8_cytoplasm',\n",
    "            'Keratin14_cytoplasm':'CK14_cytoplasm',\n",
    "            'CarbonicAnhydraseIX_cytoplasm':'CAIX_cytoplasm',\n",
    "            'Fibronectin_cytoplasm':'FN_cytoplasm',\n",
    "            'HistoneH3_nuclei':'HH3_nuclei',\n",
    "            'cleavedPARP_nuclei':'CC3cPARP_nuclei',\n",
    "            'Vimentin_cytoplasm':'Vim_cytoplasm',\n",
    "            'CD31_cytoplasm':'CD31vWF_cytoplasm'}\n",
    "df_wide.rename(d_replace,axis=1,inplace=True)"
   ]
  },
  {
   "cell_type": "code",
   "execution_count": null,
   "id": "e0aa2c5f",
   "metadata": {},
   "outputs": [],
   "source": [
    "df_wide.head()"
   ]
  },
  {
   "cell_type": "code",
   "execution_count": null,
   "id": "a5f634ec",
   "metadata": {},
   "outputs": [],
   "source": [
    "df_wide.columns"
   ]
  },
  {
   "cell_type": "code",
   "execution_count": null,
   "id": "a9abd420",
   "metadata": {},
   "outputs": [],
   "source": [
    "#save\n",
    "#s_out = f'{codedir}/data/20220110_BaselTMA_MeanIntensity.csv'\n",
    "#s_out = f'{codedir}/data/20220112_BaselTMA_MeanIntensity.csv'\n",
    "s_out = f'{codedir}/data/20220114_BaselTMA_MeanIntensity.csv'\n",
    "if not os.path.exists(s_out):\n",
    "    print('saving csv')\n",
    "    df_wide.to_csv(s_out)"
   ]
  },
  {
   "cell_type": "markdown",
   "id": "cab08fad",
   "metadata": {},
   "source": [
    "## Umap <a name=\"l7\"></a>\n",
    "\n",
    "umap projection of single cells\n",
    "\n",
    "[contents](#contents)"
   ]
  },
  {
   "cell_type": "code",
   "execution_count": null,
   "id": "c529a652",
   "metadata": {
    "scrolled": true
   },
   "outputs": [],
   "source": [
    "os.chdir(f'{codedir}/data')\n",
    "s_sample = '20220114_BaselTMA'#'20220112_BaselTMA'#'20220110_BaselTMA'#'20211221_BaselTMA'\n",
    "df_norm = pd.read_csv(f'{s_sample}_MeanIntensity.csv',index_col=0)\n",
    "#rename columns\n",
    "dict(zip(df_norm.columns,[item.split('_')[0] for item in df_norm.columns]))\n",
    "d_rename = {'CD20_cytoplasm': 'CD20', 'CD31vWF_cytoplasm': 'CD31', 'CD3_cytoplasm': 'CD3', 'CD44_cytoplasm': 'CD44',\n",
    " 'CD45_cytoplasm': 'CD45', 'CD68_cytoplasm': 'CD68', 'CAIX_cytoplasm': 'CAIX', 'CK19_cytoplasm': 'CK19',\n",
    " 'CK5_cytoplasm': 'CK5', 'CK7_cytoplasm': 'CK7', 'CK8_cytoplasm': 'CK8', 'DAPI1_nuclei': 'DAPI1',\n",
    " 'EGFR_cytoplasm': 'EGFR', 'Ecad_cytoplasm': 'Ecad', 'EpCAM_cytoplasm': 'EpCAM', 'Erk12_nuclei': 'Erk12',\n",
    " 'FN_cytoplasm': 'FN', 'GATA3_nuclei': 'GATA3', 'HH3_nuclei': 'HH3', 'CK14_cytoplasm': 'CK14',\n",
    " 'Ki67_nuclei': 'Ki67', 'PgR_nuclei': 'PgR', #'RabbitIgGHL_cell': 'RbtIgG',\n",
    "            'S6_cytoplasm': 'S6', 'ER_nuclei': 'ER',\n",
    " 'SMA_cytoplasm': 'SMA', 'Slug_nuclei': 'Slug', 'Sox9_nuclei': 'Sox9', 'Twist_nuclei': 'Twist',\n",
    " 'Vim_cytoplasm': 'Vim', 'area_nuclei': 'area', 'bCatenin_nuclei': 'bCatenin', 'cMyc_nuclei': 'cMyc',\n",
    " 'HER2_cytoplasm': 'HER2', 'CC3cPARP_nuclei': 'CC3_cPARP', 'eccentricity_nuclei': 'eccentricity', 'mTOR_cytoplasm': 'mTOR',\n",
    " 'p53_nuclei': 'p53', 'panCK_cytoplasm': 'panCK', #'slide_scene': 'slide', #'DAPI_Y': 'DAPI', #'DAPI_X': 'DAPI',\n",
    " 'core': 'core'}\n",
    "df_norm.rename(d_rename,axis=1,inplace=True)\n",
    "#add annotation\n",
    "df_norm['subtype'] = df_norm.core.map(dict(zip(df_a.core,df_a.clinical_type)))\n",
    "df_norm['Patient'] = df_norm.core.map(dict(zip(df_a.core,df_a.PID)))\n",
    "df_norm =df_norm.dropna()"
   ]
  },
  {
   "cell_type": "code",
   "execution_count": null,
   "id": "c9a1a9ec",
   "metadata": {},
   "outputs": [],
   "source": [
    "df_norm.columns"
   ]
  },
  {
   "cell_type": "markdown",
   "id": "f1921852",
   "metadata": {},
   "source": [
    "## cluster all cells\n",
    "\n",
    "TNBC and ER+"
   ]
  },
  {
   "cell_type": "code",
   "execution_count": null,
   "id": "5ee5db4e",
   "metadata": {},
   "outputs": [],
   "source": [
    "#33 features\n",
    "ls_col = ['Area', 'CAIX', 'CC3_cPARP', 'CD20', 'CD3', 'CD31', 'CD44', 'CD45',\n",
    "       'CD68', 'CK14', 'CK19', 'CK5', 'CK7', 'CK8', 'EGFR', 'Eccentricity',\n",
    "       'FN', 'GATA3', 'HER2', 'HH3', 'Ki67', 'PgR', 'RbtIgG', 'SMA', 'Slug',\n",
    "       'Twist', 'Vim', 'cMyc', 'p53', 'pHH3', 'pS6', 'panCK', 'pmTOR'#,'Ecad'\n",
    "         ]#old\n",
    "ls_col = ['CD20', 'CD31', 'CD3', 'CD44', 'CD45', 'CD68', 'CAIX', 'CK19', 'CK5',\n",
    "       'CK7', 'CK8', 'DAPI1', 'EGFR', 'EpCAM', 'Erk12', 'FN', 'GATA3',\n",
    "       'HH3', 'CK14', 'Ki67', 'PgR', 'RbtIgG', 'S6', 'SMA', 'Slug', 'Sox9',\n",
    "       'Twist', 'Vim', 'Area', 'bCatenin', 'cMyc', 'HER2',\n",
    "       'CC3_cPARP', 'Eccentricity', 'mTOR', 'p53', 'panCK',  ] \n",
    "ls_col = ['CD20', 'CD31', 'CD3', 'CD44', 'CD45', 'CD68', 'CAIX', 'CK19', 'CK5',\n",
    "       'CK7', 'CK8', 'DAPI1', 'EGFR', 'ER', 'Ecad', 'EpCAM', 'Erk12', 'FN',\n",
    "       'GATA3', 'HH3', 'CK14', 'Ki67', 'PgR', 'S6', 'SMA', 'Slug', 'Sox9',\n",
    "       'Twist', 'Vim', 'Area', 'bCatenin', 'cMyc',  'HER2', #'DAPI_Y', 'DAPI_X',\n",
    "       'CC3_cPARP', 'Eccentricity', 'mTOR', 'p53', 'panCK',   ]\n",
    "ls_col = [ 'CD31', 'CD44', 'CD45','CD20','CD3',#'Area',  'nCD3' noisy,#'CAIX' weird,\n",
    "        'CK14','CK5','EGFR', 'CK19',  'CK8','CK7','panCK','Ecad',  #'Eccentricity','?CD68','weakCK7',\n",
    "       'Ki67','ER','PgR','CD68','FN', 'SMA', #'Slug',#'GATA3',weak and bright noise \n",
    "        'Vim','area'] #'cMyc','p53','pmTOR',  'pHH3', 'pS6' 'Twist',\n",
    "df_exclude = pd.read_csv('exclude_necrotic_BaselTMA_TripleNeg.csv',index_col=0)\n",
    "print(len(ls_col))\n",
    "adata = sc.AnnData(df_norm.loc[~df_norm.index.isin(df_exclude.index),ls_col])\n",
    "adata.obs['TMA'] = 'Basel'\n",
    "adata.obs['slide_scene'] = df_norm.core\n",
    "adata.obs['Patient'] = df_norm.Patient\n",
    "adata.obs['subtype'] = df_norm.subtype.replace({'HR+HER2-':'ER+', 'TripleNeg':'TNBC'})\n",
    "#two subtypes\n",
    "adata = adata[adata.obs.subtype.isin(['TNBC', 'ER+'])]\n"
   ]
  },
  {
   "cell_type": "code",
   "execution_count": null,
   "id": "f3a7aaf2",
   "metadata": {},
   "outputs": [],
   "source": [
    "adata.obs['subtype'].unique()"
   ]
  },
  {
   "cell_type": "code",
   "execution_count": null,
   "id": "9028d32b",
   "metadata": {
    "scrolled": true
   },
   "outputs": [],
   "source": [
    "#preprocess\n",
    "b_scale = True\n",
    "adata.raw = adata\n",
    "#reduce dimensionality\n",
    "sc.tl.pca(adata, svd_solver='auto')\n",
    "fig,ax=plt.subplots(figsize=(3.5,5))\n",
    "sc.pl.highest_expr_genes(adata, n_top=48,ax=ax,save=f'{s_sample}_Expression_{len(ls_col)}.png')\n",
    "plt.tight_layout()\n",
    "sc.pl.pca_variance_ratio(adata,n_pcs=37, log=True)\n",
    "if b_scale:\n",
    "    sc.pp.scale(adata, zero_center=False, max_value=20)\n",
    "    s_sample = s_sample + '_s'"
   ]
  },
  {
   "cell_type": "code",
   "execution_count": null,
   "id": "841e00b2",
   "metadata": {},
   "outputs": [],
   "source": [
    "n_neighbors = 30\n",
    "results_file = f'{s_sample}_{n_neighbors}neighbors_{len(ls_col)}markers.h5ad'\n",
    "results_file #= f'{s_sample}_{n_neighbors}neighbors_{len(ls_col)}markers.h5ad'"
   ]
  },
  {
   "cell_type": "code",
   "execution_count": null,
   "id": "523efeb5",
   "metadata": {
    "scrolled": false
   },
   "outputs": [],
   "source": [
    "#umap\n",
    "#s_sample = '20220112_BaselTMA'#'20220110_BaselTMA'#'20211221_BaselTMA'\n",
    "for n_neighbors in [30,15]:\n",
    "    results_file = f'{s_sample}_{n_neighbors}neighbors_{len(ls_col)}markers.h5ad'\n",
    "    if not os.path.exists(results_file):\n",
    "        print('calc umap')\n",
    "        # calculate neighbors \n",
    "        sc.pp.neighbors(adata, n_neighbors=n_neighbors) #, method='rapids'\n",
    "        sc.tl.umap(adata)\n",
    "    else:\n",
    "        print('loading umap')\n",
    "        adata = sc.read_h5ad(results_file)\n",
    "        adata.obs['TMA'] = 'Basel'\n",
    "        adata.obs['slide_scene'] = df_norm.core\n",
    "        adata.obs['subtype'] = df_norm.subtype\n",
    "        adata.obs['Patient'] = df_norm.Patient#.astype('int').astype('str')\n",
    "    #save results  \n",
    "    if not os.path.exists(results_file):\n",
    "        adata.write(results_file)\n",
    "    #color by markers\n",
    "    figname = f\"Umap_{s_sample}_markers_{n_neighbors}neighbors_{len(ls_col)}markers.png\"\n",
    "    sc.pl.umap(adata, color=ls_col,vmin='p1.5',vmax='p98.5',save=figname,ncols=6)\n",
    "    #color by TMA\n",
    "    figname = f\"Umap_{s_sample}_TMA_{n_neighbors}neighbors_{len(ls_col)}markers.png\"\n",
    "    fig,ax = plt.subplots(figsize=(3,2), dpi=200)\n",
    "    sc.pl.umap(adata, color='TMA',wspace=.25,save=figname,ax=ax)\n",
    "    \n",
    "    figname = f\"Umap_{s_sample}_subtype_{n_neighbors}neighbors_{len(ls_col)}markers.png\"\n",
    "    fig,ax = plt.subplots(figsize=(3,2), dpi=200)\n",
    "    sc.pl.umap(adata, color='subtype',wspace=.25,save=figname,ax=ax)\n",
    "    \n",
    "    figname = f\"Umap_{s_sample}_Patient_{n_neighbors}neighbors_{len(ls_col)}markers.png\"\n",
    "    fig,ax = plt.subplots(figsize=(3,2), dpi=200)\n",
    "    sc.pl.umap(adata, color='Patient',wspace=.25,save=figname,ax=ax)\n",
    "\n",
    "    break\n"
   ]
  },
  {
   "cell_type": "code",
   "execution_count": null,
   "id": "09e9cfb1",
   "metadata": {},
   "outputs": [],
   "source": [
    "s_type = '2sub'\n",
    "resolution = 0.6\n",
    "n_markers = 21#len(ls_col) #20\n",
    "results_file = f'{s_sample}_{n_neighbors}neighbors_{n_markers}markers_{s_type}_leiden{resolution}.h5ad'\n",
    "if not os.path.exists(results_file):\n",
    "    print('clustering')\n",
    "    sc.tl.leiden(adata,resolution=resolution)\n",
    "    adata.write(results_file)\n",
    "else:\n",
    "    print('loading leiden')\n",
    "    adata = sc.read_h5ad(results_file)\n",
    "\n",
    "#fig,ax = plt.subplots(figsize=(3,2),dpi=200)\n",
    "#figname=f'leiden_{n_neighbors}_{n_markers}_{resolution}_{s_type}_legend.png'\n",
    "#sc.pl.umap(adata, color='leiden',ax=ax,save=figname,title=figname.split('.png')[0].replace('_',' '))\n",
    "\n",
    "fig,ax = plt.subplots(figsize=(3,2),dpi=200)\n",
    "figname=f'leiden_{n_neighbors}_{n_markers}_{resolution}_{s_type}.png'\n",
    "sc.pl.umap(adata, color='leiden',ax=ax,save=figname,title=figname.split('.png')[0].replace('_',' '),legend_loc=None)\n",
    "#"
   ]
  },
  {
   "cell_type": "code",
   "execution_count": null,
   "id": "1c467222",
   "metadata": {},
   "outputs": [],
   "source": [
    "#small cells\n",
    "#adata.obs['test'] = (adata.to_df().Area > 10).replace({True:1,False:0})\n",
    "#sc.pl.umap(adata, color='test',title='merged')"
   ]
  },
  {
   "cell_type": "markdown",
   "id": "4cf60165",
   "metadata": {},
   "source": [
    "## cluster within subtype\n",
    "\n",
    "skip (cluster eR and TNBC together)"
   ]
  },
  {
   "cell_type": "markdown",
   "id": "5966ab23",
   "metadata": {},
   "source": [
    "## Annotate Leiden <a name=\"lbar\"></a>\n",
    "\n",
    "annotate epitelial, immune a stroma cell types\n",
    "\n",
    "also visualize cluster results on tissue scatter plots.\n",
    "\n",
    "\n",
    "[contents](#contents)"
   ]
  },
  {
   "cell_type": "code",
   "execution_count": null,
   "id": "f3d99fad",
   "metadata": {},
   "outputs": [],
   "source": [
    "#load\n",
    "os.chdir(f'{codedir}/data')\n",
    "s_sample = '20220114_BaselTMA_s' #'20220112_BaselTMA' #'20220110_BaselTMA' #'20211221_BaselTMA'\n",
    "n_neighbors = 30 #\n",
    "n_markers = 21 # 29 #\n",
    "s_type = '2sub'#'TripleNeg'#'HR+HER2-'#\n",
    "resolution = 0.6 #23c # 0.4 #18c #  0.5 # 20c\n",
    "results_file = f'{s_sample}_{n_neighbors}neighbors_{n_markers}markers_{s_type}_leiden{resolution}.h5ad'\n",
    "adata = sc.read_h5ad(results_file)"
   ]
  },
  {
   "cell_type": "code",
   "execution_count": null,
   "id": "b7c9d32e",
   "metadata": {},
   "outputs": [],
   "source": [
    "fig,ax = plt.subplots(figsize=(3,2),dpi=200)\n",
    "figname=f'leiden_{n_neighbors}_{n_markers}_{resolution}_{s_type}_legend.png'\n",
    "sc.pl.umap(adata, color='leiden',ax=ax,save=figname,title=figname.split('.png')[0].replace('_',' '))\n",
    "\n",
    "results_file"
   ]
  },
  {
   "cell_type": "code",
   "execution_count": null,
   "id": "ed589586",
   "metadata": {
    "scrolled": true
   },
   "outputs": [],
   "source": [
    "#annoitate\n",
    "ls_drop = []\n",
    "df_p = adata.to_df()\n",
    "df_p['leiden'] = adata.obs['leiden']\n",
    "if results_file =='20220110_BaselTMA_30neighbors_19markers_TripleNeg_leiden0.4.h5ad':\n",
    "    tum_clust = ['18', '9', '14', '3', '16', '5', '10', '4', '12', '13', '8','11', '6', ] #\n",
    "    str_clust = ['17','1', '2', '7'] \n",
    "    imm_clust = ['15','0'] \n",
    "    endo_clust = ['7']\n",
    "if results_file =='20220110_BaselTMA_30neighbors_18markers_TripleNeg_leiden0.4.h5ad':\n",
    "    tum_clust = ['17', '9', '12', '3', '14', '8', '7', '4', '13', '10',] \n",
    "    str_clust = ['0', '15', '2', '6','11'] \n",
    "    imm_clust = ['1','18','16'] \n",
    "    endo_clust = ['5'] \n",
    "if results_file =='20220110_BaselTMA_30neighbors_18markers_TripleNeg_leiden0.5.h5ad':\n",
    "    tum_clust = ['23', '11', '17', '3', '21', '12', '22', '15', '18', '10',\n",
    "                  '4', '19', '16',  '24', '14','7',] \n",
    "    str_clust = ['0',  '13', '2', '20',  '6',   '9'] #7 might be epithelial\n",
    "    imm_clust = ['1','5',] \n",
    "    endo_clust = ['8',]\n",
    "    ls_drop = ['24']\n",
    "if results_file == '20220112_BaselTMA_30neighbors_19markers_TripleNeg_leiden0.5.h5ad':\n",
    "    tum_clust = ['23', '24', '7', '13', '22', '21', '16', '20', '18', '10',\n",
    "                  '11', '17', '3', '5', '14', '15', '19',  '8']  #'9',?\n",
    "    str_clust = ['0',  '12', '2', '6', '9'] \n",
    "    imm_clust = ['4'] \n",
    "    endo_clust = ['1']\n",
    "    ls_drop = [] \n",
    "if results_file == '20220112_BaselTMA_30neighbors_20markers_TripleNeg_leiden0.5.h5ad':\n",
    "    tum_clust = ['21', '23', '7', '12', '19', '18', '16', '8', '15', '10',\n",
    "                  '22', '3', '14','5', '17', '4', '13']  #5 is proliferating\n",
    "    str_clust = ['0', '11',  '2', '1', '20'] \n",
    "    imm_clust = ['6'] \n",
    "    endo_clust = ['9']\n",
    "    ls_drop = [] \n",
    "if results_file =='20220114_BaselTMA_s_30neighbors_20markers_2sub_leiden0.5.h5ad':\n",
    "    tum_clust = ['19', '10', '9',  '18', '13', '5', '22', '6', '8', '21',\n",
    "                  '16', '12', '0', '11', '17','20','23',] # #'14', FN+ also some epithelial :/ #  '15' endo\n",
    "    str_clust = ['1', '14', '3', '4', '7'] \n",
    "    imm_clust = ['24','2'] #24 is b cells, 2 is t cells\n",
    "    endo_clust = ['15']\n",
    "    ls_drop = [] \n",
    "if results_file =='20220114_BaselTMA_s_30neighbors_21markers_2sub_leiden0.6.h5ad':\n",
    "    print('good one')\n",
    "    tum_clust = ['19', '13', '7', '6', '15', '21', '11', '9', '16', '23', '5',\n",
    "                  '1', '10', '20','22','9b']\n",
    "    str_clust = ['0', '12', '18',  '3', '4', '8']\n",
    "    imm_clust = ['17','2']\n",
    "    endo_clust = ['14']        \n",
    "    ls_drop = [] \n",
    "    #CD3 bg in EGFR high\n",
    "    print('subCD3')\n",
    "    df_p.loc[df_p.leiden=='23','CD3'] = np.clip(a=df_p.loc[df_p.leiden=='23','CD3'],a_min=0,a_max=3)\n",
    "    #merge ER+\n",
    "    ls_merge = ['22','7']\n",
    "    df_p.loc[df_p.leiden.isin(ls_merge),'leiden'] = '7'\n",
    "    #notes: Spilt basal and myoep, Split CD20 and Tcell, Combine luminal tumor\n",
    "    #split cd3 out of 17\n",
    "    df_p.loc[((df_p.leiden=='17') & (df_p.CD20<2)),'leiden'] = '2'\n",
    "    #merge luminal t.\n",
    "    ls_merge = ['13','6']\n",
    "    df_p.loc[df_p.leiden.isin(ls_merge),'leiden'] = '6'\n",
    "    #basal and myoep split\n",
    "    df_test = df_p.loc[(df_p.leiden=='9')][(df_p.loc[(df_p.leiden=='9'),'CK14']/df_p.loc[(df_p.leiden=='9'),'SMA']) > 2]\n",
    "    df_p['leiden'] = df_p.leiden.astype('str')\n",
    "    df_p.loc[df_test.index,'leiden'] = '9b'\n",
    "    \n",
    "df_p.groupby('leiden').mean().panCK.sort_values(ascending=False).index\n",
    "set(df_p.groupby('leiden').mean().CK19.sort_values(ascending=False).index) - set(tum_clust + imm_clust )\n",
    "#set(tum_clust)"
   ]
  },
  {
   "cell_type": "code",
   "execution_count": null,
   "id": "1894d2e4",
   "metadata": {
    "scrolled": false
   },
   "outputs": [],
   "source": [
    "#clustermap\n",
    "b_annot = False #True\n",
    "\n",
    "d_replace = {}\n",
    "if b_annot:\n",
    "    d_replace.update(dict(zip(tum_clust,[f'{item}\\nep' for item in tum_clust])))\n",
    "    d_replace.update(dict(zip(imm_clust,[f'{item}\\nim' for item in imm_clust])))\n",
    "    d_replace.update(dict(zip(str_clust,[f'{item}\\ns' for item in str_clust])))\n",
    "    d_replace.update(dict(zip(endo_clust,[f'{item}\\nen' for item in endo_clust])))\n",
    "    df_plot = df_p.loc[:,(df_p.dtypes=='float32') | (df_p.columns=='leiden')].groupby('leiden').mean().dropna().drop(ls_drop).rename(d_replace)\n",
    "else:\n",
    "    df_plot = df_p.loc[:,(df_p.dtypes=='float32') | (df_p.columns=='leiden')].groupby('leiden').mean().drop(ls_drop).dropna()\n",
    "df_plot.index.name = f'leiden {resolution}'\n",
    "df_plot = df_plot.loc[:,df_plot.sum() > 0]\n",
    "g = sns.clustermap(df_plot,z_score=1,figsize=(6,8),cmap='viridis',dendrogram_ratio=0.1,\n",
    "                   vmin=-2,vmax=2,cbar_pos=(.01, .9, .05, .1),method='ward')\n",
    "g.savefig(f'{codedir}/{s_date}/{s_sample}_clustermap_{n_neighbors}_{n_markers}markers_{s_type}_leiden{resolution}.png',dpi=200)\n",
    "marker_genes = df_plot.iloc[:,g.dendrogram_col.reordered_ind].columns.tolist()\n",
    "categories_order = df_plot.iloc[g.dendrogram_row.reordered_ind,:].index.tolist()\n",
    "#scatterplots\n",
    "#sns.scatterplot(data=df_p.loc[df_p.leiden=='17'], x='CD3', y='CD20',s=1)\n",
    "#df_test = (df_p.loc[(df_p.leiden=='9'),'CK14']/df_p.loc[(df_p.leiden=='9'),'SMA']) > 2\n",
    "#print(df_test.sum())\n",
    "#sns.scatterplot(data=df_p.loc[df_p.leiden=='9'], x='SMA', y='CK14',s=1,hue=df_test)"
   ]
  },
  {
   "cell_type": "code",
   "execution_count": null,
   "id": "93a0792a",
   "metadata": {
    "scrolled": true
   },
   "outputs": [],
   "source": [
    "fig,ax=plt.subplots(figsize=(1.4,3.7),dpi=200)\n",
    "df_p.groupby('leiden').count().loc[categories_order[::-1]].iloc[:,1].plot(kind='barh',title='Cell No.',ax=ax,width=0.7)\n",
    "plt.tight_layout()\n",
    "fig.savefig(f'{codedir}/{s_date}/barplot_{s_sample}_{n_neighbors}neighbors_{len(marker_genes)}markers_leiden{resolution}_{s_type}.png')"
   ]
  },
  {
   "cell_type": "code",
   "execution_count": null,
   "id": "ad49b50b",
   "metadata": {
    "scrolled": true
   },
   "outputs": [],
   "source": [
    "#TNBC 24 is CD68 hot pixels. 23 is real bright ck staining, based on 11: only 8 sample have appreciable ER...why??? because these are TN!, looks like rbt IgG is ER. use nuclear and rename/cluster\n",
    "#21 is EGFR hi, real #20 is real, Vim hi, 19 real ck9 hi, 18 real ck14 hi #16 had high ER background, 14 has high ER bg but its not nuclear\n",
    "#13 168_X10Y5 and 137_X9Y3 and 64_X13Y4 is necrotic\n",
    "#nice cd45 111_X8Y6, ER+ nirm duct\n",
    "## TNBC no hot 20? #18 24? 16? #20 is ER+ tumor, maybe also non-specific ER\n",
    "##TNBC no necrotic 15-23 only 1 tissue\n",
    "df_p['core'] = [item.split('_cell')[0].replace('scene','') for item in df_p.index]\n",
    "s_clust = '9'\n",
    "#df_p['core'] = df_p.merge(df_norm.loc[:,['core']],left_index=True,right_index=True).core\n",
    "df_p.groupby(['leiden','core']).count().loc[s_clust].iloc[:,1].sort_values(ascending=False)[0:10]"
   ]
  },
  {
   "cell_type": "code",
   "execution_count": null,
   "id": "a5ebdb6e",
   "metadata": {},
   "outputs": [],
   "source": [
    "#df_exclude\n",
    "'''\n",
    "if results_file == '20220110_BaselTMA_30neighbors_18markers_TripleNeg_leiden0.5.h5ad':\n",
    "    print('excluding')\n",
    "    df_exclude = df_p[((df_p.leiden=='13') & (df_p.core.isin(['168_X10Y5','137_X9Y3','64_X13Y4'])))] # necrotic | (df_p.leiden=='24')\n",
    "    df_exclude.to_csv('exclude_necrotic_BaselTMA_TripleNeg.csv')'''"
   ]
  },
  {
   "cell_type": "code",
   "execution_count": null,
   "id": "72a373ec",
   "metadata": {},
   "outputs": [],
   "source": [
    "#s_scene = '107_X4Y7'\n",
    "#adata.obs['test'] = (adata.obs.slide_scene.str.contains(s_scene)).replace({True:1,False:0})\n",
    "#sc.pl.umap(adata, color='test',title=s_scene)\n",
    "#  \n",
    "ls_merge= tum_clust # str_clust + endo_clust + imm_clust #\n",
    "ls_merge=['0']\n",
    "adata.obs['test'] = (adata.obs.leiden.isin(ls_merge)).replace({True:1,False:0})\n",
    "sc.pl.umap(adata, color='test',title='merged')"
   ]
  },
  {
   "cell_type": "code",
   "execution_count": null,
   "id": "9e98f653",
   "metadata": {},
   "outputs": [],
   "source": [
    "%matplotlib inline\n",
    "#plot all groups spatially - leiden \n",
    "from mplex_image import analyze\n",
    "colors = mpl.cm.tab20b.colors + mpl.cm.tab20c.colors\n",
    "df_pos = analyze.celltype_to_bool(df_p,'leiden')\n",
    "df_pos.columns = [str(item) for item in df_pos.columns]"
   ]
  },
  {
   "cell_type": "code",
   "execution_count": null,
   "id": "fc1ac1c1",
   "metadata": {
    "scrolled": false
   },
   "outputs": [],
   "source": [
    "\n",
    "for s_slide in sorted(set(df_p.core)):\n",
    "    s_slide = '81_X11Y4'#'79_X8Y4'#'111_X8Y6'#'103_X5Y4'#'118_X13Y5'#'241_X7Y3'#'92_X12Y7'#'77_X3Y8'#'23_X15Y7'#'129_X7Y8'#'116_X4Y4'#'111_X8Y6'#'176_X3Y7'#'111_X8Y6'#'129_X7Y8'#'189_X5Y5'#'214_X15Y6'#'229_X1Y7'#'236_X11Y7'#'64_X13Y4'#'137_X9Y3'#'77_X3Y8'#'168_X10Y5'#'114_X13Y4'#'103_X5Y4'#'81_X11Y4' #'270_X6Y8'#'103_X5Y4'#'241_X7Y3'#'179_X13Y8'#'135_X8Y5' #'110_X14Y8'#'254_X11Y6'\n",
    "    fig,ax = plt.subplots(figsize=(5,4.5),dpi=200)\n",
    "    #plot negative cells\n",
    "    df_scene = df_norm[df_norm.slide_scene==s_slide]\n",
    "    ax.scatter(data=df_scene,x='DAPI_X',y='DAPI_Y',color='silver',s=0.2,label=f'')\n",
    "    #for idxs, s_color_int in enumerate(range(len(df_pos.columns))):\n",
    "    for idxs, s_color in enumerate(df_pos.columns):\n",
    "        s_color = s_clust\n",
    "        s_color = str(s_color)\n",
    "        if len(df_p[(df_p.core==s_slide) & (df_pos.loc[:,s_color])])>=1:\n",
    "            #plot positive cells\n",
    "            ls_index = df_p[(df_p.core==s_slide) & (df_pos.loc[:,s_color])].index\n",
    "            ax.scatter(data=df_norm.loc[ls_index],x='DAPI_X',y='DAPI_Y',label=f'{s_color}',s=0.3,color=colors[idxs])\n",
    "        break\n",
    "    ax.set_title(f\"{s_slide}\", fontsize=16) # \\n {d_a[s_slide]}\n",
    "    ax.axis('equal')\n",
    "    ax.set_ylim(ax.get_ylim()[::-1])\n",
    "    #ax.set_xticklabels('')\n",
    "    #ax.set_yticklabels('')\n",
    "    #break\n",
    "    plt.legend(markerscale=10,framealpha=.5) \n",
    "    #fig.savefig(f'{codedir}/{s_date}/{s_slide}_leiden{resolution}_scatterplot.png')\n",
    "    break"
   ]
  },
  {
   "cell_type": "code",
   "execution_count": null,
   "id": "99b3222a",
   "metadata": {
    "scrolled": true
   },
   "outputs": [],
   "source": [
    "#one by one\n",
    "for s_clust in str_clust:\n",
    "    ls_merge = [s_clust]\n",
    "    adata.obs['test'] = (adata.obs.leiden.isin(ls_merge)).replace({True:1,False:0})\n",
    "    sc.pl.umap(adata, color='test',title=s_clust)#'merged')"
   ]
  },
  {
   "cell_type": "code",
   "execution_count": null,
   "id": "83e6184c",
   "metadata": {
    "scrolled": true
   },
   "outputs": [],
   "source": [
    "#threshold on umap\n",
    "#df_p.loc[((df_p.Vim>1) | (df_p.FN>1)),'celltype'] = 'str.'\n",
    "#df_p.loc[df_p.CD31>2,'celltype'] = 'str.'\n",
    "#df_p.loc[df_p.Ecad > .4,'celltype'] = 'epithelial'\n",
    "#df_p.loc[df_p.CD45>1.2,'celltype'] = 'imm.'\n",
    "adata.obs['test'] = pd.Series(adata.obs.index.isin(df_p[df_p.CD31>2].index)).replace({True:1,False:0}).values\n",
    "sc.pl.umap(adata, color='test',title='CD31')\n",
    "adata.obs['test'] = pd.Series(adata.obs.index.isin(df_p[df_p.CD45>1.2].index)).replace({True:1,False:0}).values\n",
    "sc.pl.umap(adata, color='test',title='CD45')\n",
    "adata.obs['test'] = pd.Series(adata.obs.index.isin(df_p[df_p.Ecad>.4].index)).replace({True:1,False:0}).values\n",
    "sc.pl.umap(adata, color='test',title='Ecad')\n",
    "#adata.obs['test'] = pd.Series(adata.obs.index.isin(df_p[df_p.panCK>1].index)).replace({True:1,False:0}).values\n",
    "#sc.pl.umap(adata, color='test',title='merged')\n",
    "adata.obs['test'] = pd.Series(adata.obs.index.isin(df_p[(df_p.Vim>1) | (df_p.FN>1)].index)).replace({True:1,False:0}).values\n",
    "sc.pl.umap(adata, color='test',title='Vim FN')"
   ]
  },
  {
   "cell_type": "code",
   "execution_count": null,
   "id": "372bcdf5",
   "metadata": {},
   "outputs": [],
   "source": [
    "#artifacts\n",
    "results_file\n",
    "#df_p[df_p.leiden.isin(['19'])].to_csv('exclude_20211221_BaselTMA_31neighbors_29markers_TripleNeg_leiden0.4.csv') #'18',\n",
    "#df_p[df_p.leiden.isin(['18','19','20','21'])].to_csv('exclude_20211221_BaselTMA_31neighbors_29markers_HR+HER2-_leiden0.4.csv') #16, 17 not"
   ]
  },
  {
   "cell_type": "code",
   "execution_count": null,
   "id": "bedac48e",
   "metadata": {},
   "outputs": [],
   "source": [
    "%matplotlib inline\n",
    "df_p.loc[df_p.leiden.isin(tum_clust),'leidencelltype3'] = 'epithelial'\n",
    "df_p.loc[df_p.leiden.isin(str_clust),'leidencelltype3'] = 'str.'\n",
    "df_p.loc[df_p.leiden.isin(endo_clust),'leidencelltype3'] = 'str.'\n",
    "df_p.loc[df_p.leiden.isin(imm_clust),'leidencelltype3'] = 'imm.'\n",
    "adata.obs['leidencelltype3'] = df_p.leidencelltype3\n",
    "fig,ax = plt.subplots(figsize=(3,2),dpi=200)\n",
    "figname=f'leiden_{n_neighbors}_{n_markers}_{resolution}_{s_type}_leidencelltype3.png'\n",
    "sc.pl.umap(adata, color='leidencelltype3',ax=ax,save=figname,title=figname.split('.png')[0].replace('_',' '),legend_loc='on data')"
   ]
  },
  {
   "cell_type": "code",
   "execution_count": null,
   "id": "801222e1",
   "metadata": {},
   "outputs": [],
   "source": [
    "df_p.loc[df_p.leiden.isin(tum_clust),'leidencelltype4'] = 'epithelial'\n",
    "df_p.loc[df_p.leiden.isin(str_clust),'leidencelltype4'] = 'stromal'\n",
    "df_p.loc[df_p.leiden.isin(endo_clust),'leidencelltype4'] = 'endothelial'\n",
    "df_p.loc[df_p.leiden.isin(imm_clust),'leidencelltype4'] = 'immune'\n",
    "adata.obs['leidencelltype4'] = df_p.leidencelltype4\n",
    "fig,ax = plt.subplots(figsize=(3,2),dpi=200)\n",
    "figname=f'leiden_{n_neighbors}_{n_markers}_{resolution}_{s_type}_leidencelltype4.png'\n",
    "sc.pl.umap(adata, color='leidencelltype4',ax=ax,save=figname,title=figname.split('.png')[0].replace('_',' '),legend_loc='on data')"
   ]
  },
  {
   "cell_type": "code",
   "execution_count": null,
   "id": "c205619d",
   "metadata": {},
   "outputs": [],
   "source": [
    "#manual gating\n",
    "df_p['gatedcelltype3'] = np.nan\n",
    "df_p.loc[((df_p.Vim>1) | (df_p.FN>1)),'gatedcelltype3'] = 'str.'\n",
    "df_p.loc[df_p.CD31>2,'gatedcelltype3'] = 'str.'\n",
    "df_p.loc[df_p.Ecad > .4,'gatedcelltype3'] = 'epithelial'\n",
    "df_p.loc[df_p.CD45>1.2,'gatedcelltype3'] = 'imm.'\n",
    "df_p.gatedcelltype3 = df_p.gatedcelltype3.fillna('str.')\n",
    "adata.obs['gatedcelltype3'] = df_p.gatedcelltype3\n",
    "fig,ax = plt.subplots(figsize=(3,2),dpi=200)\n",
    "figname=f'leiden_{n_neighbors}_{n_markers}_{resolution}_{s_type}_gatingcelltype3.png'\n",
    "sc.pl.umap(adata, color='gatedcelltype3',ax=ax,save=figname,title=figname.split('.png')[0].replace('_',' '),legend_loc='on data')"
   ]
  },
  {
   "cell_type": "code",
   "execution_count": null,
   "id": "62e24fbc",
   "metadata": {},
   "outputs": [],
   "source": [
    "#manual gating\n",
    "df_p['gatedcelltype5'] = np.nan\n",
    "df_p.loc[((df_p.Vim>1) | (df_p.FN>1)),'gatedcelltype5'] = 'fibroblast'\n",
    "df_p.loc[df_p.CD31>2,'gatedcelltype5'] = 'endothelial'\n",
    "df_p.loc[df_p.Ecad > .4,'gatedcelltype5'] = 'epithelial'\n",
    "df_p.loc[df_p.CD45>1.2,'gatedcelltype5'] = 'immune'\n",
    "df_p.gatedcelltype5 = df_p.gatedcelltype5.fillna('stromal')\n",
    "adata.obs['gatedcelltype5'] = df_p.gatedcelltype5\n",
    "fig,ax = plt.subplots(figsize=(3,2),dpi=200)\n",
    "figname=f'leiden_{n_neighbors}_{n_markers}_{resolution}_{s_type}_gatingcelltype5.png'\n",
    "sc.pl.umap(adata, color='gatedcelltype5',ax=ax,save=figname,title=figname.split('.png')[0].replace('_',' '),legend_loc='on data')"
   ]
  },
  {
   "cell_type": "code",
   "execution_count": null,
   "id": "39da8611",
   "metadata": {},
   "outputs": [],
   "source": [
    "#manual gating (4 cell types)\n",
    "df_p['celltype'] = np.nan\n",
    "df_p.loc[((df_p.Vim>1) | (df_p.FN>1)),'celltype'] = 'stromal'\n",
    "df_p.loc[df_p.CD31>2,'celltype'] = 'endothelial'\n",
    "df_p.loc[df_p.Ecad > .4,'celltype'] = 'epithelial'\n",
    "df_p.loc[df_p.CD45>1.2,'celltype'] = 'immune'\n",
    "df_p.celltype = df_p.celltype.fillna('stromal')\n",
    "adata.obs['celltype'] = df_p.celltype\n",
    "fig,ax = plt.subplots(figsize=(3,2),dpi=200)\n",
    "figname=f'leiden_{n_neighbors}_{n_markers}_{resolution}_{s_type}_gatingcelltype.png'\n",
    "sc.pl.umap(adata, color='celltype',ax=ax,save=figname,title=figname.split('.png')[0].replace('_',' '),legend_loc='on data')"
   ]
  },
  {
   "cell_type": "code",
   "execution_count": null,
   "id": "2af576dd",
   "metadata": {
    "scrolled": true
   },
   "outputs": [],
   "source": [
    "#save\n",
    "s_out = f'{s_sample}_LeidenClusteringGating_neighbors{n_neighbors}_resolution{resolution}_markers{n_markers}_{s_type}.csv'\n",
    "\n",
    "if not os.path.exists(s_out):\n",
    "    print('saving csv')\n",
    "    for s_core in df_a.core.unique():\n",
    "        print(s_core)\n",
    "        s_find=f\"{s_core.split('_')[2]}_scene{s_core.split('_')[3]}\"\n",
    "        df_p.loc[df_p.index.str.contains(s_find),'core'] = s_core\n",
    "    df_p.to_csv(s_out)"
   ]
  },
  {
   "cell_type": "code",
   "execution_count": null,
   "id": "7fae83c3",
   "metadata": {},
   "outputs": [],
   "source": [
    "df_p.leiden.unique()\n",
    "s_out"
   ]
  },
  {
   "cell_type": "markdown",
   "id": "1bd0a942",
   "metadata": {},
   "source": [
    "## Summarize Tissue Variables <a name=\"tissue\"></a>\n",
    "\n",
    "per patient means\n",
    "\n",
    "make sure to only use cells included in leiden clustering\n",
    "\n",
    "\n",
    "look at colocalization in leiden clusters\n",
    "\n",
    "[contents](#contents)"
   ]
  },
  {
   "cell_type": "code",
   "execution_count": null,
   "id": "b4f110de",
   "metadata": {},
   "outputs": [],
   "source": [
    "pwd"
   ]
  },
  {
   "cell_type": "code",
   "execution_count": null,
   "id": "090364f1",
   "metadata": {},
   "outputs": [],
   "source": [
    "#20220114_BaselTMAan_LeidenClusteringGating_neighbors30_resolution0.6_markers21_GatedCellTypes.csv"
   ]
  },
  {
   "cell_type": "code",
   "execution_count": null,
   "id": "b20460be",
   "metadata": {},
   "outputs": [],
   "source": [
    "#leiden cell types (fraction)\n",
    "n_neighbors= 30\n",
    "resolution= 0.6 #0.5 \n",
    "n_markers= 21#18 #29\n",
    "s_type='2sub'# 'TripleNeg'\n",
    "s_sample = '20220114_BaselTMA_s' #'20220110_BaselTMA' #'20211221_BaselTMA'\n",
    "s_subtype = s_type\n",
    "\n",
    "df_lei = pd.read_csv(f'{codedir}/data/{s_sample}_LeidenClusteringGating_neighbors{n_neighbors}_resolution{resolution}_markers{n_markers}_{s_type}.csv',index_col=0)\n",
    "df_lei.rename({'celltype3':'leidencelltype3'},axis=1,inplace=True)\n",
    "df_lei['leidencelltype2'] = df_lei.leidencelltype3.replace({'tumor':'epithelial','endothelial':'stromal','immune':'stromal','str.':'stromal','imm.':'stromal'})\n",
    "#df_lei['gated_celltype3'] = df_lei.celltype3.replace({'tumor':'epithelial','endothelial':'stromal','fibroblast':'stromal','str.':'stromal','imm.':'immune'})\n",
    "df_lei['celltype1'] = 'all'\n",
    "df_lei['countme'] = True\n",
    "df_lei.leiden = df_lei.leiden.astype('str')"
   ]
  },
  {
   "cell_type": "code",
   "execution_count": null,
   "id": "18308a5e",
   "metadata": {},
   "outputs": [],
   "source": [
    "df_lei.head()"
   ]
  },
  {
   "cell_type": "code",
   "execution_count": null,
   "id": "7a5dc6df",
   "metadata": {},
   "outputs": [],
   "source": [
    "for s_core in df_lei.core.unique():\n",
    "    df_a[df_a.core.str.contains(s_core)]\n",
    "    s_core_name = df_a[df_a.core.str.contains(s_core)].core.values[0]\n",
    "    df_lei.loc[df_lei.core==s_core,'core'] = s_core_name\n",
    "#drop \n",
    "df_lei['type'] = df_lei.core.map(dict(zip(df_a.core,df_a.diseasestatus)))\n",
    "df_lei = df_lei[df_lei.type=='tumor']\n",
    "df_lei['Patient'] = df_lei.core.map(dict(zip(df_a.core,df_a.PID)))\n",
    "an_array = df_lei.Patient.unique()\n",
    "'''\n",
    "number_of_rows = an_array.shape[0]\n",
    "random_indices = np.random.choice(number_of_rows, size=int(number_of_rows/2), replace=False)\n",
    "random_rows = an_array[random_indices]\n",
    "'''\n",
    "if s_type == 'TripleNeg':\n",
    "    random_rows = [191,  23, 179,  64,  52,  81, 229,  33, 110,  61, 115,  59, 168,\n",
    "             8, 116,  36, 189, 172, 241, 214,  15, 187, 114, 145]\n",
    "    random_rows = df_lei.Patient.unique().tolist()\n",
    "else:\n",
    "    random_rows = df_lei.Patient.unique().tolist()\n",
    "random_validation = set(an_array) - set(random_rows)"
   ]
  },
  {
   "cell_type": "code",
   "execution_count": null,
   "id": "304a4dec",
   "metadata": {},
   "outputs": [],
   "source": [
    "s_sample = '20220114_BaselTMA'"
   ]
  },
  {
   "cell_type": "code",
   "execution_count": null,
   "id": "d679bcc8",
   "metadata": {},
   "outputs": [],
   "source": [
    "#gated celltypes (fraction)\n",
    "\n",
    "#s_sample = s_sample.replace('_s','')# = '20220114_BaselTMA'\n",
    "s_grouper='Patient'\n",
    "ls_cell = ['leidencelltype3','leidencelltype4','gatedcelltype3','gatedcelltype5','celltype']#,'celltype'\n",
    "df_test = df_lei.loc[df_lei.Patient.isin(random_rows)]\n",
    "for s_cell in ls_cell:\n",
    "    df_prop = viz.prop_positive(df_test,s_cell=s_cell,s_grouper=s_grouper)\n",
    "    s_out = f'results_{s_sample}_GatedCellTypes_by{s_grouper}_by{s_cell}_{s_subtype}.csv'\n",
    "    print(s_out)\n",
    "    df_prop.to_csv(f'{codedir}/{s_out}')\n",
    "    #break"
   ]
  },
  {
   "cell_type": "code",
   "execution_count": null,
   "id": "c3d18deb",
   "metadata": {},
   "outputs": [],
   "source": [
    "#leiden\n",
    "\n",
    "df_test = df_lei.loc[df_lei.Patient.isin(random_rows)]\n",
    "for s_celltype in ['leidencelltype2','celltype1']: #'celltype3','celltype',\n",
    "    for s_cell in df_test.loc[:,s_celltype].unique():\n",
    "        df_cell = df_test.loc[df_test.loc[:,s_celltype]==s_cell]\n",
    "        df_prop = viz.prop_positive(df_cell,s_cell='leiden',s_grouper='Patient')\n",
    "        s_out = f'results_{s_sample}_LeidenClustering_{n_neighbors}_{n_markers}_{resolution}_byPatient_by{s_celltype}_in{s_cell}_{s_type}.csv'\n",
    "        df_prop.fillna(0).to_csv(f'{codedir}/{s_out}')\n",
    "        print(s_out)\n"
   ]
  },
  {
   "cell_type": "markdown",
   "id": "24246177",
   "metadata": {},
   "source": [
    "## survival analysis <a name=\"surv\"></a>\n",
    "\n",
    "\n",
    "- single variable\n",
    "\n",
    "- subtypes\n",
    "\n",
    "[contents](#contents)\n"
   ]
  },
  {
   "cell_type": "code",
   "execution_count": null,
   "id": "c1c3da72",
   "metadata": {},
   "outputs": [],
   "source": [
    "import lifelines\n",
    "from lifelines import KaplanMeierFitter\n",
    "from lifelines.statistics import multivariate_logrank_test\n",
    "from lifelines import CoxPHFitter\n",
    "import warnings\n",
    "\n",
    "df_a = pd.read_csv(f'{codedir}/BaselTMA/Basel_PatientMetadata.csv')\n",
    "#os.mkdir('Survival_Plots')"
   ]
  },
  {
   "cell_type": "code",
   "execution_count": null,
   "id": "540e9b0b",
   "metadata": {},
   "outputs": [],
   "source": [
    "#example file names 'results_20211207_JP-TMA1_BGSubtractedMeanIntensity_byPatient_bycelltype3_inimmune_TNBC.csv',\n",
    "#'results_20211207_JP-TMA1_GatedCellTypes_M1M2_byPatient_bycelltype_TNBC.csv',\n",
    "#'results_20211207_JP-TMA1_LeidenClustering_30_33_0.4_byPatient_bycelltype1_inall_ER+.csv']\n",
    "\n",
    "#preprocess.dchange_fname({'_byTumorDiffPlus_M2':'_byTumorDiffPlusM2'},b_test=False)\n",
    "#preprocess.dchange_fname({'_byTumorDiffPlus_M1':'_byTumorDiffPlusM1'},b_test=False)\n",
    "   \n",
    "s_sample = '20220114_BaselTMA'#'20220110_BaselTMA' #'20211221_BaselTMA'\n",
    "\n",
    "df_file = pd.DataFrame()\n",
    "for s_file in os.listdir(f'{codedir}'):\n",
    "    if s_file.find(f'results_{s_sample}_BGSubtractedMeanIntensity_byPatient') > -1:\n",
    "        #df = pd.read_csv(s_file)\n",
    "        s_type = 'BGSubtractedMeanIntensity'\n",
    "        s_subtype = s_file.split('.csv')[0].split('_')[-1]\n",
    "        s_partition = s_file.split('.csv')[0].split('_')[-3].split('by')[1]\n",
    "        s_cell = s_file.split('.csv')[0].split('_')[-2].split('in')[1]       \n",
    "    elif s_file.find(f'results_{s_sample}_GatedCellTypes_Leiden_byPatient') > -1:\n",
    "        #df = pd.read_csv(s_file)\n",
    "        s_type = 'GatedCellTypes_M1M2'\n",
    "        s_subtype = s_file.split('.csv')[0].split('_')[-1]\n",
    "        s_partition = 'gating'\n",
    "        s_cell = s_file.split('.csv')[0].split('_')[-2].split('by')[1]\n",
    "    elif s_file.find(f'results_{s_sample}_GatedCellTypes_byPatient') > -1:\n",
    "        s_type = 'GatedCellTypes'\n",
    "        s_subtype = s_file.split('.csv')[0].split('_')[-1]\n",
    "        s_partition = 'gating'\n",
    "        s_cell = s_file.split('.csv')[0].split('_')[-2].split('by')[1]\n",
    "    elif s_file.find(f'results_{s_sample}_LeidenClustering_') > -1:\n",
    "        #df = pd.read_csv(s_file)\n",
    "        s_type = 'LeidenClustering'\n",
    "        s_subtype = s_file.split('.csv')[0].split('_')[-1]\n",
    "        s_partition = s_file.split('.csv')[0].split('_')[-3].split('by')[1]\n",
    "        s_cell = s_file.split('.csv')[0].split('_')[-2].split('in')[1]   \n",
    "    else:\n",
    "        continue\n",
    "    df_file.loc[s_file,'subtype'] = s_subtype\n",
    "    df_file.loc[s_file,'type'] = s_type\n",
    "    df_file.loc[s_file,'partition'] = s_partition\n",
    "    df_file.loc[s_file,'cell'] = s_cell\n",
    "    #break"
   ]
  },
  {
   "cell_type": "code",
   "execution_count": null,
   "id": "846e614f",
   "metadata": {},
   "outputs": [],
   "source": [
    "os.chdir(codedir)\n",
    "df_file"
   ]
  },
  {
   "cell_type": "code",
   "execution_count": null,
   "id": "2a465cd0",
   "metadata": {
    "scrolled": true
   },
   "outputs": [],
   "source": [
    "#leiden clusters vs survival 30 ER+, 18 TNBC\n",
    "#for s_index in df_file[df_file.subtype=='GatedCellTypes'].index: #'2sub'\n",
    "for s_index in df_file.index:\n",
    "    #s_index = 'results_20220114_BaselTMA_GatedCellTypes_byPatient_bycelltype_2sub.csv'\n",
    "    print(s_index)\n",
    "    df_all=pd.read_csv(s_index,index_col=0)\n",
    "    df_all = df_all.loc[:,df_all.dtypes=='float64'].fillna(0)\n",
    "    df_all['subtype'] = df_all.index.map(dict(zip(df_a.PID,df_a.clinical_type)))\n",
    "    df_all['subtype'] =df_all.subtype.replace({'HR+HER2-':'ER+', 'TripleNeg':'TNBC'})\n",
    "    s_type = df_file.loc[s_index,'type'] \n",
    "    s_partition = df_file.loc[s_index,'partition'] \n",
    "    s_cell =df_file.loc[s_index,'cell'] \n",
    "    df_all.loc[:,'durations'] = df_all.index.map(dict(zip(df_a.PID,df_a.OSmonth)))\n",
    "    df_all.loc[:,'event_observed'] = df_all.index.map(dict(zip(df_a.PID,df_a.Patientstatus.str.contains('death'))))\n",
    "    df_all.loc[:,'event_observed'] = df_all.event_observed.replace({True:1,False:0})\n",
    "    for s_subtype in ['TNBC','ER+']:\n",
    "        df = df_all[df_all.subtype==s_subtype]\n",
    "        df = df.dropna()\n",
    "        for s_col in df.columns.drop(['durations','event_observed','subtype']):\n",
    "            b_low = df.loc[:,s_col] <= df.loc[:,s_col].median()\n",
    "            if df.loc[:,s_col].median() == 0:\n",
    "                continue\n",
    "            df.loc[b_low,'abundance'] = 'low'\n",
    "            df.loc[~b_low,'abundance'] = 'high'\n",
    "            kmf = KaplanMeierFitter()\n",
    "            results = multivariate_logrank_test(event_durations=df.durations, groups=df.abundance, event_observed=df.event_observed)\n",
    "            if results.summary.p[0] < 0.05:\n",
    "                print(s_col)\n",
    "                fig, ax = plt.subplots(figsize=(3,3),dpi=300)\n",
    "                for s_group in ['high','low']:\n",
    "                    df_abun = df[df.abundance==s_group]\n",
    "                    durations = df_abun.durations\n",
    "                    event_observed = df_abun.event_observed\n",
    "                    kmf.fit(durations, event_observed,label=s_group)\n",
    "                    kmf.plot(ax=ax,ci_show=False)\n",
    "                s_title1 = f'{s_subtype} {s_type} {s_partition}'\n",
    "                s_title2 = f'{s_cell} {s_col}'\n",
    "                ax.set_title(f'{s_title1}\\n{s_title2}\\np={results.summary.p[0]:.2}',fontsize=10)\n",
    "                ax.legend(loc='upper right')\n",
    "                plt.tight_layout()\n",
    "                fig.savefig(f\"./data/Survival_Plots/KM_{s_title1.replace(' ','_')}_{s_title2.replace(' ','_')}.png\",dpi=300)\n",
    "            cph = CoxPHFitter(penalizer=0.1)\n",
    "            with warnings.catch_warnings():\n",
    "                warnings.simplefilter('ignore')\n",
    "                try:\n",
    "                    cph.fit(df.loc[:,[s_col,'durations','event_observed']], duration_col='durations', event_col='event_observed')\n",
    "                    if cph.summary.p[0] < 0.05:\n",
    "                        fig, ax = plt.subplots(figsize=(2.5,2),dpi=300)\n",
    "                        cph.plot(ax=ax)\n",
    "                        s_title1 = f'{s_subtype} {s_type} {s_partition}'\n",
    "                        s_title2 = f'{s_cell} {s_col}'\n",
    "                        ax.set_title(f'{s_title1}\\n{s_title2}\\np={cph.summary.p[0]:.2}',fontsize=10)\n",
    "                        plt.tight_layout()\n",
    "                        fig.savefig(f\"./data/Survival_Plots/CPH_{s_title1.replace(' ','_')}_{s_title2.replace(' ','_')}.png\",dpi=300)\n",
    "                except:\n",
    "                    print(f'skipped {s_col}')        \n",
    "\n",
    "    break"
   ]
  },
  {
   "cell_type": "code",
   "execution_count": null,
   "id": "02171ec3",
   "metadata": {},
   "outputs": [],
   "source": [
    "sns.scatterplot(data=df_all[df_all.subtype=='TNBC'],x='9',y='6',hue='durations',s=20)"
   ]
  },
  {
   "cell_type": "code",
   "execution_count": null,
   "id": "f647bc89",
   "metadata": {},
   "outputs": [],
   "source": [
    "sns.scatterplot(data=df_all[df_all.subtype=='ER+'],x='2',y='5',hue='durations',s=20)"
   ]
  },
  {
   "cell_type": "code",
   "execution_count": null,
   "id": "0d506a40",
   "metadata": {
    "scrolled": true
   },
   "outputs": [],
   "source": [
    "#old\n",
    "for s_index in df_file.index:\n",
    "    s_index = 'results_20220110_BaselTMA_GatedCellTypes_Leiden_byPatient_bycelltype3_TripleNeg.csv'\n",
    "    s_index = 'results_20220110_BaselTMA_GatedCellTypes_Leiden_byPatient_bycelltype_TripleNeg.csv'\n",
    "    #s_index = 'results_20220110_BaselTMA_GatedCellTypes_Leiden_byPatient_bygatedcelltype3_TripleNeg.csv'\n",
    "    df=pd.read_csv(f'{codedir}/{s_index}',index_col=0)\n",
    "    df = df.loc[:,df.dtypes=='float64'].fillna(0)\n",
    "    #s_subtype = df_file.loc[s_index,'subtype'] \n",
    "    #s_type = df_file.loc[s_index,'type'] \n",
    "    #s_partition = df_file.loc[s_index,'partition'] \n",
    "    #s_cell =df_file.loc[s_index,'cell'] \n",
    "    s_type = s_index.split('.csv')[0].split('_')[-5]\n",
    "    s_subtype = s_index.split('.csv')[0].split('_')[-1]\n",
    "    s_partition = 'gating'\n",
    "    s_cell = s_index.split('.csv')[0].split('_')[-2].split('by')[1]\n",
    "    df.loc[:,'durations'] = df.index.map(dict(zip(df_a.PID,df_a.OSmonth)))\n",
    "    df.loc[:,'event_observed'] = df.index.map(dict(zip(df_a.PID,df_a.Patientstatus.str.contains('death'))))\n",
    "    df.loc[:,'event_observed'] = df.event_observed.replace({True:1,False:0})\n",
    "    for s_col in df.columns.drop(['durations','event_observed']):\n",
    "        #print(s_col)\n",
    "        b_low = df.loc[:,s_col] <= df.loc[:,s_col].median()\n",
    "        if df.loc[:,s_col].median() == 0:\n",
    "            continue\n",
    "        df.loc[b_low,'abundance'] = 'low'\n",
    "        df.loc[~b_low,'abundance'] = 'high'\n",
    "        kmf = KaplanMeierFitter()\n",
    "        results = multivariate_logrank_test(event_durations=df.durations, groups=df.abundance, event_observed=df.event_observed)\n",
    "        #break\n",
    "        if results.summary.p[0] < 0.05:\n",
    "            print(s_col)\n",
    "            fig, ax = plt.subplots(figsize=(3,3),dpi=300)\n",
    "            for s_group in ['high','low']:\n",
    "                df_abun = df[df.abundance==s_group]\n",
    "                durations = df_abun.durations\n",
    "                event_observed = df_abun.event_observed\n",
    "                kmf.fit(durations, event_observed,label=s_group)\n",
    "                kmf.plot(ax=ax,ci_show=False)\n",
    "            s_title1 = f'{s_subtype} {s_type} {s_partition}'\n",
    "            s_title2 = f'{s_cell} {s_col}'\n",
    "            ax.set_title(f'{s_title1}\\n{s_title2}\\np={results.summary.p[0]:.2}',fontsize=10)\n",
    "            ax.legend(loc='upper right')\n",
    "            plt.tight_layout()\n",
    "            fig.savefig(f\"{codedir}/data/Survival_Plots/KM_{s_title1.replace(' ','_')}_{s_title2.replace(' ','_')}.png\",dpi=300)\n",
    "        cph = CoxPHFitter(penalizer=0.1)\n",
    "        with warnings.catch_warnings():\n",
    "            warnings.simplefilter('ignore')\n",
    "            try:\n",
    "                cph.fit(df.loc[:,[s_col,'durations','event_observed']], duration_col='durations', event_col='event_observed')\n",
    "                if cph.summary.p[0] < 0.1:\n",
    "                    fig, ax = plt.subplots(figsize=(2.5,2),dpi=300)\n",
    "                    cph.plot(ax=ax)\n",
    "                    s_title1 = f'{s_subtype} {s_type} {s_partition}'\n",
    "                    s_title2 = f'{s_cell} {s_col}'\n",
    "                    ax.set_title(f'{s_title1}\\n{s_title2}\\np={cph.summary.p[0]:.2}',fontsize=10)\n",
    "                    plt.tight_layout()\n",
    "                    fig.savefig(f\"{codedir}/data/Survival_Plots/CPH_{s_title1.replace(' ','_')}_{s_title2.replace(' ','_')}.png\",dpi=300)\n",
    "            except:\n",
    "                print(f'skipped {s_col}')\n",
    "    #break\n"
   ]
  },
  {
   "cell_type": "code",
   "execution_count": null,
   "id": "0a09a542",
   "metadata": {},
   "outputs": [],
   "source": [
    "df_file.index"
   ]
  },
  {
   "cell_type": "markdown",
   "id": "ef7e78c0",
   "metadata": {},
   "source": [
    "## survival analysis <a name=\"subt\"></a>\n",
    "\n",
    "- subtypes all\n",
    "\n",
    "\n",
    "[contents](#contents)"
   ]
  },
  {
   "cell_type": "code",
   "execution_count": null,
   "id": "b1ac31d3",
   "metadata": {},
   "outputs": [],
   "source": [
    "df_file.to_csv(f'{codedir}/IMC_results_files.csv')"
   ]
  },
  {
   "cell_type": "code",
   "execution_count": null,
   "id": "b54ee0d2",
   "metadata": {},
   "outputs": [],
   "source": [
    "ls_subt = [#'results_20211221_BaselTMA_GatedCellTypes_Leiden_byPatient_bycelltype_TripleNeg.csv',\n",
    "    #'results_20211221_BaselTMA_GatedCellTypes_Leiden_byPatient_bycelltype3_TripleNeg.csv',\n",
    "    #'results_20211221_BaselTMA_LeidenClustering_30_29_0.4_byPatient_bycelltype1_inall_TripleNeg.csv',\n",
    "    #   'results_20211221_BaselTMA_LeidenClustering_30_29_0.4_byPatient_bycelltype2_instromal_TripleNeg.csv', #this is significant\n",
    "    #   'results_20211221_BaselTMA_LeidenClustering_30_29_0.4_byPatient_bycelltype2_inepithelial_TripleNeg.csv'\n",
    " #'results_20220110_BaselTMA_GatedCellTypes_Leiden_byPatient_bycelltype3_TripleNeg.csv',\n",
    "    #'results_20220110_BaselTMA_GatedCellTypes_Leiden_byPatient_bycelltype_TripleNeg.csv' #not good\n",
    "    'results_20220110_BaselTMA_GatedCellTypes_Leiden_byPatient_bygatedcelltype3_TripleNeg.csv' #immune 6 neigh, 0.2\n",
    "]\n",
    "\n",
    "ls_subt = [#'results_20220114_BaselTMA_LeidenClustering_30_21_0.6_byPatient_byleidencelltype2_instromal_2sub.csv',\n",
    "       'results_20220114_BaselTMA_GatedCellTypes_byPatient_byleidencelltype3_2sub.csv',\n",
    "       #'results_20220114_BaselTMA_GatedCellTypes_byPatient_bygatedcelltype3_2sub.csv',\n",
    "       #'results_20220114_BaselTMA_LeidenClustering_30_21_0.6_byPatient_bycelltype1_inall_2sub.csv',\n",
    "       #'results_20220114_BaselTMA_GatedCellTypes_byPatient_bycelltype_2sub.csv',\n",
    "       #'results_20220114_BaselTMA_GatedCellTypes_byPatient_bygatedcelltype5_2sub.csv',\n",
    "       #'results_20220114_BaselTMA_LeidenClustering_30_21_0.6_byPatient_byleidencelltype2_inepithelial_2sub.csv'\n",
    "]"
   ]
  },
  {
   "cell_type": "code",
   "execution_count": null,
   "id": "5f5fe7fa",
   "metadata": {},
   "outputs": [],
   "source": [
    "for s_index in ls_subt:\n",
    "    df = pd.read_csv(s_index,index_col=0).fillna(0)\n",
    "    s_subtype = df_file.loc[s_index,'subtype'] \n",
    "    s_type = df_file.loc[s_index,'type'] \n",
    "    s_partition = df_file.loc[s_index,'partition'] \n",
    "    s_cell =df_file.loc[s_index,'cell'] \n",
    "    break"
   ]
  },
  {
   "cell_type": "code",
   "execution_count": null,
   "id": "816fdc9b",
   "metadata": {},
   "outputs": [],
   "source": [
    "if s_type == 'LeidenClustering':\n",
    "    d_celltypes = {'19':'Luminal hi t.',\n",
    "'9': 'Myoepithelial',\n",
    "'9b': 'Basal t.',\n",
    "'15': 'PgR+ t.',\n",
    "'7': 'Luminal ER+ t.',\n",
    "'11': 'Ecad hi t.',\n",
    "'6': 'Luminal t.',\n",
    "'23': 'EGFR hi t.',\n",
    "'10': 'Proliferating t.',\n",
    "'21': 'Vim+ t.',\n",
    "'16': 'CD44+ t.',\n",
    "'2': 'CD3 T cell',\n",
    "'17': 'CD20 B cell',\n",
    "'3': 'FN++ str.',\n",
    "'5': 'Large t.',\n",
    "'0': 'NOS str.',\n",
    "'20': 'Ecad- t.',\n",
    "'8': 'Vim++ str.',\n",
    "'1': 'poorly diff t.',\n",
    "'12': 'CD44+ str.',\n",
    "'4': 'Sm. NOS str.',\n",
    "'14': 'Endothelial',\n",
    "'18': 'Macrophage'}\n",
    "    df = df.rename(d_celltypes,axis=1)"
   ]
  },
  {
   "cell_type": "code",
   "execution_count": null,
   "id": "dd006c52",
   "metadata": {
    "scrolled": true
   },
   "outputs": [],
   "source": [
    "ls_col = df.columns[(~df.columns.str.contains('DAPI')) & (~df.columns.str.contains('R5Q')) & (df.dtypes=='float64')].tolist()\n",
    "ls_col = df.loc[:,ls_col].sum().sort_values(ascending=False)[0:11].index.tolist()\n",
    "ls_col = df.columns\n",
    "#umap\n",
    "for n_neighbors in [6]: \n",
    "    results_file = f'{s_date}/results_{s_subtype}_{s_type}_{s_partition}_{s_cell}_{n_neighbors}neighbors_{len(ls_col)}markers.h5ad'\n",
    "    if not os.path.exists(f'{codedir}/{results_file}'):\n",
    "        print('making adata')\n",
    "        adata = sc.AnnData(df.loc[:,ls_col].fillna(0))\n",
    "        adata.raw = adata\n",
    "        #reduce dimensionality\n",
    "        sc.tl.pca(adata, svd_solver='auto')\n",
    "        print('scaling')\n",
    "        sc.pp.scale(adata, zero_center=False, max_value=20)\n",
    "        print('calc umap')\n",
    "        # calculate neighbors \n",
    "        sc.pp.neighbors(adata, n_neighbors=n_neighbors) \n",
    "        sc.tl.umap(adata)\n",
    "        adata.write(f'{codedir}/{results_file}')\n",
    "    else:\n",
    "        print('loading umap')\n",
    "        adata = sc.read_h5ad(f'{codedir}/{results_file}')\n",
    "    #color by markers   \n",
    "    figname = f\"Umap_markers_{s_subtype}_{s_type}_{s_partition}_{s_cell}_{n_neighbors}neigh.png\"\n",
    "    title=figname.split('.png')[0].replace('_',' ')\n",
    "    sc.pl.umap(adata, color=ls_col,vmin='p1.5',vmax='p99.5',ncols=4,save=figname,size=250)\n",
    "    #subtype\n",
    "    adata.obs['Subtype'] = adata.obs.index.map(dict(zip(df_a.PID.astype('str'),df_a.clinical_type)))\n",
    "    figname = f\"Umap_Subtype_{s_subtype}_{s_type}_{s_partition}_{s_cell}_{n_neighbors}neigh.png\"\n",
    "    title=figname.split('.png')[0].replace('_',' ')\n",
    "    sc.pl.umap(adata, color='Subtype',vmin='p1.5',vmax='p99.5',ncols=4,save=figname,size=250)\n",
    "    break"
   ]
  },
  {
   "cell_type": "code",
   "execution_count": null,
   "id": "2c61dbad",
   "metadata": {
    "scrolled": false
   },
   "outputs": [],
   "source": [
    "#leiden\n",
    "for resolution in [0.05]: #0.3,\n",
    "    results_file = f'{s_date}/results_{s_subtype}_{s_type}_{s_partition}_{s_cell}_{n_neighbors}neighbors_{len(ls_col)}markers_leiden{resolution}.h5ad'\n",
    "    sc.tl.leiden(adata,resolution=resolution)\n",
    "    fig,ax = plt.subplots(figsize=(2.5,2),dpi=200)\n",
    "    figname=f'leiden_{s_subtype}_{s_type}_{s_partition}_{s_cell}_{n_neighbors}_{resolution}.png'\n",
    "    sc.pl.umap(adata, color='leiden',ax=ax,title=figname.split('.png')[0].replace('_',' '),wspace=.25,save=figname,size=40)\n",
    "    break"
   ]
  },
  {
   "cell_type": "code",
   "execution_count": null,
   "id": "c35a0eae",
   "metadata": {},
   "outputs": [],
   "source": [
    "for s_subtype in ['TNBC','ER+']:\n",
    "    df_p = adata.to_df()\n",
    "    df_p['Subtype'] = df_p.index.map(dict(zip(df_a.PID.astype('str'),df_a.clinical_type)))\n",
    "    df_p['Subtype'] =df_p.Subtype.replace({'HR+HER2-':'ER+','TripleNeg':'TNBC'})\n",
    "    df_p['leiden'] = adata.obs['leiden']\n",
    "    df_p = df_p.loc[df_p.Subtype==s_subtype]\n",
    "    df_p.loc[:,'Survival_time'] = df_p.index.map(dict(zip(df_a.PID.astype('str'),df_a.OSmonth)))\n",
    "    df_p.loc[:,'Survival'] = df_p.index.map(dict(zip(df_a.PID.astype('str'),df_a.Patientstatus.str.contains('death'))))\n",
    "    df_p.loc[:,'Survival'] = df_p.Survival.replace({True:1,False:0})\n",
    "    df_st = df_p.drop('Subtype',axis=1)\n",
    "    T = df_st['Survival_time']     ## time to event\n",
    "    E = df_st['Survival']      ## event occurred or censored\n",
    "    groups = df_st.loc[:,'leiden']  \n",
    "    kmf1 = KaplanMeierFitter() ## instantiate the class to create an object\n",
    "    fig, ax = plt.subplots(figsize=(3,3),dpi=200)\n",
    "    for s_group in sorted(groups.unique()):\n",
    "        i1 = (groups == s_group)\n",
    "        kmf1.fit(T[i1], E[i1], label=s_group)    ## fit thedata\n",
    "        kmf1.plot(ax=ax,ci_show=False)\n",
    "        #print(kmf1.median_survival_time_)\n",
    "    results = multivariate_logrank_test(event_durations=T, groups=groups, event_observed=E)\n",
    "    ax.set_title(f'{s_subtype} {s_cell} res={resolution} \\n neigh={n_neighbors} p={results.summary.p[0]:.2}')\n",
    "    ax.legend(loc='upper right')\n",
    "    plt.tight_layout()\n",
    "    if results.summary.p[0] < 0.05:\n",
    "        fig.savefig(f'{codedir}/data/Survival_Plots/KM_{s_subtype}_{s_type}_{s_partition}_{s_cell}_{n_neighbors}_{resolution}.png',dpi=200)\n",
    "        #more plots\n",
    "        d_a = dict(zip(adata.obs.index,adata.obs.leiden))\n",
    "        d_color = dict(zip(sorted(adata.obs.leiden.unique()),sns.color_palette()[0:len(adata.obs.leiden.unique())]))\n",
    "        row_colors = df_p.index.map(d_a).map(d_color)\n",
    "        g = sns.clustermap(df_p.loc[:,ls_col].dropna(),figsize=(5,5),cmap='viridis',\n",
    "                row_colors=row_colors,method='ward')\n",
    "        for label in d_color.keys():\n",
    "            g.ax_row_dendrogram.bar(0, 0, color=d_color[label],\n",
    "                                label=label, linewidth=0)\n",
    "        g.ax_row_dendrogram.legend(loc=\"right\", ncol=1)\n",
    "        g.savefig(f'{codedir}/{s_date}/clustermap_patients_{s_sample}_{s_type}_{s_partition}_{s_cell}_{s_type}_{n_neighbors}_{resolution}.png',dpi=200)\n",
    "        #subtypes\n",
    "        d_replace = {}\n",
    "        df_plot = df_p.loc[:,ls_col.tolist()+['leiden']].dropna().groupby('leiden').mean()\n",
    "        df_plot.index.name = f'leiden {resolution}'\n",
    "        g = sns.clustermap(df_plot.dropna().T,z_score=1,figsize=(3,5),cmap='viridis',\n",
    "                           vmin=-2,vmax=2,method='ward')\n",
    "        g.fig.suptitle(f'leiden {resolution}',x=.9) \n",
    "        g.savefig(f'{codedir}/{s_date}/clustermap_subtypes_{s_sample}_{s_type}_{s_partition}_{s_cell}_{s_type}_{n_neighbors}_{resolution}.png',dpi=200)\n",
    "        marker_genes = df_plot.dropna().T.iloc[:,g.dendrogram_col.reordered_ind].columns.tolist()\n",
    "        categories_order = df_plot.dropna().T.iloc[g.dendrogram_row.reordered_ind,:].index.tolist()\n",
    "        #barplot\n",
    "        fig,ax=plt.subplots(figsize=(2.5,3),dpi=200)\n",
    "        df_p.groupby('leiden').count().loc[marker_genes[::-1]].iloc[:,1].plot(kind='barh',title='Patient Count',ax=ax)\n",
    "        plt.tight_layout()\n",
    "        fig.savefig(f'./{s_date}/barplot_subtyping_{s_sample}_{s_sample}_{s_type}_{s_partition}_{s_cell}_{s_type}_{n_neighbors}_{resolution}.png')\n",
    "    break\n",
    "    #CPH    \n",
    "    df_dummy = pd.get_dummies(df_st.loc[:,['Survival_time','Survival','leiden']])\n",
    "    df_dummy = df_dummy.loc[:,df_dummy.sum() != 0]\n",
    "    cph = CoxPHFitter(penalizer=0.1)  ## Instantiate the class to create a cph object\n",
    "    cph.fit(df_dummy, 'Survival_time', event_col='Survival')\n",
    "    fig, ax = plt.subplots(figsize=(3,3),dpi=300)\n",
    "    cph.plot(ax=ax)\n",
    "    ax.set_title(f'CPH: {s_subtype} {s_type} {s_cell}')\n",
    "    plt.tight_layout()\n",
    "    fig.savefig(f'{codedir}/data/Survival_Plots/CoxPH_{s_subtype}_{s_type}_{s_partition}_{s_cell}_{n_neighbors}_{resolution}.png',dpi=200)\n",
    "    break"
   ]
  },
  {
   "cell_type": "code",
   "execution_count": null,
   "id": "d9fcd8b3",
   "metadata": {},
   "outputs": [],
   "source": [
    "        fig.savefig(f'{codedir}/data/Survival_Plots/KM_{s_subtype}_{s_type}_{s_partition}_{s_cell}_{n_neighbors}_{resolution}.png',dpi=200)\n",
    "        #more plots\n",
    "        d_a = dict(zip(adata.obs.index,adata.obs.leiden))\n",
    "        d_color = dict(zip(sorted(adata.obs.leiden.unique()),sns.color_palette()[0:len(adata.obs.leiden.unique())]))\n",
    "        row_colors = df_p.index.map(d_a).map(d_color)\n",
    "        g = sns.clustermap(df_p.loc[:,ls_col].dropna(),figsize=(5,5),cmap='viridis',\n",
    "                row_colors=row_colors,method='ward')\n",
    "        for label in d_color.keys():\n",
    "            g.ax_row_dendrogram.bar(0, 0, color=d_color[label],\n",
    "                                label=label, linewidth=0)\n",
    "        g.ax_row_dendrogram.legend(loc=\"right\", ncol=1)\n",
    "        g.savefig(f'{codedir}/{s_date}/clustermap_patients_{s_sample}_{s_type}_{s_partition}_{s_cell}_{s_type}_{n_neighbors}_{resolution}.png',dpi=200)\n",
    "        #subtypes\n",
    "        d_replace = {}\n",
    "        df_plot = df_p.loc[:,ls_col.tolist()+['leiden']].dropna().groupby('leiden').mean()\n",
    "        df_plot.index.name = f'leiden {resolution}'\n",
    "        g = sns.clustermap(df_plot.dropna().T,z_score=1,figsize=(3,5),cmap='viridis',\n",
    "                           vmin=-2,vmax=2,method='ward')\n",
    "        g.fig.suptitle(f'leiden {resolution}',x=.9) \n",
    "        g.savefig(f'{codedir}/{s_date}/clustermap_subtypes_{s_sample}_{s_type}_{s_partition}_{s_cell}_{s_type}_{n_neighbors}_{resolution}.png',dpi=200)\n",
    "        marker_genes = df_plot.dropna().T.iloc[:,g.dendrogram_col.reordered_ind].columns.tolist()\n",
    "        categories_order = df_plot.dropna().T.iloc[g.dendrogram_row.reordered_ind,:].index.tolist()\n",
    "        #barplot\n",
    "        fig,ax=plt.subplots(figsize=(2.5,3),dpi=200)\n",
    "        df_p.groupby('leiden').count().loc[marker_genes[::-1]].iloc[:,1].plot(kind='barh',title='Patient Count',ax=ax)\n",
    "        plt.tight_layout()\n",
    "        fig.savefig(f'./{s_date}/barplot_subtyping_{s_sample}_{s_sample}_{s_type}_{s_partition}_{s_cell}_{s_type}_{n_neighbors}_{resolution}.png')\n",
    "   "
   ]
  },
  {
   "cell_type": "markdown",
   "id": "53b61a6c",
   "metadata": {},
   "source": [
    "## compare patients\n",
    "\n",
    "epithelial rich, immune rich, stromal rich"
   ]
  },
  {
   "cell_type": "code",
   "execution_count": null,
   "id": "3540839c",
   "metadata": {},
   "outputs": [],
   "source": [
    "from scipy import stats"
   ]
  },
  {
   "cell_type": "code",
   "execution_count": null,
   "id": "a78a27dc",
   "metadata": {},
   "outputs": [],
   "source": [
    "df_celltype = pd.read_csv('results_Patient_celltype_cluster_new.csv',index_col=0)"
   ]
  },
  {
   "cell_type": "code",
   "execution_count": null,
   "id": "f586bbcc",
   "metadata": {},
   "outputs": [],
   "source": [
    "df_lei = pd.read_csv('./data/20211221_BaselTMA_LeidenClustering_neighbors30_resolution0.4_markers19_TripleNeg.csv',index_col=0)"
   ]
  },
  {
   "cell_type": "code",
   "execution_count": null,
   "id": "20df0ea4",
   "metadata": {},
   "outputs": [],
   "source": [
    "df_lei"
   ]
  },
  {
   "cell_type": "code",
   "execution_count": null,
   "id": "9fdb2881",
   "metadata": {},
   "outputs": [],
   "source": [
    "#drop \n",
    "df_lei['type'] = df_lei.core.map(dict(zip(df_a.core,df_a.diseasestatus)))\n",
    "df_lei = df_lei[df_lei.type=='tumor']"
   ]
  },
  {
   "cell_type": "code",
   "execution_count": null,
   "id": "4ab33167",
   "metadata": {},
   "outputs": [],
   "source": [
    "df_lei['Patient'] = df_lei.core.map(dict(zip(df_a.core,df_a.PID)))\n",
    "df_lei['Group'] = df_lei.Patient.map(dict(zip(df_celltype.index,df_celltype.leiden)))\n",
    "df_lei['Group'] = df_lei.Group.astype('int')\n",
    "df_lei['celltype2'] =df_lei.celltype3.replace({'immune':'stromal'})"
   ]
  },
  {
   "cell_type": "code",
   "execution_count": null,
   "id": "e7527b21",
   "metadata": {},
   "outputs": [],
   "source": [
    "ls_marker = df_lei.columns[df_lei.dtypes == 'float64'].tolist()"
   ]
  },
  {
   "cell_type": "code",
   "execution_count": null,
   "id": "e9d03176",
   "metadata": {},
   "outputs": [],
   "source": [
    "#boxplots\n",
    "s_cell = 'celltype2'\n",
    "for s_group in ['Group']:\n",
    "    for s_celltype in sorted(set(df_lei.loc[:,s_cell])):\n",
    "        df_cell = df_lei[df_lei.loc[:,s_cell] == s_celltype]\n",
    "        df_mean = df_cell.loc[:,ls_marker + [s_group,'Patient']].groupby([s_group,'Patient']).mean()\n",
    "        for s_marker in ls_marker:\n",
    "            df_marker = df_mean.loc[:,s_marker].reset_index()\n",
    "            #test\n",
    "            lls_result = []\n",
    "            for s_test in df_marker.loc[:,s_group].unique():\n",
    "                ls_result = df_marker.loc[df_marker.loc[:,s_group] == s_test,s_marker].values\n",
    "                lls_result.append(ls_result)\n",
    "            if len(lls_result)==2:\n",
    "                try:\n",
    "                    statistic, pvalue = stats.mannwhitneyu(lls_result[0],lls_result[1])\n",
    "                except:\n",
    "                    pvalue = 1\n",
    "                    continue\n",
    "            elif len(lls_result)==3:\n",
    "                try:\n",
    "                    statistic, pvalue = stats.kruskal(lls_result[0],lls_result[1],lls_result[2])\n",
    "                except:\n",
    "                    pvalue = 1\n",
    "                    continue\n",
    "            elif len(lls_result)==4:\n",
    "                try:\n",
    "                    statistic, pvalue = stats.kruskal(lls_result[0],lls_result[1],lls_result[2],lls_result[3])\n",
    "                except:\n",
    "                    pvalue = 1\n",
    "                    continue\n",
    "            else:\n",
    "                pvalue = 1\n",
    "            #plot    \n",
    "            fig,ax=plt.subplots(figsize=(2.8,2.2),dpi=200)\n",
    "            sns.boxplot(data=df_marker,x=s_group,y=s_marker,ax=ax,fliersize=0)\n",
    "            sns.stripplot(data=df_marker,x=s_group,y=s_marker,ax=ax,palette='dark',size=3)\n",
    "            ax.set_ylabel(f'{s_marker} in {s_celltype}')\n",
    "            ax.set_title(f'{s_marker}\\n (p = {pvalue:.3f})',fontsize=12,horizontalalignment='center')\n",
    "            labels = [item.get_text() for item in ax.get_xticklabels()]\n",
    "            if len(lls_result)==3:\n",
    "                ax.set_xticklabels([item.replace('_rich',f'') for item in labels])\n",
    "                ax.set_xlabel('(-rich)')\n",
    "            #ax.set_ylim(0,3)\n",
    "            plt.tight_layout()\n",
    "            fig.savefig(f'{codedir}/{s_date}/boxplot_IMC_{s_cell}_{s_celltype}_{s_group}_{s_marker}.png')\n",
    "            #break\n",
    "            if pvalue > 0.05:\n",
    "                plt.close(fig)\n",
    "            else:\n",
    "\n",
    "                fig.savefig(f'{codedir}/{s_date}/boxplot_IMC_{s_cell}_{s_celltype}_{s_group}_{s_marker}.png')\n",
    "                print(f'{s_marker} in {s_celltype} by {s_group}') \n",
    "                #plt.close(fig)"
   ]
  },
  {
   "cell_type": "markdown",
   "id": "6feb30e4",
   "metadata": {},
   "source": []
  },
  {
   "cell_type": "code",
   "execution_count": null,
   "id": "da7676ef",
   "metadata": {},
   "outputs": [],
   "source": []
  }
 ],
 "metadata": {
  "kernelspec": {
   "display_name": "Python3.9.5",
   "language": "python",
   "name": "python3.9.5"
  },
  "language_info": {
   "codemirror_mode": {
    "name": "ipython",
    "version": 3
   },
   "file_extension": ".py",
   "mimetype": "text/x-python",
   "name": "python",
   "nbconvert_exporter": "python",
   "pygments_lexer": "ipython3",
   "version": "3.9.5"
  }
 },
 "nbformat": 4,
 "nbformat_minor": 5
}
