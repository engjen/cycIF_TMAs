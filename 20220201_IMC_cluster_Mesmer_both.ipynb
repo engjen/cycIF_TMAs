{
 "cells": [
  {
   "cell_type": "markdown",
   "id": "8f40b812",
   "metadata": {},
   "source": [
    "## Cluster TMAs\n",
    "\n",
    "**Samples:** \n",
    "- ZTMA\n",
    "\n",
    "**Method**:\n",
    "\n",
    "- use mesmer segmentation data\n",
    "\n",
    "- leiden cluster on good biomarkers for celltypes"
   ]
  },
  {
   "cell_type": "code",
   "execution_count": null,
   "id": "1ec617d4",
   "metadata": {},
   "outputs": [],
   "source": [
    "#load libraries\n",
    "import pandas as pd\n",
    "import matplotlib.pyplot as plt\n",
    "import numpy as np\n",
    "import os\n",
    "import seaborn as sns\n",
    "import scipy\n",
    "import scanpy as sc\n",
    "import matplotlib as mpl\n",
    "from matplotlib import cm\n",
    "mpl.rc('figure', max_open_warning = 0)\n",
    "codedir = '/home/groups/graylab_share/OMERO.rdsStore/engje/Data/IMC_Data_publication'#os.getcwd()\n",
    "import phenograph\n",
    "os.chdir('/home/groups/graylab_share/OMERO.rdsStore/engje/Data')\n",
    "from mplex_image import visualize as viz, process, preprocess, normalize, mpimage\n",
    "np.random.seed(1221)"
   ]
  },
  {
   "cell_type": "code",
   "execution_count": null,
   "id": "974c3ad6",
   "metadata": {},
   "outputs": [],
   "source": [
    "s_date = '20220409'\n",
    "os.chdir(codedir)\n",
    "if not os.path.exists(s_date):\n",
    "    os.mkdir(s_date)\n",
    "%matplotlib inline"
   ]
  },
  {
   "cell_type": "markdown",
   "id": "5f5043a2",
   "metadata": {},
   "source": [
    "# Table of contents <a name=\"contents\"></a>\n",
    "1. [Load annotation](#loadold)\n",
    "2. [load data](#cluster)\n",
    "3. [load thresholds](#load)\n",
    "  [gating](#gating)  [colocalization](#coloc)\n",
    "4. [bg subtract](#leiden)\n",
    "5. [single cell Umap](#l7)\n",
    "6. [annotate leiden celltypes](#lbar)\n",
    "7. [Tissue means](#tissue)\n",
    "8. [single variable survival](#surv)\n",
    "9. [subtyping survival](#subt)"
   ]
  },
  {
   "cell_type": "markdown",
   "id": "9d57385a",
   "metadata": {},
   "source": [
    "# Load annotation <a name=\"loadold\"></a>\n",
    "\n",
    "[contents](#contents)"
   ]
  },
  {
   "cell_type": "code",
   "execution_count": null,
   "id": "82d36aee",
   "metadata": {},
   "outputs": [],
   "source": [
    "#basel has 285 patients with overall survival\n",
    "df_b = pd.read_csv(f'{codedir}/BaselTMA/Basel_PatientMetadata.csv')\n",
    "df_b['PID'] = ['B'+item.split('_')[2] for item in df_b.core]\n",
    "print(len(df_b.PID.unique()))\n",
    "print(df_b[~df_b.PID.duplicated()].groupby('clinical_type').PID.count())\n",
    "print(df_b[~df_b.PID.duplicated()].groupby('clinical_type').PID.count().sum())"
   ]
  },
  {
   "cell_type": "code",
   "execution_count": null,
   "id": "4e62d8bc",
   "metadata": {},
   "outputs": [],
   "source": [
    "df_b[df_b.clinical_type=='TripleNeg']\n",
    "df_b[df_b.PID=='B42']\n",
    "df_b[df_b.PID=='B2']"
   ]
  },
  {
   "cell_type": "code",
   "execution_count": null,
   "id": "394697f4",
   "metadata": {},
   "outputs": [],
   "source": [
    "#no survival data for zurich\n",
    "df_z = pd.read_csv(f'{codedir}/ZurichTMA/Zuri_PatientMetadata.csv',index_col=0)\n",
    "#print(df_z.OSmonth.isna().sum())\n",
    "df_z['PID'] = ['Z'+item.split('_')[2] for item in df_z.core]\n",
    "print(len(df_z.PID.unique()))\n",
    "print(df_z[~df_z.PID.duplicated()].groupby('clinical_type').PID.count())\n",
    "print(df_z[~df_z.PID.duplicated()].groupby('clinical_type').PID.count().sum())\n"
   ]
  },
  {
   "cell_type": "code",
   "execution_count": null,
   "id": "5a3759fd",
   "metadata": {},
   "outputs": [],
   "source": [
    "from scipy import stats\n",
    "def group_median_diff(df_marker,s_group,s_marker):\n",
    "    lls_result = []\n",
    "    for s_test in df_marker.loc[:,s_group].unique():\n",
    "        ls_result = df_marker.loc[df_marker.loc[:,s_group] == s_test,s_marker].values\n",
    "        lls_result.append(ls_result)\n",
    "    if len(lls_result)==2:\n",
    "        try:\n",
    "            statistic, pvalue = stats.mannwhitneyu(lls_result[0],lls_result[1])\n",
    "        except:\n",
    "            pvalue = 1\n",
    "            statistic = None\n",
    "    elif len(lls_result) > 2:\n",
    "        try:\n",
    "            statistic, pvalue = stats.kruskal(*lls_result,nan_policy='omit')\n",
    "        except:\n",
    "            pvalue = 1\n",
    "            statistic = None\n",
    "    else:\n",
    "        pvalue = None\n",
    "        statistic = None\n",
    "    print(pvalue)\n",
    "    return(statistic,pvalue)"
   ]
  },
  {
   "cell_type": "code",
   "execution_count": null,
   "id": "8a019a23",
   "metadata": {},
   "outputs": [],
   "source": [
    "#combine\n",
    "df_a = df_b.append(df_z)\n",
    "\n",
    "#staining\n",
    "df_s = pd.read_csv(f'{codedir}/Basel_Zuri_StainingPanel.csv')\n",
    "#df_s.loc[~df_s.loc[:,'Antibody Clone'].isna()].Target\n",
    "df_s"
   ]
  },
  {
   "cell_type": "markdown",
   "id": "04ae1bfe",
   "metadata": {},
   "source": [
    "### load QC"
   ]
  },
  {
   "cell_type": "code",
   "execution_count": null,
   "id": "df66b2fa",
   "metadata": {},
   "outputs": [],
   "source": [
    "#QC\n",
    "df_qc = pd.read_csv(f'{codedir}/Basel_Zurich_ER_QC.csv')\n",
    "df_qc.rename({'Unnamed: 0':'FileName_FullStack'},axis=1,inplace=True)\n",
    "df_qc = df_a.merge(df_qc,on='FileName_FullStack')\n",
    "df_qc['name'] = [item.split('2017')[1] for item in df_qc.loc[:,'FileName_FullStack']]"
   ]
  },
  {
   "cell_type": "code",
   "execution_count": null,
   "id": "95aa255f",
   "metadata": {
    "scrolled": true
   },
   "outputs": [],
   "source": [
    "\n",
    "s_tma = 'Z'\n",
    "df_cross = pd.crosstab(index = df_qc.loc[df_qc.PID.str.contains(s_tma),'ERStatus'],columns=df_qc.loc[df_qc.PID.str.contains(s_tma),'QC'])\n",
    "fig, ax = plt.subplots(figsize=(4,3),dpi=200)\n",
    "sns.heatmap(df_cross,annot=True,ax=ax,fmt='d')\n",
    "ax.set_title(s_tma)"
   ]
  },
  {
   "cell_type": "code",
   "execution_count": null,
   "id": "198cd40e",
   "metadata": {
    "scrolled": true
   },
   "outputs": [],
   "source": [
    "s_tma = 'B'\n",
    "df_cross = pd.crosstab(index = df_qc.loc[df_qc.PID.str.contains(s_tma),'ERStatus'],columns=df_qc.loc[df_qc.PID.str.contains(s_tma),'QC'])\n",
    "fig, ax = plt.subplots(figsize=(4,3),dpi=200)\n",
    "sns.heatmap(df_cross,annot=True,ax=ax,fmt='d')\n",
    "ax.set_title(s_tma)"
   ]
  },
  {
   "cell_type": "code",
   "execution_count": null,
   "id": "ce9bdf20",
   "metadata": {},
   "outputs": [],
   "source": [
    "\n",
    "#df_qc.loc[(df_qc.PID.str.contains(s_tma)) & (df_qc.QC=='negative') & (df_qc.ERStatus=='positive'),['ERStatus','QC','name']]\n",
    "#df_qc.loc[(df_qc.PID.str.contains(s_tma)) & (df_qc.name.str.contains('81_205')),['ERStatus','QC','name']]"
   ]
  },
  {
   "cell_type": "code",
   "execution_count": null,
   "id": "7560cdc4",
   "metadata": {},
   "outputs": [],
   "source": [
    "#survival, RFS versus neg/pos # 'DFSmonth', 'OSmonth' 'QC'\n",
    "import lifelines\n",
    "from lifelines import KaplanMeierFitter\n",
    "from lifelines.statistics import multivariate_logrank_test\n",
    "df_imc_a = pd.DataFrame(data=pd.Series(data=dict(zip(df_a.PID,df_a.clinical_type))),columns=['subtype'])\n",
    "df_imc_a['subtype'] = df_imc_a.subtype.replace({'TripleNeg':'TNBC','HR+HER2-':'ER+'})\n",
    "df_imc_a['Survival_time'] = df_imc_a.index.map(dict(zip(df_a.PID,df_a.OSmonth)))/12*365\n",
    "df_imc_a['Survival'] = df_imc_a.index.map(dict(zip(df_a.PID,df_a.Patientstatus.str.contains('death'))))\n",
    "df_imc_a['Survival'] = df_imc_a.Survival.replace({True:1,False:0})\n",
    "#updat df_qc\n",
    "df_qc['subtype'] = df_qc.PID.map(df_imc_a.subtype)\n",
    "df_qc['Survival_time'] = df_qc.PID.map(df_imc_a.Survival_time)\n",
    "df_qc['Survival'] = df_qc.PID.map(df_imc_a.Survival)"
   ]
  },
  {
   "cell_type": "code",
   "execution_count": null,
   "id": "1bc4e7bf",
   "metadata": {},
   "outputs": [],
   "source": [
    "df_qc.subtype.unique()"
   ]
  },
  {
   "cell_type": "code",
   "execution_count": null,
   "id": "961606dc",
   "metadata": {
    "scrolled": true
   },
   "outputs": [],
   "source": [
    "for s_subtype in ['ER+',\"TNBC\",'HR+HER2+']:\n",
    "    df_st = df_qc.loc[(df_qc.subtype==s_subtype),['Survival_time','Survival','QC']].dropna()\n",
    "    print(len(df_st)) \n",
    "    T = df_st['Survival_time']     ## time to event\n",
    "    E = df_st['Survival']      ## event occurred or censored\n",
    "    groups = df_st.loc[:,'QC'] \n",
    "    kmf1 = KaplanMeierFitter() ## instantiate the class to create an object\n",
    "    fig, ax = plt.subplots(figsize=(3,2),dpi=200)\n",
    "    for idx, s_group in enumerate(sorted(groups.unique())):\n",
    "        i1 = (groups == s_group)\n",
    "        if sum(i1) > 0:\n",
    "            kmf1.fit(T[i1], E[i1], label=s_group)    ## fit thedata\n",
    "            kmf1.plot(ax=ax,ci_show=False,color=f'C{idx}',show_censors=True)\n",
    "    results = multivariate_logrank_test(event_durations=T, groups=groups, event_observed=E)\n",
    "    ax.set_title(f'{s_subtype} \\np={results.summary.p[0]:.1}')\n",
    "    #for idx, s_group in enumerate(sorted(df_p.leiden.unique())):"
   ]
  },
  {
   "cell_type": "code",
   "execution_count": null,
   "id": "da34adc5",
   "metadata": {},
   "outputs": [],
   "source": [
    "df_qc.columns"
   ]
  },
  {
   "cell_type": "code",
   "execution_count": null,
   "id": "b457e28c",
   "metadata": {
    "scrolled": true
   },
   "outputs": [],
   "source": [
    "# Yearofsamplecollection age menopausal\n",
    "df_qc.Yearofsamplecollection.unique()\n",
    "for s_marker in ['Yearofsamplecollection','age','tumor_size','Count_Cells']:\n",
    "    fig, ax = plt.subplots(figsize=(3,2),dpi=200)\n",
    "    sns.boxplot(data=df_qc[df_qc.subtype=='ER+'],x='QC',y=s_marker,showfliers=False,ax=ax)\n",
    "    sns.stripplot(data=df_qc[df_qc.subtype=='ER+'],x='QC',y=s_marker,palette='dark',ax=ax)\n",
    "    statistic, pvalue = group_median_diff(df_qc[df_qc.subtype=='ER+'],'QC',s_marker)\n",
    "    ax.set_title(f'{s_marker}\\n p={pvalue:.4f}')"
   ]
  },
  {
   "cell_type": "code",
   "execution_count": null,
   "id": "28d6f6e3",
   "metadata": {},
   "outputs": [],
   "source": [
    "for s_cat in ['grade','histology','ERStatus','PRStatus','Patientstatus','diseasestatus','TMABlocklabel','Pre-surgeryTx','response','location']:\n",
    "    for s_tma in ['ZTMA','BaselTMA']:\n",
    "        df_select = df_qc.loc[(df_qc.subtype=='ER+') & (df_qc.core.str.contains(s_tma)),[s_cat,'QC']].dropna()\n",
    "        if not len(df_select) == 0:\n",
    "            df_cross = pd.crosstab(index = df_select.loc[:,s_cat],columns=df_select.loc[:,'QC'])\n",
    "            fig, ax = plt.subplots(figsize=(5,3),dpi=200)\n",
    "            sns.heatmap(df_cross,annot=True,ax=ax,fmt='d')\n",
    "            chi2, pvalue, dof, expected  = stats.chi2_contingency(df_cross)\n",
    "            ax.set_title(f'{s_cat} {s_tma}\\n p={pvalue:.4f}')"
   ]
  },
  {
   "cell_type": "markdown",
   "id": "f0fd3dce",
   "metadata": {},
   "source": [
    "# Zurich TMA  <a name=\"cluster\"></a>\n",
    "\n",
    "Zurich TMA, 62 patients with subtype (no overal survival)\n",
    "\n",
    "\n",
    "\n",
    "| clinical_type | no. |\n",
    "| --- | ----------- |\n",
    "| HR+HER2+   |   12 |\n",
    "| HR+HER2-   |  39 |\n",
    "| HR-HER2+   |   2 |\n",
    "| TripleNeg  |   9 |\n",
    "\n",
    "\n",
    "[contents](#contents)"
   ]
  },
  {
   "cell_type": "code",
   "execution_count": null,
   "id": "cd798569",
   "metadata": {},
   "outputs": [],
   "source": [
    "segdir = f'{codedir}/Segmentation'\n",
    "\n",
    "df_mi = pd.DataFrame()\n",
    "for s_find in ['ZTMA','BaselTMA']:\n",
    "    df_mi_t = pd.read_csv((f'{segdir}/features_IMC-{s_find}_MeanIntensity_Centroid_Shape.csv'),index_col=0)\n",
    "    df_mi_t = df_mi_t.dropna() #119 NAs, out of 312910 cells\n",
    "    df_mi=df_mi.append(df_mi_t)"
   ]
  },
  {
   "cell_type": "code",
   "execution_count": null,
   "id": "154c66f8",
   "metadata": {},
   "outputs": [],
   "source": [
    "sorted(df_mi.columns)"
   ]
  },
  {
   "cell_type": "code",
   "execution_count": null,
   "id": "614f8bb8",
   "metadata": {},
   "outputs": [],
   "source": [
    "#filter sbcellular location\n",
    "\n",
    "#119 cells are na in the markers: probaly too small for the expansion (get borders erased them)\n",
    "#os.listdir(f'{codedir}/BaselTMA')\n",
    "sorted(df_mi.columns)\n",
    "ls_marker = ['CD20_cytoplasm','CD31_cytoplasm','CD3_cytoplasm','CD44_cytoplasm','CD45_cytoplasm',\n",
    "             'CD68_cytoplasm','CarbonicAnhydraseIX_cytoplasm', 'Cytokeratin19_cytoplasm','Cytokeratin5_cytoplasm',\n",
    "              'Cytokeratin7_cytoplasm','Cytokeratin818_cytoplasm','DAPI1_nuclei','EGFR_cytoplasm','ER_nuclei','Ecad_cytoplasm',\n",
    "             'EpCAM_cytoplasm','Erk12_nuclei','Fibronectin_cytoplasm','GATA3_nuclei','HistoneH3_nuclei','Keratin14_cytoplasm',\n",
    "             'Ki67_nuclei','ProgesteroneReceptorAB_nuclei','S6_cytoplasm','SMA_cytoplasm', ##'RabbitIgGHL_cell' now ER_nuclei,\n",
    "             'Slug_nuclei','Sox9_nuclei','Twist_nuclei','Vimentin_cytoplasm','area_nuclei','bCatenin_nuclei',\n",
    "              'cMyc_nuclei', 'centroid-0_nuclei', 'centroid-1_nuclei','cerbB2Her2_cytoplasm','cleavedPARP_nuclei',\n",
    "            'eccentricity_nuclei','mTOR_cytoplasm','p53_nuclei','panCytokeratin_cytoplasm',\n",
    "            ]\n",
    "\n",
    "ls_marker_er = ['ER_cell', 'ER_cytoplasm', 'ER_nuclei','Cytokeratin19_cytoplasm','Cytokeratin7_cytoplasm',\n",
    "                'Cytokeratin818_cytoplasm',\n",
    "               'panCytokeratin_cytoplasm']\n",
    "sorted(df_mi.columns)\n",
    "len(ls_marker)"
   ]
  },
  {
   "cell_type": "code",
   "execution_count": null,
   "id": "96571b65",
   "metadata": {},
   "outputs": [],
   "source": [
    "'''exclude_channels = [\"ImageId\" ,\"CellId\" ,\"In115 115InIn115Di\",\"Xe134 134XeXe134Di\",\"Hg202 202HgHg202Di\",\"Pb204 204PbPb204Di\",\n",
    "                     \"Pb206 206PbPb206Di\",\"ArAr80 80ArArArAr80Di\", \"10311239Ru96Di Rutheni\",\"10311240Ru98Di Rutheni\",\n",
    "                     \"10311241Ru99Di Rutheni\", \"10311242Ru100Di Rutheni\",\"10311243Ru101Di Rutheni\", \"10311244Ru102Di Rutheni\",\n",
    "                     \"10311245Ru104Di Rutheni\",\"Xe126 126XeXe126Di\",\"I127 127II127Di\",\"Xe131 131XeXe131Di\",\"Pb207 207PbPb207Di\",\n",
    "                     \"Pb208 208PbPb208Di\",\"EulerNumber\",\"MajorAxisLength\",\"MinorAxisLength\", \"Orientation\",\n",
    "                     \"10331253Ir191Di Iridium\",\"Perimeter\",\"Solidity\", # excluded in Jackson et al\n",
    "                   'Extent', 'Percent_Touching', 'Number_Neighbors', #I excluded these three\n",
    "                   ]\n",
    "#29 markers used in jackson et al\n",
    "ls_jackson = ['iridium', 'histone', 'phosphorylated histone', 'CK14', 'CK5', 'CK8/18', 'CK19', 'CK7', 'pan-CK',\n",
    "'E/P-cadherin', 'ER', 'PR', 'HER2', 'GATA3', 'SMA', 'vimentin', 'fibronectin', 'vWF/ CD31',\n",
    "'CD44', 'CD45', 'CD68', 'CD3', 'CD20', 'cleaved caspase 3/cleaved PARP',\n",
    "'carbonic anhydrase', 'phosphorylated S6', 'Ki67', 'p53', 'EGFR', 'area', 'eccentricity']\n",
    "'''"
   ]
  },
  {
   "cell_type": "code",
   "execution_count": null,
   "id": "ba26a980",
   "metadata": {},
   "outputs": [],
   "source": [
    "#len(df_data.Marker.unique()) #34 in watershed"
   ]
  },
  {
   "cell_type": "code",
   "execution_count": null,
   "id": "bfab384b",
   "metadata": {},
   "outputs": [],
   "source": [
    "#df_test = df_data.loc[df_data.id.str.contains('BaselTMA_SP41_257'),['id','mc_counts','Marker']]\n",
    "#df_test.pivot_table(index=\"id\", columns='Marker',  values='mc_counts')\n",
    "#df_wide = df_data.loc[:,['id','mc_counts','Marker']].pivot_table(index=\"id\",columns='Marker',values='mc_counts')"
   ]
  },
  {
   "cell_type": "code",
   "execution_count": null,
   "id": "40a2cdaf",
   "metadata": {},
   "outputs": [],
   "source": [
    "#watershed df_wide.shape (855668, 34)\n",
    "#mesmer df_mi.loc[:,ls_marker].shape (618811, 40)\n",
    "#mesmer redo basel df_mi.loc[:,ls_marker].shape "
   ]
  },
  {
   "cell_type": "code",
   "execution_count": null,
   "id": "9c2333c2",
   "metadata": {
    "scrolled": true
   },
   "outputs": [],
   "source": [
    "## add slide scene\n",
    "df_mi['slide_scene'] = [item.split('_cell')[0].split(\"-\")[0].replace(\"scene\",\"\") for item in df_mi.index]\n",
    "df_mi.loc[:,ls_marker+['slide_scene']].head()"
   ]
  },
  {
   "cell_type": "code",
   "execution_count": null,
   "id": "c6d3dce1",
   "metadata": {},
   "outputs": [],
   "source": [
    "#add core\n",
    "for s_core in df_a.core.unique():\n",
    "    s_scene = s_core.split('_')[-2] + '_' + s_core.split('_')[-1] \n",
    "    df_mi.loc[df_mi.slide_scene==s_scene,'core'] = s_core\n",
    "    #break\n",
    "\n",
    "df_wide = df_mi.loc[:,ls_marker+['slide_scene','core']]\n",
    "df_er = df_mi.loc[:,ls_marker_er+['slide_scene','core']]"
   ]
  },
  {
   "cell_type": "code",
   "execution_count": null,
   "id": "cea875ce",
   "metadata": {},
   "outputs": [],
   "source": [
    "#rename columns\n",
    "d_replace = {'centroid-0_nuclei':'DAPI_Y',\n",
    "       'centroid-1_nuclei':'DAPI_X',\n",
    "            'cerbB2Her2_cytoplasm':'HER2_cytoplasm',\n",
    "            'ProgesteroneReceptorAB_nuclei':'PgR_nuclei',\n",
    "             'panCytokeratin_cytoplasm':'panCK_cytoplasm',\n",
    "            'Cytokeratin19_cytoplasm':'CK19_cytoplasm',\n",
    "             'Cytokeratin5_cytoplasm':'CK5_cytoplasm',\n",
    "       'Cytokeratin7_cytoplasm':'CK7_cytoplasm',\n",
    "             'Cytokeratin818_cytoplasm':'CK8_cytoplasm',\n",
    "            'Keratin14_cytoplasm':'CK14_cytoplasm',\n",
    "            'CarbonicAnhydraseIX_cytoplasm':'CAIX_cytoplasm',\n",
    "            'Fibronectin_cytoplasm':'FN_cytoplasm',\n",
    "            'HistoneH3_nuclei':'HH3_nuclei',\n",
    "            'cleavedPARP_nuclei':'CC3cPARP_nuclei',\n",
    "            'Vimentin_cytoplasm':'Vim_cytoplasm',\n",
    "            'CD31_cytoplasm':'CD31vWF_cytoplasm'}\n",
    "df_wide.rename(d_replace,axis=1,inplace=True)"
   ]
  },
  {
   "cell_type": "code",
   "execution_count": null,
   "id": "622629b7",
   "metadata": {},
   "outputs": [],
   "source": [
    "s_out = f'{codedir}/data/20220308_{s_find}_ERMeanIntensity.csv'\n",
    "if  os.path.exists(s_out):\n",
    "    print('saving csv')\n",
    "    df_er.to_csv(s_out)"
   ]
  },
  {
   "cell_type": "code",
   "execution_count": null,
   "id": "a9abd420",
   "metadata": {},
   "outputs": [],
   "source": [
    "#save\n",
    "#s_out = f'{codedir}/data/20220110_BaselTMA_MeanIntensity.csv'\n",
    "#s_out = f'{codedir}/data/20220112_BaselTMA_MeanIntensity.csv'\n",
    "#s_out = f'{codedir}/data/20220114_BaselTMA_MeanIntensity.csv'\n",
    "s_out = f'{codedir}/data/20220201_{s_find}_MeanIntensity.csv'\n",
    "if not os.path.exists(s_out):\n",
    "    print('saving csv')\n",
    "    df_wide.to_csv(s_out)"
   ]
  },
  {
   "cell_type": "code",
   "execution_count": null,
   "id": "f21cb104",
   "metadata": {},
   "outputs": [],
   "source": [
    "#combine\n",
    "df1 = pd.read_csv(f'{codedir}/data/20220201_ZTMA_MeanIntensity.csv',index_col=0)\n",
    "df2 = pd.read_csv(f'{codedir}/data/20220201_BaselTMA_MeanIntensity.csv',index_col=0)\n",
    "s_out = f'{codedir}/data/20220201_IMC-TMAs_MeanIntensity.csv'\n",
    "df_out = df1.append(df2)\n",
    "if not os.path.exists(s_out):\n",
    "    print('saving csv')\n",
    "    df_out.to_csv(s_out)"
   ]
  },
  {
   "cell_type": "code",
   "execution_count": null,
   "id": "c2f34585",
   "metadata": {},
   "outputs": [],
   "source": [
    "df_out"
   ]
  },
  {
   "cell_type": "markdown",
   "id": "cab08fad",
   "metadata": {},
   "source": [
    "## Umap <a name=\"l7\"></a>\n",
    "\n",
    "umap projection of single cells\n",
    "\n",
    "[contents](#contents)"
   ]
  },
  {
   "cell_type": "code",
   "execution_count": null,
   "id": "c529a652",
   "metadata": {
    "scrolled": true
   },
   "outputs": [],
   "source": [
    "#os.chdir(f'{codedir}/data')\n",
    "s_sample = '20220201_ZTMA'\n",
    "s_sample = '20220201_IMC-TMAs'\n",
    "df_norm = pd.read_csv(f'{codedir}/data/{s_sample}_MeanIntensity.csv',index_col=0)\n",
    "#rename columns\n",
    "dict(zip(df_norm.columns,[item.split('_')[0] for item in df_norm.columns]))\n",
    "d_rename = {'CD20_cytoplasm': 'CD20', 'CD31vWF_cytoplasm': 'CD31', 'CD3_cytoplasm': 'CD3', 'CD44_cytoplasm': 'CD44',\n",
    " 'CD45_cytoplasm': 'CD45', 'CD68_cytoplasm': 'CD68', 'CAIX_cytoplasm': 'CAIX', 'CK19_cytoplasm': 'CK19',\n",
    " 'CK5_cytoplasm': 'CK5', 'CK7_cytoplasm': 'CK7', 'CK8_cytoplasm': 'CK8', 'DAPI1_nuclei': 'DAPI1',\n",
    " 'EGFR_cytoplasm': 'EGFR', 'Ecad_cytoplasm': 'Ecad', 'EpCAM_cytoplasm': 'EpCAM', 'Erk12_nuclei': 'Erk12',\n",
    " 'FN_cytoplasm': 'FN', 'GATA3_nuclei': 'GATA3', 'HH3_nuclei': 'HH3', 'CK14_cytoplasm': 'CK14',\n",
    " 'Ki67_nuclei': 'Ki67', 'PgR_nuclei': 'PgR', #'RabbitIgGHL_cell': 'RbtIgG',\n",
    "            'S6_cytoplasm': 'S6', 'ER_nuclei': 'ER',\n",
    " 'SMA_cytoplasm': 'SMA', 'Slug_nuclei': 'Slug', 'Sox9_nuclei': 'Sox9', 'Twist_nuclei': 'Twist',\n",
    " 'Vim_cytoplasm': 'Vim', 'area_nuclei': 'area', 'bCatenin_nuclei': 'bCatenin', 'cMyc_nuclei': 'cMyc',\n",
    " 'HER2_cytoplasm': 'HER2', 'CC3cPARP_nuclei': 'CC3_cPARP', 'eccentricity_nuclei': 'eccentricity', 'mTOR_cytoplasm': 'mTOR',\n",
    " 'p53_nuclei': 'p53', 'panCK_cytoplasm': 'panCK', #'slide_scene': 'slide', #'DAPI_Y': 'DAPI', #'DAPI_X': 'DAPI',\n",
    " 'core': 'core'}\n",
    "df_norm.rename(d_rename,axis=1,inplace=True)\n",
    "#add annotation\n",
    "df_norm['subtype'] = df_norm.core.map(dict(zip(df_a.core,df_a.clinical_type)))\n",
    "df_norm['Patient'] = df_norm.core.map(dict(zip(df_a.core,df_a.PID)))\n",
    "df_norm['TMA'] = [item.split('TMA')[0][0] for item in df_norm.core.fillna(' TMA')]\n",
    "df_norm['slide_scene'] = [item.split('_cell')[0].replace('scene','') for item in df_norm.index]\n",
    "df_norm =df_norm.dropna()"
   ]
  },
  {
   "cell_type": "markdown",
   "id": "f1921852",
   "metadata": {},
   "source": [
    "## cluster all cells\n",
    "\n",
    "TNBC and ER+\n",
    "\n",
    "qc"
   ]
  },
  {
   "cell_type": "code",
   "execution_count": null,
   "id": "cf3a2fc0",
   "metadata": {},
   "outputs": [],
   "source": [
    "#QC\n",
    "df_qc = pd.read_csv(f'{codedir}/Basel_Zurich_ER_QC.csv')\n",
    "df_qc.rename({'Unnamed: 0':'FileName_FullStack'},axis=1,inplace=True)\n",
    "df_qc = df_a.merge(df_qc,on='FileName_FullStack')\n",
    "df_qc['name'] = [item.split('2017')[1] for item in df_qc.loc[:,'FileName_FullStack']]\n",
    "df_qc['slide_scene'] = [f\"{item.split('_')[2]}_{item.split('_')[3]}-{item.split('_')[4]}\" for item in df_qc.name]"
   ]
  },
  {
   "cell_type": "code",
   "execution_count": null,
   "id": "58f62d7d",
   "metadata": {},
   "outputs": [],
   "source": [
    "b_qc = True\n",
    "if b_qc:\n",
    "    print(df_norm.slide_scene.nunique())\n",
    "    ls_qc = df_qc[((df_qc.QC=='positive') & (df_qc.ERStatus=='positive')) | ((df_qc.QC=='negative') & (df_qc.ERStatus=='negative'))].slide_scene\n",
    "    df_norm = df_norm[(df_norm.slide_scene.isin(ls_qc))]\n",
    "    print(df_norm.slide_scene.nunique())\n",
    "    s_sample = s_sample + '_qc'"
   ]
  },
  {
   "cell_type": "code",
   "execution_count": null,
   "id": "5ee5db4e",
   "metadata": {},
   "outputs": [],
   "source": [
    "#33 features\n",
    "s_type = 'all' #'2sub'\n",
    "ls_col = ['Area', 'CAIX', 'CC3_cPARP', 'CD20', 'CD3', 'CD31', 'CD44', 'CD45',\n",
    "       'CD68', 'CK14', 'CK19', 'CK5', 'CK7', 'CK8', 'EGFR', 'Eccentricity',\n",
    "       'FN', 'GATA3', 'HER2', 'HH3', 'Ki67', 'PgR', 'RbtIgG', 'SMA', 'Slug',\n",
    "       'Twist', 'Vim', 'cMyc', 'p53', 'pHH3', 'pS6', 'panCK', 'pmTOR'#,'Ecad'\n",
    "         ]#old\n",
    "ls_col = ['CD20', 'CD31', 'CD3', 'CD44', 'CD45', 'CD68', 'CAIX', 'CK19', 'CK5',\n",
    "       'CK7', 'CK8', 'DAPI1', 'EGFR', 'EpCAM', 'Erk12', 'FN', 'GATA3',\n",
    "       'HH3', 'CK14', 'Ki67', 'PgR', 'RbtIgG', 'S6', 'SMA', 'Slug', 'Sox9',\n",
    "       'Twist', 'Vim', 'Area', 'bCatenin', 'cMyc', 'HER2',\n",
    "       'CC3_cPARP', 'Eccentricity', 'mTOR', 'p53', 'panCK',  ] \n",
    "ls_col = ['CD20', 'CD31', 'CD3', 'CD44', 'CD45', 'CD68', 'CAIX', 'CK19', 'CK5',\n",
    "       'CK7', 'CK8', 'DAPI1', 'EGFR', 'ER', 'Ecad', 'EpCAM', 'Erk12', 'FN',\n",
    "       'GATA3', 'HH3', 'CK14', 'Ki67', 'PgR', 'S6', 'SMA', 'Slug', 'Sox9',\n",
    "       'Twist', 'Vim', 'Area', 'bCatenin', 'cMyc',  'HER2', #'DAPI_Y', 'DAPI_X',\n",
    "       'CC3_cPARP', 'Eccentricity', 'mTOR', 'p53', 'panCK',   ]\n",
    "ls_col = [ 'CD31', 'CD44', 'CD45','CD20','CD3',#'Area',  'nCD3' noisy,#'CAIX' weird,\n",
    "        'CK14','CK5','EGFR', 'CK19',  'CK8','CK7','panCK','Ecad','HER2',  #'Eccentricity','?CD68','weakCK7',\n",
    "       'Ki67','ER','PgR','CD68','FN', 'SMA', #'Slug',#'GATA3',weak and bright noise \n",
    "        'Vim','area'] #'cMyc','p53','pmTOR',  'pHH3', 'pS6' 'Twist',\n",
    "df_exclude = pd.read_csv(f'{codedir}/data/exclude_necrotic_BaselTMA_TripleNeg.csv',index_col=0)\n",
    "print(len(ls_col))\n",
    "adata = sc.AnnData(df_norm.loc[~df_norm.index.isin(df_exclude.index),ls_col])\n",
    "adata.obs['TMA'] = df_norm.TMA #'Basel'\n",
    "adata.obs['slide_scene'] = df_norm.core\n",
    "adata.obs['Patient'] = df_norm.Patient\n",
    "adata.obs['subtype'] = df_norm.subtype.replace({'HR+HER2-':'ER+', 'TripleNeg':'TNBC','HR+HER2+':'ER+ HER2+','HR-HER2+':'HER2+'})\n",
    "df_norm.subtype = df_norm.subtype.replace({'HR+HER2-':'ER+', 'TripleNeg':'TNBC','HR+HER2+':'ER+ HER2+','HR-HER2+':'HER2+'})\n",
    "#two subtypes\n",
    "if s_type == '2sub':\n",
    "    adata = adata[adata.obs.subtype.isin(['TNBC', 'ER+'])]\n"
   ]
  },
  {
   "cell_type": "code",
   "execution_count": null,
   "id": "f3a7aaf2",
   "metadata": {},
   "outputs": [],
   "source": [
    "df_norm.subtype = df_norm.subtype.replace({'HR+HER2-':'ER+', 'TripleNeg':'TNBC','HR+HER2+':'ER+ HER2+','HR-HER2+':'HER2+'})\n",
    "adata.obs['subtype'] = df_norm.subtype\n",
    "figname = f\"Umap_{s_sample}_subtype_{n_neighbors}neighbors_{s_type}_{len(ls_col)}markers.png\"\n",
    "fig,ax = plt.subplots(figsize=(3,2), dpi=200)\n",
    "sc.pl.umap(adata, color='subtype',wspace=.25,save=figname,ax=ax)"
   ]
  },
  {
   "cell_type": "code",
   "execution_count": null,
   "id": "9028d32b",
   "metadata": {
    "scrolled": true
   },
   "outputs": [],
   "source": [
    "#preprocess\n",
    "b_scale = True\n",
    "adata.raw = adata\n",
    "#reduce dimensionality\n",
    "sc.tl.pca(adata, svd_solver='auto')\n",
    "fig,ax=plt.subplots(figsize=(3.5,5))\n",
    "sc.pl.highest_expr_genes(adata, n_top=48,ax=ax,save=f'{s_sample}_Expression_{len(ls_col)}.png')\n",
    "plt.tight_layout()\n",
    "sc.pl.pca_variance_ratio(adata,n_pcs=37, log=True)\n",
    "if b_scale:\n",
    "    sc.pp.scale(adata, zero_center=False, max_value=20)\n",
    "    s_sample = s_sample + '_s'"
   ]
  },
  {
   "cell_type": "code",
   "execution_count": null,
   "id": "841e00b2",
   "metadata": {},
   "outputs": [],
   "source": [
    "n_neighbors = 30\n",
    "results_file = f'{s_sample}_{n_neighbors}neighbors_{len(ls_col)}markers.h5ad'\n",
    "results_file "
   ]
  },
  {
   "cell_type": "code",
   "execution_count": null,
   "id": "523efeb5",
   "metadata": {
    "scrolled": true
   },
   "outputs": [],
   "source": [
    "#umap\n",
    "#s_sample = '20220112_BaselTMA'#'20220110_BaselTMA'#'20211221_BaselTMA'\n",
    "for n_neighbors in [30,15]:\n",
    "    results_file = f'{s_sample}_{n_neighbors}neighbors_{s_type}_{len(ls_col)}markers.h5ad'\n",
    "    if not os.path.exists(results_file):\n",
    "        print('calc umap')\n",
    "        # calculate neighbors \n",
    "        sc.pp.neighbors(adata, n_neighbors=n_neighbors) #, method='rapids'\n",
    "        sc.tl.umap(adata)\n",
    "    else:\n",
    "        print('loading umap')\n",
    "        adata = sc.read_h5ad(results_file)\n",
    "        adata.obs['TMA'] = df_norm.TMA\n",
    "        adata.obs['slide_scene'] = df_norm.core\n",
    "        adata.obs['subtype'] = df_norm.subtype\n",
    "        adata.obs['Patient'] = df_norm.Patient #.astype('int').astype('str')\n",
    "    #save results  \n",
    "    if not os.path.exists(results_file):\n",
    "        adata.write(results_file)\n",
    "    #color by markers\n",
    "    figname = f\"Umap_{s_sample}_markers_{n_neighbors}neighbors_{s_type}_{len(ls_col)}markers.png\"\n",
    "    sc.pl.umap(adata, color=ls_col,vmin='p1.5',vmax='p98.5',save=figname,ncols=6)\n",
    "    #color by TMA\n",
    "    figname = f\"Umap_{s_sample}_TMA_{n_neighbors}neighbors_{s_type}_{len(ls_col)}markers.png\"\n",
    "    fig,ax = plt.subplots(figsize=(3,2), dpi=200)\n",
    "    sc.pl.umap(adata, color='TMA',wspace=.25,save=figname,ax=ax)\n",
    "    \n",
    "    figname = f\"Umap_{s_sample}_subtype_{n_neighbors}neighbors_{s_type}_{len(ls_col)}markers.png\"\n",
    "    fig,ax = plt.subplots(figsize=(3,2), dpi=200)\n",
    "    sc.pl.umap(adata, color='subtype',wspace=.25,save=figname,ax=ax)\n",
    "    \n",
    "    #figname = f\"Umap_{s_sample}_Patient_{n_neighbors}neighbors_{s_type}_{len(ls_col)}markers.png\"\n",
    "    #fig,ax = plt.subplots(figsize=(3,2), dpi=200)\n",
    "    #sc.pl.umap(adata, color='Patient',wspace=.25,save=figname,ax=ax)\n",
    "\n",
    "    break\n"
   ]
  },
  {
   "cell_type": "code",
   "execution_count": null,
   "id": "09e9cfb1",
   "metadata": {
    "scrolled": true
   },
   "outputs": [],
   "source": [
    "\n",
    "resolution = 0.6\n",
    "n_markers = 22 #21  #len(ls_col) #20\n",
    "results_file = f'{s_sample}_{n_neighbors}neighbors_{n_markers}markers_{s_type}_leiden{resolution}.h5ad'\n",
    "if not os.path.exists(results_file):\n",
    "    print('clustering')\n",
    "    sc.tl.leiden(adata,resolution=resolution)\n",
    "    adata.write(results_file)\n",
    "else:\n",
    "    print('loading leiden')\n",
    "    adata = sc.read_h5ad(results_file)\n",
    "\n",
    "#fig,ax = plt.subplots(figsize=(3,2),dpi=200)\n",
    "#figname=f'leiden_{n_neighbors}_{n_markers}_{resolution}_{s_type}_legend.png'\n",
    "#sc.pl.umap(adata, color='leiden',ax=ax,save=figname,title=figname.split('.png')[0].replace('_',' '))\n",
    "\n",
    "fig,ax = plt.subplots(figsize=(3,2),dpi=200)\n",
    "figname=f'leiden_{n_neighbors}_{n_markers}_{resolution}_{s_type}.png'\n",
    "sc.pl.umap(adata, color='leiden',ax=ax,save=figname,title=figname.split('.png')[0].replace('_',' '),legend_loc=None)\n",
    "#"
   ]
  },
  {
   "cell_type": "code",
   "execution_count": null,
   "id": "1c467222",
   "metadata": {},
   "outputs": [],
   "source": [
    "#small cells\n",
    "#adata.obs['test'] = (adata.to_df().Area > 10).replace({True:1,False:0})\n",
    "#sc.pl.umap(adata, color='test',title='merged')"
   ]
  },
  {
   "cell_type": "code",
   "execution_count": null,
   "id": "2e2515c7",
   "metadata": {},
   "outputs": [],
   "source": [
    "s_sample"
   ]
  },
  {
   "cell_type": "markdown",
   "id": "4cf60165",
   "metadata": {},
   "source": [
    "## cluster within subtype\n",
    "\n",
    "skip (cluster eR and TNBC together)"
   ]
  },
  {
   "cell_type": "markdown",
   "id": "5966ab23",
   "metadata": {},
   "source": [
    "## Annotate Leiden <a name=\"lbar\"></a>\n",
    "\n",
    "annotate epitelial, immune a stroma cell types\n",
    "\n",
    "also visualize cluster results on tissue scatter plots.\n",
    "\n",
    "\n",
    "[contents](#contents)"
   ]
  },
  {
   "cell_type": "code",
   "execution_count": null,
   "id": "f3d99fad",
   "metadata": {},
   "outputs": [],
   "source": [
    "#load\n",
    "#'20220201_IMC-TMAs_qc_s_30neighbors_22markers_all_leiden0.6.h5ad'\n",
    "s_sample_norm = '20220201_IMC-TMAs'\n",
    "df_norm = pd.read_csv(f'{codedir}/data/{s_sample_norm}_MeanIntensity.csv',index_col=0)\n",
    "d_rename = {'CD20_cytoplasm': 'CD20', 'CD31vWF_cytoplasm': 'CD31', 'CD3_cytoplasm': 'CD3', 'CD44_cytoplasm': 'CD44',\n",
    " 'CD45_cytoplasm': 'CD45', 'CD68_cytoplasm': 'CD68', 'CAIX_cytoplasm': 'CAIX', 'CK19_cytoplasm': 'CK19',\n",
    " 'CK5_cytoplasm': 'CK5', 'CK7_cytoplasm': 'CK7', 'CK8_cytoplasm': 'CK8', 'DAPI1_nuclei': 'DAPI1',\n",
    " 'EGFR_cytoplasm': 'EGFR', 'Ecad_cytoplasm': 'Ecad', 'EpCAM_cytoplasm': 'EpCAM', 'Erk12_nuclei': 'Erk12',\n",
    " 'FN_cytoplasm': 'FN', 'GATA3_nuclei': 'GATA3', 'HH3_nuclei': 'HH3', 'CK14_cytoplasm': 'CK14',\n",
    " 'Ki67_nuclei': 'Ki67', 'PgR_nuclei': 'PgR', #'RabbitIgGHL_cell': 'RbtIgG',\n",
    "            'S6_cytoplasm': 'S6', 'ER_nuclei': 'ER',\n",
    " 'SMA_cytoplasm': 'SMA', 'Slug_nuclei': 'Slug', 'Sox9_nuclei': 'Sox9', 'Twist_nuclei': 'Twist',\n",
    " 'Vim_cytoplasm': 'Vim', 'area_nuclei': 'area', 'bCatenin_nuclei': 'bCatenin', 'cMyc_nuclei': 'cMyc',\n",
    " 'HER2_cytoplasm': 'HER2', 'CC3cPARP_nuclei': 'CC3_cPARP', 'eccentricity_nuclei': 'eccentricity', 'mTOR_cytoplasm': 'mTOR',\n",
    " 'p53_nuclei': 'p53', 'panCK_cytoplasm': 'panCK', #'slide_scene': 'slide', #'DAPI_Y': 'DAPI', #'DAPI_X': 'DAPI',\n",
    " 'core': 'core'}\n",
    "df_norm.rename(d_rename,axis=1,inplace=True)\n",
    "#add annotation\n",
    "df_norm['subtype'] = df_norm.core.map(dict(zip(df_a.core,df_a.clinical_type)))\n",
    "df_norm['Patient'] = df_norm.core.map(dict(zip(df_a.core,df_a.PID)))\n",
    "df_norm['TMA'] = [item.split('TMA')[0][0] for item in df_norm.core.fillna(' TMA')]\n",
    "df_norm['slide_scene'] = [item.split('_cell')[0].replace('scene','') for item in df_norm.index]\n",
    "df_norm =df_norm.dropna()\n",
    "\n",
    "\n",
    "os.chdir(f'{codedir}/data')\n",
    "s_sample = '20220201_IMC-TMAs_qc_s' #'20220201_IMC-TMAs_s' #'20220114_BaselTMA_s' #'20220112_BaselTMA' #'20220110_BaselTMA' #'20211221_BaselTMA'\n",
    "n_neighbors = 30 #\n",
    "n_markers = 22 # 29 #\n",
    "s_type = 'all'#'2sub'#'TripleNeg'#'HR+HER2-'#\n",
    "resolution =  0.6 #0.8 #0.6 #0.6 #23c # 0.4 #18c #  0.5 # 20c\n",
    "results_file = f'{s_sample}_{n_neighbors}neighbors_{n_markers}markers_{s_type}_leiden{resolution}.h5ad'\n",
    "adata = sc.read_h5ad(f'{codedir}/data/{results_file}')"
   ]
  },
  {
   "cell_type": "code",
   "execution_count": null,
   "id": "b7c9d32e",
   "metadata": {
    "scrolled": true
   },
   "outputs": [],
   "source": [
    "%matplotlib inline\n",
    "fig,ax = plt.subplots(figsize=(3,2),dpi=200)\n",
    "figname=f'leiden_{n_neighbors}_{n_markers}_{resolution}_{s_type}_legend.png'\n",
    "sc.pl.umap(adata, color='leiden',ax=ax,save=figname,title=figname.split('.png')[0].replace('_',' '))\n",
    "\n",
    "results_file"
   ]
  },
  {
   "cell_type": "code",
   "execution_count": null,
   "id": "d0be9e75",
   "metadata": {},
   "outputs": [],
   "source": [
    "ls_col = ['CD31','panCK','FN','Vim','CD45']\n",
    "figname = f\"Umap_markers_{n_neighbors}neighbors_{len(ls_col)}markers_{s_type}.png\"\n",
    "title=figname.split('.png')[0].replace('_',' ')\n",
    "sc.pl.umap(adata, color=ls_col,vmin='p1.5',vmax='p99',ncols=5,save=figname)"
   ]
  },
  {
   "cell_type": "code",
   "execution_count": null,
   "id": "ed589586",
   "metadata": {
    "scrolled": true
   },
   "outputs": [],
   "source": [
    "#annoitate\n",
    "ls_drop = []\n",
    "df_p = adata.to_df()\n",
    "df_p['leiden'] = adata.obs['leiden'].astype('str')\n",
    "\n",
    "if results_file =='20220201_ZTMA_s_30neighbors_21markers_2sub_leiden0.8.h5ad':\n",
    "    print('over clust ZTMA')\n",
    "    tum_clust = ['11', '18', '6', '9', '23','22','0', '16', '5', '19', '20', '12', '15']\n",
    "    str_clust = ['3','7','13']\n",
    "    imm_clust = ['8','17','4']\n",
    "    endo_clust = ['21']  \n",
    "    fb_clust = ['14','2','1','10']\n",
    "    ls_drop = [] \n",
    "    #merge ER+\n",
    "    ls_merge = ['23','6','9','18']\n",
    "    df_p.loc[df_p.leiden.isin(ls_merge),'leiden'] = '6'\n",
    "    #merge FN+ str\n",
    "    ls_merge = ['1','3','7']\n",
    "    df_p.loc[df_p.leiden.isin(ls_merge),'leiden'] = '1'\n",
    "    #notes: Spilt basal and myoep, Split CD20 and Tcell, Combine luminal tumor\n",
    "    #split cd3 out of 8 macrophage\n",
    "    df_p.loc[(df_p.leiden=='8') & (df_p.loc[((df_p.leiden=='8'))].CD3 *2 > df_p.loc[((df_p.leiden=='8'))].CD68),'leiden'] = '4'\n",
    "if results_file =='20220201_ZTMA_s_30neighbors_21markers_2sub_leiden0.6.h5ad':\n",
    "    print('good clust ZTMA')\n",
    "    tum_clust = ['10', '8', '19', '1', '7', '13', '12', '20', '14', '6', '11', '18','16']\n",
    "    str_clust = [ '5',   ]\n",
    "    imm_clust = ['3','15',]\n",
    "    endo_clust = ['2',]  \n",
    "    fb_clust = [ '17','9','0', '4']\n",
    "\n",
    "    ls_drop = []     \n",
    "    #split cd3 out of 8 macrophage\n",
    "    df_p.loc[(df_p.leiden=='9') & (df_p.loc[((df_p.leiden=='9'))].CD3 *2 > df_p.loc[((df_p.leiden=='9'))].CD68),'leiden'] = '15'\n",
    "    df_p.leiden = df_p.leiden.astype('str')\n",
    "    ##split CD20 out of CD3 (15)\n",
    "    df_p.loc[((df_p.leiden=='15') & (df_p.CD20<2)),'leiden'] = '3'\n",
    "    #Vim+ versus FN +\n",
    "    #Vim+ versus FN +#\n",
    "    ls_merge = ['0','4']\n",
    "    df_p.loc[((df_p.leiden.isin(ls_merge))),'leiden'] = '0'\n",
    "    df_p.loc[((df_p.leiden=='0') & (df_p.FN < df_p.Vim*2)),'leiden'] = '4'\n",
    "    \n",
    "if results_file =='20220201_IMC-TMAs_s_30neighbors_21markers_2sub_leiden0.6.h5ad':\n",
    "    print('good one Z & B TMA')\n",
    "    tum_clust = []\n",
    "    str_clust = []\n",
    "    imm_clust = []\n",
    "    endo_clust = []  \n",
    "    fb_clust = []\n",
    "    ls_drop = [] \n",
    "    #CD3 bg in EGFR high\n",
    "    print('subCD3')\n",
    "    df_p.loc[df_p.leiden=='19','CD3'] = np.clip(a=df_p.loc[df_p.leiden=='19','CD3'],a_min=0,a_max=.2)\n",
    "    #merge FN+ str\n",
    "    ls_merge = ['19','0']\n",
    "    df_p.loc[df_p.leiden.isin(ls_merge),'leiden'] = '0'\n",
    "\n",
    "if results_file == '20220201_BaselTMA_s_30neighbors_21markers_2sub_leiden0.6.h5ad':\n",
    "    print('good one')\n",
    "    ls_drop = ['25'] #CD3 aggregates\n",
    "    #split cd3 out of 6\n",
    "    df_p['leiden'] = df_p.leiden.astype('str')\n",
    "    #split out CD44+ str\n",
    "    df_p.loc[(df_p.leiden=='22') & (df_p.panCK < 0.4),'leiden'] = '6'\n",
    "    df_p.loc[((df_p.leiden=='6') & (df_p.CD20>2)),'leiden'] = '6b'\n",
    "    #basal and myoep split\n",
    "    df_test = df_p.loc[(df_p.leiden=='11')][(df_p.loc[(df_p.leiden=='11'),'CK14'] > df_p.loc[(df_p.leiden=='11'),'SMA'])]\n",
    "    df_p.loc[df_test.index,'leiden'] = '11b'\n",
    "    #merge luminal t.\n",
    "    ls_merge = ['3','8','16']\n",
    "    df_p.loc[df_p.leiden.isin(ls_merge),'leiden'] = '3'\n",
    "    #merge luminal HR+ t.\n",
    "    ls_merge = ['19','21','14','16','24','7']\n",
    "    df_p.loc[df_p.leiden.isin(ls_merge),'leiden'] = '7'\n",
    "    #mege CK lo\n",
    "    ls_merge = ['0','5','20','15','17']\n",
    "    df_p.loc[df_p.leiden.isin(ls_merge),'leiden'] = '0'\n",
    "    #merge Ecad t.\n",
    "    #ls_merge = ['24','7']\n",
    "    #df_p.loc[df_p.leiden.isin(ls_merge),'leiden'] = '7'\n",
    "    #merge Str\n",
    "    ls_merge = ['2','10']\n",
    "    df_p.loc[df_p.leiden.isin(ls_merge),'leiden'] = '2'\n",
    "    tum_clust = ['0','22','3','7','11','11b','12','23'] #\n",
    "    str_clust = ['2'] \n",
    "    imm_clust = ['6','6b'] \n",
    "    endo_clust = ['9']\n",
    "    fb_clust = ['1','4','18','13']\n",
    "    \n",
    "if results_file == '20220201_IMC-TMAs_qc_s_30neighbors_22markers_all_leiden0.6.h5ad':\n",
    "    print('good one Z & B TMA all subtypes')\n",
    "    #basal and myoep split and pericyte split\n",
    "    df_test = df_p.loc[(df_p.leiden=='7')][(df_p.loc[(df_p.leiden=='7'),'CK14'] > df_p.loc[(df_p.leiden=='7'),'SMA'])]\n",
    "    df_p.loc[df_test.index,'leiden'] = '7b'\n",
    "    df_p.loc[((df_p.leiden=='7') & ((df_p.SMA > 15*df_p.panCK) | (df_p.SMA > 15*df_p.CK5))),'leiden'] = '7c'\n",
    "    #drop 20, CD3 aggregates\n",
    "    ls_drop = ['20'] #['20'] #CD3 aggregates\n",
    "    #bcells\n",
    "    df_p.loc[((df_p.leiden=='9') & (df_p.CD20>2)),'leiden'] = '9b'\n",
    "    #reaasign 20\n",
    "    df_p.loc[(df_p.leiden=='20') & (df_p.CD3<5),'leiden'] = '9'\n",
    "    #reassign 8 endothelial tto t cell\n",
    "    df_p.loc[((df_p.leiden=='8') & (df_p.CD45>1.2)),'leiden'] = '9'\n",
    "    #split 0\n",
    "    df_p.loc[((df_p.leiden=='0') & (df_p.FN>1)),'leiden'] = '0b'\n",
    "    tum_clust = ['7b', '21', '22', '23', '13', '16', '14', '2', '17', '12', '7', '10', '11', '18', '19','4','1']\n",
    "    str_clust = [ '0', '5',]\n",
    "    imm_clust = ['9','9b','15'] #15 macrophage\n",
    "    endo_clust = ['8']  \n",
    "    fb_clust = ['6', '3','0b','7c']\n",
    "\n",
    "#df_p.groupby('leiden').mean().panCK.sort_values(ascending=False).index\n",
    "#set(df_p.groupby('leiden').mean().CK19.sort_values(ascending=False).index) - set(tum_clust + imm_clust )\n",
    "#set(tum_clust)"
   ]
  },
  {
   "cell_type": "code",
   "execution_count": null,
   "id": "1894d2e4",
   "metadata": {
    "scrolled": false
   },
   "outputs": [],
   "source": [
    "#clustermap\n",
    "\n",
    "d_named ={'7b':'Basal t.', '21':'Luminal ER+ t.', '22':'EGFR+ t.', '23':'Luminal ER+ t.', '13':'HER2+ ER+ t.',\n",
    " '16':'HER2+ ER+ PR+ t.', '14':'Luminal ER+ t.', '2':'Luminal ER+ t.', '17':'CD44+ t.', '12':'Prolif. t.',\n",
    " '7':'Myoepithelial', '10':'CK lo. t.', '11':'Luminal ER+ t.', '18':'Luminal t.', '19':'HER2+ t.',\n",
    " '4':'HER2+ ER+ t.', '6':'FN+ FB', '3':'Vim+ FB', '1':'Luminal t.', #or CKlo?\n",
    " '0':'Quies. str.', '5':'Quies. str.','0b':'FN+ FB','7c':'Pericyte/SMA+ FB',\n",
    " '9':'CD3 T cell', '9b':'CD20 B cell', '15':'Macrophage', '8':'endothelial'}\n",
    "b_annot = True\n",
    "\n",
    "d_replace = {}\n",
    "d_replace.update(dict(zip(tum_clust,[f'epithelial' for item in tum_clust])))\n",
    "d_replace.update(dict(zip(str_clust,[f'stromal' for item in str_clust])))\n",
    "d_replace.update(dict(zip(imm_clust,[f'immune' for item in imm_clust])))\n",
    "d_replace.update(dict(zip(endo_clust,[f'endothelial' for item in endo_clust])))\n",
    "d_replace.update(dict(zip(fb_clust,[f'fibroblast' for item in fb_clust])))\n",
    "df_plot = df_p[~df_p.leiden.isin(ls_drop)].groupby('leiden').mean()\n",
    "\n",
    "df_plot.index.name = f'leiden {resolution}'\n",
    "d_color = dict(zip(['endothelial', 'epithelial', 'fibroblast', 'immune', 'stromal'],sns.color_palette()[0:5]))\n",
    "if b_annot:\n",
    "    row_colors = df_plot.index.astype('str').map(d_replace).map(d_color)\n",
    "    g = sns.clustermap(df_plot,z_score=1,figsize=(9,8),cmap='viridis',row_colors=row_colors,#method='single',\n",
    "                   vmin=-1.5,vmax=1.5)\n",
    "    for label in d_color.keys():\n",
    "        g.ax_row_dendrogram.bar(0, 0, color=d_color[label],\n",
    "                                label=label, linewidth=0)\n",
    "    g.ax_row_dendrogram.legend(loc=\"right\", ncol=1)\n",
    "    g.ax_heatmap.set_ylabel('')\n",
    "    marker_genes = df_plot.iloc[:,g.dendrogram_col.reordered_ind].columns.tolist()\n",
    "    categories_order = df_plot.iloc[g.dendrogram_row.reordered_ind,:].index.tolist()\n",
    "    labels = [f\"{item}: {d_named[item]}\" for item in categories_order]\n",
    "    g.ax_heatmap.set_yticklabels(labels)\n",
    "else:\n",
    "    g = sns.clustermap(df_plot,z_score=1,figsize=(9,7),cmap='viridis',#row_colors=row_colors,#method='single',\n",
    "                   vmin=-1.5,vmax=1.5)"
   ]
  },
  {
   "cell_type": "code",
   "execution_count": null,
   "id": "ad49b50b",
   "metadata": {
    "scrolled": true
   },
   "outputs": [],
   "source": [
    "#TNBC 24 is CD68 hot pixels. 23 is real bright ck staining, based on 11: only 8 sample have appreciable ER...why??? because these are TN!, looks like rbt IgG is ER. use nuclear and rename/cluster\n",
    "#21 is EGFR hi, real #20 is real, Vim hi, 19 real ck9 hi, 18 real ck14 hi #16 had high ER background, 14 has high ER bg but its not nuclear\n",
    "#13 168_X10Y5 and 137_X9Y3 and 64_X13Y4 is necrotic\n",
    "#nice cd45 111_X8Y6, ER+ nirm duct\n",
    "## TNBC no hot 20? #18 24? 16? #20 is ER+ tumor, maybe also non-specific ER\n",
    "##TNBC no necrotic 15-23 only 1 tissue\n",
    "df_p['core'] = [item.split('_cell')[0].replace('scene','') for item in df_p.index]\n",
    "s_clust = '20'\n",
    "#df_p['core'] = df_p.merge(df_norm.loc[:,['core']],left_index=True,right_index=True).core\n",
    "df_p.groupby(['leiden','core']).count().loc[s_clust].iloc[:,1].sort_values(ascending=False)[0:10]"
   ]
  },
  {
   "cell_type": "code",
   "execution_count": null,
   "id": "9e98f653",
   "metadata": {},
   "outputs": [],
   "source": [
    "%matplotlib inline\n",
    "#plot all groups spatially - leiden \n",
    "from mplex_image import analyze\n",
    "colors = mpl.cm.tab20b.colors + mpl.cm.tab20c.colors\n",
    "colors =  mpl.cm.tab10.colors\n",
    "df_pos = analyze.celltype_to_bool(df_p,'leiden')\n",
    "df_pos.columns = [str(item) for item in df_pos.columns]\n",
    "df_norm.slide_scene = [item.split('_cell')[0].replace(\"scene\",\"\") for item in df_norm.index]"
   ]
  },
  {
   "cell_type": "code",
   "execution_count": null,
   "id": "fc1ac1c1",
   "metadata": {
    "scrolled": false
   },
   "outputs": [],
   "source": [
    "s_tissue = '245_X6Y5-168'#'82_X2Y9-226'#'3_Ay10x1-99'#'51_Ay7x1-404'#'54_Cy10x3-117'#'245_X6Y5-168'#'57_Cy11x6-214'#'18_Cy6x6-367'#'19_Cy8x7-502'#'28_Cy14x6-401'#'2_Cy1x4-62'#'24_By1x2-30'#'31_Ay7x5-436'#'62_By9x4-61'#'9_By4x5-251'#'64_Ay3x1-158'#'50_Ay11x2-170'#'21_Cy5x8-319'\n",
    "ls_color = df_p.groupby(['core','leiden']).count().loc[s_tissue].CD31.sort_values(ascending=False)[0:5].index.tolist()\n",
    "ls_color = ['20']\n",
    "\n",
    "for s_slide in sorted(set(df_p.core)):\n",
    "    s_slide = s_tissue #'33_Cy7x2-400'#'31_Ay7x7-452' #'8_Cy13x5-328'#'42_Ay1x8-90'#'81_X11Y4'#'79_X8Y4'#'111_X8Y6'#'103_X5Y4'#'118_X13Y5'#'241_X7Y3'#'92_X12Y7'#'77_X3Y8'#'23_X15Y7'#'129_X7Y8'#'116_X4Y4'#'111_X8Y6'#'176_X3Y7'#'111_X8Y6'#'129_X7Y8'#'189_X5Y5'#'214_X15Y6'#'229_X1Y7'#'236_X11Y7'#'64_X13Y4'#'137_X9Y3'#'77_X3Y8'#'168_X10Y5'#'114_X13Y4'#'103_X5Y4'#'81_X11Y4' #'270_X6Y8'#'103_X5Y4'#'241_X7Y3'#'179_X13Y8'#'135_X8Y5' #'110_X14Y8'#'254_X11Y6'\n",
    "    fig,ax = plt.subplots(figsize=(5,4.5),dpi=200)\n",
    "    #plot negative cells\n",
    "    df_scene = df_norm[df_norm.slide_scene==s_slide]\n",
    "    ax.scatter(data=df_scene,x='DAPI_X',y='DAPI_Y',color='silver',s=5,label=f'')\n",
    "    #for idxs, s_color_int in enumerate(range(len(df_pos.columns))):\n",
    "    for idxs, s_color in enumerate(ls_color): \n",
    "        #s_color = s_clust\n",
    "        s_color = str(s_color)\n",
    "        if len(df_p[(df_p.core==s_slide) & (df_pos.loc[:,s_color])])>=1:\n",
    "            #plot positive cells\n",
    "            ls_index = df_p[(df_p.core==s_slide) & (df_pos.loc[:,s_color])].index\n",
    "            ax.scatter(data=df_norm.loc[ls_index],x='DAPI_X',y='DAPI_Y',label=f'{s_color}',s=5,color=colors[idxs])\n",
    "        #break\n",
    "    ax.set_title(f\"{s_slide}\", fontsize=16) # \\n {d_a[s_slide]}\n",
    "    ax.axis('equal')\n",
    "    ax.set_ylim(ax.get_ylim()[::-1])\n",
    "    #ax.set_xticklabels('')\n",
    "    #ax.set_yticklabels('')\n",
    "    #break\n",
    "    plt.legend(markerscale=10,framealpha=.5) \n",
    "    #fig.savefig(f'{codedir}/{s_date}/{s_slide}_leiden{resolution}_scatterplot.png')\n",
    "    break"
   ]
  },
  {
   "cell_type": "code",
   "execution_count": null,
   "id": "93a0792a",
   "metadata": {
    "scrolled": true
   },
   "outputs": [],
   "source": [
    "\n",
    "fig,ax=plt.subplots(figsize=(1.4,3.7),dpi=200)\n",
    "df_p.groupby('leiden').count().loc[categories_order[::-1]].iloc[:,1].plot(kind='barh',title='Cell No.',ax=ax,width=0.7)\n",
    "plt.tight_layout()\n",
    "fig.savefig(f'{codedir}/{s_date}/barplot_{s_sample}_{n_neighbors}neighbors_{len(marker_genes)}markers_leiden{resolution}_{s_type}.png')"
   ]
  },
  {
   "cell_type": "code",
   "execution_count": null,
   "id": "c9ba6ae9",
   "metadata": {},
   "outputs": [],
   "source": [
    "'''\n",
    "if s_sample == '20220201_IMC-TMAs_s':\n",
    "    df_p['TMA'] = df_norm.loc[df_p.index,['TMA']]\n",
    "    fig,ax=plt.subplots(figsize=(2.5,3.8),dpi=200)\n",
    "    df_wide = df_p.dropna().groupby(['leiden','TMA']).count().CD31.unstack().loc[categories_order[::-1]]\n",
    "    df_wide_s = df_wide/df_p.groupby('TMA').count().CD31\n",
    "    df_wide_s.plot(kind='barh',ax=ax,width=.8,title='Fraction of TMA')\n",
    "    ax.legend(bbox_to_anchor=(1,.9))\n",
    "    plt.tight_layout()\n",
    "    #fig.savefig(f'./{s_date}/barplot3_{n_neighbors}neighbors_{len(marker_genes)}markers_leiden{resolution}.png')\n",
    "'''"
   ]
  },
  {
   "cell_type": "code",
   "execution_count": null,
   "id": "a5ebdb6e",
   "metadata": {},
   "outputs": [],
   "source": [
    "#df_exclude\n",
    "'''\n",
    "if results_file == '20220110_BaselTMA_30neighbors_18markers_TripleNeg_leiden0.5.h5ad':\n",
    "    print('excluding')\n",
    "    df_exclude = df_p[((df_p.leiden=='13') & (df_p.core.isin(['168_X10Y5','137_X9Y3','64_X13Y4'])))] # necrotic | (df_p.leiden=='24')\n",
    "    df_exclude.to_csv('exclude_necrotic_BaselTMA_TripleNeg.csv')'''"
   ]
  },
  {
   "cell_type": "code",
   "execution_count": null,
   "id": "72a373ec",
   "metadata": {
    "scrolled": true
   },
   "outputs": [],
   "source": [
    "#s_scene = '107_X4Y7'\n",
    "\n",
    "#adata.obs['test'] = (adata.obs.slide_scene.str.contains(s_scene)).replace({True:1,False:0})\n",
    "#sc.pl.umap(adata, color='test',title=s_scene)\n",
    "'''#  \n",
    "ls_merge= tum_clust # str_clust + endo_clust + imm_clust #\n",
    "ls_merge=['5']\n",
    "adata.obs['test'] = (adata.obs.leiden.isin(ls_merge)).replace({True:1,False:0})\n",
    "sc.pl.umap(adata, color='test',title='merged')#'''"
   ]
  },
  {
   "cell_type": "code",
   "execution_count": null,
   "id": "99b3222a",
   "metadata": {
    "scrolled": true
   },
   "outputs": [],
   "source": [
    "#one by one\n",
    "'''# \n",
    "for s_clust in str_clust:\n",
    "    ls_merge = [s_clust]\n",
    "    adata.obs['test'] = (adata.obs.leiden.isin(ls_merge)).replace({True:1,False:0})\n",
    "    sc.pl.umap(adata, color='test',title=s_clust)#'merged')#'''"
   ]
  },
  {
   "cell_type": "code",
   "execution_count": null,
   "id": "83e6184c",
   "metadata": {
    "scrolled": true
   },
   "outputs": [],
   "source": [
    "#threshold on umap\n",
    "'''# \n",
    "#df_p.loc[((df_p.Vim>1) | (df_p.FN>1)),'celltype'] = 'str.'\n",
    "#df_p.loc[df_p.CD31>2,'celltype'] = 'str.'\n",
    "#df_p.loc[df_p.Ecad > .4,'celltype'] = 'epithelial'\n",
    "#df_p.loc[df_p.CD45>1.2,'celltype'] = 'imm.'\n",
    "adata.obs['test'] = pd.Series(adata.obs.index.isin(df_p[df_p.CD31>2].index)).replace({True:1,False:0}).values\n",
    "sc.pl.umap(adata, color='test',title='CD31')\n",
    "adata.obs['test'] = pd.Series(adata.obs.index.isin(df_p[df_p.CD45>1.2].index)).replace({True:1,False:0}).values\n",
    "sc.pl.umap(adata, color='test',title='CD45')\n",
    "adata.obs['test'] = pd.Series(adata.obs.index.isin(df_p[df_p.Ecad>.4].index)).replace({True:1,False:0}).values\n",
    "sc.pl.umap(adata, color='test',title='Ecad')\n",
    "#adata.obs['test'] = pd.Series(adata.obs.index.isin(df_p[df_p.panCK>1].index)).replace({True:1,False:0}).values\n",
    "#sc.pl.umap(adata, color='test',title='merged')\n",
    "adata.obs['test'] = pd.Series(adata.obs.index.isin(df_p[(df_p.Vim>1)].index)).replace({True:1,False:0}).values\n",
    "sc.pl.umap(adata, color='test',title='Vim')\n",
    "adata.obs['test'] = pd.Series(adata.obs.index.isin(df_p[(df_p.FN>1)].index)).replace({True:1,False:0}).values\n",
    "sc.pl.umap(adata, color='test',title='FN')#'''"
   ]
  },
  {
   "cell_type": "code",
   "execution_count": null,
   "id": "372bcdf5",
   "metadata": {},
   "outputs": [],
   "source": [
    "#artifacts\n",
    "results_file\n",
    "#df_p[df_p.leiden.isin(['19'])].to_csv('exclude_20211221_BaselTMA_31neighbors_29markers_TripleNeg_leiden0.4.csv') #'18',\n",
    "#df_p[df_p.leiden.isin(['18','19','20','21'])].to_csv('exclude_20211221_BaselTMA_31neighbors_29markers_HR+HER2-_leiden0.4.csv') #16, 17 not"
   ]
  },
  {
   "cell_type": "code",
   "execution_count": null,
   "id": "bedac48e",
   "metadata": {
    "scrolled": true
   },
   "outputs": [],
   "source": [
    "%matplotlib inline\n",
    "df_p.loc[df_p.leiden.isin(tum_clust),'leidencelltype3'] = 'epithelial'\n",
    "df_p.loc[df_p.leiden.isin(str_clust),'leidencelltype3'] = 'stromal'\n",
    "df_p.loc[df_p.leiden.isin(fb_clust),'leidencelltype3'] = 'stromal'\n",
    "df_p.loc[df_p.leiden.isin(endo_clust),'leidencelltype3'] = 'stromal'\n",
    "df_p.loc[df_p.leiden.isin(imm_clust),'leidencelltype3'] = 'immune'\n",
    "adata.obs['leidencelltype3'] = df_p.leidencelltype3\n",
    "#fig,ax = plt.subplots(figsize=(3,2),dpi=200)\n",
    "#figname=f'leiden_{n_neighbors}_{n_markers}_{resolution}_{s_type}_leidencelltype3.png'\n",
    "#sc.pl.umap(adata, color='leidencelltype3',ax=ax,save=figname,title=figname.split('.png')[0].replace('_',' '),legend_loc='on data')"
   ]
  },
  {
   "cell_type": "code",
   "execution_count": null,
   "id": "801222e1",
   "metadata": {
    "scrolled": true
   },
   "outputs": [],
   "source": [
    "df_p.loc[df_p.leiden.isin(tum_clust),'leidencelltype4'] = 'epithelial'\n",
    "df_p.loc[df_p.leiden.isin(str_clust),'leidencelltype4'] = 'stromal'\n",
    "df_p.loc[df_p.leiden.isin(fb_clust),'leidencelltype4'] = 'stromal'\n",
    "df_p.loc[df_p.leiden.isin(endo_clust),'leidencelltype4'] = 'endothelial'\n",
    "df_p.loc[df_p.leiden.isin(imm_clust),'leidencelltype4'] = 'immune'\n",
    "adata.obs['leidencelltype4'] = df_p.leidencelltype4\n",
    "#fig,ax = plt.subplots(figsize=(3,2),dpi=200)\n",
    "#figname=f'leiden_{n_neighbors}_{n_markers}_{resolution}_{s_type}_leidencelltype4.png'\n",
    "#sc.pl.umap(adata, color='leidencelltype4',ax=ax,save=figname,title=figname.split('.png')[0].replace('_',' '),legend_loc='on data')"
   ]
  },
  {
   "cell_type": "code",
   "execution_count": null,
   "id": "c205619d",
   "metadata": {
    "scrolled": true
   },
   "outputs": [],
   "source": [
    "#manual gating\n",
    "df_p['gatedcelltype3'] = np.nan\n",
    "df_p.loc[((df_p.Vim>1) | (df_p.FN>1)),'gatedcelltype3'] = 'stromal'\n",
    "df_p.loc[df_p.CD31>2,'gatedcelltype3'] = 'stromal'\n",
    "df_p.loc[df_p.Ecad > .4,'gatedcelltype3'] = 'epithelial'\n",
    "df_p.loc[df_p.CD45>1.2,'gatedcelltype3'] = 'immune'\n",
    "df_p.gatedcelltype3 = df_p.gatedcelltype3.fillna('stromal')\n",
    "adata.obs['gatedcelltype3'] = df_p.gatedcelltype3\n",
    "#fig,ax = plt.subplots(figsize=(3,2),dpi=200)\n",
    "#figname=f'leiden_{n_neighbors}_{n_markers}_{resolution}_{s_type}_gatingcelltype3.png'\n",
    "#sc.pl.umap(adata, color='gatedcelltype3',ax=ax,save=figname,title=figname.split('.png')[0].replace('_',' '),legend_loc='on data')"
   ]
  },
  {
   "cell_type": "code",
   "execution_count": null,
   "id": "62e24fbc",
   "metadata": {
    "scrolled": true
   },
   "outputs": [],
   "source": [
    "#manual gating\n",
    "df_p['gatedcelltype5'] = np.nan\n",
    "df_p.loc[((df_p.Vim>1) | (df_p.FN>1)),'gatedcelltype5'] = 'fibroblast'\n",
    "df_p.loc[df_p.CD31>2,'gatedcelltype5'] = 'endothelial'\n",
    "df_p.loc[df_p.Ecad > .4,'gatedcelltype5'] = 'epithelial'\n",
    "df_p.loc[df_p.CD45>1.2,'gatedcelltype5'] = 'immune'\n",
    "df_p.gatedcelltype5 = df_p.gatedcelltype5.fillna('stromal')\n",
    "adata.obs['gatedcelltype5'] = df_p.gatedcelltype5\n",
    "fig,ax = plt.subplots(figsize=(3,2),dpi=200)\n",
    "figname=f'leiden_{n_neighbors}_{n_markers}_{resolution}_{s_type}_gatingcelltype5.png'\n",
    "sc.pl.umap(adata, color='gatedcelltype5',ax=ax,save=figname,title=figname.split('.png')[0].replace('_',' '))"
   ]
  },
  {
   "cell_type": "code",
   "execution_count": null,
   "id": "1fadd01a",
   "metadata": {
    "scrolled": true
   },
   "outputs": [],
   "source": [
    "# leide\n",
    "df_p.loc[df_p.leiden.isin(tum_clust),'leidencelltype5'] = 'epithelial'\n",
    "df_p.loc[df_p.leiden.isin(str_clust),'leidencelltype5'] = 'stromal'\n",
    "df_p.loc[df_p.leiden.isin(fb_clust),'leidencelltype5'] = 'fibroblast'\n",
    "df_p.loc[df_p.leiden.isin(endo_clust),'leidencelltype5'] = 'endothelial'\n",
    "df_p.loc[df_p.leiden.isin(imm_clust),'leidencelltype5'] = 'immune'\n",
    "adata.obs['leidencelltype5'] = df_p.leidencelltype5\n",
    "fig,ax = plt.subplots(figsize=(3,2),dpi=200)\n",
    "figname=f'leiden_{n_neighbors}_{n_markers}_{resolution}_{s_type}_leidencelltype5.png'\n",
    "sc.pl.umap(adata, color='leidencelltype5',ax=ax,save=figname,title=figname.split('.png')[0].replace('_',' '))"
   ]
  },
  {
   "cell_type": "code",
   "execution_count": null,
   "id": "fab0f95e",
   "metadata": {},
   "outputs": [],
   "source": [
    "df_p.groupby('gatedcelltype5').count().CD31/len(df_p)"
   ]
  },
  {
   "cell_type": "code",
   "execution_count": null,
   "id": "34e88640",
   "metadata": {},
   "outputs": [],
   "source": [
    "df_p.groupby('leidencelltype5').count().CD31/len(df_p)"
   ]
  },
  {
   "cell_type": "code",
   "execution_count": null,
   "id": "42e76594",
   "metadata": {},
   "outputs": [],
   "source": [
    "df_p = df_p.merge(df_norm.loc[:,['DAPI_X','DAPI_Y','slide_scene']],left_index=True,right_index=True,suffixes=('c',''))\n",
    "from mplex_image import analyze\n",
    "df_p['slide'] = df_p.slide_scene\n",
    "df_pos = analyze.celltype_to_bool(df_p.fillna('stromal'),'leidencelltype5')\n",
    "df_pos.columns = [str(item) for item in df_pos.columns]"
   ]
  },
  {
   "cell_type": "code",
   "execution_count": null,
   "id": "aa549ba8",
   "metadata": {
    "scrolled": true
   },
   "outputs": [],
   "source": [
    "#df_p.groupby(['slide_scene']).leidencelltype5.value_counts().unstack().sort_values(by=['immune','epithelial']).dropna()[-40:-20]"
   ]
  },
  {
   "cell_type": "code",
   "execution_count": null,
   "id": "ee61cb34",
   "metadata": {
    "scrolled": true
   },
   "outputs": [],
   "source": [
    "#plot all groups spatially  - manual\n",
    "\n",
    "for s_slide in sorted(set(df_p.slide)):\n",
    "    s_slide = '100_X15Y5-252'\n",
    "    fig,ax = plt.subplots(figsize=(5,3.5),dpi=200)\n",
    "    #plot negative cells\n",
    "    df_scene =df_p[(df_p.slide==s_slide)]\n",
    "    ax.scatter(data=df_scene,x='DAPI_X',y='DAPI_Y',color='silver',s=0.1,label=f'')\n",
    "    #for idxs, s_color_int in enumerate(range(len(df_pos.columns))):\n",
    "    for idxs, s_color in enumerate(df_pos.columns):\n",
    "        #print(s_color)\n",
    "        #s_color = str(s_color_int)\n",
    "        if len(df_p[(df_p.slide==s_slide) & (df_pos.loc[:,s_color])])>=1:\n",
    "            #plot positive cells\n",
    "            ax.scatter(data=df_p[(df_p.slide==s_slide) & (df_pos.loc[:,s_color])],x='DAPI_X',y='DAPI_Y',\n",
    "                                                                        label=f'{s_color}',s=0.5,color=mpl.cm.tab10.colors[idxs])\n",
    "        #break\n",
    "    ax.set_title(f\"{s_slide}\", fontsize=16)\n",
    "    ax.axis('equal')\n",
    "    ax.set_ylim(ax.get_ylim()[::-1])\n",
    "    ax.get_xaxis().set_visible(False)\n",
    "    ax.get_yaxis().set_visible(False)\n",
    "    for spines in ['left','right','top','bottom']:\n",
    "        ax.spines[spines].set_visible(False)\n",
    "\n",
    "    #break\n",
    "    plt.legend(markerscale=10,framealpha=.1,bbox_to_anchor=(.85,.5)) \n",
    "    fig.savefig(f'{codedir}/figures/{s_slide}_gated_cells_scatterplot.png')\n",
    "    break"
   ]
  },
  {
   "cell_type": "code",
   "execution_count": null,
   "id": "39da8611",
   "metadata": {
    "scrolled": true
   },
   "outputs": [],
   "source": [
    "#manual gating (4 cell types)\n",
    "df_p['celltype'] = np.nan\n",
    "df_p.loc[((df_p.Vim>1) | (df_p.FN>1)),'celltype'] = 'stromal'\n",
    "df_p.loc[df_p.CD31>2,'celltype'] = 'endothelial'\n",
    "df_p.loc[df_p.Ecad > .4,'celltype'] = 'epithelial'\n",
    "df_p.loc[df_p.CD45>1.2,'celltype'] = 'immune'\n",
    "df_p.celltype = df_p.celltype.fillna('stromal')\n",
    "#adata.obs['celltype'] = df_p.celltype\n",
    "#fig,ax = plt.subplots(figsize=(3,2),dpi=200)\n",
    "#figname=f'leiden_{n_neighbors}_{n_markers}_{resolution}_{s_type}_gatingcelltype.png'\n",
    "#sc.pl.umap(adata, color='celltype',ax=ax,save=figname,title=figname.split('.png')[0].replace('_',' '),legend_loc='on data')"
   ]
  },
  {
   "cell_type": "code",
   "execution_count": null,
   "id": "0ab68f88",
   "metadata": {},
   "outputs": [],
   "source": [
    "#df_norm.loc[:,['DAPI_Y', 'DAPI_X','slide_scene','core', 'subtype', 'Patient']]\n"
   ]
  },
  {
   "cell_type": "code",
   "execution_count": null,
   "id": "2ee276c7",
   "metadata": {
    "scrolled": true
   },
   "outputs": [],
   "source": [
    "import sklearn\n",
    "labels = sorted(df_p.leidencelltype5.fillna('stromal').unique())\n",
    "confusion_matrix = sklearn.metrics.confusion_matrix(df_p.gatedcelltype5,df_p.leidencelltype5.fillna('stromal'),labels=labels)\n",
    "#accuracy\n",
    "i_acc = sklearn.metrics.accuracy_score(df_p.gatedcelltype5,df_p.leidencelltype5.fillna('stromal'))\n",
    "disp = sklearn.metrics.ConfusionMatrixDisplay(confusion_matrix,display_labels=labels)\n",
    "fig, ax = plt.subplots(figsize = (5,5))\n",
    "disp.plot(xticks_rotation='vertical',ax=ax) \n",
    "ax.set_ylabel('Gating Celltype')\n",
    "ax.set_xlabel(' Clustering Celltype')\n",
    "ax.set_title(f'Gating vs Clustering \\n accuracy = {i_acc:.2}')\n",
    "plt.tight_layout()\n",
    "fig.savefig(f'{codedir}/{s_date}/Confusion_matrix_leiden{resolution}_5cells.png',dpi=300)\n",
    "#4\n"
   ]
  },
  {
   "cell_type": "code",
   "execution_count": null,
   "id": "2844ab5f",
   "metadata": {},
   "outputs": [],
   "source": [
    "s_sample = '20220201_IMC-TMAs_qc_s_g'"
   ]
  },
  {
   "cell_type": "code",
   "execution_count": null,
   "id": "2af576dd",
   "metadata": {
    "scrolled": true
   },
   "outputs": [],
   "source": [
    "#save\n",
    "s_out = f'{s_sample}_LeidenClusteringGating_neighbors{n_neighbors}_resolution{resolution}_markers{n_markers}_{s_type}.csv'\n",
    "df_out = df_p.merge(df_norm.loc[:,['subtype','core', 'Patient']],left_index=True,right_index=True,suffixes=['c','']) #'DAPI_Y', 'DAPI_X','slide_scene',\n",
    "if not os.path.exists(s_out):\n",
    "    print('saving csv')\n",
    "    df_out.to_csv(s_out)"
   ]
  },
  {
   "cell_type": "code",
   "execution_count": null,
   "id": "3a73b19a",
   "metadata": {},
   "outputs": [],
   "source": [
    "s_out"
   ]
  },
  {
   "cell_type": "markdown",
   "id": "1bd0a942",
   "metadata": {},
   "source": [
    "## Summarize Tissue Variables <a name=\"tissue\"></a>\n",
    "\n",
    "per patient means\n",
    "\n",
    "make sure to only use cells included in leiden clustering\n",
    "\n",
    "\n",
    "look at colocalization in leiden clusters\n",
    "\n",
    "[contents](#contents)"
   ]
  },
  {
   "cell_type": "code",
   "execution_count": null,
   "id": "b4f110de",
   "metadata": {},
   "outputs": [],
   "source": [
    "s_sample"
   ]
  },
  {
   "cell_type": "code",
   "execution_count": null,
   "id": "090364f1",
   "metadata": {},
   "outputs": [],
   "source": [
    "#20220114_BaselTMAan_LeidenClusteringGating_neighbors30_resolution0.6_markers21_GatedCellTypes.csv"
   ]
  },
  {
   "cell_type": "code",
   "execution_count": null,
   "id": "b20460be",
   "metadata": {},
   "outputs": [],
   "source": [
    "#leiden cell types (fraction)\n",
    "n_neighbors= 30\n",
    "resolution= 0.8 #0.6 #0.5 \n",
    "n_markers= 21#18 #29\n",
    "s_type='2sub'# 'TripleNeg'\n",
    "s_sample = '20220201_ZTMA_s'#'20220114_BaselTMA_s' #'20220110_BaselTMA' #'20211221_BaselTMA'\n",
    "s_subtype = s_type\n",
    "\n",
    "df_lei = pd.read_csv(f'{codedir}/data/{s_sample}_LeidenClusteringGating_neighbors{n_neighbors}_resolution{resolution}_markers{n_markers}_{s_type}.csv',index_col=0)\n",
    "df_lei.rename({'celltype3':'leidencelltype3'},axis=1,inplace=True)\n",
    "df_lei['leidencelltype2'] = df_lei.leidencelltype3.replace({'tumor':'epithelial','endothelial':'stromal','immune':'stromal','str.':'stromal','imm.':'stromal'})\n",
    "#df_lei['gated_celltype3'] = df_lei.celltype3.replace({'tumor':'epithelial','endothelial':'stromal','fibroblast':'stromal','str.':'stromal','imm.':'immune'})\n",
    "df_lei['celltype1'] = 'all'\n",
    "df_lei['countme'] = True\n",
    "df_lei.leiden = df_lei.leiden.astype('str')"
   ]
  },
  {
   "cell_type": "code",
   "execution_count": null,
   "id": "18308a5e",
   "metadata": {},
   "outputs": [],
   "source": [
    "df_a[df_a.core.str.contains('_' + s_core.split('-')[0])]"
   ]
  },
  {
   "cell_type": "code",
   "execution_count": null,
   "id": "3eba5720",
   "metadata": {},
   "outputs": [],
   "source": [
    "df_a.core"
   ]
  },
  {
   "cell_type": "code",
   "execution_count": null,
   "id": "7a5dc6df",
   "metadata": {},
   "outputs": [],
   "source": [
    "for s_core in df_lei.core.unique():\n",
    "    df_a[df_a.core.str.contains('_' + s_core.split('-')[0])]\n",
    "    s_core_name = df_a[df_a.core.str.contains(s_core)].core.values[0]\n",
    "    df_lei.loc[df_lei.core==s_core,'core'] = s_core_name\n",
    "#drop \n",
    "df_lei['type'] = df_lei.core.map(dict(zip(df_a.core,df_a.diseasestatus)))\n",
    "df_lei = df_lei[df_lei.type=='tumor']\n",
    "df_lei['Patient'] = df_lei.core.map(dict(zip(df_a.core,df_a.PID)))\n",
    "an_array = df_lei.Patient.unique()\n",
    "'''\n",
    "number_of_rows = an_array.shape[0]\n",
    "random_indices = np.random.choice(number_of_rows, size=int(number_of_rows/2), replace=False)\n",
    "random_rows = an_array[random_indices]\n",
    "'''\n",
    "if s_type == 'TripleNeg':\n",
    "    random_rows = [191,  23, 179,  64,  52,  81, 229,  33, 110,  61, 115,  59, 168,\n",
    "             8, 116,  36, 189, 172, 241, 214,  15, 187, 114, 145]\n",
    "    random_rows = df_lei.Patient.unique().tolist()\n",
    "else:\n",
    "    random_rows = df_lei.Patient.unique().tolist()\n",
    "random_validation = set(an_array) - set(random_rows)"
   ]
  },
  {
   "cell_type": "code",
   "execution_count": null,
   "id": "304a4dec",
   "metadata": {},
   "outputs": [],
   "source": [
    "s_sample = '20220201_ZTMA' #= '20220114_BaselTMA'"
   ]
  },
  {
   "cell_type": "code",
   "execution_count": null,
   "id": "d679bcc8",
   "metadata": {},
   "outputs": [],
   "source": [
    "#gated celltypes (fraction)\n",
    "\n",
    "#s_sample = s_sample.replace('_s','')# = '20220114_BaselTMA'\n",
    "s_grouper='Patient'\n",
    "ls_cell = ['leidencelltype3','leidencelltype4','gatedcelltype3','gatedcelltype5','celltype']#,'celltype'\n",
    "df_test = df_lei.loc[df_lei.Patient.isin(random_rows)]\n",
    "for s_cell in ls_cell:\n",
    "    df_prop = viz.prop_positive(df_test,s_cell=s_cell,s_grouper=s_grouper)\n",
    "    s_out = f'results_{s_sample}_GatedCellTypes_by{s_grouper}_by{s_cell}_{s_subtype}.csv'\n",
    "    print(s_out)\n",
    "    df_prop.to_csv(f'{codedir}/{s_out}')\n",
    "    #break"
   ]
  },
  {
   "cell_type": "code",
   "execution_count": null,
   "id": "c3d18deb",
   "metadata": {},
   "outputs": [],
   "source": [
    "#leiden\n",
    "\n",
    "df_test = df_lei.loc[df_lei.Patient.isin(random_rows)]\n",
    "for s_celltype in ['leidencelltype2','celltype1']: #'celltype3','celltype',\n",
    "    for s_cell in df_test.loc[:,s_celltype].unique():\n",
    "        df_cell = df_test.loc[df_test.loc[:,s_celltype]==s_cell]\n",
    "        df_prop = viz.prop_positive(df_cell,s_cell='leiden',s_grouper='Patient')\n",
    "        s_out = f'results_{s_sample}_LeidenClustering_{n_neighbors}_{n_markers}_{resolution}_byPatient_by{s_celltype}_in{s_cell}_{s_type}.csv'\n",
    "        df_prop.fillna(0).to_csv(f'{codedir}/{s_out}')\n",
    "        print(s_out)\n"
   ]
  },
  {
   "cell_type": "markdown",
   "id": "24246177",
   "metadata": {},
   "source": [
    "## survival analysis <a name=\"surv\"></a>\n",
    "\n",
    "\n",
    "- single variable\n",
    "\n",
    "- subtypes\n",
    "\n",
    "[contents](#contents)\n"
   ]
  },
  {
   "cell_type": "code",
   "execution_count": null,
   "id": "c1c3da72",
   "metadata": {},
   "outputs": [],
   "source": [
    "import lifelines\n",
    "from lifelines import KaplanMeierFitter\n",
    "from lifelines.statistics import multivariate_logrank_test\n",
    "from lifelines import CoxPHFitter\n",
    "import warnings\n",
    "\n",
    "df_a = pd.read_csv(f'{codedir}/BaselTMA/Basel_PatientMetadata.csv')\n",
    "#os.mkdir('Survival_Plots')"
   ]
  },
  {
   "cell_type": "code",
   "execution_count": null,
   "id": "540e9b0b",
   "metadata": {},
   "outputs": [],
   "source": [
    "#example file names 'results_20211207_JP-TMA1_BGSubtractedMeanIntensity_byPatient_bycelltype3_inimmune_TNBC.csv',\n",
    "#'results_20211207_JP-TMA1_GatedCellTypes_M1M2_byPatient_bycelltype_TNBC.csv',\n",
    "#'results_20211207_JP-TMA1_LeidenClustering_30_33_0.4_byPatient_bycelltype1_inall_ER+.csv']\n",
    "\n",
    "#preprocess.dchange_fname({'_byTumorDiffPlus_M2':'_byTumorDiffPlusM2'},b_test=False)\n",
    "#preprocess.dchange_fname({'_byTumorDiffPlus_M1':'_byTumorDiffPlusM1'},b_test=False)\n",
    "   \n",
    "s_sample = '20220114_BaselTMA'#'20220110_BaselTMA' #'20211221_BaselTMA'\n",
    "\n",
    "df_file = pd.DataFrame()\n",
    "for s_file in os.listdir(f'{codedir}'):\n",
    "    if s_file.find(f'results_{s_sample}_BGSubtractedMeanIntensity_byPatient') > -1:\n",
    "        #df = pd.read_csv(s_file)\n",
    "        s_type = 'BGSubtractedMeanIntensity'\n",
    "        s_subtype = s_file.split('.csv')[0].split('_')[-1]\n",
    "        s_partition = s_file.split('.csv')[0].split('_')[-3].split('by')[1]\n",
    "        s_cell = s_file.split('.csv')[0].split('_')[-2].split('in')[1]       \n",
    "    elif s_file.find(f'results_{s_sample}_GatedCellTypes_Leiden_byPatient') > -1:\n",
    "        #df = pd.read_csv(s_file)\n",
    "        s_type = 'GatedCellTypes_M1M2'\n",
    "        s_subtype = s_file.split('.csv')[0].split('_')[-1]\n",
    "        s_partition = 'gating'\n",
    "        s_cell = s_file.split('.csv')[0].split('_')[-2].split('by')[1]\n",
    "    elif s_file.find(f'results_{s_sample}_GatedCellTypes_byPatient') > -1:\n",
    "        s_type = 'GatedCellTypes'\n",
    "        s_subtype = s_file.split('.csv')[0].split('_')[-1]\n",
    "        s_partition = 'gating'\n",
    "        s_cell = s_file.split('.csv')[0].split('_')[-2].split('by')[1]\n",
    "    elif s_file.find(f'results_{s_sample}_LeidenClustering_') > -1:\n",
    "        #df = pd.read_csv(s_file)\n",
    "        s_type = 'LeidenClustering'\n",
    "        s_subtype = s_file.split('.csv')[0].split('_')[-1]\n",
    "        s_partition = s_file.split('.csv')[0].split('_')[-3].split('by')[1]\n",
    "        s_cell = s_file.split('.csv')[0].split('_')[-2].split('in')[1]   \n",
    "    else:\n",
    "        continue\n",
    "    df_file.loc[s_file,'subtype'] = s_subtype\n",
    "    df_file.loc[s_file,'type'] = s_type\n",
    "    df_file.loc[s_file,'partition'] = s_partition\n",
    "    df_file.loc[s_file,'cell'] = s_cell\n",
    "    #break"
   ]
  },
  {
   "cell_type": "code",
   "execution_count": null,
   "id": "846e614f",
   "metadata": {},
   "outputs": [],
   "source": [
    "os.chdir(codedir)\n",
    "df_file"
   ]
  },
  {
   "cell_type": "code",
   "execution_count": null,
   "id": "2a465cd0",
   "metadata": {
    "scrolled": true
   },
   "outputs": [],
   "source": [
    "#leiden clusters vs survival 30 ER+, 18 TNBC\n",
    "#for s_index in df_file[df_file.subtype=='GatedCellTypes'].index: #'2sub'\n",
    "for s_index in df_file.index:\n",
    "    #s_index = 'results_20220114_BaselTMA_GatedCellTypes_byPatient_bycelltype_2sub.csv'\n",
    "    print(s_index)\n",
    "    df_all=pd.read_csv(s_index,index_col=0)\n",
    "    df_all = df_all.loc[:,df_all.dtypes=='float64'].fillna(0)\n",
    "    df_all['subtype'] = df_all.index.map(dict(zip(df_a.PID,df_a.clinical_type)))\n",
    "    df_all['subtype'] =df_all.subtype.replace({'HR+HER2-':'ER+', 'TripleNeg':'TNBC'})\n",
    "    s_type = df_file.loc[s_index,'type'] \n",
    "    s_partition = df_file.loc[s_index,'partition'] \n",
    "    s_cell =df_file.loc[s_index,'cell'] \n",
    "    df_all.loc[:,'durations'] = df_all.index.map(dict(zip(df_a.PID,df_a.OSmonth)))\n",
    "    df_all.loc[:,'event_observed'] = df_all.index.map(dict(zip(df_a.PID,df_a.Patientstatus.str.contains('death'))))\n",
    "    df_all.loc[:,'event_observed'] = df_all.event_observed.replace({True:1,False:0})\n",
    "    for s_subtype in ['TNBC','ER+']:\n",
    "        df = df_all[df_all.subtype==s_subtype]\n",
    "        df = df.dropna()\n",
    "        for s_col in df.columns.drop(['durations','event_observed','subtype']):\n",
    "            b_low = df.loc[:,s_col] <= df.loc[:,s_col].median()\n",
    "            if df.loc[:,s_col].median() == 0:\n",
    "                continue\n",
    "            df.loc[b_low,'abundance'] = 'low'\n",
    "            df.loc[~b_low,'abundance'] = 'high'\n",
    "            kmf = KaplanMeierFitter()\n",
    "            results = multivariate_logrank_test(event_durations=df.durations, groups=df.abundance, event_observed=df.event_observed)\n",
    "            if results.summary.p[0] < 0.05:\n",
    "                print(s_col)\n",
    "                fig, ax = plt.subplots(figsize=(3,3),dpi=300)\n",
    "                for s_group in ['high','low']:\n",
    "                    df_abun = df[df.abundance==s_group]\n",
    "                    durations = df_abun.durations\n",
    "                    event_observed = df_abun.event_observed\n",
    "                    kmf.fit(durations, event_observed,label=s_group)\n",
    "                    kmf.plot(ax=ax,ci_show=False)\n",
    "                s_title1 = f'{s_subtype} {s_type} {s_partition}'\n",
    "                s_title2 = f'{s_cell} {s_col}'\n",
    "                ax.set_title(f'{s_title1}\\n{s_title2}\\np={results.summary.p[0]:.2}',fontsize=10)\n",
    "                ax.legend(loc='upper right')\n",
    "                plt.tight_layout()\n",
    "                fig.savefig(f\"./data/Survival_Plots/KM_{s_title1.replace(' ','_')}_{s_title2.replace(' ','_')}.png\",dpi=300)\n",
    "            cph = CoxPHFitter(penalizer=0.1)\n",
    "            with warnings.catch_warnings():\n",
    "                warnings.simplefilter('ignore')\n",
    "                try:\n",
    "                    cph.fit(df.loc[:,[s_col,'durations','event_observed']], duration_col='durations', event_col='event_observed')\n",
    "                    if cph.summary.p[0] < 0.05:\n",
    "                        fig, ax = plt.subplots(figsize=(2.5,2),dpi=300)\n",
    "                        cph.plot(ax=ax)\n",
    "                        s_title1 = f'{s_subtype} {s_type} {s_partition}'\n",
    "                        s_title2 = f'{s_cell} {s_col}'\n",
    "                        ax.set_title(f'{s_title1}\\n{s_title2}\\np={cph.summary.p[0]:.2}',fontsize=10)\n",
    "                        plt.tight_layout()\n",
    "                        fig.savefig(f\"./data/Survival_Plots/CPH_{s_title1.replace(' ','_')}_{s_title2.replace(' ','_')}.png\",dpi=300)\n",
    "                except:\n",
    "                    print(f'skipped {s_col}')        \n",
    "\n",
    "    break"
   ]
  },
  {
   "cell_type": "code",
   "execution_count": null,
   "id": "02171ec3",
   "metadata": {},
   "outputs": [],
   "source": [
    "sns.scatterplot(data=df_all[df_all.subtype=='TNBC'],x='9',y='6',hue='durations',s=20)"
   ]
  },
  {
   "cell_type": "code",
   "execution_count": null,
   "id": "f647bc89",
   "metadata": {},
   "outputs": [],
   "source": [
    "sns.scatterplot(data=df_all[df_all.subtype=='ER+'],x='2',y='5',hue='durations',s=20)"
   ]
  },
  {
   "cell_type": "code",
   "execution_count": null,
   "id": "0d506a40",
   "metadata": {
    "scrolled": true
   },
   "outputs": [],
   "source": [
    "#old\n",
    "for s_index in df_file.index:\n",
    "    s_index = 'results_20220110_BaselTMA_GatedCellTypes_Leiden_byPatient_bycelltype3_TripleNeg.csv'\n",
    "    s_index = 'results_20220110_BaselTMA_GatedCellTypes_Leiden_byPatient_bycelltype_TripleNeg.csv'\n",
    "    #s_index = 'results_20220110_BaselTMA_GatedCellTypes_Leiden_byPatient_bygatedcelltype3_TripleNeg.csv'\n",
    "    df=pd.read_csv(f'{codedir}/{s_index}',index_col=0)\n",
    "    df = df.loc[:,df.dtypes=='float64'].fillna(0)\n",
    "    #s_subtype = df_file.loc[s_index,'subtype'] \n",
    "    #s_type = df_file.loc[s_index,'type'] \n",
    "    #s_partition = df_file.loc[s_index,'partition'] \n",
    "    #s_cell =df_file.loc[s_index,'cell'] \n",
    "    s_type = s_index.split('.csv')[0].split('_')[-5]\n",
    "    s_subtype = s_index.split('.csv')[0].split('_')[-1]\n",
    "    s_partition = 'gating'\n",
    "    s_cell = s_index.split('.csv')[0].split('_')[-2].split('by')[1]\n",
    "    df.loc[:,'durations'] = df.index.map(dict(zip(df_a.PID,df_a.OSmonth)))\n",
    "    df.loc[:,'event_observed'] = df.index.map(dict(zip(df_a.PID,df_a.Patientstatus.str.contains('death'))))\n",
    "    df.loc[:,'event_observed'] = df.event_observed.replace({True:1,False:0})\n",
    "    for s_col in df.columns.drop(['durations','event_observed']):\n",
    "        #print(s_col)\n",
    "        b_low = df.loc[:,s_col] <= df.loc[:,s_col].median()\n",
    "        if df.loc[:,s_col].median() == 0:\n",
    "            continue\n",
    "        df.loc[b_low,'abundance'] = 'low'\n",
    "        df.loc[~b_low,'abundance'] = 'high'\n",
    "        kmf = KaplanMeierFitter()\n",
    "        results = multivariate_logrank_test(event_durations=df.durations, groups=df.abundance, event_observed=df.event_observed)\n",
    "        #break\n",
    "        if results.summary.p[0] < 0.05:\n",
    "            print(s_col)\n",
    "            fig, ax = plt.subplots(figsize=(3,3),dpi=300)\n",
    "            for s_group in ['high','low']:\n",
    "                df_abun = df[df.abundance==s_group]\n",
    "                durations = df_abun.durations\n",
    "                event_observed = df_abun.event_observed\n",
    "                kmf.fit(durations, event_observed,label=s_group)\n",
    "                kmf.plot(ax=ax,ci_show=False)\n",
    "            s_title1 = f'{s_subtype} {s_type} {s_partition}'\n",
    "            s_title2 = f'{s_cell} {s_col}'\n",
    "            ax.set_title(f'{s_title1}\\n{s_title2}\\np={results.summary.p[0]:.2}',fontsize=10)\n",
    "            ax.legend(loc='upper right')\n",
    "            plt.tight_layout()\n",
    "            fig.savefig(f\"{codedir}/data/Survival_Plots/KM_{s_title1.replace(' ','_')}_{s_title2.replace(' ','_')}.png\",dpi=300)\n",
    "        cph = CoxPHFitter(penalizer=0.1)\n",
    "        with warnings.catch_warnings():\n",
    "            warnings.simplefilter('ignore')\n",
    "            try:\n",
    "                cph.fit(df.loc[:,[s_col,'durations','event_observed']], duration_col='durations', event_col='event_observed')\n",
    "                if cph.summary.p[0] < 0.1:\n",
    "                    fig, ax = plt.subplots(figsize=(2.5,2),dpi=300)\n",
    "                    cph.plot(ax=ax)\n",
    "                    s_title1 = f'{s_subtype} {s_type} {s_partition}'\n",
    "                    s_title2 = f'{s_cell} {s_col}'\n",
    "                    ax.set_title(f'{s_title1}\\n{s_title2}\\np={cph.summary.p[0]:.2}',fontsize=10)\n",
    "                    plt.tight_layout()\n",
    "                    fig.savefig(f\"{codedir}/data/Survival_Plots/CPH_{s_title1.replace(' ','_')}_{s_title2.replace(' ','_')}.png\",dpi=300)\n",
    "            except:\n",
    "                print(f'skipped {s_col}')\n",
    "    #break\n"
   ]
  },
  {
   "cell_type": "code",
   "execution_count": null,
   "id": "0a09a542",
   "metadata": {},
   "outputs": [],
   "source": [
    "df_file.index"
   ]
  },
  {
   "cell_type": "markdown",
   "id": "ef7e78c0",
   "metadata": {},
   "source": [
    "## survival analysis <a name=\"subt\"></a>\n",
    "\n",
    "- subtypes all\n",
    "\n",
    "\n",
    "[contents](#contents)"
   ]
  },
  {
   "cell_type": "code",
   "execution_count": null,
   "id": "b1ac31d3",
   "metadata": {},
   "outputs": [],
   "source": [
    "df_file.to_csv(f'{codedir}/IMC_results_files.csv')"
   ]
  },
  {
   "cell_type": "code",
   "execution_count": null,
   "id": "b54ee0d2",
   "metadata": {},
   "outputs": [],
   "source": [
    "ls_subt = [#'results_20211221_BaselTMA_GatedCellTypes_Leiden_byPatient_bycelltype_TripleNeg.csv',\n",
    "    #'results_20211221_BaselTMA_GatedCellTypes_Leiden_byPatient_bycelltype3_TripleNeg.csv',\n",
    "    #'results_20211221_BaselTMA_LeidenClustering_30_29_0.4_byPatient_bycelltype1_inall_TripleNeg.csv',\n",
    "    #   'results_20211221_BaselTMA_LeidenClustering_30_29_0.4_byPatient_bycelltype2_instromal_TripleNeg.csv', #this is significant\n",
    "    #   'results_20211221_BaselTMA_LeidenClustering_30_29_0.4_byPatient_bycelltype2_inepithelial_TripleNeg.csv'\n",
    " #'results_20220110_BaselTMA_GatedCellTypes_Leiden_byPatient_bycelltype3_TripleNeg.csv',\n",
    "    #'results_20220110_BaselTMA_GatedCellTypes_Leiden_byPatient_bycelltype_TripleNeg.csv' #not good\n",
    "    'results_20220110_BaselTMA_GatedCellTypes_Leiden_byPatient_bygatedcelltype3_TripleNeg.csv' #immune 6 neigh, 0.2\n",
    "]\n",
    "\n",
    "ls_subt = [#'results_20220114_BaselTMA_LeidenClustering_30_21_0.6_byPatient_byleidencelltype2_instromal_2sub.csv',\n",
    "       'results_20220114_BaselTMA_GatedCellTypes_byPatient_byleidencelltype3_2sub.csv',\n",
    "       #'results_20220114_BaselTMA_GatedCellTypes_byPatient_bygatedcelltype3_2sub.csv',\n",
    "       #'results_20220114_BaselTMA_LeidenClustering_30_21_0.6_byPatient_bycelltype1_inall_2sub.csv',\n",
    "       #'results_20220114_BaselTMA_GatedCellTypes_byPatient_bycelltype_2sub.csv',\n",
    "       #'results_20220114_BaselTMA_GatedCellTypes_byPatient_bygatedcelltype5_2sub.csv',\n",
    "       #'results_20220114_BaselTMA_LeidenClustering_30_21_0.6_byPatient_byleidencelltype2_inepithelial_2sub.csv'\n",
    "]"
   ]
  },
  {
   "cell_type": "code",
   "execution_count": null,
   "id": "5f5fe7fa",
   "metadata": {},
   "outputs": [],
   "source": [
    "for s_index in ls_subt:\n",
    "    df = pd.read_csv(s_index,index_col=0).fillna(0)\n",
    "    s_subtype = df_file.loc[s_index,'subtype'] \n",
    "    s_type = df_file.loc[s_index,'type'] \n",
    "    s_partition = df_file.loc[s_index,'partition'] \n",
    "    s_cell =df_file.loc[s_index,'cell'] \n",
    "    break"
   ]
  },
  {
   "cell_type": "code",
   "execution_count": null,
   "id": "816fdc9b",
   "metadata": {},
   "outputs": [],
   "source": [
    "if s_type == 'LeidenClustering':\n",
    "    d_celltypes = {'19':'Luminal hi t.',\n",
    "'9': 'Myoepithelial',\n",
    "'9b': 'Basal t.',\n",
    "'15': 'PgR+ t.',\n",
    "'7': 'Luminal ER+ t.',\n",
    "'11': 'Ecad hi t.',\n",
    "'6': 'Luminal t.',\n",
    "'23': 'EGFR hi t.',\n",
    "'10': 'Proliferating t.',\n",
    "'21': 'Vim+ t.',\n",
    "'16': 'CD44+ t.',\n",
    "'2': 'CD3 T cell',\n",
    "'17': 'CD20 B cell',\n",
    "'3': 'FN++ str.',\n",
    "'5': 'Large t.',\n",
    "'0': 'NOS str.',\n",
    "'20': 'Ecad- t.',\n",
    "'8': 'Vim++ str.',\n",
    "'1': 'poorly diff t.',\n",
    "'12': 'CD44+ str.',\n",
    "'4': 'Sm. NOS str.',\n",
    "'14': 'Endothelial',\n",
    "'18': 'Macrophage'}\n",
    "    df = df.rename(d_celltypes,axis=1)"
   ]
  },
  {
   "cell_type": "code",
   "execution_count": null,
   "id": "dd006c52",
   "metadata": {
    "scrolled": true
   },
   "outputs": [],
   "source": [
    "ls_col = df.columns[(~df.columns.str.contains('DAPI')) & (~df.columns.str.contains('R5Q')) & (df.dtypes=='float64')].tolist()\n",
    "ls_col = df.loc[:,ls_col].sum().sort_values(ascending=False)[0:11].index.tolist()\n",
    "ls_col = df.columns\n",
    "#umap\n",
    "for n_neighbors in [6]: \n",
    "    results_file = f'{s_date}/results_{s_subtype}_{s_type}_{s_partition}_{s_cell}_{n_neighbors}neighbors_{len(ls_col)}markers.h5ad'\n",
    "    if not os.path.exists(f'{codedir}/{results_file}'):\n",
    "        print('making adata')\n",
    "        adata = sc.AnnData(df.loc[:,ls_col].fillna(0))\n",
    "        adata.raw = adata\n",
    "        #reduce dimensionality\n",
    "        sc.tl.pca(adata, svd_solver='auto')\n",
    "        print('scaling')\n",
    "        sc.pp.scale(adata, zero_center=False, max_value=20)\n",
    "        print('calc umap')\n",
    "        # calculate neighbors \n",
    "        sc.pp.neighbors(adata, n_neighbors=n_neighbors) \n",
    "        sc.tl.umap(adata)\n",
    "        adata.write(f'{codedir}/{results_file}')\n",
    "    else:\n",
    "        print('loading umap')\n",
    "        adata = sc.read_h5ad(f'{codedir}/{results_file}')\n",
    "    #color by markers   \n",
    "    figname = f\"Umap_markers_{s_subtype}_{s_type}_{s_partition}_{s_cell}_{n_neighbors}neigh.png\"\n",
    "    title=figname.split('.png')[0].replace('_',' ')\n",
    "    sc.pl.umap(adata, color=ls_col,vmin='p1.5',vmax='p99.5',ncols=4,save=figname,size=250)\n",
    "    #subtype\n",
    "    adata.obs['Subtype'] = adata.obs.index.map(dict(zip(df_a.PID.astype('str'),df_a.clinical_type)))\n",
    "    figname = f\"Umap_Subtype_{s_subtype}_{s_type}_{s_partition}_{s_cell}_{n_neighbors}neigh.png\"\n",
    "    title=figname.split('.png')[0].replace('_',' ')\n",
    "    sc.pl.umap(adata, color='Subtype',vmin='p1.5',vmax='p99.5',ncols=4,save=figname,size=250)\n",
    "    break"
   ]
  },
  {
   "cell_type": "code",
   "execution_count": null,
   "id": "2c61dbad",
   "metadata": {
    "scrolled": false
   },
   "outputs": [],
   "source": [
    "#leiden\n",
    "for resolution in [0.05]: #0.3,\n",
    "    results_file = f'{s_date}/results_{s_subtype}_{s_type}_{s_partition}_{s_cell}_{n_neighbors}neighbors_{len(ls_col)}markers_leiden{resolution}.h5ad'\n",
    "    sc.tl.leiden(adata,resolution=resolution)\n",
    "    fig,ax = plt.subplots(figsize=(2.5,2),dpi=200)\n",
    "    figname=f'leiden_{s_subtype}_{s_type}_{s_partition}_{s_cell}_{n_neighbors}_{resolution}.png'\n",
    "    sc.pl.umap(adata, color='leiden',ax=ax,title=figname.split('.png')[0].replace('_',' '),wspace=.25,save=figname,size=40)\n",
    "    break"
   ]
  },
  {
   "cell_type": "code",
   "execution_count": null,
   "id": "c35a0eae",
   "metadata": {},
   "outputs": [],
   "source": [
    "for s_subtype in ['TNBC','ER+']:\n",
    "    df_p = adata.to_df()\n",
    "    df_p['Subtype'] = df_p.index.map(dict(zip(df_a.PID.astype('str'),df_a.clinical_type)))\n",
    "    df_p['Subtype'] =df_p.Subtype.replace({'HR+HER2-':'ER+','TripleNeg':'TNBC'})\n",
    "    df_p['leiden'] = adata.obs['leiden']\n",
    "    df_p = df_p.loc[df_p.Subtype==s_subtype]\n",
    "    df_p.loc[:,'Survival_time'] = df_p.index.map(dict(zip(df_a.PID.astype('str'),df_a.OSmonth)))\n",
    "    df_p.loc[:,'Survival'] = df_p.index.map(dict(zip(df_a.PID.astype('str'),df_a.Patientstatus.str.contains('death'))))\n",
    "    df_p.loc[:,'Survival'] = df_p.Survival.replace({True:1,False:0})\n",
    "    df_st = df_p.drop('Subtype',axis=1)\n",
    "    T = df_st['Survival_time']     ## time to event\n",
    "    E = df_st['Survival']      ## event occurred or censored\n",
    "    groups = df_st.loc[:,'leiden']  \n",
    "    kmf1 = KaplanMeierFitter() ## instantiate the class to create an object\n",
    "    fig, ax = plt.subplots(figsize=(3,3),dpi=200)\n",
    "    for s_group in sorted(groups.unique()):\n",
    "        i1 = (groups == s_group)\n",
    "        kmf1.fit(T[i1], E[i1], label=s_group)    ## fit thedata\n",
    "        kmf1.plot(ax=ax,ci_show=False)\n",
    "        #print(kmf1.median_survival_time_)\n",
    "    results = multivariate_logrank_test(event_durations=T, groups=groups, event_observed=E)\n",
    "    ax.set_title(f'{s_subtype} {s_cell} res={resolution} \\n neigh={n_neighbors} p={results.summary.p[0]:.2}')\n",
    "    ax.legend(loc='upper right')\n",
    "    plt.tight_layout()\n",
    "    if results.summary.p[0] < 0.05:\n",
    "        fig.savefig(f'{codedir}/data/Survival_Plots/KM_{s_subtype}_{s_type}_{s_partition}_{s_cell}_{n_neighbors}_{resolution}.png',dpi=200)\n",
    "        #more plots\n",
    "        d_a = dict(zip(adata.obs.index,adata.obs.leiden))\n",
    "        d_color = dict(zip(sorted(adata.obs.leiden.unique()),sns.color_palette()[0:len(adata.obs.leiden.unique())]))\n",
    "        row_colors = df_p.index.map(d_a).map(d_color)\n",
    "        g = sns.clustermap(df_p.loc[:,ls_col].dropna(),figsize=(5,5),cmap='viridis',\n",
    "                row_colors=row_colors,method='ward')\n",
    "        for label in d_color.keys():\n",
    "            g.ax_row_dendrogram.bar(0, 0, color=d_color[label],\n",
    "                                label=label, linewidth=0)\n",
    "        g.ax_row_dendrogram.legend(loc=\"right\", ncol=1)\n",
    "        g.savefig(f'{codedir}/{s_date}/clustermap_patients_{s_sample}_{s_type}_{s_partition}_{s_cell}_{s_type}_{n_neighbors}_{resolution}.png',dpi=200)\n",
    "        #subtypes\n",
    "        d_replace = {}\n",
    "        df_plot = df_p.loc[:,ls_col.tolist()+['leiden']].dropna().groupby('leiden').mean()\n",
    "        df_plot.index.name = f'leiden {resolution}'\n",
    "        g = sns.clustermap(df_plot.dropna().T,z_score=1,figsize=(3,5),cmap='viridis',\n",
    "                           vmin=-2,vmax=2,method='ward')\n",
    "        g.fig.suptitle(f'leiden {resolution}',x=.9) \n",
    "        g.savefig(f'{codedir}/{s_date}/clustermap_subtypes_{s_sample}_{s_type}_{s_partition}_{s_cell}_{s_type}_{n_neighbors}_{resolution}.png',dpi=200)\n",
    "        marker_genes = df_plot.dropna().T.iloc[:,g.dendrogram_col.reordered_ind].columns.tolist()\n",
    "        categories_order = df_plot.dropna().T.iloc[g.dendrogram_row.reordered_ind,:].index.tolist()\n",
    "        #barplot\n",
    "        fig,ax=plt.subplots(figsize=(2.5,3),dpi=200)\n",
    "        df_p.groupby('leiden').count().loc[marker_genes[::-1]].iloc[:,1].plot(kind='barh',title='Patient Count',ax=ax)\n",
    "        plt.tight_layout()\n",
    "        fig.savefig(f'./{s_date}/barplot_subtyping_{s_sample}_{s_sample}_{s_type}_{s_partition}_{s_cell}_{s_type}_{n_neighbors}_{resolution}.png')\n",
    "    break\n",
    "    #CPH    \n",
    "    df_dummy = pd.get_dummies(df_st.loc[:,['Survival_time','Survival','leiden']])\n",
    "    df_dummy = df_dummy.loc[:,df_dummy.sum() != 0]\n",
    "    cph = CoxPHFitter(penalizer=0.1)  ## Instantiate the class to create a cph object\n",
    "    cph.fit(df_dummy, 'Survival_time', event_col='Survival')\n",
    "    fig, ax = plt.subplots(figsize=(3,3),dpi=300)\n",
    "    cph.plot(ax=ax)\n",
    "    ax.set_title(f'CPH: {s_subtype} {s_type} {s_cell}')\n",
    "    plt.tight_layout()\n",
    "    fig.savefig(f'{codedir}/data/Survival_Plots/CoxPH_{s_subtype}_{s_type}_{s_partition}_{s_cell}_{n_neighbors}_{resolution}.png',dpi=200)\n",
    "    break"
   ]
  },
  {
   "cell_type": "code",
   "execution_count": null,
   "id": "d9fcd8b3",
   "metadata": {},
   "outputs": [],
   "source": [
    "        fig.savefig(f'{codedir}/data/Survival_Plots/KM_{s_subtype}_{s_type}_{s_partition}_{s_cell}_{n_neighbors}_{resolution}.png',dpi=200)\n",
    "        #more plots\n",
    "        d_a = dict(zip(adata.obs.index,adata.obs.leiden))\n",
    "        d_color = dict(zip(sorted(adata.obs.leiden.unique()),sns.color_palette()[0:len(adata.obs.leiden.unique())]))\n",
    "        row_colors = df_p.index.map(d_a).map(d_color)\n",
    "        g = sns.clustermap(df_p.loc[:,ls_col].dropna(),figsize=(5,5),cmap='viridis',\n",
    "                row_colors=row_colors,method='ward')\n",
    "        for label in d_color.keys():\n",
    "            g.ax_row_dendrogram.bar(0, 0, color=d_color[label],\n",
    "                                label=label, linewidth=0)\n",
    "        g.ax_row_dendrogram.legend(loc=\"right\", ncol=1)\n",
    "        g.savefig(f'{codedir}/{s_date}/clustermap_patients_{s_sample}_{s_type}_{s_partition}_{s_cell}_{s_type}_{n_neighbors}_{resolution}.png',dpi=200)\n",
    "        #subtypes\n",
    "        d_replace = {}\n",
    "        df_plot = df_p.loc[:,ls_col.tolist()+['leiden']].dropna().groupby('leiden').mean()\n",
    "        df_plot.index.name = f'leiden {resolution}'\n",
    "        g = sns.clustermap(df_plot.dropna().T,z_score=1,figsize=(3,5),cmap='viridis',\n",
    "                           vmin=-2,vmax=2,method='ward')\n",
    "        g.fig.suptitle(f'leiden {resolution}',x=.9) \n",
    "        g.savefig(f'{codedir}/{s_date}/clustermap_subtypes_{s_sample}_{s_type}_{s_partition}_{s_cell}_{s_type}_{n_neighbors}_{resolution}.png',dpi=200)\n",
    "        marker_genes = df_plot.dropna().T.iloc[:,g.dendrogram_col.reordered_ind].columns.tolist()\n",
    "        categories_order = df_plot.dropna().T.iloc[g.dendrogram_row.reordered_ind,:].index.tolist()\n",
    "        #barplot\n",
    "        fig,ax=plt.subplots(figsize=(2.5,3),dpi=200)\n",
    "        df_p.groupby('leiden').count().loc[marker_genes[::-1]].iloc[:,1].plot(kind='barh',title='Patient Count',ax=ax)\n",
    "        plt.tight_layout()\n",
    "        fig.savefig(f'./{s_date}/barplot_subtyping_{s_sample}_{s_sample}_{s_type}_{s_partition}_{s_cell}_{s_type}_{n_neighbors}_{resolution}.png')\n",
    "   "
   ]
  },
  {
   "cell_type": "markdown",
   "id": "53b61a6c",
   "metadata": {},
   "source": [
    "## compare patients\n",
    "\n",
    "epithelial rich, immune rich, stromal rich"
   ]
  },
  {
   "cell_type": "code",
   "execution_count": null,
   "id": "3540839c",
   "metadata": {},
   "outputs": [],
   "source": [
    "from scipy import stats"
   ]
  },
  {
   "cell_type": "code",
   "execution_count": null,
   "id": "a78a27dc",
   "metadata": {},
   "outputs": [],
   "source": [
    "df_celltype = pd.read_csv('results_Patient_celltype_cluster_new.csv',index_col=0)"
   ]
  },
  {
   "cell_type": "code",
   "execution_count": null,
   "id": "f586bbcc",
   "metadata": {},
   "outputs": [],
   "source": [
    "df_lei = pd.read_csv('./data/20211221_BaselTMA_LeidenClustering_neighbors30_resolution0.4_markers19_TripleNeg.csv',index_col=0)"
   ]
  },
  {
   "cell_type": "code",
   "execution_count": null,
   "id": "20df0ea4",
   "metadata": {},
   "outputs": [],
   "source": [
    "df_lei"
   ]
  },
  {
   "cell_type": "code",
   "execution_count": null,
   "id": "9fdb2881",
   "metadata": {},
   "outputs": [],
   "source": [
    "#drop \n",
    "df_lei['type'] = df_lei.core.map(dict(zip(df_a.core,df_a.diseasestatus)))\n",
    "df_lei = df_lei[df_lei.type=='tumor']"
   ]
  },
  {
   "cell_type": "code",
   "execution_count": null,
   "id": "4ab33167",
   "metadata": {},
   "outputs": [],
   "source": [
    "df_lei['Patient'] = df_lei.core.map(dict(zip(df_a.core,df_a.PID)))\n",
    "df_lei['Group'] = df_lei.Patient.map(dict(zip(df_celltype.index,df_celltype.leiden)))\n",
    "df_lei['Group'] = df_lei.Group.astype('int')\n",
    "df_lei['celltype2'] =df_lei.celltype3.replace({'immune':'stromal'})"
   ]
  },
  {
   "cell_type": "code",
   "execution_count": null,
   "id": "e7527b21",
   "metadata": {},
   "outputs": [],
   "source": [
    "ls_marker = df_lei.columns[df_lei.dtypes == 'float64'].tolist()"
   ]
  },
  {
   "cell_type": "code",
   "execution_count": null,
   "id": "e9d03176",
   "metadata": {},
   "outputs": [],
   "source": [
    "#boxplots\n",
    "s_cell = 'celltype2'\n",
    "for s_group in ['Group']:\n",
    "    for s_celltype in sorted(set(df_lei.loc[:,s_cell])):\n",
    "        df_cell = df_lei[df_lei.loc[:,s_cell] == s_celltype]\n",
    "        df_mean = df_cell.loc[:,ls_marker + [s_group,'Patient']].groupby([s_group,'Patient']).mean()\n",
    "        for s_marker in ls_marker:\n",
    "            df_marker = df_mean.loc[:,s_marker].reset_index()\n",
    "            #test\n",
    "            lls_result = []\n",
    "            for s_test in df_marker.loc[:,s_group].unique():\n",
    "                ls_result = df_marker.loc[df_marker.loc[:,s_group] == s_test,s_marker].values\n",
    "                lls_result.append(ls_result)\n",
    "            if len(lls_result)==2:\n",
    "                try:\n",
    "                    statistic, pvalue = stats.mannwhitneyu(lls_result[0],lls_result[1])\n",
    "                except:\n",
    "                    pvalue = 1\n",
    "                    continue\n",
    "            elif len(lls_result)==3:\n",
    "                try:\n",
    "                    statistic, pvalue = stats.kruskal(lls_result[0],lls_result[1],lls_result[2])\n",
    "                except:\n",
    "                    pvalue = 1\n",
    "                    continue\n",
    "            elif len(lls_result)==4:\n",
    "                try:\n",
    "                    statistic, pvalue = stats.kruskal(lls_result[0],lls_result[1],lls_result[2],lls_result[3])\n",
    "                except:\n",
    "                    pvalue = 1\n",
    "                    continue\n",
    "            else:\n",
    "                pvalue = 1\n",
    "            #plot    \n",
    "            fig,ax=plt.subplots(figsize=(2.8,2.2),dpi=200)\n",
    "            sns.boxplot(data=df_marker,x=s_group,y=s_marker,ax=ax,fliersize=0)\n",
    "            sns.stripplot(data=df_marker,x=s_group,y=s_marker,ax=ax,palette='dark',size=3)\n",
    "            ax.set_ylabel(f'{s_marker} in {s_celltype}')\n",
    "            ax.set_title(f'{s_marker}\\n (p = {pvalue:.3f})',fontsize=12,horizontalalignment='center')\n",
    "            labels = [item.get_text() for item in ax.get_xticklabels()]\n",
    "            if len(lls_result)==3:\n",
    "                ax.set_xticklabels([item.replace('_rich',f'') for item in labels])\n",
    "                ax.set_xlabel('(-rich)')\n",
    "            #ax.set_ylim(0,3)\n",
    "            plt.tight_layout()\n",
    "            fig.savefig(f'{codedir}/{s_date}/boxplot_IMC_{s_cell}_{s_celltype}_{s_group}_{s_marker}.png')\n",
    "            #break\n",
    "            if pvalue > 0.05:\n",
    "                plt.close(fig)\n",
    "            else:\n",
    "\n",
    "                fig.savefig(f'{codedir}/{s_date}/boxplot_IMC_{s_cell}_{s_celltype}_{s_group}_{s_marker}.png')\n",
    "                print(f'{s_marker} in {s_celltype} by {s_group}') \n",
    "                #plt.close(fig)"
   ]
  },
  {
   "cell_type": "markdown",
   "id": "6feb30e4",
   "metadata": {},
   "source": []
  },
  {
   "cell_type": "code",
   "execution_count": null,
   "id": "da7676ef",
   "metadata": {},
   "outputs": [],
   "source": []
  }
 ],
 "metadata": {
  "kernelspec": {
   "display_name": "python3.9.5",
   "language": "python",
   "name": "base"
  },
  "language_info": {
   "codemirror_mode": {
    "name": "ipython",
    "version": 3
   },
   "file_extension": ".py",
   "mimetype": "text/x-python",
   "name": "python",
   "nbconvert_exporter": "python",
   "pygments_lexer": "ipython3",
   "version": "3.9.5"
  }
 },
 "nbformat": 4,
 "nbformat_minor": 5
}
