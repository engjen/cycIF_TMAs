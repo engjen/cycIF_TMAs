{
 "cells": [
  {
   "cell_type": "code",
   "execution_count": null,
   "id": "78a56982",
   "metadata": {},
   "outputs": [],
   "source": [
    "# Import libraries\n",
    "import os\n",
    "import sys\n",
    "import numpy as np\n",
    "import pandas as pd\n",
    "import shutil\n",
    "import matplotlib.pyplot as plt\n",
    "import re\n",
    "from skimage import io\n",
    "import tifffile\n",
    "from scipy.ndimage import median_filter\n",
    "\n",
    "# Set Paths\n",
    "#codedir = '/home/groups/graylab_share/OMERO.rdsStore/engje/Data/cmIF'\n",
    "codedir = os.getcwd()\n",
    "rootdir = f'{codedir}'\n",
    "#tiffdir = f'{rootdir}/RawImages'\n",
    "qcdir = f'{rootdir}/QC'\n",
    "#regdir = f'{rootdir}/RegisteredImages'\n",
    "subdir = f'{rootdir}/SubtractedRegisteredImages'\n",
    "segdir = f'{rootdir}/Segmentation'\n",
    "#czidir = f'{rootdir}/czis'"
   ]
  },
  {
   "cell_type": "code",
   "execution_count": null,
   "id": "18ba42c7",
   "metadata": {},
   "outputs": [],
   "source": [
    "# Start Preprocessing\n",
    "os.chdir('/home/groups/graylab_share/data/engje/Data/')\n",
    "from mplex_image import preprocess, mpimage, cmif\n",
    "os.chdir(codedir)\n",
    "preprocess.cmif_mkdir([qcdir,segdir,subdir])\n",
    "\n",
    "# List slides to be processed\n",
    "ls_sample = [\n",
    " ]\n"
   ]
  },
  {
   "cell_type": "code",
   "execution_count": null,
   "id": "0f1ef3f4",
   "metadata": {},
   "outputs": [],
   "source": [
    "import scipy\n",
    "from skimage.filters import unsharp_mask\n",
    "import skimage\n",
    "from skimage.restoration import (denoise_tv_chambolle, denoise_bilateral,\n",
    "                                 denoise_wavelet, estimate_sigma)\n",
    "from skimage import color, morphology\n",
    "from skimage.transform import rescale"
   ]
  },
  {
   "cell_type": "markdown",
   "id": "221db693",
   "metadata": {},
   "source": [
    "# image renaming"
   ]
  },
  {
   "cell_type": "code",
   "execution_count": null,
   "id": "d81d6a8f",
   "metadata": {},
   "outputs": [],
   "source": [
    "os.chdir(f'{codedir}/Images')"
   ]
  },
  {
   "cell_type": "code",
   "execution_count": null,
   "id": "29f4d174",
   "metadata": {},
   "outputs": [],
   "source": [
    "df_s = pd.read_csv(f'{codedir}/proteins_by_frame.csv',index_col=0)"
   ]
  },
  {
   "cell_type": "code",
   "execution_count": null,
   "id": "87c25ed6",
   "metadata": {},
   "outputs": [],
   "source": [
    "df_s.Biomarker.unique()"
   ]
  },
  {
   "cell_type": "code",
   "execution_count": null,
   "id": "fcbc9ccb",
   "metadata": {
    "scrolled": true
   },
   "outputs": [],
   "source": [
    "'''DONE\n",
    "se_cyto = pd.Series(['Beta catenin','Vimentin','CD31','CD45'])\n",
    "for s_file in os.listdir():\n",
    "    if s_file.find('.tiff') > -1:\n",
    "        print(s_file)\n",
    "        s_slide = s_file.split('Point')[1].split('.')[0]\n",
    "        s_scene = '1'\n",
    "        imgs_cyto = []\n",
    "        with tifffile.TiffFile(s_file) as tif:\n",
    "            array = tif.asarray()\n",
    "            #omexml_string = tif.ome_metadata\n",
    "            for idx in range(array.shape[0]):\n",
    "                img = array[idx]\n",
    "                img = np.clip(img, a_min=0, a_max=65535).astype('uint16')\n",
    "                s_marker = df_s.loc[idx,'Biomarker']\n",
    "                if s_marker =='dsDNA':\n",
    "                    dapi_scale = skimage.exposure.rescale_intensity(img,in_range=(np.quantile(img,0.03),1.5*np.quantile(img,0.99999)))\n",
    "                    s_filename = f\"Registered-R1_{s_marker}_{s_slide}-Scene-{s_scene}_c1_ORG.tif\"\n",
    "                elif (se_cyto == s_marker).sum() > 0:\n",
    "                        cyto_scale = skimage.exposure.rescale_intensity(img,in_range=(np.quantile(img,0.03),1.5*np.quantile(img,0.99999)))\n",
    "                        imgs_cyto.append(cyto_scale)\n",
    "                if s_marker.find('dsDNA') == -1:\n",
    "                    continue\n",
    "                    s_filename = f\"Registered-R{idx}_{s_marker}_{s_slide}-Scene-{s_scene}_c2_ORG.tif\"\n",
    "                    #hot pixels fix\n",
    "                    blurred = median_filter(img, size=2)\n",
    "                    difference = img.astype('int16') - blurred.astype('int16')\n",
    "                    threshold = 10*np.std(difference)\n",
    "                    i_filter = sum(img > int(threshold)).sum()/img.size\n",
    "                    img[img > int(threshold)] = blurred[img > int(threshold)]\n",
    "                    #save\n",
    "                    io.imsave(f\"{subdir}/{s_filename}\", img,check_contrast=False)\n",
    "            #dapis\n",
    "            dapi = np.clip((dapi_scale),a_min=0,a_max=65535)\n",
    "            dapi_gamma = skimage.exposure.adjust_gamma(dapi, gamma=0.6)\n",
    "            #The mesmer job expects images of shape[(-1, 256, 256, 2)]. use cyto mip and dapi\n",
    "            mip = np.stack(imgs_cyto).max(axis=0)\n",
    "            cyto = np.clip((mip),a_min=0,a_max=65535)\n",
    "            cyto_gamma = skimage.exposure.adjust_gamma(cyto, gamma=0.6)\n",
    "            #de-noise        \n",
    "            tv = denoise_tv_chambolle(dapi_gamma, weight=0.1)\n",
    "            cyto_tv = denoise_tv_chambolle(cyto_gamma, weight=0.1)\n",
    "            zdh = np.dstack((tv,cyto_tv,np.zeros(tv.shape)))\n",
    "            io.imsave(f'{segdir}/Registered-R1_DNA1.Cyto_{s_slide}-Scene-{s_scene}_c1c2.png',(zdh*255).astype('uint8'))\n",
    "\n",
    "        #break\n",
    "'''"
   ]
  },
  {
   "cell_type": "code",
   "execution_count": null,
   "id": "142fdd60",
   "metadata": {
    "scrolled": true
   },
   "outputs": [],
   "source": [
    "#io.imsave('test.png',zdh[100:900,100:900])\n",
    "#io.imshow(zdh[100:900,100:900])"
   ]
  },
  {
   "cell_type": "code",
   "execution_count": null,
   "id": "1dfcc4ff",
   "metadata": {},
   "outputs": [],
   "source": [
    "io.imshow(tv[100:600,100:600])"
   ]
  },
  {
   "cell_type": "code",
   "execution_count": null,
   "id": "2e5b4b9a",
   "metadata": {},
   "outputs": [],
   "source": [
    "io.imshow(cyto_tv[100:600,100:600])"
   ]
  },
  {
   "cell_type": "code",
   "execution_count": null,
   "id": "8a376df6",
   "metadata": {},
   "outputs": [],
   "source": [
    "#io.imsave('test.png',zdh[100:900,100:900])"
   ]
  },
  {
   "cell_type": "markdown",
   "id": "74775cc7",
   "metadata": {},
   "source": [
    "# segment MIBI data"
   ]
  },
  {
   "cell_type": "code",
   "execution_count": null,
   "id": "25372a21",
   "metadata": {},
   "outputs": [],
   "source": [
    "#export LD_LIBRARY_PATH=$LD_LIBRARY_PATH:/usr/local/cuda/extras/CUPTI"
   ]
  },
  {
   "cell_type": "code",
   "execution_count": null,
   "id": "6a33cba7",
   "metadata": {},
   "outputs": [],
   "source": [
    "#export LD_LIBRARY_PATH=$LD_LIBRARY_PATH:/usr/local/cuda/extras/CUPTI #enter in terminal\n",
    "os.environ['LD_LIBRARY_PATH'] = '/usr/local/lib'\n",
    "from skimage import io, measure, segmentation\n",
    "from deepcell.applications import Mesmer\n",
    "from deepcell.utils.plot_utils import create_rgb_image\n",
    "import numpy as np\n",
    "import pandas as pd"
   ]
  },
  {
   "cell_type": "code",
   "execution_count": null,
   "id": "a7c2fa04",
   "metadata": {},
   "outputs": [],
   "source": [
    "df_file = pd.DataFrame(data=os.listdir(f'{segdir}/Mesmer_Images'),columns=['overlay_img'])\n",
    "df_file['scene'] = [item.split('_')[2] for item in df_file.overlay_img]\n",
    "\n",
    "df_seg = pd.DataFrame(data = os.listdir(f'{segdir}/Mesmer_Segmentation'),columns=['seg_image'])\n",
    "df_seg['scene'] = [item.split(' ')[0] for item in df_seg.seg_image]\n",
    "\n",
    "df_merge = df_file.merge(df_seg,on='scene',how='left')\n",
    "ls_file = df_merge.loc[(df_merge.seg_image.isna()),'overlay_img'].tolist()\n"
   ]
  },
  {
   "cell_type": "code",
   "execution_count": null,
   "id": "74289978",
   "metadata": {},
   "outputs": [],
   "source": [
    "ls_file #= ['Registered-R1_DNA1.Cyto_17-Scene-1_c1c2.png','Registered-R1_DNA1.Cyto_27-Scene-1_c1c2.png']"
   ]
  },
  {
   "cell_type": "code",
   "execution_count": null,
   "id": "3ad3c909",
   "metadata": {},
   "outputs": [],
   "source": [
    "%matplotlib inline\n",
    "from deepcell.utils.plot_utils import make_outline_overlay"
   ]
  },
  {
   "cell_type": "code",
   "execution_count": null,
   "id": "46e15de2",
   "metadata": {
    "scrolled": true
   },
   "outputs": [],
   "source": [
    "#pretty example\n",
    "image_mpp = 0.5\n",
    "app = Mesmer()\n",
    "for s_file in ls_file:\n",
    "    img = io.imread(f'{segdir}/Mesmer_Images/{s_file}')\n",
    "    img = img[90:300,590:800]\n",
    "    s_scene = s_file.split('_')[2]\n",
    "    a_test = np.expand_dims(img[:,:,0:2], axis=0)\n",
    "    rgb_images = create_rgb_image(a_test, channel_colors=['blue', 'green'])\n",
    "    segmentation_predictions = app.predict(a_test, image_mpp=image_mpp)\n",
    "    overlay_data = make_outline_overlay(rgb_data=rgb_images, predictions=segmentation_predictions)\n",
    "    idx=0\n",
    "    fig, ax = plt.subplots(1, 2, figsize=(15, 15))\n",
    "    ax[0].imshow(rgb_images[idx, ...])\n",
    "    ax[1].imshow(overlay_data[idx, ...])\n",
    "    ax[0].set_title('Raw data')\n",
    "    ax[1].set_title('Predictions')\n",
    "    plt.show()\n",
    "    #cell_predictions = app.predict(a_test, image_mpp=image_mpp)\n",
    "    segmentation_predictions_nuc = app.predict(a_test, image_mpp=image_mpp, compartment='nuclear')\n",
    "    overlay_data_nuc = make_outline_overlay(rgb_data=rgb_images, predictions=segmentation_predictions_nuc)\n",
    "    fig, ax = plt.subplots(1, 2, figsize=(15, 15))\n",
    "    ax[0].imshow(rgb_images[idx, ...])\n",
    "    ax[1].imshow(overlay_data_nuc[idx, ...])\n",
    "    ax[0].set_title('Raw data')\n",
    "    ax[1].set_title('Nuclear Predictions')\n",
    "    plt.show()\n",
    "    #labels = io.imread(f'{segdir}/Mesmer_Segmentation/{s_scene} nuclei{image_mpp} - Nuclei Segmentation Basins.tif')\n",
    "    #cell_labels = io.imread(f'{segdir}/Mesmer_Segmentation/{s_scene} cell{image_mpp} - Cell Segmentation Basins.tif')\n",
    "    break"
   ]
  },
  {
   "cell_type": "code",
   "execution_count": null,
   "id": "0a56ab65",
   "metadata": {
    "scrolled": true
   },
   "outputs": [],
   "source": [
    "#loop\n",
    "#'''DONE\n",
    "#labels = io.imread(f'{s_scene} nuclei{nuc_diam} - Nuclei Segmentation Basins.tif')\n",
    "#cell_labels = io.imread(f'{s_scene} cell{cell_diam} - Cell Segmentation Basins.tif')\n",
    "image_mpp = 0.5\n",
    "app = Mesmer()\n",
    "for s_file in ls_file:\n",
    "    img = io.imread(f'{segdir}/Mesmer_Images/{s_file}')\n",
    "    s_scene = s_file.split('_')[2]\n",
    "    print(f'processing {s_scene}')   \n",
    "    a_test = np.expand_dims(img[:,:,0:2], axis=0)\n",
    "    rgb_test = create_rgb_image(a_test, channel_colors=['blue', 'green'])\n",
    "    #nuc\n",
    "    test_predictions = app.predict(a_test, image_mpp=image_mpp, compartment='nuclear')\n",
    "    labels = np.reshape(test_predictions[0],test_predictions[0].shape[0:2])\n",
    "    io.imsave(f'{segdir}/Mesmer_Segmentation/{s_scene} nuclei{image_mpp} - Nuclei Segmentation Basins.tif',labels,check_contrast=False)\n",
    "    #cell\n",
    "    cell_predictions = app.predict(a_test, image_mpp=image_mpp)\n",
    "    cell_labels = np.reshape(cell_predictions[0],cell_predictions[0].shape[0:2])\n",
    "    #clean up and save cells\n",
    "    df = pd.DataFrame(measure.regionprops_table(label_image=cell_labels,intensity_image=labels,properties=('label','area','mean_intensity')))\n",
    "    ls_drop = df[df.mean_intensity==0].label\n",
    "    cell_labels[np.isin(cell_labels, ls_drop)] = 0\n",
    "    io.imsave(f'{segdir}/Mesmer_Segmentation/{s_scene} cell{image_mpp} - Cell Segmentation Basins.tif',cell_labels,check_contrast=False)\n",
    "    print(f'done with {s_scene}')    \n",
    "    #break\n",
    "#'''"
   ]
  },
  {
   "cell_type": "markdown",
   "id": "12432317",
   "metadata": {},
   "source": [
    "## match"
   ]
  },
  {
   "cell_type": "code",
   "execution_count": null,
   "id": "8009565c",
   "metadata": {},
   "outputs": [],
   "source": [
    "from numba import jit\n",
    "import time\n",
    "from skimage import io, measure, segmentation\n",
    "#from deepcell.applications import Mesmer\n",
    "#from deepcell.utils.plot_utils import create_rgb_image\n",
    "import numpy as np\n",
    "import pandas as pd\n",
    "#oldcontainer,d_replace = segment.nuc_to_cell(labels,cell_labels)\n",
    "\n",
    "@jit(nopython=True, parallel=True)\n",
    "def _relabel_numba(ai_cell_labels, ai_cellid_relabel, o_dtype=np.uint32):\n",
    "    '''\n",
    "    version: 2021-12-00\n",
    "\n",
    "    input:\n",
    "        ai_cell_labels: (n,) one dimensional numpy array with cell labels.\n",
    "        ai_cellid_relabel: (n,2) dimensional numpy array which maps original cell_id to nuc_id.\n",
    "        o_dtype: data type inside the image array. standard is np.uint32,\n",
    "            because 32bit tiffs can be opened with most tiff compatible software.\n",
    "\n",
    "    output:\n",
    "        ai_cell_relabeld: (n,) one dimensional numpy array with cell labels that match the nucleus.\n",
    "\n",
    "    description:\n",
    "        use numba to quickly iterate over each label and replace pixels with new pixel values.\n",
    "    '''\n",
    "    # handle input\n",
    "    ai_cell_labels = ai_cell_labels.astype(o_dtype)\n",
    "    ai_cellid_relabel = ai_cellid_relabel.astype(o_dtype)\n",
    "\n",
    "    # do match\n",
    "    ai_cell_relabeld = ai_cell_labels.copy()\n",
    "    for i_cellid_cell, i_cellid_nuc in ai_cellid_relabel:\n",
    "        ai_cell_relabeld[ai_cell_labels == i_cellid_cell] = i_cellid_nuc\n",
    "\n",
    "    # output\n",
    "    return(ai_cell_relabeld)\n",
    "\n",
    "def _cell_to_nuc(ai_nuc_labels, ai_cell_labels):\n",
    "    '''\n",
    "    version: 2021-12-00\n",
    "\n",
    "    input:\n",
    "        ai_nuc_labels: (n,) one dimensional numpy array with nucleus labels.\n",
    "        ai_cell_labels: (n,) one dimensional numpy array with cell labels.\n",
    "\n",
    "    output:\n",
    "        ai_cellid_relabel: (n,2) dimensional numpy array which maps original cell_id to nuc_id.\n",
    "\n",
    "    description:\n",
    "        associate the largest nucleus contained in each cell segmentation.\n",
    "    '''\n",
    "    # get cell dominant nuclei label relationship\n",
    "    lli_cellid_relabel = []  # numba can't handle dictionary\n",
    "\n",
    "    # iterate over each cell label\n",
    "    for i_cellid in np.unique(ai_cell_labels):\n",
    "        if i_cellid == 0:\n",
    "            continue\n",
    "\n",
    "        # find all non-zero nuclei label contained within that cell mask\n",
    "        ai_nuc = ai_nuc_labels[ai_cell_labels == i_cellid]\n",
    "        ai_nuc = ai_nuc[ai_nuc != 0]\n",
    "        ai_nuc_unique = np.unique(ai_nuc)\n",
    "        # multiple nuclei, choose largest (most common pixels, i.e. mode)\n",
    "        if len(ai_nuc_unique) > 1:\n",
    "            ai_value, ai_count = np.unique(ai_nuc, return_counts=True) # does not work with numba\n",
    "            i_nucid_mode = ai_value[np.argmax(ai_count)]\n",
    "            if (i_cellid != i_nucid_mode):\n",
    "                lli_cellid_relabel.append([i_cellid, i_nucid_mode])\n",
    "        # one nucleus\n",
    "        elif len(ai_nuc_unique) == 1:\n",
    "            i_nucid_one = ai_nuc[0]\n",
    "            if (i_cellid != i_nucid_one):\n",
    "                lli_cellid_relabel.append([i_cellid, i_nucid_one])\n",
    "        # zero nuclei\n",
    "        else:\n",
    "            lli_cellid_relabel.append([i_cellid, 0])\n",
    "\n",
    "    # output\n",
    "    ai_cellid_relabel = np.array(lli_cellid_relabel) #, dtype=np.int64)\n",
    "    return(ai_cellid_relabel)\n",
    "\n",
    "def relabel_cells(labels,cell_labels):\n",
    "    start = time.time()\n",
    "    # ravel\n",
    "    ti_nuc_shape = labels.shape\n",
    "    ai_nuc_labels = labels.ravel()\n",
    "    ti_cell_shape = cell_labels.shape\n",
    "    ai_cell_labels = cell_labels.ravel()\n",
    "\n",
    "    # match cell id with nuclei id\n",
    "    print('get _cell_to_nuc_ listing ...')\n",
    "    ai_cellid_relabel = _cell_to_nuc(ai_nuc_labels=ai_nuc_labels, ai_cell_labels=ai_cell_labels)\n",
    "    \n",
    "    # set minimalistic variable type\n",
    "    print('running numba to relabel cell labels ...')\n",
    "    if (ai_cellid_relabel.max() < 2**8):\n",
    "        o_dtype = np.uint8\n",
    "    elif (ai_cellid_relabel.max() < 2**16):\n",
    "        o_dtype = np.uint16\n",
    "    elif (ai_cellid_relabel.max() < 2**32):\n",
    "        o_dtype = np.uint32\n",
    "    else:\n",
    "        # bue 20210810: currently, this will never happen. cellpose hardcoded the mask dtype to uint32.\n",
    "        # this limits cell indexing to: 2**32 -1 = 4'294'967'295 [cell].\n",
    "        o_dtype = np.uint64\n",
    "    # numba re-label cell id\n",
    "    ai_cell_relabeled = _relabel_numba(ai_cell_labels=ai_cell_labels, ai_cellid_relabel=ai_cellid_relabel, o_dtype=o_dtype)\n",
    "\n",
    "    # unravel\n",
    "    ai_nuc_labels.shape = ti_nuc_shape\n",
    "    ai_cell_relabeled.shape = ti_cell_shape\n",
    "    end = time.time()\n",
    "    print(f'time elapsed: {end - start}[sec]')\n",
    "    return(ai_cell_relabeled)\n",
    "\n",
    "#features\n",
    "def extract_feat(labels,intensity_image, properties=('centroid','mean_intensity','area','eccentricity')):\n",
    "    ''' \n",
    "    given labels and intensity image, extract features to dataframe\n",
    "    '''\n",
    "    props = measure.regionprops_table(labels,intensity_image, properties=properties)\n",
    "    df_prop = pd.DataFrame(props)\n",
    "    return(df_prop)\n",
    "\n",
    "def label_difference(labels,cell_labels):\n",
    "    '''\n",
    "    given matched nuclear and cell label IDs,return cell_labels minus labels\n",
    "    '''\n",
    "    overlap = cell_labels==labels\n",
    "    ring_rep = cell_labels.copy()\n",
    "    ring_rep[overlap] = 0\n",
    "    return(ring_rep)\n",
    "\n",
    "def index_format(df,s_scene,s_col='label'):\n",
    "    df.index = [f'{s_scene.split(\"-Scene-\")[0]}_scene{s_scene.split(\"-Scene-\")[1].split(\"_\")[0]}_cell{item}' for item in df.loc[:,s_col]]\n",
    "    return(df)\n",
    "\n",
    "def expand_label(labels,distance=3):\n",
    "    '''\n",
    "    expand the nucelar labels by a fixed number of pixels\n",
    "    '''\n",
    "    boundaries = segmentation.find_boundaries(labels,mode='outer') #thick\n",
    "    shrunk_labels = labels.copy()\n",
    "    shrunk_labels[boundaries] = 0\n",
    "    background = shrunk_labels == 0\n",
    "    distances, (i, j) = scipy.ndimage.distance_transform_edt(\n",
    "                background, return_indices=True\n",
    "            )\n",
    "\n",
    "    grown_labels = labels.copy()\n",
    "    mask = background & (distances <= distance)\n",
    "    grown_labels[mask] = shrunk_labels[i[mask], j[mask]]\n",
    "    ring_labels = grown_labels - shrunk_labels\n",
    "\n",
    "    return(ring_labels, grown_labels) #shrunk_labels, grown_labels,"
   ]
  },
  {
   "cell_type": "code",
   "execution_count": null,
   "id": "56316537",
   "metadata": {},
   "outputs": [],
   "source": [
    "#ls_scene_done = [] #['10-Scene-X1Y5']\n",
    "#from mplex_image import segment, features\n",
    "#ls_scene = sorted(set([item.split(' ')[0] for item in os.listdir(f'{segdir}/Mesmer_Segmentation') if not item.split('-Scene-')[1][1].isnumeric()])) #- set(ls_scene_done))\n",
    "#len(ls_scene)"
   ]
  },
  {
   "cell_type": "code",
   "execution_count": null,
   "id": "629d516a",
   "metadata": {},
   "outputs": [],
   "source": [
    "ls_scene_done = [] #\n",
    "ls_scene_done = sorted(set([item.split(' ')[0] for item in os.listdir(f'{segdir}/Mesmer_Segmentation') if item.find('matchedcell') > -1 if item.split('-Scene-')[1][0].isnumeric()]))#[] #['10-Scene-X1Y5']\n",
    "#from mplex_image import segment, features\n",
    "ls_scene = sorted(set([item.split(' ')[0] for item in os.listdir(f'{segdir}/Mesmer_Segmentation')  if item.split('-Scene-')[1][0].isnumeric()]) - set(ls_scene_done))\n",
    "#ls_scene_skipped = ['274-Scene-X14Y1-46', '31-Scene-X16Y2-153']\n",
    "len(ls_scene)"
   ]
  },
  {
   "cell_type": "code",
   "execution_count": null,
   "id": "fc4bcc55",
   "metadata": {},
   "outputs": [],
   "source": [
    "ls_scene = ['17-Scene-1', '27-Scene-1']"
   ]
  },
  {
   "cell_type": "code",
   "execution_count": null,
   "id": "49060bec",
   "metadata": {
    "scrolled": true
   },
   "outputs": [],
   "source": [
    "#matching #done\n",
    "#'''DONE\n",
    "image_mpp=0.5\n",
    "for s_scene in ls_scene:\n",
    "    print(s_scene)\n",
    "    #s_scene = '46-Scene-X10Y7'\n",
    "    labels = io.imread(f'{segdir}/Mesmer_Segmentation/{s_scene} nuclei{image_mpp} - Nuclei Segmentation Basins.tif')\n",
    "    try:\n",
    "        cell_labels = io.imread(f'{segdir}/Mesmer_Segmentation/{s_scene} cell{image_mpp} - Cell Segmentation Basins.tif')\n",
    "    except:\n",
    "        print(f'skip {s_scene}')\n",
    "        continue\n",
    "    cell_relabeled = relabel_cells(labels,cell_labels)\n",
    "    io.imsave(f'{segdir}/Mesmer_Segmentation/{s_scene} matchedcell{image_mpp} - Cell Segmentation Basins.tif',cell_relabeled)\n",
    "    #break\n",
    "print(labels.max())\n",
    "print(cell_labels.max())\n",
    "print(cell_relabeled.max())\n",
    "#'''"
   ]
  },
  {
   "cell_type": "markdown",
   "id": "6d1c3633",
   "metadata": {},
   "source": [
    "## extract features"
   ]
  },
  {
   "cell_type": "code",
   "execution_count": null,
   "id": "d3119a93",
   "metadata": {},
   "outputs": [],
   "source": [
    "s_find = 'TMA'"
   ]
  },
  {
   "cell_type": "code",
   "execution_count": null,
   "id": "21bf0d59",
   "metadata": {},
   "outputs": [],
   "source": [
    "df_img.scene.nunique()"
   ]
  },
  {
   "cell_type": "code",
   "execution_count": null,
   "id": "6daf7f8b",
   "metadata": {},
   "outputs": [],
   "source": [
    "#sorted(df_img.scene.unique()) #17, #27 "
   ]
  },
  {
   "cell_type": "code",
   "execution_count": null,
   "id": "b856ddec",
   "metadata": {},
   "outputs": [],
   "source": [
    "#preprocess.dchange_fname({'HLA_Class_1':'HLA-Class-1'}) #,b_test=False"
   ]
  },
  {
   "cell_type": "code",
   "execution_count": null,
   "id": "a62a5a79",
   "metadata": {},
   "outputs": [],
   "source": [
    "os.chdir(f'{subdir}/{s_find}')\n",
    "df_img = mpimage.parse_org()"
   ]
  },
  {
   "cell_type": "code",
   "execution_count": null,
   "id": "6c4d342e",
   "metadata": {
    "scrolled": true
   },
   "outputs": [],
   "source": [
    "image_mpp=0.5\n",
    "df_sample = pd.DataFrame()\n",
    "for s_scene in df_img.scene.unique():\n",
    "    labels = io.imread(f'{segdir}/Mesmer_Segmentation/{s_scene} nuclei{image_mpp} - Nuclei Segmentation Basins.tif')\n",
    "    try:\n",
    "        cell_labels = io.imread(f'{segdir}/Mesmer_Segmentation/{s_scene} matchedcell{image_mpp} - Cell Segmentation Basins.tif')\n",
    "        print(f'extracting features {s_scene}')\n",
    "    except:\n",
    "        print(f'missing matched {s_scene}')\n",
    "    s_dapi = f'Registered-R1_DNA1.Cyto_{s_scene}_c1c2.png'\n",
    "    dapi = io.imread(f'{segdir}/Mesmer_Images/{s_dapi}')[:,:,0]\n",
    "    #\n",
    "    df_feat = extract_feat(labels,dapi, properties=(['label','area','eccentricity','centroid']))\n",
    "    df_feat.columns = [f'{item}_nuclei' for item in df_feat.columns]\n",
    "    df_feat = index_format(df_feat,s_scene,'label_nuclei')   \n",
    "    cyto = label_difference(labels,cell_labels)\n",
    "    d_loc = {'nuclei':labels,'cell':cell_labels,'cytoplasm':cyto}\n",
    "    #markers (not duplicated\n",
    "    df_scene = df_img[df_img.scene==s_scene].sort_values('round_ord')\n",
    "    #df_scene = df_scene[(df_scene.marker!='RutheniumTetroxide') & (~df_scene.index.str.contains('Registered-R11_HistoneH3'))& (~df_scene.index.str.contains('Registered-R24_HistoneH3'))]\n",
    "    #loop through markers\n",
    "    for s_index in df_scene.index:\n",
    "        df_marker = pd.DataFrame(index=df_feat.index)\n",
    "        s_marker = df_scene.loc[s_index,'marker']\n",
    "        #print(f'extracting features {s_marker}')\n",
    "        if s_marker == 'DAPI':\n",
    "            s_marker = s_marker + f'{df_scene.loc[s_index,\"rounds\"].split(\"R\")[1]}'\n",
    "        intensity_image = io.imread(s_index)\n",
    "        for s_loc, a_loc in d_loc.items():\n",
    "            df_marker_loc = extract_feat(a_loc,intensity_image, properties=(['mean_intensity','label']))\n",
    "            df_marker_loc.columns = [f'{s_marker}_{s_loc}',f'label']\n",
    "            df_marker_loc = index_format(df_marker_loc,s_scene) ##  df_marker_loc.index]\n",
    "            df_marker_loc.drop(f'label',axis=1,inplace=True)\n",
    "            df_marker = df_marker.merge(df_marker_loc, left_index=True,right_index=True,how='left',suffixes=('',f'{s_marker}_{s_loc}'))\n",
    "        #extract nas\n",
    "        df_na = df_marker[df_marker.isna().any(axis=1)]\n",
    "        ls_na = [int(item.split('_cell')[1]) for item in df_na.index]\n",
    "        ring_labels, grown_labels = expand_label(labels,distance=3)\n",
    "        ring_labels[~np.isin(ring_labels,ls_na)] = 0\n",
    "        grown_labels[~np.isin(grown_labels,ls_na)] = 0\n",
    "        df_marker_ring = extract_feat(ring_labels,intensity_image, properties=(['mean_intensity','label']))\n",
    "        df_marker_grown = extract_feat(grown_labels,intensity_image, properties=(['mean_intensity','label']))\n",
    "        df_feat_na = df_marker_ring.merge(df_marker_grown,on='label',suffixes=('_ring','_grown'))\n",
    "        df_feat_na = index_format(df_feat_na,s_scene)\n",
    "        #fill in nas\n",
    "        #break\n",
    "        df_marker.loc[df_feat_na.index,f'{s_marker}_cytoplasm'] = df_feat_na.loc[:,f'mean_intensity_ring']\n",
    "        df_marker.loc[df_feat_na.index,f'{s_marker}_cell'] = df_feat_na.loc[:,f'mean_intensity_grown']   \n",
    "        df_feat = df_feat.merge(df_marker, left_index=True,right_index=True,how='left',suffixes=('',f'{s_marker}'))\n",
    "        #break\n",
    "    df_sample = df_sample.append(df_feat)\n",
    "    #break\n",
    "df_sample.to_csv(f'{segdir}/features_MIBI-{s_find}_MeanIntensity_Centroid_Shape.csv')\n",
    "#df_sample.to_csv('features_IMC_MeanIntensity_Centroid_Shape.csv')"
   ]
  },
  {
   "cell_type": "code",
   "execution_count": null,
   "id": "07b82616",
   "metadata": {},
   "outputs": [],
   "source": [
    "print('done')"
   ]
  },
  {
   "cell_type": "markdown",
   "id": "c0131362",
   "metadata": {},
   "source": [
    "## Correlate to published"
   ]
  },
  {
   "cell_type": "code",
   "execution_count": null,
   "id": "b1cfc6d4",
   "metadata": {},
   "outputs": [],
   "source": [
    "\n",
    "s_find = 'TMA'\n",
    "#s_find = 'ZTMA'\n",
    "os.chdir(segdir)\n",
    "df_mi = pd.read_csv((f'features_MIBI-{s_find}_MeanIntensity_Centroid_Shape.csv'),index_col=0)\n",
    "#df_mi = df_mi.drop(['DNA2_cell', 'DNA2_nuclei', 'DNA2_cytoplasm'],axis=1).dropna()\n",
    "#df_mi = df_mi.dropna() #618961 to 618811\n",
    "#150 cells are na in the markers: probaly too small for the expansion (get borders erased them)\n",
    "#df_mi.isna().sum().sort_values()[-3::].index\n",
    "#df_mi[df_mi.drop(['DNA2_cell', 'DNA2_nuclei', 'DNA2_cytoplasm'],axis=1).isna().ArgonDimers_cytoplasm].sort_values(by='area_nuclei')\n",
    "#df_mi.drop(['DNA2_cell', 'DNA2_nuclei', 'DNA2_cytoplasm'],axis=1).dropna()\n",
    "#imc segmentation had 855668/ 844498 w/o liver cells\n",
    "# mesmer seg has 618961 cells, 618811 NA free"
   ]
  },
  {
   "cell_type": "code",
   "execution_count": null,
   "id": "f031d7f0",
   "metadata": {},
   "outputs": [],
   "source": [
    "df_mi['slide_scene'] = [item.split('_')[0] for item in df_mi.index]\n",
    "df_mi.head()"
   ]
  },
  {
   "cell_type": "code",
   "execution_count": null,
   "id": "b789b2e3",
   "metadata": {},
   "outputs": [],
   "source": [
    "#[item.split('_cell')[0].replace('scene','').split('-')[0] for item in df_mi.index]"
   ]
  },
  {
   "cell_type": "code",
   "execution_count": null,
   "id": "3bff0e79",
   "metadata": {},
   "outputs": [],
   "source": [
    "#drop na df_norm is the watershed \n",
    "df_norm = pd.read_csv(f'{codedir}/20211109_MIBI_FilteredMeanIntensity.csv',index_col=0,low_memory=False)\n",
    "df_norm['slide_scene'] = [item.split('_')[0] for item in  df_norm.index]\n",
    "#df_mi['slide_scene'] = [item.split('_cell')[0].replace('scene','') for item in df_mi.index]\n",
    "#df_mi['slide_scene'] =[item.split('_cell')[0].replace('scene','').split('-')[0] for item in df_mi.index]\n",
    "#df_norm = df_norm[~df_norm.slide_scene.isin(['Liver_X1Y1', 'Liver_X2Y1','31_X16Y2', '274_X14Y1'])]\n",
    "#print(set(df_norm.slide_scene) - set(df_mi.slide_scene))\n",
    "#print(set(df_mi.slide_scene) - set(df_norm.slide_scene))"
   ]
  },
  {
   "cell_type": "code",
   "execution_count": null,
   "id": "a2f5d3d5",
   "metadata": {},
   "outputs": [],
   "source": [
    "df_norm['slide_scene'] = [item.split('_')[0] for item in df_norm.index]\n",
    "df_norm.head()"
   ]
  },
  {
   "cell_type": "code",
   "execution_count": null,
   "id": "6f89ed56",
   "metadata": {
    "scrolled": true
   },
   "outputs": [],
   "source": [
    "%matplotlib inline\n",
    "df_norm.slide_scene = df_norm.slide_scene.replace('t1','1')\n",
    "fig, ax = plt.subplots(figsize=(4,5),dpi=200)\n",
    "df_norm.groupby('slide_scene').SMA.count().sort_values().plot(kind='barh',ax=ax,width=1)\n",
    "ax.yaxis.set_visible(False)\n",
    "ax.set_xlim(0,7000)\n",
    "ax.set_title('Original Segmentation')"
   ]
  },
  {
   "cell_type": "code",
   "execution_count": null,
   "id": "404744f4",
   "metadata": {
    "scrolled": true
   },
   "outputs": [],
   "source": [
    "fig, ax = plt.subplots(figsize=(4,5),dpi=200)\n",
    "ls_index = df_norm.groupby('slide_scene').SMA.count().sort_values().index\n",
    "df_mi.groupby('slide_scene').area_nuclei.count().loc[ls_index].plot(kind='barh',ax=ax,width=1)\n",
    "ax.yaxis.set_visible(False)\n",
    "ax.set_xlim(0,7000)\n",
    "ax.set_title('Mesmer Segmentation')"
   ]
  },
  {
   "cell_type": "code",
   "execution_count": null,
   "id": "c3967bb2",
   "metadata": {},
   "outputs": [],
   "source": [
    "#((df_ws - df_mes)/df_ws).sort_values(ascending=False)[0:8].index.tolist()"
   ]
  },
  {
   "cell_type": "code",
   "execution_count": null,
   "id": "d10a46a8",
   "metadata": {},
   "outputs": [],
   "source": [
    " #[]\n",
    "df_ws = df_norm.groupby('slide_scene').SMA.count().sort_values()\n",
    "ls_index = df_norm.groupby('slide_scene').SMA.count().sort_values().index\n",
    "df_mes = df_mi.groupby('slide_scene').area_nuclei.count().loc[ls_index]\n",
    "ls_seg=  ((df_ws - df_mes)/df_ws).sort_values(ascending=False)[0:8].index.tolist()\n",
    "ls_seg = []\n",
    "df_both = pd.DataFrame(data=df_ws).rename({'SMA':'WS'},axis=1)\n",
    "df_both['MES'] = df_mes\n",
    "df_both.loc[ls_seg,'off'] = 'orange'\n",
    "df_both.fillna('blue',inplace=True)\n",
    "df_both.head()"
   ]
  },
  {
   "cell_type": "code",
   "execution_count": null,
   "id": "bd2fa968",
   "metadata": {},
   "outputs": [],
   "source": [
    "import seaborn as sns\n",
    "from scipy import stats\n",
    "fig, ax = plt.subplots(figsize=(3,3),dpi=300)\n",
    "sns.regplot(x=\"WS\", y=\"MES\", data=df_both,ax=ax,line_kws={'color':'C0'},scatter_kws={'s':5,'alpha':0.8,\n",
    "                                                             'color':list(df_both['off'].values),'label':['__','b'],\n",
    "                                                            })\n",
    "r, pval= stats.pearsonr(df_both['WS'], df_both['MES'])\n",
    "ax.set_xlabel('Original cell count')\n",
    "ax.set_ylabel('Mesmer cell count')\n",
    "#ax.legend(['__', 'outliers'],labelcolor='blue')\n",
    "ax.set_title(f'Original vs Mesmer\\nPearson r={r:.2} p={pval:.2}')\n",
    "ax.axis('equal')\n",
    "ax.set_ylim(1500,8500)\n",
    "ax.set_xlim(1500,8500)\n",
    "print(pval)\n",
    "plt.tight_layout()\n",
    "fig.savefig(f'{qcdir}/scatterplot_Mesmer_vs_Original_cell_count.png')"
   ]
  },
  {
   "cell_type": "code",
   "execution_count": null,
   "id": "482ca9df",
   "metadata": {},
   "outputs": [],
   "source": [
    "'''\n",
    "ls_seg_two = []\n",
    "df_both.loc[ls_seg_two,'two'] = 'orange'\n",
    "df_both.fillna('blue',inplace=True)\n",
    "fig, ax = plt.subplots(figsize=(4,3),dpi=300)\n",
    "sns.regplot(x=\"WS\", y=\"MES\", data=df_both,ax=ax,\n",
    "            scatter_kws={'s':5,'alpha':0.5,'color':list(df_both['two'].values),'label':['__','o']})\n",
    "r, pval= stats.pearsonr(df_both.loc[df_both.two=='blue','WS'], df_both.loc[df_both.two=='blue','MES'])\n",
    "ax.set_xlabel('Watershed cell count')\n",
    "ax.legend(['__','two WS ROIS'])\n",
    "ax.set_ylabel('Mesmer cell count')\n",
    "ax.set_title(f'Watershed vs Mesmer\\nPearson r={r:.2} p={pval:.2}')\n",
    "print(pval)\n",
    "plt.tight_layout()\n",
    "fig.savefig(f'{qcdir}/scatterplot_Mesmer_vs_Wastershed_cell_count_two.png')\n",
    "'''"
   ]
  },
  {
   "cell_type": "code",
   "execution_count": null,
   "id": "cc8a7342",
   "metadata": {},
   "outputs": [],
   "source": [
    "print(((df_ws - df_mes)/df_ws).mean())\n",
    "print(((df_ws - df_mes)/df_ws).median())\n",
    "print(len(df_ws))\n",
    "#even greatest difference is 22%\n",
    "ls_seg = ((df_ws - df_mes)/df_ws).sort_values()[-16::].index"
   ]
  },
  {
   "cell_type": "code",
   "execution_count": null,
   "id": "a40b2fdb",
   "metadata": {},
   "outputs": [],
   "source": [
    "#ls_seg = set(ls_seg) - set(ls_seg_two)\n",
    "ls_seg = [ '20', '19', '38', '16']\n",
    "((df_ws - df_mes)/df_ws).sort_values()[-5::].index"
   ]
  },
  {
   "cell_type": "code",
   "execution_count": null,
   "id": "cabb298c",
   "metadata": {},
   "outputs": [],
   "source": [
    "os.chdir(codedir)\n",
    "os.chdir('Segmentation_Original')\n",
    "df_ws = pd.DataFrame(index=sorted(os.listdir()))\n",
    "df_ws.index = [item + '/segmentation_interior.png' for item in df_ws.index]"
   ]
  },
  {
   "cell_type": "code",
   "execution_count": null,
   "id": "934d7abd",
   "metadata": {},
   "outputs": [],
   "source": [
    "os.chdir(codedir)\n",
    "os.chdir('Segmentation/Mesmer_Segmentation')\n",
    "df_mes_all = pd.DataFrame(index=sorted(os.listdir()))\n",
    "df_mes = df_mes_all[df_mes_all.index.str.contains('matched')]"
   ]
  },
  {
   "cell_type": "code",
   "execution_count": null,
   "id": "e1f557af",
   "metadata": {},
   "outputs": [],
   "source": [
    "df_seg = pd.DataFrame(index=os.listdir(f'{segdir}/Mesmer_Images'))\n",
    "#df_seg.drop(['Mesmer_Segmentation','test'],inplace=True) #'features_IMC_MeanIntensity_Centroid_Shape.csv',\n",
    "df_seg['slide'] = [item.split('-Scene-')[0].split('_')[-1] for item in df_seg.index]\n"
   ]
  },
  {
   "cell_type": "code",
   "execution_count": null,
   "id": "0081da0c",
   "metadata": {},
   "outputs": [],
   "source": [
    "df_mes['slide'] = [item.split('-Scene-')[0] for item in df_mes.index]"
   ]
  },
  {
   "cell_type": "code",
   "execution_count": null,
   "id": "d115b549",
   "metadata": {},
   "outputs": [],
   "source": [
    "#BaselTMA_SP43_10.3kx13.7ky_6500x8000_6_20170928_29_19_X15Y2_216_a0_full_maks.tiff\n",
    "df_ws['slide'] = [item.split('_Point')[1].split('/')[0] for item in df_ws.index]\n",
    "ls_seg"
   ]
  },
  {
   "cell_type": "code",
   "execution_count": null,
   "id": "9afaac79",
   "metadata": {},
   "outputs": [],
   "source": [
    "for s_seg in ls_seg:\n",
    "    #s_seg = '104_X8Y4'\n",
    "    s_file_mes = df_mes[df_mes.slide==s_seg].index[0]\n",
    "    #print(s_seg)\n",
    "    i_len = len(df_ws[df_ws.slide==s_seg].index)\n",
    "    s_file_ws = df_ws[df_ws.slide==s_seg].index[0]\n",
    "    s_file_img = df_seg[df_seg.slide==s_seg].index[0]\n",
    "    matched = io.imread(f'{segdir}/Mesmer_Segmentation/{s_file_mes}')\n",
    "    wshed = io.imread(f'{codedir}/Segmentation_Original/{s_file_ws}')\n",
    "    img = io.imread(f'{segdir}/Mesmer_Images/{s_file_img}')\n",
    "    #img = \n",
    "    fig, ax = plt.subplots(2,2,figsize=(5,4),dpi=200)\n",
    "    ax=ax.ravel()\n",
    "    img1 =io.imshow(matched,ax=ax[1],cmap='viridis',vmin=0,vmax=wshed.max())\n",
    "    img2 = io.imshow(wshed,ax=ax[0],cmap='viridis',vmin=0,vmax=wshed.max())\n",
    "    io.imshow(img,ax=ax[2])\n",
    "    ax[0].set_title(f'watershed: {wshed.max()}')\n",
    "    ax[1].set_title(f'Mesmer: {matched.max()}')\n",
    "    ax[2].set_title('Image')\n",
    "    ax[0].set_xlim(0,img.shape[1])\n",
    "    ax[0].set_ylim(img.shape[0],0)\n",
    "    ax[1].set_xlim(0,img.shape[1])\n",
    "    ax[1].set_ylim(img.shape[0],0)\n",
    "    fig.suptitle(s_seg,y=0.97)\n",
    "    if s_seg == '137_X9Y3-39' or s_seg == '168_X10Y5-171':\n",
    "        fig.colorbar(img2, ax=ax[0],fraction=.04)\n",
    "    elif s_seg == '187_X3Y2-99' or s_seg == '167_X14Y8-211' or s_seg == '156_X15Y1-175':\n",
    "        fig.colorbar(img1, ax=ax[1],fraction=.04)\n",
    "    ax[3].remove()\n",
    "    plt.tight_layout()\n",
    "    fig.savefig(f'{qcdir}/segmentation_basins_{s_seg}.png')\n",
    "    if i_len > 1:\n",
    "        s_file_ws = df_ws[df_ws.slide_scene==s_seg].index[1]\n",
    "        wshed = io.imread(f'{codedir}/ome/masks/{s_file_ws}')\n",
    "        fig, ax = plt.subplots(figsize=(3,3),dpi=200)\n",
    "        io.imshow(wshed,ax=ax,cmap='viridis')\n",
    "    #break"
   ]
  },
  {
   "cell_type": "markdown",
   "id": "3e6b923b",
   "metadata": {},
   "source": [
    "### OLD testing seg"
   ]
  },
  {
   "cell_type": "code",
   "execution_count": null,
   "id": "309ae52b",
   "metadata": {},
   "outputs": [],
   "source": [
    "    #test_predictions = app.predict(a_test, image_mpp=image_mpp, compartment='nuclear')\n",
    "    #labels = np.reshape(test_predictions[0],test_predictions[0].shape[0:2])\n",
    "    #io.imsave(f'{segdir}/Mesmer_Segmentation/{s_scene} nuclei{image_mpp} - Nuclei Segmentation Basins.tif',labels,check_contrast=False)\n",
    "    #cell\n",
    "    #cell_predictions = app.predict(a_test, image_mpp=image_mpp)\n",
    "    #cell_labels = np.reshape(cell_predictions[0],cell_predictions[0].shape[0:2])"
   ]
  },
  {
   "cell_type": "code",
   "execution_count": null,
   "id": "a1e7ae60",
   "metadata": {},
   "outputs": [],
   "source": [
    "io.imshow(labels)"
   ]
  },
  {
   "cell_type": "code",
   "execution_count": null,
   "id": "eacd3100",
   "metadata": {},
   "outputs": [],
   "source": [
    "io.imshow(cell_labels)"
   ]
  },
  {
   "cell_type": "code",
   "execution_count": null,
   "id": "76e812b6",
   "metadata": {},
   "outputs": [],
   "source": [
    "#cleaned up\n",
    "io.imshow(cell_labels)"
   ]
  },
  {
   "cell_type": "code",
   "execution_count": null,
   "id": "7c273f5b",
   "metadata": {},
   "outputs": [],
   "source": [
    "df = pd.DataFrame(measure.regionprops_table(label_image=cell_labels,intensity_image=labels,properties=('label','area','mean_intensity')))\n",
    "ls_drop = df[df.mean_intensity==0].label\n",
    "cell_labels[np.isin(cell_labels, ls_drop)] = 0"
   ]
  },
  {
   "cell_type": "code",
   "execution_count": null,
   "id": "6e3684d4",
   "metadata": {},
   "outputs": [],
   "source": [
    "#a_test = np.expand_dims(img[:,:,0:2], axis=0)\n",
    "#a_test.shape\n",
    "#rgb_test = create_rgb_image(a_test, channel_colors=['blue', 'green'])\n",
    "#whole cell\n",
    "#app = Mesmer()\n",
    "#test_predictions = app.predict(a_test, image_mpp=1)\n",
    "#io.imshow(test_predictions[0])\n",
    "#np.reshape(test_predictions[0],test_predictions[0].shape[0:2])\n",
    "#io.imsave(f'{segdir}/test/predictions.tiff',np.reshape(test_predictions[0],test_predictions[0].shape[0:2]))"
   ]
  },
  {
   "cell_type": "code",
   "execution_count": null,
   "id": "5fe9b669",
   "metadata": {
    "scrolled": true
   },
   "outputs": [],
   "source": [
    "'''\n",
    "overlay_test = make_outline_overlay(rgb_data=rgb_test, predictions=test_predictions)\n",
    "idx=0\n",
    "i_size = 200\n",
    "fig, ax = plt.subplots(1, 2, figsize=(15, 15))\n",
    "ax[0].imshow(rgb_test[idx, 0:i_size,0:i_size,:])\n",
    "ax[1].imshow(overlay_test[idx, 0:i_size,0:i_size,:])\n",
    "ax[0].set_title('Raw data')\n",
    "ax[1].set_title('Predictions')\n",
    "plt.show()\n",
    "'''"
   ]
  },
  {
   "cell_type": "code",
   "execution_count": null,
   "id": "0d5f8794",
   "metadata": {},
   "outputs": [],
   "source": [
    "#nuclear\n",
    "#test_predictions_nuc = app.predict(a_test, image_mpp=1, compartment='nuclear')\n",
    "#io.imshow(test_predictions_nuc[0])\n",
    "#np.reshape(test_predictions[0],test_predictions[0].shape[0:2])\n",
    "#io.imsave(f'{segdir}/test/predictions_nuc.tiff',np.reshape(test_predictions_nuc[0],test_predictions_nuc[0].shape[0:2]))"
   ]
  },
  {
   "cell_type": "code",
   "execution_count": null,
   "id": "fb0c9142",
   "metadata": {},
   "outputs": [],
   "source": [
    "'''\n",
    "overlay_test_nuc = make_outline_overlay(rgb_data=rgb_test, predictions=test_predictions_nuc)\n",
    "idx=0\n",
    "i_size = 200\n",
    "fig, ax = plt.subplots(1, 2, figsize=(15, 15))\n",
    "ax[0].imshow(rgb_test[idx, 0:i_size,0:i_size,:])\n",
    "ax[1].imshow(overlay_test_nuc[idx, 0:i_size,0:i_size,:])\n",
    "ax[0].set_title('Raw data')\n",
    "ax[1].set_title('Predictions')\n",
    "plt.show()\n",
    "'''"
   ]
  },
  {
   "cell_type": "code",
   "execution_count": null,
   "id": "081bbbb6",
   "metadata": {},
   "outputs": [],
   "source": [
    "#napari clean up\n",
    "'''\n",
    "from skimage import measure\n",
    "df = pd.DataFrame(measure.regionprops_table(label_image=cell_labels,intensity_image=nuc_labels,properties=('label','area','mean_intensity')))\n",
    "ls_drop = df[df.mean_intensity==0].label\n",
    "cell_labels[np.isin(cell_labels, ls_drop)] = 0\n",
    "'''"
   ]
  },
  {
   "cell_type": "markdown",
   "id": "974a5ea3",
   "metadata": {},
   "source": [
    "# image processing\n",
    "\n",
    "test differerent de-noising"
   ]
  },
  {
   "cell_type": "code",
   "execution_count": null,
   "id": "5bc58f59",
   "metadata": {},
   "outputs": [],
   "source": [
    "# also tried simple\n",
    "# scipy.ndi.gaussian_filter()."
   ]
  },
  {
   "cell_type": "code",
   "execution_count": null,
   "id": "2da01adf",
   "metadata": {},
   "outputs": [],
   "source": [
    "os.chdir(f'{segdir}/test')"
   ]
  },
  {
   "cell_type": "code",
   "execution_count": null,
   "id": "a9ec381c",
   "metadata": {},
   "outputs": [],
   "source": [
    "#a_scale = skimage.exposure.rescale_intensity(dapi,in_range=(np.quantile(dapi,0.03),1.5*np.quantile(dapi,0.9999)))\n",
    "a_scale = dapi_scale"
   ]
  },
  {
   "cell_type": "code",
   "execution_count": null,
   "id": "00e52ed7",
   "metadata": {},
   "outputs": [],
   "source": [
    "io.imshow(a_scale[200:300,300:400])\n",
    "plt.title('Clip .9999 quantile')"
   ]
  },
  {
   "cell_type": "code",
   "execution_count": null,
   "id": "e97e712b",
   "metadata": {},
   "outputs": [],
   "source": [
    "io.imsave('scaled.png',a_scale[200:600,300:700])"
   ]
  },
  {
   "cell_type": "code",
   "execution_count": null,
   "id": "93603e06",
   "metadata": {},
   "outputs": [],
   "source": [
    "a_gamma = skimage.exposure.adjust_gamma(a_scale, gamma=0.4)"
   ]
  },
  {
   "cell_type": "code",
   "execution_count": null,
   "id": "32664b29",
   "metadata": {},
   "outputs": [],
   "source": [
    "io.imshow(a_gamma[200:300,300:400])\n",
    "plt.title('Adjust gamma')"
   ]
  },
  {
   "cell_type": "code",
   "execution_count": null,
   "id": "1b4dcb7c",
   "metadata": {},
   "outputs": [],
   "source": [
    "io.imsave('gamma.png',a_gamma[200:600,300:700])"
   ]
  },
  {
   "cell_type": "code",
   "execution_count": null,
   "id": "b31b39db",
   "metadata": {},
   "outputs": [],
   "source": [
    "a_gauss = scipy.ndimage.gaussian_filter(a_gamma,sigma=1)\n",
    "io.imshow(a_gauss[200:300,300:400])\n",
    "plt.title('Gaussian blurr')"
   ]
  },
  {
   "cell_type": "code",
   "execution_count": null,
   "id": "81dee8b8",
   "metadata": {},
   "outputs": [],
   "source": [
    "image = a_gamma[200:600,300:700]"
   ]
  },
  {
   "cell_type": "code",
   "execution_count": null,
   "id": "2cfd7539",
   "metadata": {},
   "outputs": [],
   "source": [
    "result_1 = unsharp_mask(image, radius=1, amount=1)\n",
    "result_2 = unsharp_mask(image, radius=5, amount=2)\n",
    "result_3 = unsharp_mask(image, radius=20, amount=1)"
   ]
  },
  {
   "cell_type": "code",
   "execution_count": null,
   "id": "f4039409",
   "metadata": {},
   "outputs": [],
   "source": [
    "fig, axes = plt.subplots(nrows=2, ncols=2,\n",
    "                         sharex=True, sharey=True, figsize=(10, 10))\n",
    "ax = axes.ravel()\n",
    "\n",
    "ax[0].imshow(image, cmap=plt.cm.gray)\n",
    "ax[0].set_title('Original image')\n",
    "ax[1].imshow(result_1, cmap=plt.cm.gray)\n",
    "ax[1].set_title('Enhanced image, radius=1, amount=1.0')\n",
    "ax[2].imshow(result_2, cmap=plt.cm.gray)\n",
    "ax[2].set_title('Enhanced image, radius=5, amount=2.0')\n",
    "ax[3].imshow(result_3, cmap=plt.cm.gray)\n",
    "ax[3].set_title('Enhanced image, radius=20, amount=1.0')"
   ]
  },
  {
   "cell_type": "code",
   "execution_count": null,
   "id": "b702be93",
   "metadata": {},
   "outputs": [],
   "source": [
    "io.imsave('result_1.png',(result_1*255).astype('uint8'))"
   ]
  },
  {
   "cell_type": "code",
   "execution_count": null,
   "id": "d9c47ebd",
   "metadata": {},
   "outputs": [],
   "source": [
    "io.imsave('result_2.png',(result_2*255).astype('uint8'))"
   ]
  },
  {
   "cell_type": "code",
   "execution_count": null,
   "id": "cb0473ee",
   "metadata": {},
   "outputs": [],
   "source": [
    "io.imsave('result_3.png',(result_3*255).astype('uint8'))"
   ]
  },
  {
   "cell_type": "code",
   "execution_count": null,
   "id": "add7ec79",
   "metadata": {},
   "outputs": [],
   "source": [
    "mip = np.stack(img_st).max(axis=0)"
   ]
  },
  {
   "cell_type": "code",
   "execution_count": null,
   "id": "408cf667",
   "metadata": {},
   "outputs": [],
   "source": [
    "#added = np.clip((img_st[0] + img_st[1]),a_min=0,a_max=65535)\n",
    "#added_gamma = skimage.exposure.adjust_gamma(added, gamma=0.5)\n",
    "#pretty good\n",
    "noisy = a_gamma[200:600,300:700]\n",
    "tv = denoise_tv_chambolle(noisy, weight=0.25)\n",
    "#io.imsave('added_more_tv.png',(tv*255).astype('uint8'))"
   ]
  },
  {
   "cell_type": "code",
   "execution_count": null,
   "id": "a0f7888b",
   "metadata": {},
   "outputs": [],
   "source": [
    "#io.imshow(mip[200:600,300:700])"
   ]
  },
  {
   "cell_type": "code",
   "execution_count": null,
   "id": "5dab2664",
   "metadata": {},
   "outputs": [],
   "source": [
    "#io.imsave('mip.png',mip[200:600,300:700])"
   ]
  },
  {
   "cell_type": "code",
   "execution_count": null,
   "id": "3ff698e1",
   "metadata": {},
   "outputs": [],
   "source": [
    "#mip_gamma = skimage.exposure.adjust_gamma(mip, gamma=0.5)"
   ]
  },
  {
   "cell_type": "code",
   "execution_count": null,
   "id": "e7ebbcf1",
   "metadata": {},
   "outputs": [],
   "source": [
    "#io.imshow(mip_gamma[200:600,300:700])"
   ]
  },
  {
   "cell_type": "code",
   "execution_count": null,
   "id": "3d0cd1c7",
   "metadata": {},
   "outputs": [],
   "source": [
    "#io.imsave('gmip.png',mip_gamma[200:600,300:700])"
   ]
  },
  {
   "cell_type": "code",
   "execution_count": null,
   "id": "308550da",
   "metadata": {},
   "outputs": [],
   "source": [
    "#denoise\n",
    "noisy = a_gamma[200:300,300:400]"
   ]
  },
  {
   "cell_type": "code",
   "execution_count": null,
   "id": "1cb7fc99",
   "metadata": {},
   "outputs": [],
   "source": [
    "fig, ax = plt.subplots(nrows=2, ncols=3, figsize=(8, 6), dpi=300,\n",
    "                       sharex=True, sharey=True)\n",
    "ax[0, 0].imshow(noisy,cmap='gray')\n",
    "ax[0, 0].axis('off')\n",
    "ax[0, 0].set_title('Noisy')\n",
    "ax[0, 1].imshow(denoise_tv_chambolle(noisy, weight=0.1),cmap='gray')\n",
    "ax[0, 1].axis('off')\n",
    "ax[0, 1].set_title('TV (0.1)')\n",
    "ax[0, 2].imshow(denoise_bilateral(noisy, sigma_color=0.05, sigma_spatial=15, \n",
    "                ),cmap='gray')\n",
    "ax[0, 2].axis('off')\n",
    "ax[0, 2].set_title('Bilateral (0.05)')\n",
    "ax[1, 0].imshow(denoise_wavelet(noisy,  rescale_sigma=True),cmap='gray')\n",
    "ax[1, 0].axis('off')\n",
    "ax[1, 0].set_title('Wavelet denoising')\n",
    "\n",
    "ax[1, 1].imshow(denoise_tv_chambolle(noisy, weight=0.2),cmap='gray')\n",
    "ax[1, 1].axis('off')\n",
    "ax[1, 1].set_title('TV (0.25)')\n",
    "ax[1, 2].imshow(denoise_bilateral(noisy, sigma_color=.2,sigma_spatial=15, \n",
    "                ),cmap='gray')\n",
    "ax[1, 2].axis('off')\n",
    "ax[1, 2].set_title('Bilateral (0.2)')\n",
    "\n",
    "fig.tight_layout()"
   ]
  },
  {
   "cell_type": "code",
   "execution_count": null,
   "id": "baa8012f",
   "metadata": {},
   "outputs": [],
   "source": []
  },
  {
   "cell_type": "code",
   "execution_count": null,
   "id": "d945d5e0",
   "metadata": {},
   "outputs": [],
   "source": [
    "noisy = added[200:250,300:350]\n",
    "fig, ax = plt.subplots(nrows=2, ncols=3, figsize=(8, 6), dpi=300,\n",
    "                       sharex=True, sharey=True)\n",
    "ax[0, 0].imshow(noisy)\n",
    "ax[0, 0].axis('off')\n",
    "ax[0, 0].set_title('Noisy')\n",
    "ax[0, 1].imshow(denoise_tv_chambolle(noisy, weight=0.1))\n",
    "ax[0, 1].axis('off')\n",
    "ax[0, 1].set_title('TV')\n",
    "ax[0, 2].imshow(denoise_bilateral(noisy, sigma_color=0.05, sigma_spatial=15,\n",
    "                ))\n",
    "ax[0, 2].axis('off')\n",
    "ax[0, 2].set_title('Bilateral')\n",
    "ax[1, 0].imshow(denoise_wavelet(noisy,  rescale_sigma=True))\n",
    "ax[1, 0].axis('off')\n",
    "ax[1, 0].set_title('Wavelet denoising')\n",
    "\n",
    "ax[1, 1].imshow(denoise_tv_chambolle(noisy, weight=0.2))\n",
    "ax[1, 1].axis('off')\n",
    "ax[1, 1].set_title('(more) TV')\n",
    "ax[1, 2].imshow(denoise_bilateral(noisy, sigma_color=0.1, sigma_spatial=15,\n",
    "                ))\n",
    "ax[1, 2].axis('off')\n",
    "ax[1, 2].set_title('(more) Bilateral')\n",
    "\n",
    "fig.tight_layout()"
   ]
  },
  {
   "cell_type": "code",
   "execution_count": null,
   "id": "4cbe765c",
   "metadata": {},
   "outputs": [],
   "source": [
    "added_gamma = skimage.exposure.adjust_gamma(added, gamma=0.5)\n",
    "#pretty good\n",
    "noisy = added_gamma[200:600,300:700]\n",
    "tv = denoise_tv_chambolle(noisy, weight=0.25)\n",
    "io.imsave('added_more_tv.png',(tv*255).astype('uint8'))"
   ]
  },
  {
   "cell_type": "code",
   "execution_count": null,
   "id": "c09198a7",
   "metadata": {},
   "outputs": [],
   "source": [
    "noisy = added_gamma[200:250,300:350]\n",
    "fig, ax = plt.subplots(nrows=2, ncols=3, figsize=(8, 6), dpi=300,\n",
    "                       sharex=True, sharey=True)\n",
    "ax[0, 0].imshow(noisy)\n",
    "ax[0, 0].axis('off')\n",
    "ax[0, 0].set_title('Noisy')\n",
    "ax[0, 1].imshow(denoise_tv_chambolle(noisy, weight=0.1))\n",
    "ax[0, 1].axis('off')\n",
    "ax[0, 1].set_title('TV')\n",
    "ax[0, 2].imshow(denoise_bilateral(noisy, sigma_color=0.05, sigma_spatial=15,\n",
    "                ))\n",
    "ax[0, 2].axis('off')\n",
    "ax[0, 2].set_title('Bilateral')\n",
    "ax[1, 0].imshow(denoise_wavelet(noisy,  rescale_sigma=True))\n",
    "ax[1, 0].axis('off')\n",
    "ax[1, 0].set_title('Wavelet denoising')\n",
    "\n",
    "ax[1, 1].imshow(denoise_tv_chambolle(noisy, weight=0.25))\n",
    "ax[1, 1].axis('off')\n",
    "ax[1, 1].set_title('(more) TV')\n",
    "ax[1, 2].imshow(denoise_bilateral(noisy, sigma_color=0.1, sigma_spatial=15,\n",
    "                ))\n",
    "ax[1, 2].axis('off')\n",
    "ax[1, 2].set_title('(more) Bilateral')\n",
    "\n",
    "fig.tight_layout()"
   ]
  },
  {
   "cell_type": "code",
   "execution_count": null,
   "id": "6ed347e5",
   "metadata": {},
   "outputs": [],
   "source": [
    "#pretty good\n",
    "noisy = added_gamma[200:600,300:700]\n",
    "tv = denoise_tv_chambolle(noisy, weight=0.25)\n",
    "io.imsave('added_more_tv.png',(tv*255).astype('uint8'))"
   ]
  },
  {
   "cell_type": "code",
   "execution_count": null,
   "id": "85584959",
   "metadata": {},
   "outputs": [],
   "source": [
    "io.imshow(noisy)"
   ]
  },
  {
   "cell_type": "code",
   "execution_count": null,
   "id": "43ded57e",
   "metadata": {},
   "outputs": [],
   "source": [
    "\n",
    "footprint = morphology.disk(2)\n",
    "res = morphology.white_tophat(noisy, footprint)\n",
    "fig, ax = plt.subplots(ncols=3, figsize=(10, 5),dpi=300)\n",
    "ax[0].set_title('Original')\n",
    "ax[0].imshow(noisy, cmap='gray')\n",
    "ax[1].set_title('White tophat')\n",
    "ax[1].imshow(res, cmap='gray')\n",
    "ax[2].set_title('Complementary')\n",
    "ax[2].imshow(noisy - res, cmap='gray')\n",
    "\n",
    "plt.show()"
   ]
  },
  {
   "cell_type": "code",
   "execution_count": null,
   "id": "2e696e61",
   "metadata": {},
   "outputs": [],
   "source": [
    "tv = denoise_tv_chambolle(noisy, weight=0.25)\n",
    "footprint = morphology.disk(2)\n",
    "res = morphology.white_tophat(tv, footprint)\n",
    "fig, ax = plt.subplots(ncols=3, figsize=(10, 5),dpi=300)\n",
    "ax[0].set_title('Original')\n",
    "ax[0].imshow(tv, cmap='gray')\n",
    "ax[1].set_title('White tophat')\n",
    "ax[1].imshow(res, cmap='gray')\n",
    "ax[2].set_title('Complementary')\n",
    "ax[2].imshow(tv - res, cmap='gray')\n",
    "\n",
    "plt.show()"
   ]
  },
  {
   "cell_type": "code",
   "execution_count": null,
   "id": "c264fbff",
   "metadata": {},
   "outputs": [],
   "source": [
    "noisy = added_gamma[200:300,300:400]\n",
    "image = denoise_tv_chambolle(noisy, weight=0.25)\n",
    "result_1 = unsharp_mask(image, radius=1, amount=1)\n",
    "result_2 = unsharp_mask(image, radius=5, amount=1)\n",
    "result_3 = unsharp_mask(image, radius=20, amount=1)\n",
    "\n",
    "fig, axes = plt.subplots(nrows=2, ncols=2,\n",
    "                         sharex=True, sharey=True, figsize=(10, 10))\n",
    "ax = axes.ravel()\n",
    "\n",
    "ax[0].imshow(image, cmap=plt.cm.gray)\n",
    "ax[0].set_title('Original image')\n",
    "ax[1].imshow(result_1, cmap=plt.cm.gray)\n",
    "ax[1].set_title('Enhanced image, radius=1, amount=1.0')\n",
    "ax[2].imshow(result_2, cmap=plt.cm.gray)\n",
    "ax[2].set_title('Enhanced image, radius=5, amount=1.0')\n",
    "ax[3].imshow(result_3, cmap=plt.cm.gray)\n",
    "ax[3].set_title('Enhanced image, radius=20, amount=1.0')"
   ]
  },
  {
   "cell_type": "code",
   "execution_count": null,
   "id": "f6f4a0de",
   "metadata": {},
   "outputs": [],
   "source": [
    "noisy = added_gamma[200:300,300:400]\n",
    "image = denoise_tv_chambolle(noisy, weight=0.25)\n",
    "result_1 = unsharp_mask(image, radius=1, amount=1)\n",
    "result_2 = unsharp_mask(image, radius=1, amount=2)\n",
    "result_3 = unsharp_mask(image, radius=1, amount=4)\n",
    "\n",
    "fig, axes = plt.subplots(nrows=2, ncols=2,\n",
    "                         sharex=True, sharey=True, figsize=(10, 10))\n",
    "ax = axes.ravel()\n",
    "\n",
    "ax[0].imshow(image, cmap=plt.cm.gray)\n",
    "ax[0].set_title('Original image')\n",
    "ax[1].imshow(result_1, cmap=plt.cm.gray)\n",
    "ax[1].set_title('Enhanced image, radius=1, amount=1.0')\n",
    "ax[2].imshow(result_2, cmap=plt.cm.gray)\n",
    "ax[2].set_title('Enhanced image, radius=1, amount=2.0')\n",
    "ax[3].imshow(result_3, cmap=plt.cm.gray)\n",
    "ax[3].set_title('Enhanced image, radius=1, amount=4.0')"
   ]
  },
  {
   "cell_type": "code",
   "execution_count": null,
   "id": "3c743375",
   "metadata": {},
   "outputs": [],
   "source": [
    "#pretty good\n",
    "noisy = added_gamma[200:600,300:700]\n",
    "tv = denoise_tv_chambolle(noisy, weight=0.25)\n",
    "unsharp = unsharp_mask(tv, radius=1, amount=4)\n",
    "io.imsave('added_more_tv_unsharp.png',(unsharp*255).astype('uint8'))"
   ]
  },
  {
   "cell_type": "code",
   "execution_count": null,
   "id": "13cc39be",
   "metadata": {},
   "outputs": [],
   "source": [
    "#pretty bad\n",
    "\n",
    "tvu = denoise_tv_chambolle(unsharp, weight=0.1)\n",
    "io.imsave('added_more_tv_us_tv.png',(tvu*255).astype('uint8'))"
   ]
  },
  {
   "cell_type": "code",
   "execution_count": null,
   "id": "899c9d63",
   "metadata": {},
   "outputs": [],
   "source": []
  }
 ],
 "metadata": {
  "kernelspec": {
   "display_name": "python3.9.5",
   "language": "python",
   "name": "base"
  },
  "language_info": {
   "codemirror_mode": {
    "name": "ipython",
    "version": 3
   },
   "file_extension": ".py",
   "mimetype": "text/x-python",
   "name": "python",
   "nbconvert_exporter": "python",
   "pygments_lexer": "ipython3",
   "version": "3.9.5"
  }
 },
 "nbformat": 4,
 "nbformat_minor": 5
}
