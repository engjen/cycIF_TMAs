{
 "cells": [
  {
   "cell_type": "markdown",
   "metadata": {},
   "source": [
    "## Cluster TMAs\n",
    "\n",
    "**Samples:** \n",
    "- JP-TMA-1\n",
    "- JP-TMA-2 (only 2 ER+, and no survival data)\n",
    "\n",
    "**Method**: \n",
    "\n",
    "- threshold and gate cell types\n",
    "\n",
    "- marker expression in tumor/stroma\n",
    "\n",
    "- leiden cluster on good biomarkers for celltypes\n"
   ]
  },
  {
   "cell_type": "code",
   "execution_count": null,
   "metadata": {},
   "outputs": [],
   "source": [
    "#load libraries\n",
    "import pandas as pd\n",
    "import matplotlib.pyplot as plt\n",
    "import numpy as np\n",
    "import os\n",
    "import seaborn as sns\n",
    "import scipy\n",
    "import scanpy as sc\n",
    "import matplotlib as mpl\n",
    "from matplotlib import cm\n",
    "mpl.rc('figure', max_open_warning = 0)\n",
    "codedir = '/home/groups/graylab_share/OMERO.rdsStore/engje/Data/20200000/20200406_JP-TMAs'#os.getcwd()\n",
    "import phenograph\n",
    "os.chdir('/home/groups/graylab_share/OMERO.rdsStore/engje/Data')\n",
    "from mplex_image import visualize as viz, process, preprocess, normalize, mics, mpimage\n",
    "np.random.seed(126)"
   ]
  },
  {
   "cell_type": "code",
   "execution_count": null,
   "metadata": {},
   "outputs": [],
   "source": [
    "codedir"
   ]
  },
  {
   "cell_type": "code",
   "execution_count": null,
   "metadata": {},
   "outputs": [],
   "source": [
    "#change to correct directory\n",
    "datadir = f'/home/groups/graylab_share/OMERO.rdsStore/engje/Data/20200000/20200406_JP-TMAs/data'\n",
    "s_date = '20220408'\n",
    "os.chdir(codedir)\n",
    "if not os.path.exists(s_date):\n",
    "    os.mkdir(s_date)\n",
    "%matplotlib inline"
   ]
  },
  {
   "cell_type": "markdown",
   "metadata": {},
   "source": [
    "# Table of contents <a name=\"contents\"></a>\n",
    "1. [Load annotation](#loadold)\n",
    "2. [load data](#cluster)\n",
    "3. [load thresholds](#load)\n",
    "  [gating](#gating)  [colocalization](#coloc)\n",
    "4. [bg subtract](#leiden)\n",
    "5. [single cell Umap](#l7)\n",
    "6. [Leiden celltypes](#l8)\n",
    "[annotate leiden celltypes](#lbar)\n",
    "7. [Tissue means](#tissue)\n",
    "8. [single variable survival](#surv)\n",
    "9. [subtyping survival](#subt)\n",
    "10. [With IMC data: subtyping survival](#subtIMC)\n",
    "11. [Neighborhoods](#neigh)\n",
    "[Neighborhood enrichment](#sqpy)\n",
    "12. [Distances](#dist)"
   ]
  },
  {
   "cell_type": "markdown",
   "metadata": {},
   "source": [
    "# Load annotation <a name=\"loadold\"></a>\n",
    "\n",
    "[contents](#contents)"
   ]
  },
  {
   "cell_type": "code",
   "execution_count": null,
   "metadata": {},
   "outputs": [],
   "source": [
    "df_cyc_a = pd.read_csv(f'{codedir}/20210403_JP-TMA1_Annotation+Clinical-Subtype.csv',index_col=0)\n",
    "df_cyc_a.rename({'ClinicalSubtype':'ID'},axis=1,inplace=True)\n",
    "#collapse Subtypes\n",
    "d_replace = {'0':'other','?':'other', np.nan:'other'}\n",
    "df_cyc_a.ID.replace(d_replace,inplace=True)\n",
    "df_cyc_a.loc[df_cyc_a.index.str.contains('JP-TMA2-1'),'Accession'] = df_cyc_a.loc[df_cyc_a.index.str.contains('JP-TMA2-1'),'TMA_scene.1']\n",
    "#add subtype and patient\n",
    "d_cyc_sub = dict(zip(df_cyc_a.index.tolist(),df_cyc_a.ID.tolist()))\n",
    "d_cyc_sub['JP-TMA2-1_scene08'] = 'ER+HER2+'\n",
    "d_patient = dict(zip(df_cyc_a.index,df_cyc_a.Accession))\n"
   ]
  },
  {
   "cell_type": "markdown",
   "metadata": {},
   "source": [
    "# JP-TMAs  <a name=\"cluster\"></a>\n",
    "\n",
    "load and check JP-TMA-2 and JP-TMA-1\n",
    "\n",
    "filter markers, filter out edge cores (load manual data frame)\n",
    "\n",
    "\n",
    "[contents](#contents)"
   ]
  },
  {
   "cell_type": "code",
   "execution_count": null,
   "metadata": {},
   "outputs": [],
   "source": [
    "os.chdir(datadir)\n",
    "#load manual\n",
    "ls_man = ['20211221_JP-TMA2_ManualPositive.csv','20211207_JP-TMA1_ManualPositive.csv']\n",
    "df_man = pd.DataFrame()\n",
    "for s_man in ls_man:\n",
    "    df_man = df_man.append(pd.read_csv(s_man,index_col=0))\n",
    "#this version has the cores cropped so the bordering cores are not included\n",
    "len(df_man)"
   ]
  },
  {
   "cell_type": "code",
   "execution_count": null,
   "metadata": {},
   "outputs": [],
   "source": [
    "#mean int\n",
    "ls_sample = ['JP-TMA2-1','JP-TMA1-1'] #, 'JP-TMA2-1','JE-TMA-42'\n",
    "df_mi = pd.DataFrame()\n",
    "df_xy = pd.DataFrame()\n",
    "for s_sample in ls_sample:\n",
    "    df_mi2 = pd.read_csv(f'{datadir}/features_{s_sample}_FilteredMeanIntensity.csv',index_col=0)\n",
    "    #df_mi2.rename({'slide_scene':'slidescene'},axis=1,inplace=True)\n",
    "    df_xy2 = pd.read_csv(f'{datadir}/features_{s_sample}_CentroidXY.csv',index_col=0)\n",
    "    #df_xy['slide_scene'] = [item.split('_cell')[0] for item in df_xy.index]\n",
    "    df_mi2.columns = [item.replace('_nucleipos','pos') for item in df_mi2.columns]\n",
    "    #df_mi2['slide'] = s_sample\n",
    "    #df_xy2['slide'] = s_sample\n",
    "    df_mi =df_mi.append(df_mi2)\n",
    "    df_xy =df_xy.append(df_xy2)\n",
    "    #break"
   ]
  },
  {
   "cell_type": "code",
   "execution_count": null,
   "metadata": {},
   "outputs": [],
   "source": [
    "len(df_mi.loc[df_man.index])"
   ]
  },
  {
   "cell_type": "code",
   "execution_count": null,
   "metadata": {},
   "outputs": [],
   "source": [
    "df_mi = df_mi.loc[df_man.index]"
   ]
  },
  {
   "cell_type": "code",
   "execution_count": null,
   "metadata": {},
   "outputs": [],
   "source": [
    "df_mi.columns"
   ]
  },
  {
   "cell_type": "code",
   "execution_count": null,
   "metadata": {},
   "outputs": [],
   "source": [
    "#synchronize with 20201017_JP-TMAs_cellpose_OutputPositive.iynb - just HER2 and EGFR cell mem 25\n",
    "ls_drop = ['CD44_nucadj2','AR_nuclei25','EGFR_perinuc5','ER_nuclei25','HER2_cytoplasm','Vim_nucadj2',\n",
    "          'Ecad_cellmem25','R1c2_perinuc5', 'R5Qc2_perinuc5', 'R5Qc3_perinuc5', 'R5Qc4_perinuc5','R5Qc5_perinuc5'] #\n",
    "df_mi = df_mi.drop(ls_drop,axis=1)"
   ]
  },
  {
   "cell_type": "code",
   "execution_count": null,
   "metadata": {},
   "outputs": [],
   "source": [
    "#shorten and check\n",
    "df_mi.columns = [item.split('_')[0] for item in df_mi.columns]\n",
    "print(len(df_mi.columns))\n",
    "df_mi.columns[df_mi.columns.duplicated()]"
   ]
  },
  {
   "cell_type": "code",
   "execution_count": null,
   "metadata": {},
   "outputs": [],
   "source": [
    "#thresholds new (with added cores)\n",
    "ls_sample = ['JP-TMA2-1','JP-TMA1-1'] #, 'JP-TMA2-1','JE-TMA-42'\n",
    "df_thresh = pd.DataFrame()\n",
    "for s_sample in ls_sample:\n",
    "    df = pd.read_csv(f'{codedir}/data/thresh_JE_{s_sample}.csv',index_col=0)\n",
    "    df['slide'] = s_sample\n",
    "    df_thresh =df_thresh.append(df)\n",
    "#se_test = df_thresh.loc['global'].dropna() #drop 'PDGFRa', 'ColI'"
   ]
  },
  {
   "cell_type": "code",
   "execution_count": null,
   "metadata": {},
   "outputs": [],
   "source": [
    "df_mi = df_mi.merge(df_xy,left_index=True, right_index=True)\n",
    "df_mi.rename({'nuclei_area':'area','nuclei_eccentricity':'eccentricity'},axis=1,inplace=True)"
   ]
  },
  {
   "cell_type": "code",
   "execution_count": null,
   "metadata": {},
   "outputs": [],
   "source": [
    "df_mi.columns"
   ]
  },
  {
   "cell_type": "code",
   "execution_count": null,
   "metadata": {},
   "outputs": [],
   "source": [
    "#save\n",
    "#s_out = f'{codedir}/data/20211221_JP-TMA2_FilteredMeanIntensity.csv'\n",
    "s_out = f'{codedir}/data/20220118_JP-TMAs_FilteredMeanIntensity.csv'\n",
    "if not os.path.exists(s_out):\n",
    "    print('saving csv')\n",
    "    df_mi.to_csv(s_out)"
   ]
  },
  {
   "cell_type": "markdown",
   "metadata": {},
   "source": [
    "# thresholding <a name=\"load\"></a>\n",
    "\n",
    "load thresholds, apply to get positive/negative\n",
    "\n",
    "filter out edge cores\n",
    "\n",
    "JP-TMA1 (?) done in 20211207_JP-TMA_ER_cluster.ipynb\n",
    "\n",
    "[contents](#contents)"
   ]
  },
  {
   "cell_type": "code",
   "execution_count": null,
   "metadata": {},
   "outputs": [],
   "source": [
    "d_thresh = {}\n",
    "for s_sample in ['JP-TMA2-1','JP-TMA1-1']\n",
    "    d_combos = {'Tumor':{'AR', 'EGFR', 'ER', 'Ecad','HER2', 'PgR'},\n",
    "                'Immune':{'CD20', 'CD3', 'CD4', 'CD44', 'CD45', 'CD68', 'CD8','FoxP3', 'GRNZB','PD1'},\n",
    "                'Differentiation':{'CK14', 'CK17', 'CK19', 'CK5', 'CK7', 'CK8'},\n",
    "                'Stroma':{ 'CD31','PDPN',  'Vim', 'aSMA','ColIV'},\n",
    "                'Nuclear': {'LamAC', 'LamB1','LamB2','H3K27', 'H3K4','Ki67','PCNA'},\n",
    "                'Signal':{ 'CoxIV',   'Glut1',  'pAKT', 'pERK', 'pHH3', 'pRB', 'pS6RP','BMP2'},\n",
    "                'DAPI':{'DAPI1','DAPI6','DAPI10','DAPI12'}\n",
    "                }\n",
    "    #load manual thresholds\n",
    "    df_thresh = viz.load_thresh_csv(s_sample)"
   ]
  },
  {
   "cell_type": "code",
   "execution_count": null,
   "metadata": {},
   "outputs": [],
   "source": [
    "#filter\n",
    "d_filter = {\n",
    " #'JP-TMA1-1_scene001':((df_xy.DAPI_Y < 1000) | (df_xy.DAPI_X < 500) | (df_xy.DAPI_X > 4500)| (df_xy.DAPI_Y > 5000)),\n",
    " 'JP-TMA2-1_scene03': ((df_xy.DAPI_Y > 6000)),\n",
    " 'JP-TMA2-1_scene04': ((df_xy.DAPI_Y > 5000)),\n",
    " 'JP-TMA2-1_scene05': ((df_xy.DAPI_Y < 1000)),    \n",
    " 'JP-TMA2-1_scene06': ((df_xy.DAPI_Y < 1000)),        \n",
    " 'JP-TMA2-1_scene07': ((df_xy.DAPI_Y < 1000) | (df_xy.DAPI_Y > 6000) | (df_xy.DAPI_X < 1000)),      \n",
    " 'JP-TMA2-1_scene09': ((df_xy.DAPI_X > 5000)),    \n",
    " 'JP-TMA2-1_scene10': ((df_xy.DAPI_Y < 1000) | (df_xy.DAPI_X > 6000) | (df_xy.DAPI_X < 1000)),     \n",
    " 'JP-TMA2-1_scene11': ((df_xy.DAPI_Y < 1000)),     \n",
    " 'JP-TMA2-1_scene14': ((df_xy.DAPI_Y > 5000)),\n",
    " 'JP-TMA2-1_scene15': ((df_xy.DAPI_X > 5000)),    \n",
    " 'JP-TMA2-1_scene16': ((df_xy.DAPI_Y < 1200)),      \n",
    " 'JP-TMA2-1_scene17': ((df_xy.DAPI_Y > 5000)),\n",
    " 'JP-TMA2-1_scene18': ((df_xy.DAPI_Y < 800)),  \n",
    " 'JP-TMA2-1_scene19': ((df_xy.DAPI_X < 800)),  \n",
    " 'JP-TMA2-1_scene21': ((df_xy.DAPI_Y < 1500)),   \n",
    " 'JP-TMA2-1_scene27': ((df_xy.DAPI_Y > 4500)),\n",
    " 'JP-TMA2-1_scene28': ((df_xy.DAPI_Y > 4500)),\n",
    " 'JP-TMA2-1_scene30': ((df_xy.DAPI_Y < 1500)),  \n",
    " 'JP-TMA2-1_scene31': ((df_xy.DAPI_Y < 1500)),  \n",
    " 'JP-TMA2-1_scene32': ((df_xy.DAPI_Y > 4000)), \n",
    "}\n",
    "ls_filter_all = []\n",
    "for s_scene, filtercon in d_filter.items():\n",
    "    ls_filter = df_xy[(df_xy.slide_scene==s_scene) & filtercon].index.tolist()\n",
    "    ls_filter_all = ls_filter_all + ls_filter"
   ]
  },
  {
   "cell_type": "code",
   "execution_count": null,
   "metadata": {},
   "outputs": [],
   "source": [
    "#threshold\n",
    "d_thresh_record,df_pos = viz.threshold_postive(df_thresh,df_mi2.loc[(~df_mi2.index.isin(ls_filter_all)),(df_mi2.dtypes=='float64') | (df_mi2.columns=='slide_scene')])"
   ]
  },
  {
   "cell_type": "code",
   "execution_count": null,
   "metadata": {},
   "outputs": [],
   "source": [
    "#markers by type\n",
    "s_type = 'Tumor'\n",
    "s_type = 'DAPI'\n",
    "plt.ioff()\n",
    "\n",
    "ls_fig = viz.plot_positive(s_type,d_combos,df_pos,d_thresh_record,df_xy)\n",
    "\n",
    "#manual gating\n",
    "#df_man = pd.read_csv(f'{codedir}/data/20211115_JP-TMAs_GatedPositiveCellNames.csv',index_col=0)\n",
    "#df_man['celltype3'] = df_man.celltype.replace({'endothelial':'stromal','tumor':'epithelial'})"
   ]
  },
  {
   "cell_type": "code",
   "execution_count": null,
   "metadata": {},
   "outputs": [],
   "source": [
    "for fig in ls_fig:\n",
    "    plt.show(fig)\n",
    "    break"
   ]
  },
  {
   "cell_type": "code",
   "execution_count": null,
   "metadata": {},
   "outputs": [],
   "source": [
    "#df_pos.loc[:,['DAPI1_nuclei','DAPI6_nuclei','DAPI10_nuclei','DAPI12_nuclei']].sum()/len(df_pos)\n",
    "df_pos.loc[:,['DAPI1','DAPI6','DAPI10','DAPI12']].sum()/len(df_pos)"
   ]
  },
  {
   "cell_type": "code",
   "execution_count": null,
   "metadata": {},
   "outputs": [],
   "source": [
    "df_pos_manual = pd.merge(df_pos,df_xy.loc[:,['DAPI_X','DAPI_Y']],left_index=True,right_index=True)"
   ]
  },
  {
   "cell_type": "code",
   "execution_count": null,
   "metadata": {},
   "outputs": [],
   "source": [
    "len(df_pos_manual)"
   ]
  },
  {
   "cell_type": "code",
   "execution_count": null,
   "metadata": {},
   "outputs": [],
   "source": [
    "len(df_pos)"
   ]
  },
  {
   "cell_type": "code",
   "execution_count": null,
   "metadata": {},
   "outputs": [],
   "source": [
    "s_out = '20211221_JP-TMA2_ManualPositive.csv'\n",
    "if not os.path.exists(s_out):\n",
    "    print('saving csv')\n",
    "    df_pos_manual.to_csv(s_out)"
   ]
  },
  {
   "cell_type": "markdown",
   "metadata": {},
   "source": [
    "### gating <a name=\"gating\"></a>\n",
    "\n",
    "specify combinations of manual postive/negative to get heiarchically gated call types\n",
    "\n",
    "[contents](#contents)"
   ]
  },
  {
   "cell_type": "code",
   "execution_count": null,
   "metadata": {},
   "outputs": [],
   "source": [
    "#gating\n",
    "# library\n",
    "import os\n",
    "import pandas as pd\n",
    "import shutil\n",
    "from mplex_image import analyze\n",
    "import numpy as np\n",
    "\n",
    "# const input output\n",
    "s_path = \"/home/groups/graylab_share/OMERO.rdsStore/engje/Data/20200000/20200406_JP-TMAs/data\"\n",
    "\n",
    "ls_file = [\"20211207_JP-TMA1_ManualPositive\",\"20211221_JP-TMA2_ManualPositive\"] \n",
    "s_out = '20211221_JP-TMAs'\n",
    "\n",
    "df_data = pd.DataFrame()\n",
    "\n",
    "for s_file in ls_file:\n",
    "    print(f'Loading {s_file}')\n",
    "    df_tt = pd.read_csv(f'{s_path}/{s_file}.csv', index_col=0)\n",
    "    df_data=df_data.append(df_tt, sort=True)\n",
    "\n",
    "# do we want slide or scene?\n",
    "df_data['slide'] = [item.split('_')[0] for item in df_data.index]\n",
    "df_data['scene'] = [item.split('_')[1] for item in df_data.index]\n",
    "#call slide_scene \"slide\"\n",
    "df_data['slide'] = df_data.slide + '_' + df_data.scene\n",
    "df_data.drop('scene',axis=1,inplace=True)"
   ]
  },
  {
   "cell_type": "code",
   "execution_count": null,
   "metadata": {},
   "outputs": [],
   "source": [
    "#parameters (as in 20210312_JP_TNP-TMAs_GateCellTypes.pynb)\n",
    "from mplex_image import gating\n",
    "# cell types\n",
    "ls_endothelial = ['CD31']\n",
    "ls_immune = ['CD45','CD3'] #no 'CD68 for JP-TMA AACR analysis\n",
    "ls_tumor = ['CK7','CK19','CK5','CK14','Ecad'] \n",
    "ls_prolif = ['Ki67']\n",
    "\n",
    "#tcell/myeloid\n",
    "s_tcell = 'CD3' \n",
    "s_bcell = 'CD20'\n",
    "s_myeloid = 'CD68'\n",
    "ls_immune_functional = ['PD1','FoxP3','Ki67','GRNZB'] #\n",
    "\n",
    "#luminal/basal/mesenchymal\n",
    "ls_luminal = ['CK19','CK7','CK8'] #\n",
    "ls_basal = ['CK5','CK14','CK17'] \n",
    "ls_mes = ['Vim'] \n",
    "ls_tumor_plus = ['EGFR', 'CD44', 'Ecad', 'Lum_all', 'Bas_all', 'Mes_all', 'ER', 'HER2_all']\n",
    "ls_stromal_function =  ['Vim','aSMA','PDPN','ColI','CD68'] #'CAV1',\n",
    "ls_tumor_prolif = ['PCNA','Ki67','pHH3']  \n",
    "ls_tumor_signal = ['CoxIV','pS6RP','LamAC','pRB']#['BCL2','CoxIV','pS6RP']\n",
    "\n",
    "#index of cell line samples (i.e. 100% tumor)\n",
    "ls_cellline_index = ['TNP-TMA-7_scene11','TNP-TMA-7_scene13','TNP-TMA-7_scene19',\n",
    "                    'TNP-TMA-7_scene22','TNP-TMA-7_scene33','TNP-TMA-7_scene38',\n",
    "                    'TNP-TMA-7_scene42','TNP-TMA-7_scene44','TNP-TMA-7_scene55',\n",
    "                    'TNP-TMA-7_scene66','TNP-TMA-7_scene77','TNP-TMA-7_scene78',\n",
    "                    'TNP-TMA-7_scene82','TNP-TMA-7_scene88','JE-TMA-63_scene06',\n",
    "                    'JE-TMA-63_scene02','JE-TMA-63_scene03','JE-TMA-63_scene05',\n",
    "                    'JE-TMA-63_scene08','JE-TMA-63_scene09','JE-TMA-63_scene10',\n",
    "                    'JE-TMA-63_scene11','JE-TMA-63_scene13','JE-TMA-63_scene14',\n",
    "                    'JE-TMA-42_scene02','JE-TMA-42_scene03','JE-TMA-42_scene05','JE-TMA-42_scene06',\n",
    "                    'JE-TMA-42_scene08','JE-TMA-42_scene09','JE-TMA-42_scene10',\n",
    "                    'JE-TMA-42_scene11','JE-TMA-42_scene13','JE-TMA-42_scene14']\n",
    "d_rename = {'CD4':'CD4_Ring','CD8':'CD8_Ring',\n",
    "           'HER2':'HER2_Ring','ER':'ER_Nuclei','PgR':'PgR_Nuclei'}\n",
    "df_data = df_data.rename(d_rename, axis=1)\n",
    "if df_data.columns.str.contains('PgR_Nuclei').sum() > 0:\n",
    "    df_data.drop('PgR_Nuclei',axis=1,inplace=True)\n",
    "df_data.columns"
   ]
  },
  {
   "cell_type": "code",
   "execution_count": null,
   "metadata": {},
   "outputs": [],
   "source": [
    "%%capture\n",
    "#custom gating\n",
    "df_data = gating.main_celltypes(df_data,ls_endothelial,ls_immune,ls_tumor,ls_cellline_index)\n",
    "df_data = gating.proliferation(df_data,ls_prolif)\n",
    "df_data = gating.immune_types(df_data,s_myeloid,s_bcell,s_tcell)\n",
    "df_data = gating.immune_functional(df_data,ls_immune_functional)\n",
    "df_data = gating.cell_prolif(df_data)\n",
    "df_data = gating.diff_hr_state(df_data,ls_luminal,ls_basal,ls_mes)"
   ]
  },
  {
   "cell_type": "code",
   "execution_count": null,
   "metadata": {},
   "outputs": [],
   "source": [
    "#have to use lum all Bas all \n",
    "(df_data.loc[((df_data.celltype=='tumor') & (~df_data.slide_scene.isin(ls_cellline_index))),['Lum_all','Bas_all','Ecad']].sum(axis=1)==0).sum()"
   ]
  },
  {
   "cell_type": "code",
   "execution_count": null,
   "metadata": {},
   "outputs": [],
   "source": [
    "%%capture\n",
    "#even more tumor states\n",
    "df_func = analyze.combinations(df_data,ls_tumor_plus)\n",
    "s_celltype = 'tumor'\n",
    "s_new_name='TumorDiffPlus'\n",
    "df_data = df_data.merge(df_func,how='left', left_index=True, right_index=True, suffixes = ('_all',''))\n",
    "ls_cell_names = df_func.columns.tolist()\n",
    "analyze.add_celltype(df_data, ls_cell_names, s_new_name)\n",
    "df_data.loc[df_data[df_data.celltype != s_celltype].index,s_new_name] = np.nan\n",
    "d_replace = dict(zip(df_data.loc[:,'TumorDiffPlus'].dropna().unique(),[item.replace('_all','') for item in df_data.loc[:,'TumorDiffPlus'].dropna().unique()]))\n",
    "df_data['TumorDiffPlus'] = df_data.TumorDiffPlus.replace(d_replace)"
   ]
  },
  {
   "cell_type": "code",
   "execution_count": null,
   "metadata": {},
   "outputs": [],
   "source": [
    "%%capture\n",
    "#general gating\n",
    "df_data = gating.celltype_gates(df_data,ls_tumor_prolif,s_new_name='TumorProlif',s_celltype='tumor')\n",
    "#df_data = gating.celltype_gates(df_data,ls_tumor_plus,s_new_name='TumorDiffPlus',s_celltype='tumor')\n",
    "df_data = gating.celltype_gates(df_data,ls_stromal_function,s_new_name='StromalType',s_celltype='stromal')\n",
    "df_data = gating.celltype_gates(df_data,ls_tumor_signal,s_new_name='TumorSignal',s_celltype='tumor')\n",
    "df_data = gating.non_tumor(df_data)"
   ]
  },
  {
   "cell_type": "code",
   "execution_count": null,
   "metadata": {},
   "outputs": [],
   "source": [
    "#check\n",
    "#df_data.loc[:,df_data.dtypes=='object'].columns"
   ]
  },
  {
   "cell_type": "code",
   "execution_count": null,
   "metadata": {},
   "outputs": [],
   "source": [
    "#drop extra colums\n",
    "df_gate = df_data.loc[:,df_data.dtypes!='bool']#.drop(['BMP2', 'ColIV', 'Glut1', 'pAKT', 'H3K27', 'LamB1', 'LamB2', 'pERK',\n",
    "       #'CSF1R', 'CAV1', 'BCL2', 'MUC1', 'CCND1', 'RAD51', 'gH2AX'],axis=1)"
   ]
  },
  {
   "cell_type": "code",
   "execution_count": null,
   "metadata": {},
   "outputs": [],
   "source": [
    "s_out = '20211221_JP-TMAs'\n",
    "if not os.path.exists(f'{s_out}_GatedPositiveCellNames.csv'):\n",
    "    print('saving new csv')\n",
    "    df_gate.to_csv(f'{s_out}_GatedPositiveCellNames.csv')"
   ]
  },
  {
   "cell_type": "markdown",
   "metadata": {},
   "source": [
    "### load gated "
   ]
  },
  {
   "cell_type": "code",
   "execution_count": null,
   "metadata": {},
   "outputs": [],
   "source": [
    "os.chdir(datadir)\n",
    "s_gate = '20211221_JP-TMAs_GatedPositiveCellNames.csv'\n",
    "df_data = pd.read_csv(s_gate,index_col=0)"
   ]
  },
  {
   "cell_type": "markdown",
   "metadata": {},
   "source": [
    "### colocalization <a name=\"coloc\"></a>\n",
    "\n",
    "load pixel coverage per single cell segmentation mask (calculated in 20201005_JP-TMA_Pipeline.py)\n",
    "\n",
    "calculate manders coeffcients differentiate true double positive cells from false positive caused by lateral bleed through\n",
    "\n",
    "[contents](#contents)"
   ]
  },
  {
   "cell_type": "code",
   "execution_count": null,
   "metadata": {},
   "outputs": [],
   "source": [
    "df_coloc = pd.DataFrame()\n",
    "for s_slide in ['JP-TMA1-1','JP-TMA2-1']: #,'JE-TMA-42','TNP-TMA-7','JE-TMA-63',\n",
    "    df_coloc = df_coloc.append(pd.read_csv(f'{codedir}/data/features_{s_slide}_Colocalization.csv',index_col=0))\n",
    "    break"
   ]
  },
  {
   "cell_type": "code",
   "execution_count": null,
   "metadata": {},
   "outputs": [],
   "source": [
    "#df_coloc.head()"
   ]
  },
  {
   "cell_type": "markdown",
   "metadata": {},
   "source": [
    "# Background subtract <a name=\"leiden\"></a>\n",
    "\n",
    "subtract background intensity defined by manual thresholds\n",
    "\n",
    " done in 20211207_JP-TMA_ER_cluster.ipynb\n",
    "\n",
    "\n",
    "[contents](#contents)"
   ]
  },
  {
   "cell_type": "code",
   "execution_count": null,
   "metadata": {},
   "outputs": [],
   "source": [
    "#s_mi =  f'{codedir}/data/20211221_JP-TMA2_FilteredMeanIntensity.csv'\n",
    "s_mi =  f'{codedir}/data/20220118_JP-TMAs_FilteredMeanIntensity.csv' #both TMA\n",
    "df_mi2 = pd.read_csv(s_mi,index_col=0)\n",
    "df_mi2['slide'] = [item.split('_')[0] for item in df_mi2.slide_scene]"
   ]
  },
  {
   "cell_type": "code",
   "execution_count": null,
   "metadata": {},
   "outputs": [],
   "source": [
    "#subtract background\n",
    "ls_sample = ['JP-TMA2-1', 'JP-TMA1-1']\n",
    "df_bg_all = pd.DataFrame()\n",
    "for s_sample in ls_sample:\n",
    "    print(s_sample)\n",
    "    d_bg = df_thresh[df_thresh.slide==s_sample].loc['global'].dropna().drop('slide').to_dict()\n",
    "    df_bg = df_mi2[df_mi2.slide==s_sample].copy()\n",
    "    print(len(df_bg))\n",
    "    for s_marker, i_thresh in d_bg.items():\n",
    "        df_bg[s_marker] = np.clip(df_mi2.loc[df_mi2.slide==s_sample,s_marker] - i_thresh*256, a_min=0.01, a_max=None) #amin not 0\n",
    "    df_bg_all = df_bg_all.append(df_bg)\n",
    "    #break"
   ]
  },
  {
   "cell_type": "code",
   "execution_count": null,
   "metadata": {},
   "outputs": [],
   "source": [
    "df_bg_all.loc[df_bg_all.slide_scene.isin(dd_special.keys()),['CD20','CD44','CD45']].mean()"
   ]
  },
  {
   "cell_type": "code",
   "execution_count": null,
   "metadata": {},
   "outputs": [],
   "source": [
    "df_bg_all.loc[~df_bg_all.slide_scene.isin(dd_special.keys()),['CD20','CD44','CD45']].mean()"
   ]
  },
  {
   "cell_type": "code",
   "execution_count": null,
   "metadata": {},
   "outputs": [],
   "source": [
    "#specicial BG subtract\n",
    "dd_special = {'JP-TMA1-1_scene105':{'CD20':77,'CD44':9.5}, #8952 cells\n",
    " 'JP-TMA1-1_scene041':{'CD20':51,'CD44':9}, #6515 cells\n",
    "             }\n",
    "for s_scene, d_bg in dd_special.items():\n",
    "    #print(len(df_mi2[df_mi2.slide_scene==s_scene]))\n",
    "    for s_marker, i_thresh in d_bg.items():\n",
    "        #print(df_thresh.loc[df_thresh.slide==s_scene.split('_')[0]].loc['global',s_marker])\n",
    "        #print(i_thresh)\n",
    "        df_bg_all.loc[df_mi2.slide_scene==s_scene,s_marker] = np.clip(df_mi2.loc[df_mi2.slide_scene==s_scene,s_marker] - i_thresh*256, a_min=0.01, a_max=None)\n",
    "        #break"
   ]
  },
  {
   "cell_type": "code",
   "execution_count": null,
   "metadata": {},
   "outputs": [],
   "source": [
    "for s_key in dd_special.keys():\n",
    "    print(df_bg_all.loc[df_bg_all.slide_scene.isin([s_key]),['CD20','CD44','CD45']].mean())"
   ]
  },
  {
   "cell_type": "code",
   "execution_count": null,
   "metadata": {},
   "outputs": [],
   "source": [
    "df_bg_all.loc[~df_bg_all.slide_scene.isin(dd_special.keys()),['CD20','CD44','CD45']].mean()"
   ]
  },
  {
   "cell_type": "code",
   "execution_count": null,
   "metadata": {},
   "outputs": [],
   "source": [
    "df_bg_all"
   ]
  },
  {
   "cell_type": "code",
   "execution_count": null,
   "metadata": {},
   "outputs": [],
   "source": [
    "#save\n",
    "s_out = f'{codedir}/data/20220118_JP-TMAs_BGSubtractedMeanIntensity.csv'\n",
    "if not os.path.exists(s_out):\n",
    "    print('saving csv')\n",
    "    df_bg_all.to_csv(s_out)"
   ]
  },
  {
   "cell_type": "markdown",
   "metadata": {},
   "source": [
    "## Umap <a name=\"l7\"></a>\n",
    "\n",
    "umap projection of single cells\n",
    "\n",
    "first use all markers, all subtypes, just to evaluate markers\n",
    "\n",
    "[contents](#contents)"
   ]
  },
  {
   "cell_type": "code",
   "execution_count": null,
   "metadata": {},
   "outputs": [],
   "source": [
    "import scanpy as sc\n",
    "import os\n",
    "import pandas as pd\n",
    "import seaborn as sns\n",
    "import matplotlib.pyplot as plt"
   ]
  },
  {
   "cell_type": "code",
   "execution_count": null,
   "metadata": {},
   "outputs": [],
   "source": [
    "os.chdir(datadir)\n",
    "s_sample = '20211221_JP-TMAs'\n",
    "s_gate = f'{s_sample}_GatedPositiveCellNames.csv'\n",
    "df_man = pd.read_csv(s_gate,index_col=0)\n",
    "#df_norm = pd.DataFrame()\n",
    "#for s_slide in ['20211207_JP-TMA1','20211221_JP-TMA2']:\n",
    "#    df_norm = df_norm.append(pd.read_csv(f'{s_slide}_BGSubtractedMeanIntensity.csv',index_col=0))\n",
    "s_sample = '20220118_JP-TMAs'\n",
    "df_norm  = pd.read_csv(f'{s_sample}_BGSubtractedMeanIntensity.csv',index_col=0) #20220118_JP-TMAs_BGSubtractedMeanIntensity.csv\n",
    "df_man['celltype3'] = df_man.celltype.replace({'tumor':'epithelial','endothelial':'stromal'})\n",
    "print(len(df_norm))"
   ]
  },
  {
   "cell_type": "code",
   "execution_count": null,
   "metadata": {},
   "outputs": [],
   "source": [
    "d_replace = {'Basal like Cells':'TNBC', 'Claudin-Low Cells':'TNBC', 'Colon Cancer':'other', #'ER+',\n",
    " 'HER2 Cells':'HER2+', #'HER2+',\n",
    " 'Luminal A Cells':'ER+', 'Luminal B Cells':'ER+',\n",
    " #'Normal Breast', #'Normal Tonsil',\n",
    " 'Pancreas':'other', 'Smooth muscle':'other',\n",
    " #'TNBC','other'\n",
    "            }"
   ]
  },
  {
   "cell_type": "code",
   "execution_count": null,
   "metadata": {},
   "outputs": [],
   "source": [
    "#ER+\n",
    "df_exclude = pd.read_csv('exclude_JP-TMA-1_ER+_34markers_leiden0.6_20.csv',index_col=0)\n",
    "\n",
    "ls_exclude = ['JP-TMA1-1_scene038_cell6690', 'JP-TMA1-1_scene038_cell6694','JP-TMA1-1_scene038_cell6697', 'JP-TMA1-1_scene038_cell6698',  'JP-TMA1-1_scene038_cell6700', 'JP-TMA1-1_scene038_cell6701',\n",
    "       'JP-TMA1-1_scene038_cell6702', 'JP-TMA1-1_scene038_cell6703', 'JP-TMA1-1_scene038_cell6704', 'JP-TMA1-1_scene038_cell6705',    'JP-TMA1-1_scene038_cell6706', 'JP-TMA1-1_scene038_cell6707',\n",
    "       'JP-TMA1-1_scene038_cell6708', 'JP-TMA1-1_scene038_cell6709',       'JP-TMA1-1_scene038_cell6710', 'JP-TMA1-1_scene038_cell6711',       'JP-TMA1-1_scene038_cell6712', 'JP-TMA1-1_scene038_cell6713',       'JP-TMA1-1_scene038_cell6714', 'JP-TMA1-1_scene038_cell6715',\n",
    "       'JP-TMA1-1_scene038_cell6716', 'JP-TMA1-1_scene038_cell6717',       'JP-TMA1-1_scene038_cell6718', 'JP-TMA1-1_scene038_cell6719',       'JP-TMA1-1_scene038_cell6720', 'JP-TMA1-1_scene038_cell6721',       'JP-TMA1-1_scene038_cell6722', 'JP-TMA1-1_scene038_cell6723',\n",
    "       'JP-TMA1-1_scene038_cell6724', 'JP-TMA1-1_scene038_cell6725',       'JP-TMA1-1_scene038_cell6726', 'JP-TMA1-1_scene038_cell6727',       'JP-TMA1-1_scene038_cell6728', 'JP-TMA1-1_scene038_cell6729',       'JP-TMA1-1_scene038_cell6730', 'JP-TMA1-1_scene038_cell6731',\n",
    "       'JP-TMA1-1_scene038_cell6732', 'JP-TMA1-1_scene038_cell6733',       'JP-TMA1-1_scene038_cell6734', 'JP-TMA1-1_scene038_cell6735',       'JP-TMA1-1_scene038_cell6736', 'JP-TMA1-1_scene038_cell6737',       'JP-TMA1-1_scene038_cell6738', 'JP-TMA1-1_scene038_cell6739',\n",
    "       'JP-TMA1-1_scene038_cell6740', 'JP-TMA1-1_scene038_cell6741',       'JP-TMA1-1_scene038_cell6742', 'JP-TMA1-1_scene038_cell6743',       'JP-TMA1-1_scene038_cell6744', 'JP-TMA1-1_scene038_cell6745',       'JP-TMA1-1_scene038_cell6746', 'JP-TMA1-1_scene038_cell6747',\n",
    "       'JP-TMA1-1_scene038_cell6748', 'JP-TMA1-1_scene038_cell6749',       'JP-TMA1-1_scene038_cell6750', 'JP-TMA1-1_scene038_cell6751',       'JP-TMA1-1_scene038_cell6752', 'JP-TMA1-1_scene038_cell6753',       'JP-TMA1-1_scene038_cell6754', 'JP-TMA1-1_scene038_cell6755',\n",
    "       'JP-TMA1-1_scene038_cell6756', 'JP-TMA1-1_scene038_cell6757',       'JP-TMA1-1_scene038_cell6758', 'JP-TMA1-1_scene038_cell6759',       'JP-TMA1-1_scene038_cell6760', 'JP-TMA1-1_scene038_cell6761',       'JP-TMA1-1_scene038_cell6762', 'JP-TMA1-1_scene038_cell6763',\n",
    "       'JP-TMA1-1_scene038_cell6764', 'JP-TMA1-1_scene038_cell6765',       'JP-TMA1-1_scene038_cell6766', 'JP-TMA1-1_scene038_cell6767',       'JP-TMA1-1_scene038_cell6768', 'JP-TMA1-1_scene038_cell6769',       'JP-TMA1-1_scene038_cell6770', 'JP-TMA1-1_scene038_cell6771',\n",
    "       'JP-TMA1-1_scene038_cell6772', 'JP-TMA1-1_scene038_cell6773',       'JP-TMA1-1_scene038_cell6774', 'JP-TMA1-1_scene038_cell6775',       'JP-TMA1-1_scene038_cell6776', 'JP-TMA1-1_scene038_cell6777',       'JP-TMA1-1_scene038_cell6778', 'JP-TMA1-1_scene038_cell6779',\n",
    "       'JP-TMA1-1_scene038_cell6780', 'JP-TMA1-1_scene038_cell6781',       'JP-TMA1-1_scene038_cell6782', 'JP-TMA1-1_scene038_cell6783',       'JP-TMA1-1_scene038_cell6784', 'JP-TMA1-1_scene038_cell6785',       'JP-TMA1-1_scene038_cell6786', 'JP-TMA1-1_scene038_cell6787',\n",
    "       'JP-TMA1-1_scene038_cell6788', 'JP-TMA1-1_scene038_cell6789',       'JP-TMA1-1_scene038_cell6790', 'JP-TMA1-1_scene038_cell6791',       'JP-TMA1-1_scene038_cell6792',\n",
    "        'JP-TMA1-1_scene038_cell3327', 'JP-TMA1-1_scene080_cell1795',       'JP-TMA1-1_scene038_cell574', 'JP-TMA1-1_scene009_cell5642',\n",
    "       'JP-TMA1-1_scene038_cell3278', 'JP-TMA1-1_scene092_cell4080'  #HER2\n",
    "             ]\n",
    "ls_exclude_all = sorted(set(df_norm[df_norm.loc[:,'PD1'] > 1365].loc[:,'PD1'].index.tolist()).union(set(ls_exclude))) #PD1\n",
    "df_exclude = df_exclude.append(pd.DataFrame(index=ls_exclude_all,columns=df_exclude.columns))\n",
    "df_exclude_er = df_exclude.copy()\n",
    "print(len(df_exclude_er))"
   ]
  },
  {
   "cell_type": "code",
   "execution_count": null,
   "metadata": {},
   "outputs": [],
   "source": [
    "#manual TNBCs\n",
    "df_exclude = pd.read_csv('exclude_JP-TMA1-1_scene029.csv',index_col=0)#pd.DataFrame() #pd.read_csv('exclude_JP-TMA-1_ER+_34markers_leiden0.6_20.csv',index_col=0)\n",
    "df_exclude = df_exclude.append(pd.read_csv('exclude_JP-TMA1-1_scene070.csv',index_col=0))\n",
    "df_exclude = df_exclude.append(pd.read_csv('exclude_JP-TMA1-1_scene017.csv',index_col=0))\n",
    "df_exclude = df_exclude.append(pd.read_csv('exclude_JP-TMA-1_TNBC_32markers_leiden0.6_31.csv',index_col=0))\n",
    "df_exclude = df_exclude.append(pd.read_csv('exclude_JP-TMA-1_TNBC_30markers_leiden0.4_25.csv',index_col=0))\n",
    "\n",
    "ls_index_tn = df_norm.slide_scene.map(d_cyc_sub).loc[df_exclude_er.index][df_norm.slide_scene.map(d_cyc_sub).loc[df_exclude_er.index]=='TNBC'].index\n",
    "print(len(df_exclude) + len(df_exclude_er))\n",
    "df_exclude = df_exclude.append(df_exclude_er)\n",
    "print(len(df_exclude))\n",
    "print(df_exclude.index.duplicated().sum()) #but duplictes don't matter"
   ]
  },
  {
   "cell_type": "code",
   "execution_count": null,
   "metadata": {},
   "outputs": [],
   "source": [
    "#32 features\n",
    "s_type = 'all'\n",
    "ls_col = ['EGFR', 'HER2', 'BMP2', 'CD20', 'CD3', 'CD31', 'CD4', 'CD44', 'CD45',\n",
    "       'CD68', 'CD8',  'ColIV', 'CoxIV', 'Glut1', 'PD1', #'PDGFRa','ColI',\n",
    "       'PDPN',  'R1c2', 'Vim', 'aSMA',\n",
    "        'pS6RP', 'CK14', 'CK17',  'CK5', 'CK7', 'CK8',# 'Ecad','CK19',\n",
    "       'AR', 'DAPI11', 'ER', 'FoxP3', 'GRNZB', 'H3K27', 'H3K4',  'Ki67', 'LamAC',\n",
    "       'LamB1', 'LamB2', 'PCNA', 'PgR', 'area', #'cPARP', 'gH2AX', 'pERK', 'pHH3', 'pRB','HIF1a','pAKT','DAPI_Y', 'DAPI_X',\n",
    "        'eccentricity']\n",
    "#almost same features as IMC\n",
    "ls_col = [ 'CD31', 'CD44', 'CD45','CD20','CD3','CD4','CD8',#\n",
    "        'CK14','CK5','EGFR', 'CK19',  'CK8','CK7','Ecad',  #\n",
    "       'Ki67','ER','PgR','CD68', 'aSMA','ColI','HER2', #i wish we had 'FN', it would be similar to Colagen I...\n",
    "        'Vim','area'] #\n",
    "print(len(ls_col))\n",
    "#adata = sc.AnnData(df_norm.merge(df_both.loc[:,['area','eccentricity']],left_index=True,right_index=True).loc[:,ls_col])\n",
    "adata = sc.AnnData(df_norm.loc[((df_norm.DAPI12pos) & (~df_norm.index.isin(df_exclude.index))),ls_col]) #487449 cells versus 602881\n",
    "adata.obs['slide_scene'] = [item.split('_cell')[0] for item in adata.obs.index]\n",
    "adata.obs['subtype'] = adata.obs.slide_scene.map(d_cyc_sub).fillna('other').replace(d_replace)\n",
    "#two subtypes\n",
    "adata.obs['TMA'] = [item.split('_')[0] for item in adata.obs.index]\n",
    "adata.obs['celltype'] = df_man.loc[adata.obs.index,'celltype']\n",
    "if s_type == 'all':\n",
    "    adata = adata[adata.obs.subtype.isin(['TNBC', 'ER+','HER2+','ER+HER2+','Normal Breast'])]\n",
    "else:\n",
    "    adata = adata[adata.obs.subtype.isin(['TNBC', 'ER+'])]  \n",
    "print(len(adata))"
   ]
  },
  {
   "cell_type": "code",
   "execution_count": null,
   "metadata": {},
   "outputs": [],
   "source": [
    "#include two TNBC TMAs\n",
    "print(adata.obs['TMA'].unique())\n",
    "print(adata.obs['subtype'].unique())"
   ]
  },
  {
   "cell_type": "code",
   "execution_count": null,
   "metadata": {
    "scrolled": true
   },
   "outputs": [],
   "source": [
    "#raw\n",
    "b_scale = True\n",
    "adata.raw = adata\n",
    "#reduce dimensionality\n",
    "sc.tl.pca(adata, svd_solver='auto')\n",
    "fig,ax=plt.subplots(figsize=(3.5,5))\n",
    "sc.pl.highest_expr_genes(adata, n_top=48,ax=ax,save=f'Expression_{len(ls_col)}.png')\n",
    "plt.tight_layout()\n",
    "sc.pl.pca_variance_ratio(adata,n_pcs=32, log=True)\n",
    "\n",
    "if b_scale:\n",
    "    sc.pp.scale(adata, zero_center=False, max_value=20)\n",
    "    s_sample = s_sample + '_s'"
   ]
  },
  {
   "cell_type": "code",
   "execution_count": null,
   "metadata": {},
   "outputs": [],
   "source": [
    "len(ls_col)"
   ]
  },
  {
   "cell_type": "code",
   "execution_count": null,
   "metadata": {
    "scrolled": true
   },
   "outputs": [],
   "source": [
    "#umap\n",
    "for n_neighbors in [30,15]:\n",
    "    results_file = f'{s_sample}_{n_neighbors}neighbors_{s_type}_{len(ls_col)}markers.h5ad'\n",
    "    if not os.path.exists(results_file):\n",
    "        print('calc umap')\n",
    "        # calculate neighbors \n",
    "        sc.pp.neighbors(adata, n_neighbors=n_neighbors) #, method='rapids'\n",
    "        sc.tl.umap(adata)\n",
    "    else:\n",
    "        print('loading umap')\n",
    "        adata = sc.read_h5ad(results_file)\n",
    "        adata.obs['slide_scene'] = [item.split('_cell')[0] for item in adata.obs.index]\n",
    "        adata.obs['subtype'] = adata.obs.slide_scene.map(d_cyc_sub).fillna('other').replace(d_replace)\n",
    "        adata.obs['celltype'] = df_man.loc[adata.obs.index,'celltype']\n",
    "    #save results\n",
    "\n",
    "    #color by markers\n",
    "    #figname = f\"Umap{s_sample}_markers_{n_neighbors}neighbors_{len(ls_col)}markers.png\"\n",
    "    #sc.pl.umap(adata, color=ls_col,vmin='p1.5',vmax='p98.5',save=figname,ncols=6)\n",
    "    #color by TMA\n",
    "    figname = f\"Umap{s_sample}_TMA_{n_neighbors}neighbors_{s_type}_{len(ls_col)}markers.png\"\n",
    "    fig,ax = plt.subplots(figsize=(3,2), dpi=200)\n",
    "    sc.pl.umap(adata, color='TMA',wspace=.25,save=figname,ax=ax)\n",
    "    \n",
    "    figname = f\"Umap{s_sample}_subtype_{n_neighbors}neighbors_{s_type}_{len(ls_col)}markers.png\"\n",
    "    fig,ax = plt.subplots(figsize=(3,2), dpi=200)\n",
    "    sc.pl.umap(adata, color='subtype',wspace=.25,save=figname,ax=ax)\n",
    "    \n",
    "    figname = f\"Umap{s_sample}_celltype3_{n_neighbors}neighbors_{s_type}_{len(ls_col)}markers.png\"\n",
    "    fig,ax = plt.subplots(figsize=(3,2), dpi=200)\n",
    "    sc.pl.umap(adata, color='celltype',wspace=.25,save=figname,ax=ax,legend_loc='on data')\n",
    "    \n",
    "    if not os.path.exists(results_file):\n",
    "        print(\"writing\")\n",
    "        adata.write(results_file)\n",
    "    break\n"
   ]
  },
  {
   "cell_type": "code",
   "execution_count": null,
   "metadata": {},
   "outputs": [],
   "source": [
    "figname = f\"Umap{s_sample}_subtype_{n_neighbors}neighbors_{s_type}_{len(ls_col)}markers.png\"\n",
    "fig,ax = plt.subplots(figsize=(3,2), dpi=200)\n",
    "palette  = {'ER+':'C0','ER+HER2+':'C1','HER2+':'C2','TNBC':'C3','Normal Breast':'C4'}\n",
    "sc.pl.umap(adata, color='subtype',wspace=.25,save=figname,ax=ax,palette=palette)"
   ]
  },
  {
   "cell_type": "markdown",
   "metadata": {},
   "source": [
    "##  Cluster Leiden <a name=\"l8\"></a>\n",
    "\n",
    "cluster umap projection of single cells\n",
    "\n",
    "\n",
    "[contents](#contents)"
   ]
  },
  {
   "cell_type": "code",
   "execution_count": null,
   "metadata": {
    "scrolled": true
   },
   "outputs": [],
   "source": [
    "#cluster\n",
    "s_sample = '20220118_JP-TMAs_s'#'20211221_JP-TMAs_s'\n",
    "n_neighbors = 30 #15 #30 #16\n",
    "n_markers = 23 #22 #32 # 34 #32 #40 #34\n",
    "s_type = 'all' #'2sub'\n",
    "resolution = 0.4\n",
    "results_file = f'{s_sample}_{n_neighbors}neighbors_{n_markers}markers_{s_type}_leiden{resolution}.h5ad'\n",
    "if not os.path.exists(results_file):\n",
    "    print('clustering')\n",
    "    sc.tl.leiden(adata,resolution=resolution)\n",
    "    adata.write(results_file)\n",
    "else:\n",
    "    print('loading leiden')\n",
    "    adata = sc.read_h5ad(results_file)\n",
    "\n",
    "fig,ax = plt.subplots(figsize=(3,2),dpi=200)\n",
    "figname=f'leiden_{n_neighbors}_{n_markers}_{resolution}_{s_type}_nolegend.png'\n",
    "sc.pl.umap(adata, color='leiden',ax=ax,save=figname,title=figname.split('.png')[0].replace('_',' '),legend_loc=None)\n",
    "\n",
    "\n",
    "#fig,ax = plt.subplots(figsize=(3,2),dpi=200)\n",
    "#figname=f'leiden_{n_neighbors}_{n_markers}_{resolution}_{s_type}.png'\n",
    "#sc.pl.umap(adata, color='leiden',ax=ax,save=figname,title=figname.split('.png')[0].replace('_',' '))"
   ]
  },
  {
   "cell_type": "code",
   "execution_count": null,
   "metadata": {},
   "outputs": [],
   "source": [
    "#merge\n",
    "'''\n",
    "if results_file == '20211207_JP-TMA1_16neighbors_34markers_ER+_leiden0.8.h5ad':\n",
    "    print('annotating')\n",
    "    ls_merge = ['17', '12', '14','20','10','4']\n",
    "    adata[adata.obs.leiden.isin(ls_merge)].to_df().to_csv('annotated_JP-TMA1-1_unmarked_stroma.csv')\n",
    "elif results_file == '20211207_JP-TMA1_15neighbors_30markers_TNBC_leiden0.4.h5ad':\n",
    "    print('annotating')\n",
    "    ls_merge = ['24','20','23','25']\n",
    "    adata[adata.obs.leiden.isin(ls_merge)].to_df().to_csv(f'annotated_JP-TMA1-1_unmarked_stroma_{s_type}.csv')\n",
    "elif results_file == '20211221_JP-TMAs_s_30neighbors_21markers_2sub_leiden0.5.h5ad':\n",
    "    #none  '36', '41', '33', '37' # colI '28', '34', '35', '38', #vim '19', '21' no #Ecad '32', '17' no\n",
    "    print('annotating')\n",
    "    ls_merge = ['34', '35', '38','36', '41', '33', '37','28']\n",
    "    adata[adata.obs.leiden.isin(ls_merge)].to_df().to_csv(f'annotated_JP-TMAs_unmarked_stroma_{s_type}.csv')\n",
    "'''"
   ]
  },
  {
   "cell_type": "code",
   "execution_count": null,
   "metadata": {
    "scrolled": true
   },
   "outputs": [],
   "source": [
    "#viz\n",
    "'''\n",
    "ls_merge = ['34', '35', '38','36', '41', '33', '37','28'] # merge into 28? #39? #33 is in tumor a bit\n",
    "adata.obs['test'] = (adata.obs.leiden.isin(ls_merge)).replace({True:1,False:0})\n",
    "sc.pl.umap(adata, color='test',title='merged')\n",
    "#ls_merge = ['28'] #16\n",
    "#adata.obs['test'] = (adata.obs.leiden.isin(ls_merge)).replace({True:1,False:0})\n",
    "#sc.pl.umap(adata, color='test',title=ls_merge[0])\n",
    "'''"
   ]
  },
  {
   "cell_type": "code",
   "execution_count": null,
   "metadata": {
    "scrolled": true
   },
   "outputs": [],
   "source": [
    "sc.pl.umap(adata, color='Vim',vmin='p1.5',vmax='p98.5')\n",
    "sc.pl.umap(adata, color='ColI',vmin='p1.5',vmax='p98.5')\n",
    "sc.pl.umap(adata, color='Ecad',vmin='p1.5',vmax='p98.5')"
   ]
  },
  {
   "cell_type": "markdown",
   "metadata": {},
   "source": [
    "## Annotate Leiden <a name=\"lbar\"></a>\n",
    "\n",
    "annotate epitelial, immune a stroma cell types\n",
    "\n",
    "also visualize cluster results on tissue scatter plots. Additional visualization done using 20201018_JP-TMAs_napari.py,\n",
    "to visualize ome.tiff created in 20201005_JP-TMA_Pipeline.py\n",
    "\n",
    "\n",
    "[contents](#contents)"
   ]
  },
  {
   "cell_type": "code",
   "execution_count": null,
   "metadata": {},
   "outputs": [],
   "source": [
    "os.chdir(f'{codedir}/data')"
   ]
  },
  {
   "cell_type": "code",
   "execution_count": null,
   "metadata": {},
   "outputs": [],
   "source": [
    "s_sample_man = '20211221_JP-TMAs'\n",
    "s_gate = f'{s_sample_man}_GatedPositiveCellNames.csv'\n",
    "df_man = pd.read_csv(s_gate,index_col=0)\n",
    "df_man['celltype3'] = df_man.celltype.replace({'tumor':'epithelial','endothelial':'stromal'})\n"
   ]
  },
  {
   "cell_type": "code",
   "execution_count": null,
   "metadata": {},
   "outputs": [],
   "source": [
    "s_sample_norm = '20220118_JP-TMAs'\n",
    "df_norm  = pd.read_csv(f'{s_sample_norm}_BGSubtractedMeanIntensity.csv',index_col=0) #20220118_JP-TMAs_BGSubtractedMeanIntensity.csv\n",
    "print(len(df_norm))"
   ]
  },
  {
   "cell_type": "code",
   "execution_count": null,
   "metadata": {},
   "outputs": [],
   "source": [
    "#load leiden\n",
    "s_sample = '20211221_JP-TMAs'\n",
    "s_gate = f'{s_sample}_GatedPositiveCellNames.csv'\n",
    "df_man = pd.read_csv(s_gate,index_col=0)\n",
    "\n",
    "s_sample = '20220118_JP-TMAs_s'#'20211221_JP-TMAs_s'\n",
    "n_neighbors = 30 #15 #30 #16\n",
    "n_markers = 23 #22 #32 # 34 #32 #40 #34\n",
    "s_type = 'all' #'2sub'\n",
    "resolution = 0.4\n",
    "results_file = f'{s_sample}_{n_neighbors}neighbors_{n_markers}markers_{s_type}_leiden{resolution}.h5ad'\n",
    "adata = sc.read_h5ad(results_file)"
   ]
  },
  {
   "cell_type": "code",
   "execution_count": null,
   "metadata": {
    "scrolled": true
   },
   "outputs": [],
   "source": [
    "#unmarked stroma\n",
    "#df_str = pd.read_csv(f'annotated_JP-TMA1-1_unmarked_stroma_{s_type}.csv',index_col=0)\n",
    "#df_str = pd.read_csv(f'annotated_JP-TMAs_unmarked_stroma_{s_type}.csv',index_col=0)\n",
    "fig,ax = plt.subplots(figsize=(3,2),dpi=200)\n",
    "figname=f'leiden_{n_neighbors}_{n_markers}_{resolution}_{s_type}_legend.png'\n",
    "sc.pl.umap(adata, color='leiden',ax=ax,save=figname,title=figname.split('.png')[0].replace('_',' '))\n",
    "\n",
    "results_file"
   ]
  },
  {
   "cell_type": "code",
   "execution_count": null,
   "metadata": {},
   "outputs": [],
   "source": [
    "ls_col = ['CD31','Ecad','ColI','Vim','CD45']\n",
    "figname = f\"Umap_markers_{n_neighbors}neighbors_{len(ls_col)}markers_{s_type}.png\"\n",
    "title=figname.split('.png')[0].replace('_',' ')\n",
    "sc.pl.umap(adata, color=ls_col,vmin='p1.5',vmax='p99',ncols=5,save=figname)"
   ]
  },
  {
   "cell_type": "code",
   "execution_count": null,
   "metadata": {},
   "outputs": [],
   "source": [
    "# annotate\n",
    "df_p = adata.to_df()\n",
    "df_p['leiden'] = adata.obs['leiden'].astype('str')\n",
    "\n",
    "'''OLD #df_p = pd.DataFrame(data=adata.X,index=adata.obs.index,columns=adata.var.index)\n",
    "#ls_merge = ['17', '12', '14','20','10','4']\n",
    "#df_p.loc[df_p.leiden.isin(ls_merge),'leiden'] = '20'\n",
    "if results_file == '20211207_JP-TMA1_15neighbors_30markers_TNBC_leiden0.4.h5ad':\n",
    "    print('merging')\n",
    "    df_p.loc[df_p.index.isin(df_str.index),'leiden'] = '20'\n",
    "elif results_file == '20211207_JP-TMA1_30neighbors_30markers_TNBC_leiden0.4.h5ad':\n",
    "    print('merging')\n",
    "    df_p.loc[df_p.leiden.isin(['16','18','20']),'leiden'] = '16'\n",
    "'''\n",
    "if results_file =='20211207_JP-TMA1_30neighbors_33markers_ER+_leiden0.4.h5ad':\n",
    "    tum_clust = ['8', '9', '10', '0', '11', '4', '13','12','3']\n",
    "    str_clust = ['15', '5', '7','14'] #14 is macrophage\n",
    "    imm_clust = ['1','2'] \n",
    "    endo_clust = ['6']\n",
    "elif results_file == '20211207_JP-TMA1_15neighbors_32markers_TNBC_leiden0.4.h5ad': #10 is in epithelial half (caused by laminAC)\n",
    "    tum_clust=['21','17','14', '20','2','3', '11', '9', '13', '18', '8', '7','5']\n",
    "    str_clust = ['0', '1', '10', '12',  '15',  '19',   '22', '6'] \n",
    "    imm_clust = ['4','16'] #0 is macrophage\n",
    "    endo_clust = ['12']\n",
    "elif results_file == '20211207_JP-TMA1_15neighbors_30markers_TNBC_leiden0.4_old.h5ad':\n",
    "    tum_clust=['21','14','4','2', '9', '18', '11', '5', '7', '15', '20', '3', '19', '10',]\n",
    "    str_clust = ['0', '1', '12',  '16', '17',  '22', '23', '24', '25', '26',  '8'] \n",
    "    imm_clust = ['6','13'] # 0 macrophage\n",
    "    endo_clust = ['1','20','8']\n",
    "elif results_file == '20211207_JP-TMA1_16neighbors_30markers_TNBC_leiden0.4.h5ad':\n",
    "    tum_clust=[ '18', '11', '5',  '3', '19', '10', '1', '13', '14',  '6', '8','7']\n",
    "    str_clust = ['17','20','0',  '12',  '16',  '21', '22', '23', '24', '25'] \n",
    "    imm_clust = ['4','15'] # 0 macrophage\n",
    "    endo_clust = ['2','9']  \n",
    "elif results_file == '20211207_JP-TMA1_15neighbors_30markers_TNBC_leiden0.4.h5ad':\n",
    "    tum_clust=['5','21','17','4', '10', '12', '13', '7', '15', '6', '3', '19', '9']#17 and 21 split\n",
    "    str_clust = ['0',  '11', '16',  '18', '20',    '22',  ] #'23', '24', '25', \n",
    "    imm_clust = ['2','14'] # 0 macrophage\n",
    "    endo_clust = ['1','8']\n",
    "elif results_file =='20211207_JP-TMA1_30neighbors_30markers_TNBC_leiden0.4.h5ad':\n",
    "    tum_clust = ['15','1', '7', '11', '3', '19', '5', '4', '17','6', '9']\n",
    "    str_clust = ['0', '10', '12', '13',  '16', '18', '2', '20', ] #16 18 20 unmarked\n",
    "    imm_clust = ['14','8']\n",
    "    endo_clust = ['2','10']\n",
    "elif results_file == '20211221_JP-TMAs_30neighbors_30markers_TNBC_leiden0.4.h5ad':\n",
    "    ls_merge = ['30', '26', '29', '28', '31', '33',]\n",
    "    df_p.loc[df_p.leiden.isin(ls_merge),'leiden'] = '26'\n",
    "    ls_merge = ['21', '34',]\n",
    "    df_p.loc[df_p.leiden.isin(ls_merge),'leiden'] = '21'\n",
    "    tum_clust = []\n",
    "    str_clust = [ ] #16 18 20 unmarked\n",
    "    imm_clust = []\n",
    "    endo_clust = []    \n",
    "elif results_file =='20211221_JP-TMAs_30neighbors_30markers_TNBC_leiden0.3.h5ad':\n",
    "    ls_merge = ['17', '22', '20', '24',]\n",
    "    df_p.loc[df_p.leiden.isin(ls_merge),'leiden'] = '17'\n",
    "    ls_merge = ['25','1']\n",
    "    df_p.loc[df_p.leiden.isin(ls_merge),'leiden'] = '1'\n",
    "    #ls_merge = ['19','26']\n",
    "    #df_p.loc[df_p.leiden.isin(ls_merge),'leiden'] = '19'\n",
    "    tum_clust = ['7','13','5', '26', '4', '11', '25', '19', '1', '6', '12', '10', '9', '16', '21', '14',] #7 is tum\n",
    "    str_clust = [ '15', '17', '2',  '23',  '3',  '8'] \n",
    "    imm_clust = ['0','18']\n",
    "    endo_clust = ['23']   \n",
    "elif results_file == '20211221_JP-TMAs_s_30neighbors_21markers_2sub_leiden0.5.h5ad':\n",
    "    print('both')\n",
    "    #unmarked stroma\n",
    "    ls_merge = ['34', '35', '38','36', '41', '33', '37','28','19'] #include 19\n",
    "    df_p.loc[df_p.leiden.isin(ls_merge),'leiden'] = '19'\n",
    "    ls_merge = ['32','17']\n",
    "    #low expressing tumor\n",
    "    df_p.loc[df_p.leiden.isin(ls_merge),'leiden'] = '17'\n",
    "    #some colI\n",
    "    ls_merge = ['29','39']\n",
    "    df_p.loc[df_p.leiden.isin(ls_merge),'leiden'] = '29'\n",
    "elif results_file == '20220118_JP-TMAs_s_30neighbors_22markers_2sub_leiden0.5.h5ad':\n",
    "    tum_clust = ['13', '15', '27', '16', '0', '11', '24', '5', '1', '3', '9',\n",
    "                  '4', '14', '20', ] \n",
    "    str_clust = [] \n",
    "    imm_clust = ['2','6','25'] # 8 is macrophage\n",
    "    endo_clust = ['22']   \n",
    "elif results_file == '20220118_JP-TMAs_s_30neighbors_22markers_2sub_leiden0.4.h5ad':\n",
    "    print('good one')\n",
    "    tum_clust = ['22', '17', '24', '1', '11',  '6', '20', '0', '14', '3', '15',  '2t','10',] #2 is t/str '21'and 24, merege to 1\n",
    "    str_clust = ['12', '13', '16', '18', '7', '8', '2s'] \n",
    "    imm_clust = ['4','5','23','9'] # 9 is macrophage\n",
    "    endo_clust = ['19']  \n",
    "    fb_clust = ['7','8','12']\n",
    "    #split 2 into tum and stroma\n",
    "    df_p= df_p.merge(df_man.loc[:,['celltype']],left_index=True,right_index=True)\n",
    "    df_p.leiden = df_p.leiden.astype('str')\n",
    "    df_p.loc[((df_p.leiden=='2')& (df_p.celltype!='tumor')),'leiden'] = '2s'\n",
    "    df_p.loc[((df_p.leiden=='2')& (df_p.celltype=='tumor')),'leiden'] = '2t'\n",
    "    #print((df_p.leiden=='24').sum())\n",
    "    #pgr not good ab\n",
    "    ls_merge = ['24','21','17','1']\n",
    "    df_p = df_p.drop('PgR',axis=1)\n",
    "    df_p.loc[df_p.leiden.isin(ls_merge),'leiden'] = '1'\n",
    "    #colI+ vim+ FB\n",
    "    ls_merge = ['18','8'] #13 is colI-\n",
    "    df_p.loc[df_p.leiden.isin(ls_merge),'leiden'] = '8'\n",
    "    #merge lum t\n",
    "    ls_merge = ['22','0'] \n",
    "    df_p.loc[df_p.leiden.isin(ls_merge),'leiden'] = '0'\n",
    "    #merge CK lo t\n",
    "    ls_merge = ['14','3','16'] \n",
    "    df_p.loc[df_p.leiden.isin(ls_merge),'leiden'] = '3'\n",
    "    #fix prolif\n",
    "    df_p.loc[((df_p.index.str.contains('JP-TMA1-1')) & (df_p.Ki67 > 0.2)),'leiden'] = '6'\n",
    "elif results_file == '20220118_JP-TMAs_s_30neighbors_23markers_all_leiden0.4.h5ad':\n",
    "    print('good one all subtypes')\n",
    "    #split CD44 into tum and stroma\n",
    "    df_p= df_p.merge(df_man.loc[:,['celltype']],left_index=True,right_index=True)\n",
    "    df_p.leiden = df_p.leiden.astype('str')\n",
    "    df_p.loc[((df_p.leiden=='3')& (df_p.celltype!='tumor')),'leiden'] = '3s'\n",
    "    df_p.loc[((df_p.leiden=='3')& (df_p.celltype=='tumor')),'leiden'] = '3t'\n",
    "    tum_clust = ['4', '12', '15', '18','5', '20','17','3t','0','11','7','22'] #11 ck lo 7 ecad lo\n",
    "    str_clust = ['16', '8']\n",
    "    imm_clust = ['13','1','21','9'] #9 is macrophage\n",
    "    endo_clust = ['19']\n",
    "    fb_clust = ['14','6','10','2','3s']\n",
    "    \n",
    "#df_p.groupby('leiden').mean().Ecad.sort_values(ascending=False).index\n",
    "#set(df_p.groupby('leiden').mean().CK19.sort_values(ascending=False).index) - set(tum_clust + imm_clust )\n",
    "#set(tum_clust)"
   ]
  },
  {
   "cell_type": "code",
   "execution_count": null,
   "metadata": {
    "scrolled": false
   },
   "outputs": [],
   "source": [
    "#clustermap\n",
    "b_annot = True\n",
    "\n",
    "d_named = {'4':'Luminal ER+ t.', '12':'Basal t.', '15':'HER2+ t.', '18':'HER2++ t.','22':'HER2++ t.', '19':'endothelial', '20':'EGFR+ t.', '5':'Prolif. t.',\n",
    " '9':'Macrophage', '17':'Myoepithelial', '14':'ColI+ FB', '6':'Vim+ FB', '10':'FB', '16':'Quies. str.', '8':'Quies. str.',\n",
    " '2':'Vim+ FB', '7':'CK lo. t.', '3s':'CD44+ str.', '3t':'CD44+ t.', '0':'Luminal t.', '11':'CK lo. t.', '13':'CD8 T cell',\n",
    " '1':'CD4 T cell', '21':'CD20 B cell'}\n",
    "\n",
    "d_replace = {}\n",
    "d_replace.update(dict(zip(tum_clust,[f'epithelial' for item in tum_clust])))\n",
    "d_replace.update(dict(zip(str_clust,[f'stromal' for item in str_clust])))\n",
    "d_replace.update(dict(zip(imm_clust,[f'immune' for item in imm_clust])))\n",
    "d_replace.update(dict(zip(endo_clust,[f'endothelial' for item in endo_clust])))\n",
    "d_replace.update(dict(zip(fb_clust,[f'fibroblast' for item in fb_clust])))\n",
    "df_plot = df_p.groupby('leiden').mean()\n",
    "\n",
    "df_plot.index.name = f'leiden {resolution}'\n",
    "d_color = dict(zip(['endothelial', 'epithelial', 'fibroblast', 'immune', 'stromal'],sns.color_palette()[0:5]))\n",
    "if b_annot:\n",
    "    row_colors = df_plot.index.astype('str').map(d_replace).map(d_color)\n",
    "    g = sns.clustermap(df_plot,z_score=1,figsize=(9,7),cmap='viridis',row_colors=row_colors,#method='single',\n",
    "                   vmin=-1.5,vmax=1.5)\n",
    "    for label in d_color.keys():\n",
    "        g.ax_row_dendrogram.bar(0, 0, color=d_color[label],\n",
    "                                label=label, linewidth=0)\n",
    "    g.ax_row_dendrogram.legend(loc=\"right\", ncol=1)\n",
    "    g.ax_heatmap.set_ylabel('')\n",
    "    marker_genes = df_plot.iloc[:,g.dendrogram_col.reordered_ind].columns.tolist()\n",
    "    categories_order = df_plot.iloc[g.dendrogram_row.reordered_ind,:].index.tolist()\n",
    "    labels = [f\"{item}: {d_named[item]}\" for item in categories_order]\n",
    "    g.ax_heatmap.set_yticklabels(labels)\n",
    "else:\n",
    "    g = sns.clustermap(df_plot,z_score=1,figsize=(9,7),cmap='viridis',#row_colors=row_colors,#method='single',\n",
    "                   vmin=-1.5,vmax=1.5)\n",
    "g.savefig(f'{codedir}/{s_date}/{s_sample}_clustermap_{n_neighbors}_{n_markers}markers_{s_type}_leiden{resolution}.png',dpi=200)\n"
   ]
  },
  {
   "cell_type": "code",
   "execution_count": null,
   "metadata": {
    "scrolled": true
   },
   "outputs": [],
   "source": [
    "#ER+ leiden 0.6 notes 34 markers\n",
    "#look for artifact: REMOVE: 20\n",
    "#20 scene35 - most of this tissue is faint AF in EGFR,HER2,PDPN. take out 20, but sacrifice scene 35\n",
    "#20 scene 108 most of tumor lost, maybe analysis @ an ealier round would be better?, looks like R1c1 AF\n",
    "#21 looks like a patch of smooth muscle in 42, myoepithelial in 98\n",
    "#15 is endothelial\n",
    "#24 are immune CD20, out of focus. Could merge with 5\n",
    "#19 is tumor with PD1 bright dots: need to exclude cells with extremely high PD1 (scene007 and 073)\n",
    "#10 grnzb in a few cells. could merge with 1 and 23. take out grnzb from clustering\n",
    "# 8 small cells because of unfocesed DAPI in scene 32. remove area? \n",
    "#22 is very PgR bright.\n",
    "#23 is tumor, segmentation not great - lots of eccentricity. can't trust morphology much in some of these cores\n",
    "#plan: recluster: take out PD1, GRNZ, area, eccentricity, DAPI11 cluster 20 \n",
    "\n",
    "#ER+ 32 markers leiden 0.6 notes\n",
    "# 17 is real, take out R1 c2\n",
    "#don't understand 12. HER2 driven?? filter outliers HER2 q=.99999\n",
    "#filter ouliters PD1: real PD1 is maximum 800-maybe 1300,use q=.9993.  artifact is 1600+\n",
    "#28 Ki67 ... weird\n",
    "\n",
    "#20220408\n",
    "#15 and 18 are her2+\n",
    "\n",
    "\n",
    "s_clust = '17'\n",
    "df_p['slide_scene'] = [item.split('_cell')[0] for item in df_p.index]\n",
    "df_p.groupby(['leiden','slide_scene']).count().loc[s_clust].iloc[:,1].sort_values(ascending=False)[0:30]"
   ]
  },
  {
   "cell_type": "code",
   "execution_count": null,
   "metadata": {},
   "outputs": [],
   "source": [
    "from mplex_image import analyze\n",
    "df_data = df_norm\n",
    "colors = mpl.cm.tab20b.colors + mpl.cm.tab20c.colors\n",
    "\n",
    "df_pos = analyze.celltype_to_bool(df_p,'leiden')\n",
    "df_pos.columns = [str(item) for item in df_pos.columns]"
   ]
  },
  {
   "cell_type": "code",
   "execution_count": null,
   "metadata": {
    "scrolled": true
   },
   "outputs": [],
   "source": [
    "#plot all groups spatially - leiden \n",
    "for s_slide in sorted(set(df_p.slide_scene)):\n",
    "    s_slide = 'JP-TMA1-1_scene029'#JP-TMA1-1_scene055'#'JP-TMA1-1_scene068'#'JP-TMA1-1_scene039'#'JP-TMA1-1_scene055'#'JP-TMA1-1_scene041'#'JP-TMA1-1_scene036'#'JP-TMA1-1_scene048'#'JP-TMA1-1_scene034'#'JP-TMA1-1_scene029'#'JP-TMA1-1_scene007'#'JP-TMA1-1_scene021'\n",
    "    #s_slide = 'JP-TMA2-1_scene24' #'JP-TMA1-1_scene099'#'JP-TMA1-1_scene082'#'JP-TMA2-1_scene24'\n",
    "    fig,ax = plt.subplots(figsize=(5,4.5),dpi=200)\n",
    "    #plot negative cells\n",
    "    df_scene = df_data[df_data.index.str.contains(s_slide)]\n",
    "    ax.scatter(data=df_scene,x='DAPI_X',y='DAPI_Y',color='silver',s=0.1,label=f'')\n",
    "    #for idxs, s_color_int in enumerate(range(len(df_pos.columns))):\n",
    "    for idxs, s_color in enumerate(df_pos.columns):\n",
    "        s_color = s_clust\n",
    "        s_color = str(s_color)\n",
    "        if len(df_p[(df_p.slide_scene==s_slide) & (df_pos.loc[:,s_color])])>=1:\n",
    "            #plot positive cells\n",
    "            ls_index = df_p[(df_p.slide_scene==s_slide) & (df_pos.loc[:,s_color])].index\n",
    "            ax.scatter(data=df_data.loc[ls_index],x='DAPI_X',y='DAPI_Y',label=f'{s_color}',s=0.1,color=colors[idxs])\n",
    "        break\n",
    "    ax.set_title(f\"{s_slide}\", fontsize=16) # \\n {d_a[s_slide]}\n",
    "    ax.axis('equal')\n",
    "    ax.set_ylim(ax.get_ylim()[::-1])\n",
    "    #ax.set_xticklabels('')\n",
    "    #ax.set_yticklabels('')\n",
    "    #break\n",
    "    plt.legend(markerscale=10,framealpha=.5) \n",
    "    #fig.savefig(f'{codedir}/{s_date}/{s_slide}_leiden{resolution}_scatterplot.png')\n",
    "    break"
   ]
  },
  {
   "cell_type": "code",
   "execution_count": null,
   "metadata": {
    "scrolled": true
   },
   "outputs": [],
   "source": [
    "ls_merge = tum_clust# fb_clust #tum_clust #['0','12'] #16\n",
    "adata.obs.leiden = df_p.leiden\n",
    "adata.obs['test'] = (adata.obs.leiden.isin(ls_merge)).replace({True:1,False:0})\n",
    "sc.pl.umap(adata, color='test',title='tumor')\n",
    "print(sum(adata.obs['test'])/len(adata))"
   ]
  },
  {
   "cell_type": "code",
   "execution_count": null,
   "metadata": {},
   "outputs": [],
   "source": [
    "for s_merge in tum_clust:\n",
    "    ls_merge = [s_merge]\n",
    "    adata.obs['test'] = (adata.obs.leiden.isin(ls_merge)).replace({True:1,False:0})\n",
    "    sc.pl.umap(adata, color='test',title=s_merge)"
   ]
  },
  {
   "cell_type": "code",
   "execution_count": null,
   "metadata": {
    "scrolled": true
   },
   "outputs": [],
   "source": [
    "adata.obs['leiden'] = df_p['leiden']\n",
    "fig,ax = plt.subplots(figsize=(3,3),dpi=200)\n",
    "figname=f'leiden_{n_neighbors}_{n_markers}_{resolution}_{s_type}.png'\n",
    "sc.pl.umap(adata, color='leiden',ax=ax,save=figname,title=figname.split('.png')[0].replace('_',' '))"
   ]
  },
  {
   "cell_type": "code",
   "execution_count": null,
   "metadata": {
    "scrolled": true
   },
   "outputs": [],
   "source": [
    "fig,ax=plt.subplots(figsize=(1.4,3.7),dpi=200)\n",
    "df_p.groupby('leiden').count().loc[categories_order[::-1]].iloc[:,1].plot(kind='barh',title='Cell No.',ax=ax,width=0.7)\n",
    "plt.tight_layout()\n",
    "fig.savefig(f'{codedir}/{s_date}/barplot_{s_sample}_{n_neighbors}neighbors_{len(marker_genes)}markers_leiden{resolution}_{s_type}.png')"
   ]
  },
  {
   "cell_type": "code",
   "execution_count": null,
   "metadata": {},
   "outputs": [],
   "source": [
    "'''\n",
    "d_group = {'00-13520-8C': 'epithelial_rich', '00-8939-2D': 'epithelial_rich', '01-16333-3D': 'stroma_rich', '01-20792-3H': 'stroma_rich',\n",
    " '01-22975-1E': 'stroma_rich', '02-5218-4K': 'epithelial_rich', '03-7604-1P': 'epithelial_rich', '90-526-2M': 'epithelial_rich',\n",
    " '90-8392-1A': 'stroma_rich', '92-10570-2E': 'epithelial_rich', '92-16604-B': 'stroma_rich', '92-20731-A': 'stroma_rich',\n",
    " '95-12547-3A': 'stroma_rich', '96-9792-1I': 'stroma_rich', '97-15244-1H': 'epithelial_rich', '98-15913-C': 'epithelial_rich',\n",
    " '99-23192-1B': 'epithelial_rich', '99-6921-F': 'epithelial_rich', 'JP-TMA2-1_scene01': 'epithelial_rich', 'JP-TMA2-1_scene02': 'epithelial_rich',\n",
    " 'JP-TMA2-1_scene03': 'epithelial_rich', 'JP-TMA2-1_scene04': 'epithelial_rich', 'JP-TMA2-1_scene05': 'stroma_rich', 'JP-TMA2-1_scene06': 'epithelial_rich',\n",
    " 'JP-TMA2-1_scene07': 'epithelial_rich', 'JP-TMA2-1_scene09': 'stroma_rich', 'JP-TMA2-1_scene10': 'stroma_rich', 'JP-TMA2-1_scene11': 'stroma_rich',\n",
    " 'JP-TMA2-1_scene12': 'epithelial_rich', 'JP-TMA2-1_scene13': 'epithelial_rich', 'JP-TMA2-1_scene14': 'epithelial_rich', 'JP-TMA2-1_scene15': 'stroma_rich',\n",
    " 'JP-TMA2-1_scene16': 'epithelial_rich', 'JP-TMA2-1_scene17': 'epithelial_rich', 'JP-TMA2-1_scene18': 'epithelial_rich', 'JP-TMA2-1_scene19': 'stroma_rich',\n",
    " 'JP-TMA2-1_scene20': 'epithelial_rich', 'JP-TMA2-1_scene21': 'epithelial_rich', 'JP-TMA2-1_scene22': 'epithelial_rich', 'JP-TMA2-1_scene23': 'epithelial_rich',\n",
    " 'JP-TMA2-1_scene24': 'epithelial_rich', 'JP-TMA2-1_scene25': 'epithelial_rich', 'JP-TMA2-1_scene26': 'epithelial_rich', 'JP-TMA2-1_scene27': 'epithelial_rich',\n",
    " 'JP-TMA2-1_scene28': 'stroma_rich', 'JP-TMA2-1_scene29': 'stroma_rich', 'JP-TMA2-1_scene30': 'stroma_rich', 'JP-TMA2-1_scene31': 'stroma_rich',\n",
    " 'JP-TMA2-1_scene32': 'epithelial_rich', 'JP-TMA2-1_scene33': 'epithelial_rich', 'JP-TMA2-1_scene34': 'epithelial_rich', 'JP-TMA2-1_scene35': 'stroma_rich',\n",
    " 'JP-TMA2-1_scene36': 'epithelial_rich', 'JP-TMA2-1_scene37': 'epithelial_rich', 'JP-TMA2-1_scene38': 'epithelial_rich', 'JP-TMA2-1_scene39': 'stroma_rich',\n",
    " 'JP-TMA2-1_scene40': 'stroma_rich', 'JP-TMA2-1_scene41': 'stroma_rich', 'JP-TMA2-1_scene42': 'epithelial_rich'}\n",
    " '''"
   ]
  },
  {
   "cell_type": "code",
   "execution_count": null,
   "metadata": {
    "scrolled": true
   },
   "outputs": [],
   "source": [
    "\n",
    "df_p['slide'] = [item.split('_cell')[0] for item in df_p.index]\n",
    "df_p['Patient'] = df_p.slide.map(dict(zip(df_cyc_a.index,df_cyc_a.Accession)))\n",
    "'''\n",
    "df_p['Group'] = df_p.Patient.map(d_group)\n",
    "\n",
    "se_plot = df_p[df_p.Group!='not_tumor'].groupby(['leiden','Group']).count().loc[categories_order[::-1]].iloc[:,1]\n",
    "se_plot_frac = se_plot/df_p[df_p.Group!='not_tumor'].groupby(['Group']).count().iloc[:,1]\n",
    "fig,ax=plt.subplots(figsize=(2.5,5),dpi=200)\n",
    "sns.barplot(data=se_plot_frac.reset_index(),y='leiden',x='CD44',hue='Group',orient='h',order=categories_order,ax=ax,hue_order=['stroma_rich','epithelial_rich'])\n",
    "ax.set_xlabel('Fraction of Cells')\n",
    "ax.legend(bbox_to_anchor=(0.3,1.01))\n",
    "fig.savefig(f'{codedir}/{s_date}/barplot_{n_neighbors}neighbors_{len(marker_genes)}markers_leiden{resolution}_bygroup.png')\n",
    "'''"
   ]
  },
  {
   "cell_type": "markdown",
   "metadata": {},
   "source": [
    "## add celltypes"
   ]
  },
  {
   "cell_type": "code",
   "execution_count": null,
   "metadata": {
    "scrolled": true
   },
   "outputs": [],
   "source": [
    "df_p.loc[df_p.leiden.isin(tum_clust),'leidencelltype3'] = 'epithelial'\n",
    "df_p.loc[df_p.leiden.isin(str_clust),'leidencelltype3'] = 'stromal'\n",
    "df_p.loc[df_p.leiden.isin(fb_clust),'leidencelltype3'] = 'stromal'\n",
    "df_p.loc[df_p.leiden.isin(endo_clust),'leidencelltype3'] = 'stromal'\n",
    "df_p.loc[df_p.leiden.isin(imm_clust),'leidencelltype3'] = 'immune'\n",
    "adata.obs['leidencelltype3'] = df_p.leidencelltype3\n",
    "fig,ax = plt.subplots(figsize=(3,2),dpi=200)\n",
    "figname=f'leiden_{n_neighbors}_{n_markers}_{resolution}_{s_type}leidencelltype3.png'\n",
    "sc.pl.umap(adata, color='leidencelltype3',ax=ax,save=figname,title=figname.split('.png')[0].replace('_',' '),legend_loc='on data')"
   ]
  },
  {
   "cell_type": "code",
   "execution_count": null,
   "metadata": {
    "scrolled": true
   },
   "outputs": [],
   "source": [
    "df_p.loc[df_p.leiden.isin(tum_clust),'leidencelltype5'] = 'epithelial'\n",
    "df_p.loc[df_p.leiden.isin(str_clust),'leidencelltype5'] = 'stromal'\n",
    "df_p.loc[df_p.leiden.isin(fb_clust),'leidencelltype5'] = 'fibroblast'\n",
    "df_p.loc[df_p.leiden.isin(endo_clust),'leidencelltype5'] = 'endothelial'\n",
    "df_p.loc[df_p.leiden.isin(imm_clust),'leidencelltype5'] = 'immune'\n",
    "adata.obs['leidencelltype5'] = df_p.leidencelltype5\n",
    "fig,ax = plt.subplots(figsize=(3,2),dpi=200)\n",
    "figname=f'leiden_{n_neighbors}_{n_markers}_{resolution}_{s_type}_leidencelltype5.png'\n",
    "sc.pl.umap(adata, color='leidencelltype5',ax=ax,save=figname,title=figname.split('.png')[0].replace('_',' '))"
   ]
  },
  {
   "cell_type": "code",
   "execution_count": null,
   "metadata": {},
   "outputs": [],
   "source": [
    "#visulaize\n",
    "ls_col = ['CD31','Ecad','Vim','ColI','CD45']\n",
    "figname = f\"Umap_markers_{n_neighbors}neighbors_{len(ls_col)}markers_{s_type}.png\"\n",
    "title=figname.split('.png')[0].replace('_',' ')\n",
    "sc.pl.umap(adata, color=ls_col,vmin='p1.5',vmax='p99',ncols=5,save=figname)"
   ]
  },
  {
   "cell_type": "code",
   "execution_count": null,
   "metadata": {},
   "outputs": [],
   "source": [
    "#df_p.groupby('slide').leidencelltype5.value_counts(normalize=True).unstack().sort_values(by='epithelial')[25:40]"
   ]
  },
  {
   "cell_type": "code",
   "execution_count": null,
   "metadata": {
    "scrolled": true
   },
   "outputs": [],
   "source": [
    "#plot all groups spatially  - manual\n",
    "df_p = df_p.merge(df_man.loc[:,['DAPI_X','DAPI_Y']],left_index=True,right_index=True,suffixes=('c',''))\n",
    "from mplex_image import analyze\n",
    "df_p['slide'] = [item.split('_cell')[0] for item in df_p.index]\n",
    "df_pos = analyze.celltype_to_bool(df_p,'leidencelltype5')\n",
    "df_pos.columns = [str(item) for item in df_pos.columns]\n",
    "for s_slide in sorted(set(df_p.slide)):\n",
    "    s_slide = 'JP-TMA1-1_scene034'\n",
    "    fig,ax = plt.subplots(figsize=(5,3.5),dpi=200)\n",
    "    #plot negative cells\n",
    "    df_scene =df_p[(df_p.slide==s_slide)]\n",
    "    ax.scatter(data=df_scene,x='DAPI_X',y='DAPI_Y',color='silver',s=0.1,label=f'')\n",
    "    #for idxs, s_color_int in enumerate(range(len(df_pos.columns))):\n",
    "    for idxs, s_color in enumerate(df_pos.columns):\n",
    "        #print(s_color)\n",
    "        #s_color = str(s_color_int)\n",
    "        if len(df_p[(df_p.slide==s_slide) & (df_pos.loc[:,s_color])])>=1:\n",
    "            #plot positive cells\n",
    "            ax.scatter(data=df_p[(df_p.slide==s_slide) & (df_pos.loc[:,s_color])],x='DAPI_X',y='DAPI_Y',\n",
    "                                                                        label=f'{s_color}',s=0.1,color=mpl.cm.tab10.colors[idxs])\n",
    "        #break\n",
    "    ax.set_title(f\"{s_slide}\", fontsize=16)\n",
    "    ax.axis('equal')\n",
    "    ax.set_ylim(ax.get_ylim()[::-1])\n",
    "    ax.get_xaxis().set_visible(False)\n",
    "    ax.get_yaxis().set_visible(False)\n",
    "    for spines in ['left','right','top','bottom']:\n",
    "        ax.spines[spines].set_visible(False)\n",
    "\n",
    "    #break\n",
    "    plt.legend(markerscale=10,framealpha=.1,bbox_to_anchor=(.85,.5)) \n",
    "    fig.savefig(f'{codedir}/figures/{s_slide}_gated_cells_scatterplot.png')\n",
    "    break"
   ]
  },
  {
   "cell_type": "code",
   "execution_count": null,
   "metadata": {
    "scrolled": true
   },
   "outputs": [],
   "source": [
    "df_p.loc[df_p.leiden.isin(tum_clust),'leidencelltype4'] = 'epithelial'\n",
    "df_p.loc[df_p.leiden.isin(str_clust),'leidencelltype4'] = 'stromal'\n",
    "df_p.loc[df_p.leiden.isin(fb_clust),'leidencelltype4'] = 'stromal'\n",
    "df_p.loc[df_p.leiden.isin(endo_clust),'leidencelltype4'] = 'endothelial'\n",
    "df_p.loc[df_p.leiden.isin(imm_clust),'leidencelltype4'] = 'immune'\n",
    "adata.obs['leidencelltype4'] = df_p.leidencelltype4\n",
    "fig,ax = plt.subplots(figsize=(3,2),dpi=200)\n",
    "figname=f'leiden_{n_neighbors}_{n_markers}_{resolution}_{s_type}_leidencelltype4.png'\n",
    "sc.pl.umap(adata, color='leidencelltype4',ax=ax,save=figname,title=figname.split('.png')[0].replace('_',' '),legend_loc='on data')"
   ]
  },
  {
   "cell_type": "code",
   "execution_count": null,
   "metadata": {},
   "outputs": [],
   "source": [
    "df_p['celltype'] = df_man.loc[df_p.index,'celltype'].replace({'tumor':'epithelial'})\n",
    "adata.obs['celltype'] = df_p.celltype\n",
    "fig,ax = plt.subplots(figsize=(3,2),dpi=200)\n",
    "figname=f'leiden_{n_neighbors}_{n_markers}_{resolution}_{s_type}celltype.png'\n",
    "sc.pl.umap(adata, color='celltype',ax=ax,save=figname,title=figname.split('.png')[0].replace('_',' '),legend_loc='on data')"
   ]
  },
  {
   "cell_type": "code",
   "execution_count": null,
   "metadata": {
    "scrolled": true
   },
   "outputs": [],
   "source": [
    "df_p['gatedcelltype3'] = df_man.loc[df_p.index,'celltype'].replace({'tumor':'epithelial','endothelial':'stromal'})\n",
    "adata.obs['gatedcelltype3'] = df_p.gatedcelltype3\n",
    "fig,ax = plt.subplots(figsize=(3,2),dpi=200)\n",
    "figname=f'leiden_{n_neighbors}_{n_markers}_{resolution}_{s_type}gatedcelltype3.png'\n",
    "sc.pl.umap(adata, color='gatedcelltype3',ax=ax,save=figname,title=figname.split('.png')[0].replace('_',' '),legend_loc='on data')"
   ]
  },
  {
   "cell_type": "code",
   "execution_count": null,
   "metadata": {
    "scrolled": true
   },
   "outputs": [],
   "source": [
    "#viz\n",
    "np.quantile(df_p.ColI,.75)\n",
    "adata.obs['test'] = pd.Series(adata.obs.index.isin(df_p[(df_p.ColI>3)].index)).replace({True:1,False:0}).values\n",
    "sc.pl.umap(adata, color='test',title='ColI')\n",
    "adata.obs['test'] = pd.Series(adata.obs.index.isin(df_p[(df_p.Vim>1)].index)).replace({True:1,False:0}).values\n",
    "sc.pl.umap(adata, color='test',title='Vim')\n",
    "adata.obs['test'] = pd.Series(adata.obs.index.isin(df_p[((df_p.Vim>1) | (df_p.ColI>4)) & (df_p.celltype=='stromal')].index)).replace({True:1,False:0}).values\n",
    "sc.pl.umap(adata, color='test',title='Vim ColI')"
   ]
  },
  {
   "cell_type": "code",
   "execution_count": null,
   "metadata": {
    "scrolled": true
   },
   "outputs": [],
   "source": [
    "df_p['gatedcelltype5'] = df_man.loc[df_p.index,'celltype'].replace({'tumor':'epithelial'})\n",
    "df_p.loc[((df_p.Vim>.8) | (df_p.ColI>3)) & (df_p.celltype=='stromal'),'gatedcelltype5'] = 'fibroblast'\n",
    "adata.obs['gatedcelltype5'] = df_p.gatedcelltype5\n",
    "\n",
    "fig,ax = plt.subplots(figsize=(3,2),dpi=200)\n",
    "figname=f'leiden_{n_neighbors}_{n_markers}_{resolution}_{s_type}_gatedcelltype5.png'\n",
    "sc.pl.umap(adata, color='gatedcelltype5',ax=ax,save=figname,title=figname.split('.png')[0].replace('_',' '))"
   ]
  },
  {
   "cell_type": "code",
   "execution_count": null,
   "metadata": {
    "scrolled": true
   },
   "outputs": [],
   "source": [
    "pd.DataFrame(df_p.groupby('gatedcelltype5').count().CD31/len(df_p)) #FB 15% in clusters 7, 8, 12"
   ]
  },
  {
   "cell_type": "code",
   "execution_count": null,
   "metadata": {},
   "outputs": [],
   "source": [
    "df_test = df_p[df_p.slide_scene.str.contains('JP-TMA2')]\n",
    "pd.DataFrame(df_test.groupby('gatedcelltype5').count().CD31/len(df_test))"
   ]
  },
  {
   "cell_type": "code",
   "execution_count": null,
   "metadata": {
    "scrolled": true
   },
   "outputs": [],
   "source": [
    "pd.DataFrame(df_p.groupby('leidencelltype5').count().CD31/len(df_p))"
   ]
  },
  {
   "cell_type": "code",
   "execution_count": null,
   "metadata": {
    "scrolled": true
   },
   "outputs": [],
   "source": [
    "import sklearn\n",
    "labels = sorted(df_p.gatedcelltype5.unique())\n",
    "confusion_matrix = sklearn.metrics.confusion_matrix(df_p.gatedcelltype5,df_p.leidencelltype5,labels=labels)\n",
    "#accuracy\n",
    "i_acc = sklearn.metrics.accuracy_score(df_p.gatedcelltype5,df_p.leidencelltype5)\n",
    "disp = sklearn.metrics.ConfusionMatrixDisplay(confusion_matrix,display_labels=labels)\n",
    "fig, ax = plt.subplots(figsize = (5,5))\n",
    "disp.plot(xticks_rotation='vertical',ax=ax) \n",
    "ax.set_ylabel('Gating Celltype')\n",
    "ax.set_xlabel(' Clustering Celltype')\n",
    "ax.set_title(f'Gating vs Clustering \\n accuracy = {i_acc:.2}')\n",
    "plt.tight_layout()\n",
    "fig.savefig(f'{codedir}/{s_date}/Confusion_matrix_leiden{resolution}_5cells.png',dpi=300)\n",
    "#4\n",
    "labels = sorted(df_p.celltype.unique())\n",
    "confusion_matrix = sklearn.metrics.confusion_matrix(df_p.celltype,df_p.leidencelltype4,labels=labels)\n",
    "#accuracy\n",
    "i_acc = sklearn.metrics.accuracy_score(df_p.celltype,df_p.leidencelltype4)\n",
    "disp = sklearn.metrics.ConfusionMatrixDisplay(confusion_matrix,display_labels=labels)\n",
    "fig, ax = plt.subplots(figsize = (5,5),dpi=300)\n",
    "disp.plot(xticks_rotation='vertical',ax=ax) \n",
    "ax.set_ylabel('Gating Celltype')\n",
    "ax.set_xlabel('Clustering Celltype')\n",
    "ax.set_title(f'CycIF Gating vs Clustering \\n accuracy = {i_acc:.2}')\n",
    "plt.tight_layout()\n",
    "fig.savefig(f'{codedir}/{s_date}/Confusion_matrix_leiden{resolution}_4cells.png',dpi=300)\n",
    "#3\n",
    "labels = sorted(df_p.gatedcelltype3.unique())\n",
    "confusion_matrix = sklearn.metrics.confusion_matrix(df_p.gatedcelltype3,df_p.leidencelltype3,labels=labels)\n",
    "#accuracy\n",
    "i_acc = sklearn.metrics.accuracy_score(df_p.gatedcelltype3,df_p.leidencelltype3)\n",
    "disp = sklearn.metrics.ConfusionMatrixDisplay(confusion_matrix,display_labels=labels)\n",
    "fig, ax = plt.subplots(figsize = (5,5))\n",
    "disp.plot(xticks_rotation='vertical',ax=ax) \n",
    "ax.set_ylabel('Gating Celltype')\n",
    "ax.set_xlabel(' Clustering Celltype')\n",
    "ax.set_title(f'Gating vs Clustering \\n accuracy = {i_acc:.2}')\n",
    "plt.tight_layout()\n",
    "fig.savefig(f'{codedir}/{s_date}/Confusion_matrix_leiden{resolution}_3cells.png',dpi=300)"
   ]
  },
  {
   "cell_type": "code",
   "execution_count": null,
   "metadata": {},
   "outputs": [],
   "source": [
    "df_p.leiden.nunique()"
   ]
  },
  {
   "cell_type": "code",
   "execution_count": null,
   "metadata": {},
   "outputs": [],
   "source": [
    "#save good one '20211207_JP-TMA1_LeidenClustering_neighbors15_resolution0.4_markers30_TNBC.csv'\n",
    "#incl TMA2 '20211221_JP-TMAs_LeidenClustering_neighbors30_resolution0.3_markers30_TNBC.csv'\n",
    "#s_out = f'20211221_JP-TMAs_LeidenClustering_neighbors{n_neighbors}_resolution{resolution}_markers{n_markers}_{s_type}.csv'\n",
    "#s_out = f'20220118_JP-TMAs_LeidenClustering_neighbors{n_neighbors}_resolution{resolution}_markers{n_markers}_{s_type}.csv'\n",
    "#s_out = f'20220317_JP-TMAs_LeidenClustering_neighbors{n_neighbors}_resolution{resolution}_markers{n_markers}_{s_type}.csv'\n",
    "s_out = f'20220408_JP-TMAs_LeidenClustering_neighbors{n_neighbors}_resolution{resolution}_markers{n_markers}_{s_type}.csv'\n",
    "df_out = df_p#.merge(df_man.loc[:,['DAPI_X','DAPI_Y']],left_index=True,right_index=True)\n",
    "if not os.path.exists(s_out):\n",
    "    print('saving csv')\n",
    "    df_out.to_csv(s_out)"
   ]
  },
  {
   "cell_type": "code",
   "execution_count": null,
   "metadata": {},
   "outputs": [],
   "source": [
    "df = df_p.groupby('slide_scene').mean()"
   ]
  },
  {
   "cell_type": "code",
   "execution_count": null,
   "metadata": {},
   "outputs": [],
   "source": [
    "df['subtype'] = df.index.map(df_cyc_a.ID)"
   ]
  },
  {
   "cell_type": "code",
   "execution_count": null,
   "metadata": {},
   "outputs": [],
   "source": [
    "df = df[df.subtype!='Normal Breast']"
   ]
  },
  {
   "cell_type": "code",
   "execution_count": null,
   "metadata": {},
   "outputs": [],
   "source": [
    "df.columns"
   ]
  },
  {
   "cell_type": "markdown",
   "metadata": {},
   "source": [
    "## old"
   ]
  },
  {
   "cell_type": "code",
   "execution_count": null,
   "metadata": {},
   "outputs": [],
   "source": [
    "from statsmodels.stats.multicomp import pairwise_tukeyhsd\n",
    "#signiicance\n",
    "props = {'connectionstyle':'bar','arrowstyle':'-','shrinkA':50,'shrinkB':50,'linewidth':1}\n",
    "                #\n",
    "         \n",
    "\n",
    "fig, ax = plt.subplots(figsize=(5,3),dpi=200)\n",
    "s_group = 'subtype'\n",
    "s_marker = 'CD44'# 'fibroblast'#'stromal'#'epithelial'#'endothelial'#\n",
    "# multiple compar\n",
    "m_comp = pairwise_tukeyhsd(endog=df.loc[:,s_marker].fillna(0), groups=df.loc[:,s_group], alpha=0.1)\n",
    "df_test = pd.DataFrame.from_records(m_comp.summary().data,coerce_float=True)\n",
    "df_test.columns=df_test.loc[0].astype('str')\n",
    "df_test.drop(0,inplace=True)\n",
    "df_test =df_test.apply(pd.to_numeric, errors='ignore')\n",
    "ls_order = df_test.group1.append(df_test.group2).unique()\n",
    "\n",
    "#plot\n",
    "sns.boxplot(data=df,x=s_group,y=s_marker,showfliers=False,ax=ax,order=ls_order)\n",
    "sns.stripplot(data=df,x=s_group,y=s_marker,palette='dark',ax=ax,order=ls_order)\n",
    "\n",
    "#statistic, pvalue = group_median_diff(df_p,s_group='celltype',s_marker=s_marker)\n",
    "# perform multiple pairwise comparison (Tukey HSD)\n",
    "#ax.set_title(f'Epithelial subtype versus {s_marker}\\n {s_subtype} p={pvalue:.4f}')\n",
    "ax.set_ylabel(f'{s_marker}')\n",
    "text =f\"*p = {df_test.loc[s_index,'p-adj']:.1}\"\n",
    "y_lim = ax.get_ylim()[1]\n",
    "y_lim_min = ax.get_ylim()[0]\n",
    "y_diff = y_lim-y_lim_min\n",
    "for count, s_index in enumerate(df_test[df_test.reject].index):\n",
    "    one = df_test.loc[s_index,'group1']\n",
    "    two = df_test.loc[s_index,'group2']\n",
    "    x_one = np.argwhere(ls_order == one)[0][0]\n",
    "    x_two = np.argwhere(ls_order == two)[0][0]\n",
    "    ax.annotate(text, xy=(np.mean([x_one,x_two]),y_lim - (y_diff+count)/5))\n",
    "    ax.annotate('', xy=(x_one,y_lim - (y_diff+count)/2), xytext=(x_two,y_lim - (y_diff+count)/2), arrowprops=props)\n",
    "plt.tight_layout()\n"
   ]
  },
  {
   "cell_type": "code",
   "execution_count": null,
   "metadata": {},
   "outputs": [],
   "source": [
    "y_diff/5"
   ]
  },
  {
   "cell_type": "markdown",
   "metadata": {},
   "source": [
    "## Summarize Tissue Variables <a name=\"tissue\"></a>\n",
    "\n",
    "per patient means\n",
    "\n",
    "\n",
    "[contents](#contents)"
   ]
  },
  {
   "cell_type": "code",
   "execution_count": null,
   "metadata": {},
   "outputs": [],
   "source": [
    "#leiden cell types (fraction)\n",
    "n_neighbors=30\n",
    "resolution= 0.4 #0.4\n",
    "n_markers=22\n",
    "s_type='2sub'  #'TNBC'\n",
    "s_subtype = s_type\n",
    "s_sample = '20220317_JP-TMAs'#'20220204_JP-TMAs' #'20220118_JP-TMAs'#'20211221_JP-TMAs' #'20211207_JP-TMA1'\n",
    "df_lei = pd.read_csv(f'{s_sample}_LeidenClustering_neighbors{n_neighbors}_resolution{resolution}_markers{n_markers}_{s_type}.csv',index_col=0)\n",
    "df_lei['slide_scene'] = [item.split('_cell')[0] for item in df_lei.index]\n",
    "df_lei['Patient'] = df_lei.slide_scene.map(dict(zip(df_cyc_a.index,df_cyc_a.Accession)))\n",
    "df_lei['leidencelltype2'] = df_lei.leidencelltype3.replace({'tumor':'epithelial','endothelial':'stromal','immune':'stromal'})\n",
    "df_lei['celltype1'] = 'all'\n",
    "df_lei['countme'] = True"
   ]
  },
  {
   "cell_type": "code",
   "execution_count": null,
   "metadata": {},
   "outputs": [],
   "source": [
    "#leiden\n",
    "for s_celltype in ['leidencelltype2','celltype1']: #'celltype3','celltype',\n",
    "    for s_cell in df_lei.loc[:,s_celltype].unique():\n",
    "        df_cell = df_lei.loc[df_lei.loc[:,s_celltype]==s_cell]\n",
    "        df_prop = viz.prop_positive(df_cell,s_cell='leiden',s_grouper='Patient')\n",
    "        s_out = f'results_{s_sample}_LeidenClustering_{n_neighbors}_{n_markers}_{resolution}_byPatient_by{s_celltype}_in{s_cell}_{s_type}.csv'\n",
    "        df_prop.fillna(0).to_csv(s_out)\n",
    "        print(s_out)"
   ]
  },
  {
   "cell_type": "code",
   "execution_count": null,
   "metadata": {},
   "outputs": [],
   "source": [
    "#gated celltypes (fraction)\n",
    "\n",
    "#s_sample = s_sample.replace('_s','')# = '20220114_BaselTMA'\n",
    "s_grouper='Patient'\n",
    "ls_cell = ['leidencelltype5','leidencelltype3','leidencelltype4','gatedcelltype3','gatedcelltype5','celltype']#,'celltype'\n",
    "for s_cell in ls_cell:\n",
    "    df_prop = viz.prop_positive(df_lei,s_cell=s_cell,s_grouper=s_grouper)\n",
    "    s_out = f'results_{s_sample}_GatedCellTypes_by{s_grouper}_by{s_cell}_{s_subtype}.csv'\n",
    "    print(s_out)\n",
    "    df_prop.to_csv(f'{codedir}/{s_out}')\n",
    "    break"
   ]
  },
  {
   "cell_type": "markdown",
   "metadata": {},
   "source": [
    "## survival analysis <a name=\"surv\"></a>\n",
    "\n",
    "\n",
    "- single variable\n",
    "\n",
    "- subtypes\n",
    "\n",
    "[contents](#contents)\n"
   ]
  },
  {
   "cell_type": "code",
   "execution_count": null,
   "metadata": {},
   "outputs": [],
   "source": [
    "import lifelines\n",
    "from lifelines import KaplanMeierFitter\n",
    "from lifelines.statistics import multivariate_logrank_test\n",
    "from lifelines import CoxPHFitter\n",
    "import warnings\n",
    "\n",
    "df_surv_cyc = pd.read_csv(f'{codedir}/data/cycIF_clinical_outcome.csv',index_col=0)\n",
    "#os.mkdir('Survival_Plots')"
   ]
  },
  {
   "cell_type": "code",
   "execution_count": null,
   "metadata": {},
   "outputs": [],
   "source": [
    "os.chdir(codedir)"
   ]
  },
  {
   "cell_type": "code",
   "execution_count": null,
   "metadata": {},
   "outputs": [],
   "source": [
    "#example file names 'results_20211207_JP-TMA1_BGSubtractedMeanIntensity_byPatient_bycelltype3_inimmune_TNBC.csv',\n",
    "#'results_20211207_JP-TMA1_GatedCellTypes_M1M2_byPatient_bycelltype_TNBC.csv',\n",
    "#'results_20211207_JP-TMA1_LeidenClustering_30_33_0.4_byPatient_bycelltype1_inall_ER+.csv']\n",
    "#results_20220204_JP-TMAs_LeidenClustering_30_22_0.4_byPatient_byleidencelltype2_instromal_2sub.csv\n",
    "\n",
    "#preprocess.dchange_fname({'_byTumorDiffPlus_M2':'_byTumorDiffPlusM2'},b_test=False)\n",
    "#s_sample = '20211207_JP-TMA1'\n",
    "#s_sample = '20211221_JP-TMAs' #use this\n",
    "s_sample = '20220204_JP-TMAs'#'20220118_JP-TMAs' #combine 1 and 17\n",
    "\n",
    "df_file = pd.DataFrame()\n",
    "for s_file in os.listdir():\n",
    "    if s_file.find(f'results_{s_sample}_BGSubtractedMeanIntensity_byPatient') > -1:\n",
    "        continue\n",
    "        s_type = 'BGSubtractedMeanIntensity'\n",
    "        s_subtype = s_file.split('.csv')[0].split('_')[-1]\n",
    "        s_partition = s_file.split('.csv')[0].split('_')[-3].split('by')[1]\n",
    "        s_cell = s_file.split('.csv')[0].split('_')[-2].split('in')[1]       \n",
    "    elif s_file.find(f'results_{s_sample}_GatedCellTypes_M1M2_byPatient') > -1:\n",
    "        continue\n",
    "        s_type = 'GatedCellTypes_M1M2'\n",
    "        s_subtype = s_file.split('.csv')[0].split('_')[-1]\n",
    "        s_partition = 'gating'\n",
    "        s_cell = s_file.split('.csv')[0].split('_')[-2].split('by')[1]\n",
    "    elif s_file.find(f'results_{s_sample}_GatedCellTypes') > -1:\n",
    "        s_type = 'GatedCellTypes'\n",
    "        s_subtype = s_file.split('.csv')[0].split('_')[-1]\n",
    "        s_partition = 'gating'\n",
    "        s_cell = s_file.split('.csv')[0].split('_')[-2].split('by')[1]\n",
    "    elif s_file.find(f'results_{s_sample}_LeidenClustering_') > -1:\n",
    "        #df = pd.read_csv(s_file)\n",
    "        s_type = 'LeidenClustering'\n",
    "        s_subtype = s_file.split('.csv')[0].split('_')[-1]\n",
    "        s_partition = s_file.split('.csv')[0].split('_')[-3].split('by')[1]\n",
    "        s_cell = s_file.split('.csv')[0].split('_')[-2].split('in')[1]   \n",
    "    else:\n",
    "        continue\n",
    "    df_file.loc[s_file,'subtype'] = s_subtype\n",
    "    df_file.loc[s_file,'type'] = s_type\n",
    "    df_file.loc[s_file,'partition'] = s_partition\n",
    "    df_file.loc[s_file,'cell'] = s_cell\n",
    "    #break\n",
    "    "
   ]
  },
  {
   "cell_type": "code",
   "execution_count": null,
   "metadata": {},
   "outputs": [],
   "source": [
    "df_file"
   ]
  },
  {
   "cell_type": "code",
   "execution_count": null,
   "metadata": {},
   "outputs": [],
   "source": [
    "#leiden clusters vs survival 30 ER+, 18 TNBC\n",
    "for s_index in df_file.index:\n",
    "    print(s_index)\n",
    "    df_all=pd.read_csv(s_index,index_col=0)\n",
    "    df_all = df_all.loc[:,df_all.dtypes=='float64'].fillna(0)\n",
    "    #break\n",
    "    df_all['subtype'] = df_all.index.map(dict(zip(df_cyc_a.Accession,df_cyc_a.ID)))\n",
    "    s_type = df_file.loc[s_index,'type'] \n",
    "    s_partition = df_file.loc[s_index,'partition'] \n",
    "    if s_partition == 'gating':\n",
    "        continue\n",
    "    s_cell =df_file.loc[s_index,'cell'] \n",
    "    df_all.loc[:,'durations'] = df_all.index.map(dict(zip(df_surv_cyc.index,df_surv_cyc.Survival_time)))\n",
    "    df_all.loc[:,'event_observed'] = df_all.index.map(dict(zip(df_surv_cyc.index,df_surv_cyc.Survival)))\n",
    "    for s_subtype in ['ER+','TNBC']:\n",
    "        print(s_subtype)\n",
    "        df = df_all[df_all.subtype==s_subtype]\n",
    "        df = df.dropna()\n",
    "        for s_col in df.columns.drop(['durations','event_observed','subtype']):\n",
    "            b_low = df.loc[:,s_col] <= df.loc[:,s_col].median()\n",
    "            if df.loc[:,s_col].median() == 0:\n",
    "                continue\n",
    "            df.loc[b_low,'abundance'] = 'low'\n",
    "            df.loc[~b_low,'abundance'] = 'high'\n",
    "            kmf = KaplanMeierFitter()\n",
    "            results = multivariate_logrank_test(event_durations=df.durations, groups=df.abundance, event_observed=df.event_observed)\n",
    "            if results.summary.p[0] < 0.1:\n",
    "                print(s_col)\n",
    "                fig, ax = plt.subplots(figsize=(3,3),dpi=300)\n",
    "                for s_group in ['high','low']:\n",
    "                    df_abun = df[df.abundance==s_group]\n",
    "                    durations = df_abun.durations\n",
    "                    event_observed = df_abun.event_observed\n",
    "                    kmf.fit(durations, event_observed,label=s_group)\n",
    "                    kmf.plot(ax=ax,ci_show=False)\n",
    "                s_title1 = f'{s_subtype} {s_type} {s_partition}'\n",
    "                s_title2 = f'{s_cell} {s_col}'\n",
    "                ax.set_title(f'{s_title1}\\n{s_title2}\\np={results.summary.p[0]:.2}',fontsize=10)\n",
    "                ax.legend(loc='upper right')\n",
    "                plt.tight_layout()\n",
    "                fig.savefig(f\"{codedir}/data/Survival_Plots/KM_{s_title1.replace(' ','_')}_{s_title2.replace(' ','_')}.png\",dpi=300)\n",
    "            cph = CoxPHFitter(penalizer=0.1)\n",
    "            with warnings.catch_warnings():\n",
    "                warnings.simplefilter('ignore')\n",
    "                try:\n",
    "                    cph.fit(df.loc[:,[s_col,'durations','event_observed']], duration_col='durations', event_col='event_observed')\n",
    "                    if cph.summary.p[0] < 0.1:\n",
    "                        print(s_col)\n",
    "                        fig, ax = plt.subplots(figsize=(2.5,2),dpi=300)\n",
    "                        cph.plot(ax=ax)\n",
    "                        s_title1 = f'{s_subtype} {s_type} {s_partition}'\n",
    "                        s_title2 = f'{s_cell} {s_col}'\n",
    "                        ax.set_title(f'{s_title1}\\n{s_title2}\\np={cph.summary.p[0]:.2}',fontsize=10)\n",
    "                        plt.tight_layout()\n",
    "                        fig.savefig(f\"{codedir}/data/Survival_Plots/CPH_{s_title1.replace(' ','_')}_{s_title2.replace(' ','_')}.png\",dpi=300)\n",
    "                except:\n",
    "                    print(f'skipped {s_col}')   \n",
    "        #break\n",
    "\n",
    "    #break"
   ]
  },
  {
   "cell_type": "code",
   "execution_count": null,
   "metadata": {
    "scrolled": true
   },
   "outputs": [],
   "source": [
    "#old\n",
    "'''\n",
    "for s_index in df_file.index:\n",
    "    df=pd.read_csv(s_index,index_col=0)\n",
    "    df = df.loc[:,df.dtypes=='float64'].fillna(0)\n",
    "    s_subtype = df_file.loc[s_index,'subtype'] \n",
    "    s_type = df_file.loc[s_index,'type'] \n",
    "    s_partition = df_file.loc[s_index,'partition'] \n",
    "    s_cell =df_file.loc[s_index,'cell'] \n",
    "    df.loc[:,'durations'] = df.index.map(dict(zip(df_surv_cyc.index,df_surv_cyc.Survival_time)))\n",
    "    df.loc[:,'event_observed'] = df.index.map(dict(zip(df_surv_cyc.index,df_surv_cyc.Survival_time)))\n",
    "    #break\n",
    "    df = df.dropna()\n",
    "    for s_col in df.columns.drop(['durations','event_observed']):\n",
    "        b_low = df.loc[:,s_col] <= df.loc[:,s_col].median()\n",
    "        if df.loc[:,s_col].median() == 0:\n",
    "            continue\n",
    "        df.loc[b_low,'abundance'] = 'low'\n",
    "        df.loc[~b_low,'abundance'] = 'high'\n",
    "        kmf = KaplanMeierFitter()\n",
    "        results = multivariate_logrank_test(event_durations=df.durations, groups=df.abundance, event_observed=df.event_observed)\n",
    "        if results.summary.p[0] < 0.05:\n",
    "            print(s_col)\n",
    "            fig, ax = plt.subplots(figsize=(3,3),dpi=300)\n",
    "            for s_group in ['high','low']:\n",
    "                df_abun = df[df.abundance==s_group]\n",
    "                durations = df_abun.durations\n",
    "                event_observed = df_abun.event_observed\n",
    "                kmf.fit(durations, event_observed,label=s_group)\n",
    "                kmf.plot(ax=ax,ci_show=False)\n",
    "            s_title1 = f'{s_subtype} {s_type} {s_partition}'\n",
    "            s_title2 = f'{s_cell} {s_col}'\n",
    "            ax.set_title(f'{s_title1}\\n{s_title2}\\np={results.summary.p[0]:.2}',fontsize=10)\n",
    "            ax.legend(loc='upper right')\n",
    "            plt.tight_layout()\n",
    "            fig.savefig(f\"./Survival_Plots/KM_{s_title1.replace(' ','_')}_{s_title2.replace(' ','_')}.png\",dpi=300)\n",
    "        cph = CoxPHFitter(penalizer=0.1)\n",
    "        with warnings.catch_warnings():\n",
    "            warnings.simplefilter('ignore')\n",
    "            try:\n",
    "                cph.fit(df.loc[:,[s_col,'durations','event_observed']], duration_col='durations', event_col='event_observed')\n",
    "                if cph.summary.p[0] < 0.05:\n",
    "                    fig, ax = plt.subplots(figsize=(2.5,2),dpi=300)\n",
    "                    cph.plot(ax=ax)\n",
    "                    s_title1 = f'{s_subtype} {s_type} {s_partition}'\n",
    "                    s_title2 = f'{s_cell} {s_col}'\n",
    "                    ax.set_title(f'{s_title1}\\n{s_title2}\\np={cph.summary.p[0]:.2}',fontsize=10)\n",
    "                    plt.tight_layout()\n",
    "                    fig.savefig(f\"./Survival_Plots/CPH_{s_title1.replace(' ','_')}_{s_title2.replace(' ','_')}.png\",dpi=300)\n",
    "            except:\n",
    "                print(f'skipped {s_col}')\n",
    "    #break\n",
    "'''"
   ]
  },
  {
   "cell_type": "code",
   "execution_count": null,
   "metadata": {},
   "outputs": [],
   "source": [
    "df_file.to_csv(f'{codedir}/20220204_cycIF_results_files.csv')"
   ]
  },
  {
   "cell_type": "markdown",
   "metadata": {},
   "source": [
    "## survival analysis <a name=\"subt\"></a>\n",
    "\n",
    "- subtypes\n",
    "\n",
    "ER Subtyping: Tumor diff plus, non tumor, celltype, BG subtracted all and celltype 2, leiden, tumor prolif\n",
    "\n",
    "TN Subtyping: Tumor diff plus, non tumor, celltype, BG subtracted all and celltype 2, leiden, tumor signal\n",
    "\n",
    "\n",
    "\n",
    "[contents](#contents)"
   ]
  },
  {
   "cell_type": "code",
   "execution_count": null,
   "metadata": {},
   "outputs": [],
   "source": [
    "import lifelines\n",
    "from lifelines import KaplanMeierFitter\n",
    "from lifelines.statistics import multivariate_logrank_test\n",
    "from lifelines import CoxPHFitter\n",
    "import warnings\n",
    "\n",
    "df_surv_cyc = pd.read_csv(f'{codedir}/data/cycIF_clinical_outcome.csv',index_col=0)\n",
    "#os.mkdir('Survival_Plots')"
   ]
  },
  {
   "cell_type": "code",
   "execution_count": null,
   "metadata": {},
   "outputs": [],
   "source": [
    "#s_subtype = 'TNBC'\n",
    "#s_type = 'BGSubtractedMeanIntensity'# 'GatedCellTypes_M1M2'# 'LeidenClustering' #\n",
    "#df_file[(df_file.subtype==s_subtype) & (df_file.type== s_type)]"
   ]
  },
  {
   "cell_type": "code",
   "execution_count": null,
   "metadata": {},
   "outputs": [],
   "source": [
    "ls_subt = [#'leiden'\n",
    "    #'results_20211221_JP-TMAs_LeidenClustering_30_30_0.3_byPatient_bycelltype2_instromal_TNBC.csv',\n",
    "    'results_20211221_JP-TMAs_LeidenClustering_30_30_0.3_byPatient_bycelltype1_inall_TNBC.csv',\n",
    "    #'results_20211221_JP-TMAs_LeidenClustering_30_30_0.3_byPatient_bycelltype2_inepithelial_TNBC.csv',\n",
    "    #intensity\n",
    "    #'results_20211207_JP-TMA1_BGSubtractedMeanIntensity_byPatient_bycelltype1_inall_TNBC.csv',\n",
    "    #'results_20211207_JP-TMA1_BGSubtractedMeanIntensity_byPatient_bycelltype2_inepithelial_TNBC.csv',\n",
    "    #'results_20211207_JP-TMA1_BGSubtractedMeanIntensity_byPatient_bycelltype2_instromal_TNBC.csv',\n",
    "    #gating\n",
    "    #'results_20211207_JP-TMA1_GatedCellTypes_M1M2_byPatient_byTumorDiffPlusM1M2_TNBC.csv',\n",
    "    #'results_20211207_JP-TMA1_GatedCellTypes_M1M2_byPatient_byNonTumor_TNBC.csv',\n",
    "    'results_20211207_JP-TMA1_GatedCellTypes_M1M2_byPatient_bycelltype3_TNBC.csv',#this is crazy predictive\n",
    "    'results_20211207_JP-TMA1_GatedCellTypes_M1M2_byPatient_byTumorSignal_TNBC.csv']\n",
    "\n",
    "ls_subt = ['results_20220118_JP-TMAs_LeidenClustering_30_22_0.4_byPatient_bycelltype1_inall_2sub.csv',\n",
    "           #'results_20220118_JP-TMAs_LeidenClustering_30_22_0.4_byPatient_byleidencelltype2_instromal_2sub.csv',\n",
    "           #'results_20220118_JP-TMAs_LeidenClustering_30_22_0.4_byPatient_byleidencelltype2_inepithelial_2sub.csv'\n",
    "       'results_20220118_JP-TMAs_GatedCellTypes_byPatient_bycelltype_2sub.csv',\n",
    "       #'results_20220118_JP-TMAs_GatedCellTypes_byPatient_byleidencelltype3_2sub.csv',\n",
    "       ]"
   ]
  },
  {
   "cell_type": "code",
   "execution_count": null,
   "metadata": {},
   "outputs": [],
   "source": [
    "for s_index in ls_subt:\n",
    "    df = pd.read_csv(f'{codedir}/{s_index}',index_col=0)\n",
    "    s_subtype = df_file.loc[s_index,'subtype'] \n",
    "    s_type = df_file.loc[s_index,'type'] \n",
    "    s_partition = df_file.loc[s_index,'partition'] \n",
    "    s_cell =df_file.loc[s_index,'cell'] \n",
    "    break"
   ]
  },
  {
   "cell_type": "code",
   "execution_count": null,
   "metadata": {},
   "outputs": [],
   "source": [
    "if s_type == 'LeidenClustering':\n",
    "    d_celltypes = {'4': 'CD8 T cell',\n",
    "'23': 'CD20 B cell',\n",
    "'5': 'CD4 T cell',\n",
    "'22': 'Luminal hi t.',\n",
    "'1': 'Luminal ER+ t.',\n",
    "'17': 'Ecad hi ER+ t.',\n",
    "'11': 'Basal t.',\n",
    "'12': 'Vim++ str.',\n",
    "'19': 'Endothelial',\n",
    "'9': 'Macrophage',\n",
    "'7': 'ColI++ str.',\n",
    "'2s': 'CD44+ str.',\n",
    "'2t': 'CD44+ t.',\n",
    "'15': 'Myoepithelial',\n",
    "'14': 'Large t.',\n",
    "'13': 'NOS str.',\n",
    "'8': 'Vim+ ColI+ str.',\n",
    "'0': 'Luminal t.',\n",
    "'10': 'Vim+ t.',\n",
    "'16': 'Ecad- t.',\n",
    "'3': 'poorly diff t.',\n",
    "'20': 'EGFR hi t. ',\n",
    "'6': 'Proliferating t.',}\n",
    "    df = df.rename(d_celltypes,axis=1)\n",
    "\n",
    "\n"
   ]
  },
  {
   "cell_type": "code",
   "execution_count": null,
   "metadata": {
    "scrolled": false
   },
   "outputs": [],
   "source": [
    "ls_col = df.columns[(~df.columns.str.contains('DAPI')) & (~df.columns.str.contains('R5Q')) & (df.dtypes=='float64')].tolist()\n",
    "ls_col = df.loc[:,ls_col].sum().sort_values(ascending=False)[0:11].index.tolist()\n",
    "ls_col = df.columns\n",
    "#umap\n",
    "for n_neighbors in [4]: \n",
    "    results_file = f'{s_date}/results_{s_subtype}_{s_type}_{s_partition}_{s_cell}_{n_neighbors}neighbors_{len(ls_col)}markers.h5ad'\n",
    "    if not os.path.exists(f'{codedir}/{results_file}'):\n",
    "        print('making adata')\n",
    "        adata = sc.AnnData(df.loc[:,ls_col].fillna(0))\n",
    "        adata.raw = adata\n",
    "        #reduce dimensionality\n",
    "        sc.tl.pca(adata, svd_solver='auto')\n",
    "        if s_type == 'LeidenClustering':\n",
    "            print('scaling')\n",
    "            sc.pp.scale(adata, zero_center=False, max_value=20)\n",
    "        print('calc umap')\n",
    "        # calculate neighbors \n",
    "        sc.pp.neighbors(adata, n_neighbors=n_neighbors) \n",
    "        sc.tl.umap(adata)\n",
    "        adata.write(f'{codedir}/{results_file}')\n",
    "    else:\n",
    "        print('loading umap')\n",
    "        adata = sc.read_h5ad(f'{codedir}/{results_file}')\n",
    "    #color by markers   \n",
    "    figname = f\"Umap_markers_{s_subtype}_{s_type}_{s_partition}_{s_cell}_{n_neighbors}neigh.png\"\n",
    "    title=figname.split('.png')[0].replace('_',' ')\n",
    "    sc.pl.umap(adata, color=ls_col,vmin='p1.5',vmax='p99.5',ncols=4,save=figname,size=250)\n",
    "    #subtype\n",
    "    adata.obs['Subtype'] = adata.obs.index.map(dict(zip(df_cyc_a.Accession,df_cyc_a.ID)))\n",
    "    figname = f\"Umap_Subtype_{s_subtype}_{s_type}_{s_partition}_{s_cell}_{n_neighbors}neigh.png\"\n",
    "    title=figname.split('.png')[0].replace('_',' ')\n",
    "    sc.pl.umap(adata, color='Subtype',vmin='p1.5',vmax='p99.5',ncols=4,save=figname,size=250)\n",
    "    break"
   ]
  },
  {
   "cell_type": "code",
   "execution_count": null,
   "metadata": {},
   "outputs": [],
   "source": [
    "#leiden\n",
    "for resolution in [0.3]: #0.3,\n",
    "    results_file = f'{s_date}/results_{s_subtype}_{s_type}_{s_partition}_{s_cell}_{n_neighbors}neighbors_{len(ls_col)}markers_leiden{resolution}.h5ad'\n",
    "    sc.tl.leiden(adata,resolution=resolution)\n",
    "    fig,ax = plt.subplots(figsize=(2.5,2),dpi=200)\n",
    "    figname=f'leiden_{s_subtype}_{s_type}_{s_partition}_{s_cell}_{n_neighbors}_{resolution}.png'\n",
    "    sc.pl.umap(adata, color='leiden',ax=ax,title=figname.split('.png')[0].replace('_',' '),wspace=.25,save=figname,size=40)\n",
    "    break"
   ]
  },
  {
   "cell_type": "code",
   "execution_count": null,
   "metadata": {},
   "outputs": [],
   "source": [
    "for s_subtype in ['TNBC','ER+']:\n",
    "    df_p = adata.to_df()\n",
    "    ls_index = df_cyc_a[df_cyc_a.ID==s_subtype].Accession.unique()\n",
    "    df_p['leiden'] = adata.obs['leiden']\n",
    "    df_p = df_p.loc[ls_index]\n",
    "    df_st = df_p.merge(df_surv_cyc.loc[:,['Survival','Survival_time']],left_index=True,right_index=True)\n",
    "    T = df_st['Survival_time']     ## time to event\n",
    "    E = df_st['Survival']      ## event occurred or censored\n",
    "    groups = df_st.loc[:,'leiden']  \n",
    "    kmf1 = KaplanMeierFitter() ## instantiate the class to create an object\n",
    "    fig, ax = plt.subplots(figsize=(3,3),dpi=200)\n",
    "    for s_group in sorted(groups.unique()):\n",
    "        i1 = (groups == s_group)\n",
    "        kmf1.fit(T[i1], E[i1], label=s_group)    ## fit thedata\n",
    "        kmf1.plot(ax=ax,ci_show=False)\n",
    "        #print(kmf1.median_survival_time_)\n",
    "    results = multivariate_logrank_test(event_durations=T, groups=groups, event_observed=E)\n",
    "    ax.set_title(f'{s_subtype} {s_cell} res={resolution} \\n neigh={n_neighbors} p={results.summary.p[0]:.2}')\n",
    "    ax.legend(loc='upper right')\n",
    "    plt.tight_layout()\n",
    "    if results.summary.p[0] < 0.05:\n",
    "        fig.savefig(f'{codedir}/data/Survival_Plots/KM_{s_subtype}_{s_type}_{s_partition}_{s_cell}_{n_neighbors}_{resolution}.png',dpi=200)\n",
    "        #more plots\n",
    "        d_a = dict(zip(adata.obs.index,adata.obs.leiden))\n",
    "        d_color = dict(zip(sorted(adata.obs.leiden.unique()),sns.color_palette()[0:len(adata.obs.leiden.unique())]))\n",
    "        row_colors = df_p.index.map(d_a).map(d_color)\n",
    "        g = sns.clustermap(df_p.loc[:,ls_col].dropna(),figsize=(7,5),cmap='viridis',\n",
    "                row_colors=row_colors,method='ward')\n",
    "        for label in d_color.keys():\n",
    "            g.ax_row_dendrogram.bar(0, 0, color=d_color[label],\n",
    "                                label=label, linewidth=0)\n",
    "        g.ax_row_dendrogram.legend(loc=\"right\", ncol=1)\n",
    "        g.savefig(f'{codedir}/{s_date}/clustermap_patients_{s_sample}_{s_type}_{s_partition}_{s_cell}_{s_type}_{n_neighbors}_{resolution}.png',dpi=200)\n",
    "        #subtypes\n",
    "        d_replace = {}\n",
    "        df_plot = df_p.dropna().groupby('leiden').mean()\n",
    "        df_plot.index.name = f'leiden {resolution}'\n",
    "        g = sns.clustermap(df_plot.dropna().T,z_score=1,figsize=(3,6),cmap='viridis',\n",
    "                           vmin=-2,vmax=2,method='ward')\n",
    "        g.fig.suptitle(f'leiden {resolution}',x=.9) \n",
    "        g.savefig(f'{codedir}/{s_date}/clustermap_subtypes_{s_sample}_{s_type}_{s_partition}_{s_cell}_{s_type}_{n_neighbors}_{resolution}.png',dpi=200)\n",
    "        marker_genes = df_plot.dropna().T.iloc[:,g.dendrogram_col.reordered_ind].columns.tolist()\n",
    "        categories_order = df_plot.dropna().T.iloc[g.dendrogram_row.reordered_ind,:].index.tolist()\n",
    "        #barplot\n",
    "        fig,ax=plt.subplots(figsize=(2.5,3),dpi=200)\n",
    "        df_p.groupby('leiden').count().loc[marker_genes[::-1]].iloc[:,1].plot(kind='barh',title='Patient Count',ax=ax)\n",
    "        plt.tight_layout()\n",
    "        fig.savefig(f'./{s_date}/barplot_subtyping_{s_sample}_{s_sample}_{s_type}_{s_partition}_{s_cell}_{s_type}_{n_neighbors}_{resolution}.png')\n",
    "    #break\n",
    "    #CPH    \n",
    "    df_dummy = pd.get_dummies(df_st.loc[:,['Survival_time','Survival','leiden']])\n",
    "    df_dummy = df_dummy.loc[:,df_dummy.sum() != 0]\n",
    "    cph = CoxPHFitter(penalizer=0.1)  ## Instantiate the class to create a cph object\n",
    "    cph.fit(df_dummy, 'Survival_time', event_col='Survival')\n",
    "    fig, ax = plt.subplots(figsize=(3,3),dpi=300)\n",
    "    cph.plot(ax=ax)\n",
    "    ax.set_title(f'CPH: {s_subtype} {s_type} {s_cell}')\n",
    "    plt.tight_layout()\n",
    "    fig.savefig(f'{codedir}/data/Survival_Plots/CoxPH_{s_subtype}_{s_type}_{s_partition}_{s_cell}_{n_neighbors}_{resolution}.png',dpi=200)\n",
    "    "
   ]
  },
  {
   "cell_type": "code",
   "execution_count": null,
   "metadata": {},
   "outputs": [],
   "source": [
    "        fig.savefig(f'{codedir}/data/Survival_Plots/KM_{s_subtype}_{s_type}_{s_partition}_{s_cell}_{n_neighbors}_{resolution}.png',dpi=200)\n",
    "        #more plots\n",
    "        d_a = dict(zip(adata.obs.index,adata.obs.leiden))\n",
    "        d_color = dict(zip(sorted(adata.obs.leiden.unique()),sns.color_palette()[0:len(adata.obs.leiden.unique())]))\n",
    "        row_colors = df_p.index.map(d_a).map(d_color)\n",
    "        g = sns.clustermap(df_p.loc[:,ls_col].dropna(),figsize=(7,5),cmap='viridis',\n",
    "                row_colors=row_colors,method='ward')\n",
    "        for label in d_color.keys():\n",
    "            g.ax_row_dendrogram.bar(0, 0, color=d_color[label],\n",
    "                                label=label, linewidth=0)\n",
    "        g.ax_row_dendrogram.legend(loc=\"right\", ncol=1)\n",
    "        g.savefig(f'{codedir}/{s_date}/clustermap_patients_{s_sample}_{s_type}_{s_partition}_{s_cell}_{s_type}_{n_neighbors}_{resolution}.png',dpi=200)\n",
    "        #subtypes\n",
    "        d_replace = {}\n",
    "        df_plot = df_p.dropna().groupby('leiden').mean()\n",
    "        df_plot.index.name = f'leiden {resolution}'\n",
    "        g = sns.clustermap(df_plot.dropna().T,z_score=1,figsize=(3,6),cmap='viridis',\n",
    "                           vmin=-2,vmax=2,method='ward')\n",
    "        g.fig.suptitle(f'leiden {resolution}',x=.9) \n",
    "        g.savefig(f'{codedir}/{s_date}/clustermap_subtypes_{s_sample}_{s_type}_{s_partition}_{s_cell}_{s_type}_{n_neighbors}_{resolution}.png',dpi=200)\n",
    "        marker_genes = df_plot.dropna().T.iloc[:,g.dendrogram_col.reordered_ind].columns.tolist()\n",
    "        categories_order = df_plot.dropna().T.iloc[g.dendrogram_row.reordered_ind,:].index.tolist()\n",
    "        #barplot\n",
    "        fig,ax=plt.subplots(figsize=(2.5,3),dpi=200)\n",
    "        df_p.groupby('leiden').count().loc[marker_genes[::-1]].iloc[:,1].plot(kind='barh',title='Patient Count',ax=ax)\n",
    "        plt.tight_layout()\n",
    "        fig.savefig(f'./{s_date}/barplot_subtyping_{s_sample}_{s_sample}_{s_type}_{s_partition}_{s_cell}_{s_type}_{n_neighbors}_{resolution}.png')\n"
   ]
  },
  {
   "cell_type": "code",
   "execution_count": null,
   "metadata": {},
   "outputs": [],
   "source": [
    "        fig.savefig(f'{codedir}/data/Survival_Plots/KM_{s_subtype}_{s_type}_{s_partition}_{s_cell}_{n_neighbors}_{resolution}.png',dpi=200)\n",
    "        #more plots\n",
    "        d_a = dict(zip(adata.obs.index,adata.obs.leiden))\n",
    "        d_color = dict(zip(sorted(adata.obs.leiden.unique()),sns.color_palette()[0:len(adata.obs.leiden.unique())]))\n",
    "        row_colors = df_p.index.map(d_a).map(d_color)\n",
    "        g = sns.clustermap(df_p.loc[:,ls_col].dropna(),figsize=(5,5),cmap='viridis',\n",
    "                row_colors=row_colors,method='ward')\n",
    "        for label in d_color.keys():\n",
    "            g.ax_row_dendrogram.bar(0, 0, color=d_color[label],\n",
    "                                label=label, linewidth=0)\n",
    "        g.ax_row_dendrogram.legend(loc=\"right\", ncol=1)\n",
    "        g.savefig(f'{codedir}/{s_date}/clustermap_patients_{s_sample}_{s_type}_{s_partition}_{s_cell}_{s_type}_{n_neighbors}_{resolution}.png',dpi=200)\n",
    "        #subtypes\n",
    "        d_replace = {}\n",
    "        df_plot = df_p.dropna().groupby('leiden').mean()\n",
    "        df_plot.index.name = f'leiden {resolution}'\n",
    "        g = sns.clustermap(df_plot.dropna(),z_score=1,figsize=(5,3),cmap='viridis',\n",
    "                           vmin=-2,vmax=2,method='ward')\n",
    "        g.fig.suptitle(f'leiden {resolution}',x=.9) \n",
    "        g.savefig(f'{codedir}/{s_date}/clustermap_subtypes_{s_sample}_{s_type}_{s_partition}_{s_cell}_{s_type}_{n_neighbors}_{resolution}.png',dpi=200)\n",
    "        marker_genes = df_p.groupby('leiden').mean().iloc[:,g.dendrogram_col.reordered_ind].columns.tolist()\n",
    "        categories_order = df_p.groupby('leiden').mean().iloc[g.dendrogram_row.reordered_ind,:].index.tolist()\n",
    "        #barplot\n",
    "        fig,ax=plt.subplots(figsize=(2.5,3),dpi=200)\n",
    "        df_p.groupby('leiden').count().loc[categories_order[::-1]].iloc[:,1].plot(kind='barh',title='Patient Count',ax=ax)\n",
    "        plt.tight_layout()\n",
    "        fig.savefig(f'./{s_date}/barplot_subtyping_{s_sample}_{s_sample}_{s_type}_{s_partition}_{s_cell}_{s_type}_{n_neighbors}_{resolution}.png')\n",
    "        "
   ]
  },
  {
   "cell_type": "markdown",
   "metadata": {},
   "source": [
    "## survival analysis <a name=\"subtIMC\"></a>\n",
    "\n",
    "- IMC and cyclic\n",
    "\n",
    "- load 3 separate leiden clustering defining celltypes\n",
    "\n",
    "- annotate with similar cell type names\n",
    "\n",
    "- save as CombinedCelltypes for spatial analysis.\n",
    "\n",
    "\n",
    "[contents](#contents)"
   ]
  },
  {
   "cell_type": "code",
   "execution_count": null,
   "metadata": {},
   "outputs": [],
   "source": [
    "import lifelines\n",
    "from lifelines import KaplanMeierFitter\n",
    "from lifelines.statistics import multivariate_logrank_test\n",
    "from lifelines import CoxPHFitter\n",
    "import warnings\n",
    "from scipy.stats import entropy\n",
    "\n",
    "d_cyc_sub2 = {'JP-TMA2-1_scene01': 'TNBC', 'JP-TMA2-1_scene02': 'TNBC', 'JP-TMA2-1_scene03': 'TNBC', 'JP-TMA2-1_scene04': 'TNBC',\n",
    " 'JP-TMA2-1_scene05': 'TNBC', 'JP-TMA2-1_scene06': 'TNBC', 'JP-TMA2-1_scene07': 'TNBC', 'JP-TMA2-1_scene08': 'HER2+',\n",
    " 'JP-TMA2-1_scene09': 'TNBC', 'JP-TMA2-1_scene10': 'TNBC', 'JP-TMA2-1_scene11': 'TNBC', 'JP-TMA2-1_scene12': 'TNBC',\n",
    " 'JP-TMA2-1_scene13': 'TNBC', 'JP-TMA2-1_scene14': 'TNBC', 'JP-TMA2-1_scene15': 'TNBC', 'JP-TMA2-1_scene16': 'TNBC',\n",
    " 'JP-TMA2-1_scene17': 'TNBC', 'JP-TMA2-1_scene18': 'TNBC', 'JP-TMA2-1_scene19': 'TNBC', 'JP-TMA2-1_scene20': 'TNBC',\n",
    " 'JP-TMA2-1_scene21': 'TNBC', 'JP-TMA2-1_scene22': 'TNBC', 'JP-TMA2-1_scene23': 'TNBC', 'JP-TMA2-1_scene24': 'TNBC',\n",
    " 'JP-TMA2-1_scene25': 'TNBC', 'JP-TMA2-1_scene26': 'TNBC', 'JP-TMA2-1_scene27': 'TNBC', 'JP-TMA2-1_scene28': 'TNBC',\n",
    " 'JP-TMA2-1_scene29': 'TNBC', 'JP-TMA2-1_scene30': 'TNBC', 'JP-TMA2-1_scene31': 'TNBC', 'JP-TMA2-1_scene32': 'TNBC',\n",
    " 'JP-TMA2-1_scene33': 'TNBC', 'JP-TMA2-1_scene34': 'TNBC', 'JP-TMA2-1_scene35': 'TNBC', 'JP-TMA2-1_scene36': 'TNBC',\n",
    " 'JP-TMA2-1_scene37': 'TNBC', 'JP-TMA2-1_scene38': 'TNBC', 'JP-TMA2-1_scene39': 'TNBC', 'JP-TMA2-1_scene40': 'TNBC',\n",
    " 'JP-TMA2-1_scene41': 'TNBC', 'JP-TMA2-1_scene42': 'TNBC',}"
   ]
  },
  {
   "cell_type": "code",
   "execution_count": null,
   "metadata": {},
   "outputs": [],
   "source": [
    "#annotation\n",
    "imcdir = '/home/groups/graylab_share/OMERO.rdsStore/engje/Data/IMC_Data_publication'\n",
    "df_surv_cyc = pd.read_csv(f'{codedir}/data/cycIF_clinical_outcome.csv',index_col=0)\n",
    "#os.mkdir('Survival_Plots_Both')\n",
    "df_a = pd.read_csv(f'{imcdir}/BaselTMA/Basel_PatientMetadata.csv')\n",
    "df_imc_a = pd.DataFrame(data=pd.Series(data=dict(zip(df_a.PID,df_a.clinical_type))),columns=['subtype'])\n",
    "df_imc_a['subtype'] = df_imc_a.subtype.replace({'TripleNeg':'TNBC','HR+HER2-':'ER+'})\n",
    "df_imc_a['Survival_time'] = df_imc_a.index.map(dict(zip(df_a.PID,df_a.OSmonth)))/12*365\n",
    "df_imc_a['Survival'] = df_imc_a.index.map(dict(zip(df_a.PID,df_a.Patientstatus.str.contains('death'))))\n",
    "df_imc_a['Survival'] = df_imc_a.Survival.replace({True:1,False:0})\n",
    "#\n",
    "d_sub_both = dict(zip(df_cyc_a.Accession,df_cyc_a.ID))\n",
    "d_sub_both.update(d_cyc_sub2)\n",
    "df_surv_cyc['subtype'] = df_surv_cyc.index.map(d_sub_both)\n",
    "#\n",
    "df_surv = df_surv_cyc.append(df_imc_a)"
   ]
  },
  {
   "cell_type": "code",
   "execution_count": null,
   "metadata": {},
   "outputs": [],
   "source": [
    "#results data\n",
    "\n",
    "df_imc = pd.read_csv(f'{imcdir}/20220204_IMC_results_files.csv',index_col=0)\n",
    "df_imc['platform'] = 'IMC'\n",
    "df_cycif = pd.read_csv(f'{codedir}/20220204_cycIF_results_files.csv',index_col=0)\n",
    "df_cycif['platform'] = 'cycIF'\n",
    "df_file = df_cycif.append(df_imc)"
   ]
  },
  {
   "cell_type": "code",
   "execution_count": null,
   "metadata": {},
   "outputs": [],
   "source": [
    "#match celltypes\n",
    "''' old\n",
    "d_celltype_IMC = {'19':'Luminal hi t.', '9': 'Myoepithelial', '9b': 'Basal t.',\n",
    " '15':  'Luminal ER+ t.',#'PgR+ t.',\n",
    " '7': 'Luminal ER+ t.', '11': 'Luminal t.',#'Ecad hi t.',\n",
    " '6': 'Luminal t.', '23': 'EGFR hi t.', '10': 'Proliferating t.', '21': 'Vim+ t.', '16': 'CD44+ t.', '2': 'CD3 T cell', '17': 'CD20 B cell',\n",
    " '3': 'ECM++ str.',#'FN++ str.',\n",
    " '5': 'Large t.', '0': 'NOS str.', '20': 'Ecad- t.', '8': 'Vim++ str.', '1': 'poorly diff t.', '12': 'CD44+ str.', '4': 'NOS str.',#'Sm. NOS str.',\n",
    " '14': 'Endothelial', '18': 'Macrophage'}\n",
    "d_celltype_cycif = {'4': 'CD3 T cell', #'CD8 T cell',\n",
    " '23': 'CD20 B cell', '5': 'CD3 T cell', #'CD4 T cell',\n",
    " '22': 'Luminal hi t.', '1': 'Luminal ER+ t.',\n",
    " '17':  'Luminal ER+ t.',#'Ecad hi ER+ t.',\n",
    " '11': 'Basal t.', '12': 'Vim++ str.', '19': 'Endothelial', '9': 'Macrophage',\n",
    " '7': 'ECM++ str.',#'ColI++ str.',\n",
    " '2s': 'CD44+ str.', '2t': 'CD44+ t.', '15': 'Myoepithelial', '14': 'Large t.', '13': 'NOS str.',\n",
    " '8': 'NOS str.',#'Vim+ ECM+ str.',#'Vim+ ColI+ str.',\n",
    " '0': 'Luminal t.', '10': 'Vim+ t.', '16': 'Ecad- t.', '3': 'poorly diff t.', '20': 'EGFR hi t.', '6': 'Proliferating t.'}\n",
    "'''\n",
    "d_celltype_cycif = {'1': 'Luminal ER+ t.', \n",
    "'11': 'Basal t.',\n",
    "'6': 'Proliferating t.',\n",
    "'0': 'Luminal t.',\n",
    "'20': 'EGFR hi t.',# (n=3) \n",
    "'4': 'CD3 T cell',#'CD8 T cell',\n",
    "'23': 'CD20 B cell',\n",
    "'5': 'CD3 T cell',#'CD4 T cell',\n",
    "'12':'Vim++ str.', #'Vim++ str.',\n",
    "'19': 'Endothelial',\n",
    "'15': 'Myoepithelial',\n",
    "'9': 'Macrophage',\n",
    "'7': 'ColI+ str.',#'ECM str.',#'ColI++ str.',\n",
    "'2s': 'CD44+ str.',\n",
    "'2t': 'CD44+ t.',\n",
    "'13': 'Quies. str.',#'NOS str.',\n",
    "'8': 'Vim+ str.',#'Vim+ ColI+ str.',\n",
    "'10': 'Vim+ t.',\n",
    "'3': 'CK lo. t.',\n",
    "}\n",
    "d_celltype_IMC = {'6': 'CD3 T cell',\n",
    "'6b': 'CD20 B cell',\n",
    "'9': 'Endothelial',\n",
    "'18': 'FN++ str.',#'Vim++ str.',#vim+\n",
    "'13': 'Macrophage',\n",
    "'0': 'CK lo. t.',\n",
    "'4': 'Vim+ str.',#'Vim+ str.',\n",
    "'1': 'FN+ str.',\n",
    "'2': 'Quies. str.',#'FN lo. str.',\n",
    "'22': 'CD44+ t.',\n",
    "'3': 'Luminal t.',\n",
    "'7': 'Luminal ER+ t.',\n",
    "'11': 'Myoepithelial',\n",
    "'11b': 'Basal t.',\n",
    "'12': 'Proliferating t.',\n",
    "'23': 'EGFR hi t.',\n",
    "}"
   ]
  },
  {
   "cell_type": "code",
   "execution_count": null,
   "metadata": {},
   "outputs": [],
   "source": [
    "#old d_celltype_zur = {'6': 'Luminal ER+ t.', '11': 'Luminal ER+ t.', #PgR+ t.'4': 'CD3 T cell','17': 'CD20 B cell',\n",
    "#'14': 'FN++ str.',#'ECM++ str.',#SMA+'1': 'FN+ str.','2': 'Vim+ str.','8': 'Macrophage',\n",
    "#'21': 'Endothelial','5': 'Myoepithelial','19': 'Basal t.','20': 'EGFR hi t.', '15': 'Proliferating t.','12': 'Proliferating t.',# Basal Proliferating t.\n",
    "#'22': 'CD44+ t.','10': 'FN+ str.','13': #'poorly diff t.','0': 'Luminal ER+ t.', #Luminal lo. ER+ t.'16': 'PgR+ Ecad- t.' #'Luminal ER+ t.',#'Ecad- t.', #\n",
    "d_celltype_zur = {'10': 'Luminal ER+ t.',#'Luminal ER+ PR+ t.', \n",
    "'8': 'Luminal ER+ t.', \n",
    "'19': 'Luminal ER+ t.', \n",
    "'7': 'Luminal ER+ t.', \n",
    "'15': 'CD20 B cell',\n",
    "'9': 'Macrophage',\n",
    "'2': 'Endothelial',\n",
    "'3': 'CD3 T cell',\n",
    "'12': 'Basal t.',\n",
    "'18': 'EGFR hi t.',\n",
    "'11': 'Proliferating t.',#'Basal prolif',\n",
    "'13': 'Proliferating t.',#'Lum prolif',\n",
    "'4': 'Vim+ str.',\n",
    "'0': 'FN+ str.',\n",
    "'5': 'Quies. str.',\n",
    "'20': 'CD44+ t.',\n",
    "'16': 'CK lo. t.',\n",
    "'1': 'Luminal ER+ t.',\n",
    "'14': 'Luminal ER+ t.',#'Luminal PgR+ t.',\n",
    "'17': 'FN++ str.',\n",
    "'6': 'Myoepithelial',\n",
    "                 }\n",
    "\n",
    "\n"
   ]
  },
  {
   "cell_type": "code",
   "execution_count": null,
   "metadata": {},
   "outputs": [],
   "source": [
    "#zurich\n",
    "df_lei = pd.read_csv(f'{imcdir}/data/20220201_ZTMA_LeidenClusteringGating_neighbors30_resolution0.6_markers21_2sub.csv',index_col=0)\n",
    "df_lei['leidencelltype2'] = df_lei.leidencelltype3.replace({'tumor':'epithelial','endothelial':'stromal','immune':'stromal','str.':'stromal','imm.':'stromal'})\n",
    "#df_lei['gated_celltype3'] = df_lei.celltype3.replace({'tumor':'epithelial','endothelial':'stromal','fibroblast':'stromal','str.':'stromal','imm.':'immune'})\n",
    "df_lei['celltype1'] = 'all'\n",
    "df_lei['countme'] = True\n",
    "df_lei['leiden'] = df_lei.leiden.astype('str').replace(d_celltype_zur)\n",
    "df_lei['subtype'] = df_lei.subtype.replace({'TripleNeg':'TNBC','HR+HER2-':'ER+'})\n",
    "print(len(df_lei))\n",
    "print(df_lei.loc[:,['DAPI_X','DAPI_Y']].median())\n",
    "#s_out = f'{codedir}/data/20220203_ZurichTMA_CombinedCelltypes.csv'\n",
    "#if not os.path.exists(s_out):\n",
    "#    print('saving csv')\n",
    "#    df_lei.to_csv(s_out)"
   ]
  },
  {
   "cell_type": "code",
   "execution_count": null,
   "metadata": {},
   "outputs": [],
   "source": [
    "#['Z' + item for item in df_lei.index]"
   ]
  },
  {
   "cell_type": "code",
   "execution_count": null,
   "metadata": {},
   "outputs": [],
   "source": [
    "#load and rename original dataframes\n",
    "#leiden cell types (cyclic)\n",
    "df_lei_both = pd.DataFrame()\n",
    "#append zurich\n",
    "df_lei_both = df_lei_both.append(df_lei)\n",
    "df_lei = pd.read_csv(f'{codedir}/data/20220204_JP-TMAs_LeidenClustering_neighbors30_resolution0.4_markers22_2sub.csv',index_col=0) #20220118_JP-TMAs_LeidenClustering_neighbors30_resolution0.4_markers22_2sub.csv\n",
    "df_lei['slide_scene'] = [item.split('_cell')[0] for item in df_lei.index]\n",
    "df_lei['Patient'] = df_lei.slide_scene.map(dict(zip(df_cyc_a.index,df_cyc_a.Accession)))\n",
    "df_lei['subtype'] = df_lei.slide_scene.map(dict(zip(df_cyc_a.index,df_cyc_a.ID)))\n",
    "df_lei['leidencelltype2'] = df_lei.leidencelltype3.replace({'tumor':'epithelial','endothelial':'stromal','immune':'stromal'})\n",
    "df_lei['celltype1'] = 'all'\n",
    "df_lei['countme'] = True\n",
    "df_lei['gatedcelltype3'] = df_lei.celltype.replace({'endothelial':'stromal'})\n",
    "df_lei['leiden'] = df_lei.leiden.replace(d_celltype_cycif)\n",
    "#rename columns\n",
    "df_lei = df_lei.rename({'aSMA':'SMA'},axis=1)\n",
    "#rescale\n",
    "df_lei.loc[:,['DAPI_X','DAPI_Y']] = df_lei.loc[:,['DAPI_X','DAPI_Y']]*.325\n",
    "df_lei_both = df_lei_both.append(df_lei)\n",
    "print(len(df_lei))\n",
    "print(df_lei.loc[:,['DAPI_X','DAPI_Y']].median())\n",
    "#se_cyc = set(df_lei.leiden.replace(d_celltype_cycif).unique())\n",
    "#se_imc = set(df_lei.leiden.replace(d_celltype_IMC))\n",
    "#len(se_cyc.intersection(se_imc)) #20 shared cell types\n",
    "#427797 + 494723 #922520\n",
    "#len(se_cyc.intersection(se_imc)) #20 shared cell types\n",
    "#leiden cell types (IMC)\n",
    "df_lei = pd.read_csv(f'{imcdir}/data/20220204_BaselTMA_LeidenClusteringGating_neighbors30_resolution0.6_markers21_2sub.csv',index_col=0) #20220114_BaselTMA_s_LeidenClusteringGating_neighbors30_resolution0.6_markers21_2sub.csv\n",
    "df_lei.rename({'celltype3':'leidencelltype3'},axis=1,inplace=True)\n",
    "df_lei['leidencelltype2'] = df_lei.leidencelltype3.replace({'tumor':'epithelial','endothelial':'stromal','immune':'stromal','str.':'stromal','imm.':'stromal'})\n",
    "#df_lei['gated_celltype3'] = df_lei.celltype3.replace({'tumor':'epithelial','endothelial':'stromal','fibroblast':'stromal','str.':'stromal','imm.':'immune'})\n",
    "df_lei['celltype1'] = 'all'\n",
    "df_lei['countme'] = True\n",
    "df_lei['leiden'] = df_lei.leiden.astype('str').replace(d_celltype_IMC)\n",
    "df_lei['subtype'] = df_lei.subtype.replace({'TripleNeg':'TNBC','HR+HER2-':'ER+'})\n",
    "df_lei_both = df_lei_both.append(df_lei)\n",
    "print(len(df_lei))\n",
    "print(df_lei.loc[:,['DAPI_X','DAPI_Y']].median())\n",
    "#save combined\n",
    "print(df_lei_both.isna().sum())\n",
    "s_out = f'{codedir}/data/20220207_JP-TMAs_IMC-TMAs_CombinedCelltypes.csv' #20220204_JP-TMAs_BaselTMA_CombinedCelltypes.csv\n",
    "if not os.path.exists(s_out):\n",
    "    print('saving csv')\n",
    "    df_lei_both.to_csv(s_out)"
   ]
  },
  {
   "cell_type": "code",
   "execution_count": null,
   "metadata": {},
   "outputs": [],
   "source": [
    "df_file"
   ]
  },
  {
   "cell_type": "code",
   "execution_count": null,
   "metadata": {},
   "outputs": [],
   "source": [
    "#cluster basel and cyclic for survival subtypes\n",
    "n_neighbors = 8\n",
    "\n",
    "#cluster for subtypes\n",
    "for s_cell in ['all','celltype','epithelial','leidencelltype3','leidencelltype4']:\n",
    "    s_cell = 'epithelial'#'all'# 'stromal'#'leidencelltype5'#\n",
    "    df_load = df_file[df_file.cell==s_cell]\n",
    "    df = pd.DataFrame()\n",
    "    for s_plat in sorted(set(df_file.platform)):\n",
    "        s_index = df_load[df_load.platform == s_plat].index[0]\n",
    "        if s_plat == 'IMC':\n",
    "            df_plat = pd.read_csv(f'{imcdir}/{s_index}',index_col=0)\n",
    "            df_plat = df_plat.rename({'str.':'stromal','imm.':'immune'},axis=1)\n",
    "            d_celltypes = d_celltype_IMC\n",
    "        else:\n",
    "            df_plat = pd.read_csv(f'{codedir}/{s_index}',index_col=0)\n",
    "            d_celltypes = d_celltype_cycif          \n",
    "        df_plat = df_plat.fillna(0)\n",
    "        if df_load.loc[s_index,'type'] == 'LeidenClustering':\n",
    "            df_plat = df_plat.rename(d_celltypes,axis=1)\n",
    "            for s_marker in df_plat.columns[df_plat.columns.duplicated()]:\n",
    "                df_plat.loc[:,df_plat.columns==s_marker]\n",
    "                se_sum = df_plat.loc[:,df_plat.columns==s_marker].sum(axis=1)\n",
    "                df_plat = df_plat.drop(s_marker,axis=1)\n",
    "                df_plat[s_marker] = se_sum\n",
    "        df_plat['platform'] = s_plat\n",
    "        #break\n",
    "        df = df.append(df_plat)\n",
    "    s_subtype = df_file.loc[s_index,'subtype'] \n",
    "    s_type = df_file.loc[s_index,'type'] \n",
    "    s_partition = df_file.loc[s_index,'partition'] \n",
    "    s_cell =df_file.loc[s_index,'cell'] \n",
    "    #subtyping adata\n",
    "    if s_cell == 'celltype':\n",
    "        ls_col = df.columns[df.dtypes=='float64']\n",
    "    #elif s_cell == 'epithelial':\n",
    "    #    ls_col = df.columns[df.dtypes=='float64'][df.loc[:,df.columns[df.dtypes=='float64']].sum()/len(df) > 0.05]\n",
    "    elif s_cell == 'all':\n",
    "        ls_col = df.columns[df.dtypes=='float64'][df.loc[:,df.columns[df.dtypes=='float64']].sum()/len(df) > 0.03]\n",
    "    else:\n",
    "        ls_col = df.columns[df.dtypes=='float64']\n",
    "    print('making adata')\n",
    "    adata = sc.AnnData(df.loc[:,ls_col].fillna(0))\n",
    "    adata.raw = adata\n",
    "    #reduce dimensionality\n",
    "    sc.tl.pca(adata, svd_solver='auto')\n",
    "    print('scaling')\n",
    "    sc.pp.scale(adata, zero_center=False, max_value=20)\n",
    "    print('calc umap')\n",
    "    # calculate neighbors \n",
    "    sc.pp.neighbors(adata, n_neighbors=n_neighbors) \n",
    "    sc.tl.umap(adata)\n",
    "    #color by markers   \n",
    "    figname = f\"Umapboth_markers_{s_subtype}_{s_type}_{s_partition}_{s_cell}_{n_neighbors}neigh.png\"\n",
    "    title=figname.split('.png')[0].replace('_',' ')\n",
    "    sc.pl.umap(adata, color=ls_col,vmin='p1.5',vmax='p99.5',ncols=4,save=figname,size=250)\n",
    "    #subtype\n",
    "    adata.obs['Platform'] = df.platform\n",
    "    figname = f\"Umapboth_Platform_{s_subtype}_{s_type}_{s_partition}_{s_cell}_{n_neighbors}neigh.png\"\n",
    "    title=figname.split('.png')[0].replace('_',' ')\n",
    "    sc.pl.umap(adata, color='Platform',vmin='p1.5',vmax='p99.5',ncols=4,save=figname,size=250)\n",
    "    adata.obs['subtype'] = adata.obs.index.astype('str').map(dict(zip(df_surv.index.astype('str'),df_surv.subtype)))\n",
    "    adata.obs['subtype'] = adata.obs['subtype'].fillna('TNBC')\n",
    "    figname = f\"Umapboth_subtype_{s_subtype}_{s_type}_{s_partition}_{s_cell}_{n_neighbors}neigh.png\"\n",
    "    title=figname.split('.png')[0].replace('_',' ')\n",
    "    sc.pl.umap(adata, color='subtype',vmin='p1.5',vmax='p99.5',ncols=4,save=figname,size=250)\n",
    "    break"
   ]
  },
  {
   "cell_type": "code",
   "execution_count": null,
   "metadata": {},
   "outputs": [],
   "source": [
    "resolution = 0.2\n",
    "sc.tl.leiden(adata,resolution=resolution)\n",
    "fig,ax = plt.subplots(figsize=(2.5,2),dpi=200)\n",
    "figname=f'both_{s_subtype}_{s_partition}_{s_cell}_{n_neighbors}_{resolution}.png'\n",
    "sc.pl.umap(adata, color='leiden',ax=ax,title=figname.split('.png')[0].replace('_',' '),wspace=.25,save=figname,size=40)"
   ]
  },
  {
   "cell_type": "code",
   "execution_count": null,
   "metadata": {
    "scrolled": true
   },
   "outputs": [],
   "source": [
    "fig,ax = plt.subplots()\n",
    "sns.scatterplot(x='Luminal t.', y='Luminal ER+ t.', style='Platform', hue='Subtype',data=df_p,ax=ax)\n",
    "ax.axhline(0.03)\n",
    "fig,ax=plt.subplots()\n",
    "df_p.loc[((df_p.loc[:,'Luminal ER+ t.'] < 0.03) & (df_p.Subtype=='ER+'))].Platform.value_counts().plot(kind='bar',ax=ax)\n",
    "ax.set_title('ER+ samples without ER')\n",
    "ls_drop = df_p.loc[((df_p.loc[:,'Luminal ER+ t.'] < 0.03) & (df_p.Subtype=='ER+'))].index"
   ]
  },
  {
   "cell_type": "code",
   "execution_count": null,
   "metadata": {
    "scrolled": true
   },
   "outputs": [],
   "source": [
    "for s_subtype in ['ER+','TNBC']:\n",
    "    df_p = pd.DataFrame(data=adata.raw.X, index=adata.obs.index, columns=adata.var.index) #adata.to_df()\n",
    "    if s_cell == 'all':\n",
    "        df_p = df_p.drop(ls_drop)\n",
    "    df_p['Subtype'] = adata.obs.subtype\n",
    "    df_p['leiden'] = adata.obs.leiden\n",
    "    df_p['Platform'] = adata.obs.Platform\n",
    "    df_p['Survival'] = df_p.index.map(dict(zip(df_surv.index,df_surv.Survival)))\n",
    "    df_p['Survival_time'] = df_p.index.map(dict(zip(df_surv.index,df_surv.Survival_time)))\n",
    "    df_st = df_p[(df_p.Subtype==s_subtype)].dropna()\n",
    "    s_plat = 'Both'\n",
    "    T = df_st['Survival_time']     ## time to event\n",
    "    E = df_st['Survival']      ## event occurred or censored\n",
    "    groups = df_st.loc[:,'leiden'] \n",
    "    if s_subtype=='ER+':\n",
    "        if s_cell == 'epithelial':\n",
    "            print('')\n",
    "            #groups = groups.replace({'0':'LumER','1':'LumER','2':'Prolif.','3':'PoorDiff.','4':'LowTum'})\n",
    "    kmf1 = KaplanMeierFitter() ## instantiate the class to create an object\n",
    "    fig, ax = plt.subplots(figsize=(3,3),dpi=200)\n",
    "    for s_group in sorted(groups.unique()):\n",
    "        i1 = (groups == s_group)\n",
    "        kmf1.fit(T[i1], E[i1], label=s_group)    ## fit thedata\n",
    "        kmf1.plot(ax=ax,ci_show=False)\n",
    "        print(f'{s_group}: {kmf1.median_survival_time_} n={sum(groups==s_group)}')\n",
    "    results = multivariate_logrank_test(event_durations=T, groups=groups, event_observed=E)\n",
    "    ax.set_title(f'{s_subtype} {s_plat} {s_cell} res={resolution} \\n neigh={n_neighbors} p={results.summary.p[0]:.1}')\n",
    "    ax.legend(loc='upper right')\n",
    "    ax.set_ylim(-0.05,1.05)\n",
    "    plt.tight_layout()\n",
    "    fig.savefig(f'{codedir}/Survival_Plots_Both/KM_{s_subtype}_{s_plat}_{s_type}_{s_partition}_{s_cell}_{n_neighbors}_{resolution}.png',dpi=200)\n",
    "    #CPH\n",
    "    df_dummy = pd.get_dummies(df_st.loc[:,['Survival_time','Survival','leiden']])\n",
    "    df_dummy = df_dummy.loc[:,df_dummy.sum() != 0]\n",
    "    cph = CoxPHFitter(penalizer=0.1)  ## Instantiate the class to create a cph object\n",
    "    cph.fit(df_dummy, 'Survival_time', event_col='Survival')\n",
    "    fig, ax = plt.subplots(figsize=(3,3),dpi=300)\n",
    "    cph.plot(ax=ax)\n",
    "    ax.set_title(f'CPH: {s_subtype} {s_plat} {s_cell}')\n",
    "    plt.tight_layout()\n",
    "    fig.savefig(f'{codedir}/Survival_Plots_Both/CoxPH_{s_subtype}_{s_plat}_{s_type}_{s_partition}_{s_cell}_{n_neighbors}_{resolution}.png',dpi=200)\n",
    "    #break"
   ]
  },
  {
   "cell_type": "code",
   "execution_count": null,
   "metadata": {},
   "outputs": [],
   "source": [
    "for s_subtype in ['ER+','TNBC']:\n",
    "    df_p = pd.DataFrame(data=adata.raw.X, index=adata.obs.index, columns=adata.var.index) #\n",
    "    if s_cell =='celltype':\n",
    "        df_p = adata.to_df()\n",
    "    if s_cell == 'all':\n",
    "        df_p = df_p.drop(ls_drop)\n",
    "    df_p['Subtype'] = adata.obs.subtype\n",
    "    df_p['leiden'] = adata.obs.leiden\n",
    "    df_p['Platform'] = adata.obs.Platform\n",
    "    df_p['Survival'] = df_p.index.map(dict(zip(df_surv.index,df_surv.Survival)))\n",
    "    df_p['Survival_time'] = df_p.index.map(dict(zip(df_surv.index,df_surv.Survival_time)))\n",
    "    for s_plat in df_p.Platform.unique():\n",
    "        ls_groups = sorted(df_p[(df_p.Subtype==s_subtype)].dropna().leiden.unique())\n",
    "        df_st = df_p[(df_p.Platform==s_plat) & (df_p.Subtype==s_subtype)].dropna()\n",
    "        ls_col = df.columns[df.dtypes=='float64']\n",
    "        df_st['entropy'] = entropy(df.loc[df_st.index,ls_col].fillna(0),axis=1,base=2)\n",
    "        T = df_st['Survival_time']     ## time to event\n",
    "        E = df_st['Survival']      ## event occurred or censored\n",
    "        groups = df_st.loc[:,'leiden']  \n",
    "        if s_subtype=='ER+':\n",
    "            if s_cell == 'epithelial':\n",
    "                groups = groups.replace({'0':'LumER','1':'LumER','2':'Prolif.','3':'PoorDiff.','4':'LowTum'})\n",
    "        kmf1 = KaplanMeierFitter() ## instantiate the class to create an object\n",
    "        fig, ax = plt.subplots(figsize=(3,3),dpi=200)\n",
    "        for idx,s_group in enumerate(ls_groups):\n",
    "            i1 = (groups == s_group)\n",
    "            if i1.sum() == 0:\n",
    "                continue\n",
    "            kmf1.fit(T[i1], E[i1], label=s_group)    ## fit thedata\n",
    "            kmf1.plot(ax=ax,ci_show=False,c=f'C{idx}') #,show_censors=True\n",
    "            #print(kmf1.median_survival_time_)\n",
    "        results = multivariate_logrank_test(event_durations=T, groups=groups, event_observed=E)\n",
    "        ax.set_title(f'{s_subtype} {s_plat} {s_cell} res={resolution} \\n neigh={n_neighbors} p={results.summary.p[0]:.2}')\n",
    "        ax.legend(loc='upper right')\n",
    "        ax.set_ylim(-0.05,1.05)\n",
    "        plt.tight_layout()\n",
    "        fig.savefig(f'{codedir}/Survival_Plots_Both/KM_{s_subtype}_{s_plat}_{s_type}_{s_partition}_{s_cell}_{n_neighbors}_{resolution}.png',dpi=200)\n",
    "        if s_subtype=='ER+':\n",
    "            if s_cell == 'all':\n",
    "                print('selecting')\n",
    "                #groups = groups.replace({'0':'LumER','1':'LumER','2':'Prolif.','3':'PoorDiff.','4':'LowTum'})\n",
    "                ls_select = ['2','4']#['LumER','Prolif.'] #['2','0','1']\n",
    "                ls_index = groups[groups.isin(ls_select)].index\n",
    "                kmf1 = KaplanMeierFitter() ## instantiate the class to create an object\n",
    "                fig, ax = plt.subplots(figsize=(3,3),dpi=200)\n",
    "                for idx,s_group in enumerate(ls_groups): #'0',\n",
    "                    if pd.Series(ls_select).isin([s_group]).any():\n",
    "                        i1 = (groups == s_group)\n",
    "                        kmf1.fit(T[i1], E[i1], label=s_group)    ## fit thedata\n",
    "                        kmf1.plot(ax=ax,ci_show=False,color = f'C{idx}')\n",
    "                    #print(kmf1.median_survival_time_)\n",
    "                results = multivariate_logrank_test(event_durations=T.loc[ls_index], groups=groups.loc[ls_index], event_observed=E.loc[ls_index])\n",
    "                ax.set_title(f'{s_subtype} {s_plat} {s_cell} res={resolution} \\n neigh={n_neighbors} p={results.summary.p[0]:.1}')\n",
    "                ax.legend(loc='upper right')\n",
    "                ax.set_ylim(-0.05,1.05)\n",
    "                plt.tight_layout()\n",
    "                fig.savefig(f'{codedir}/Survival_Plots_Both/KM_select_{s_subtype}_{s_plat}_{s_type}_{s_partition}_{s_cell}_{n_neighbors}_{resolution}.png',dpi=200)\n",
    "                #CPH\n",
    "        #CPH\n",
    "        df_dummy = pd.get_dummies(df_st.loc[:,['Survival_time','Survival','leiden']])\n",
    "        df_dummy = df_dummy.loc[:,df_dummy.sum() != 0]\n",
    "        cph = CoxPHFitter(penalizer=0.1)  ## Instantiate the class to create a cph object\n",
    "        cph.fit(df_dummy, 'Survival_time', event_col='Survival')\n",
    "        fig, ax = plt.subplots(figsize=(3,3),dpi=300)\n",
    "        cph.plot(ax=ax)\n",
    "        ax.set_title(f'CPH: {s_subtype} {s_plat} {s_cell}')\n",
    "        plt.tight_layout()\n",
    "        fig.savefig(f'{codedir}/Survival_Plots_Both/CoxPH_{s_subtype}_{s_plat}_{s_type}_{s_partition}_{s_cell}_{n_neighbors}_{resolution}.png',dpi=200)\n",
    "        #######3 Entropy\n",
    "        s_col = 'entropy'\n",
    "        sf_st = df.loc[:,ls_col].merge(df_st.loc[:,['Subtype','Platform','Survival','Survival_time','entropy']],left_index=True,right_index=True)\n",
    "        b_low = df_st.loc[:,s_col] <= df_st.loc[:,s_col].median()\n",
    "        if df_st.loc[:,s_col].median() == 0:\n",
    "                continue\n",
    "        df_st.loc[b_low,'abundance'] = 'low'\n",
    "        df_st.loc[~b_low,'abundance'] = 'high'\n",
    "        kmf = KaplanMeierFitter()\n",
    "        results = multivariate_logrank_test(event_durations=df_st.Survival_time, groups=df_st.abundance, event_observed=df_st.Survival)\n",
    "        print(f'entropy {results.summary.p[0]}')\n",
    "        if results.summary.p[0] < 0.2:\n",
    "            print(s_col)\n",
    "            fig, ax = plt.subplots(figsize=(3,3),dpi=300)\n",
    "            for s_group in ['high','low']:\n",
    "                    df_abun = df_st[df_st.abundance==s_group]\n",
    "                    durations = df_abun.Survival_time\n",
    "                    event_observed = df_abun.Survival\n",
    "                    kmf.fit(durations, event_observed,label=s_group)\n",
    "                    kmf.plot(ax=ax,ci_show=False)\n",
    "            s_title1 = f'{s_subtype} {s_plat}'\n",
    "            s_title2 = f'{s_cell} {s_col}'\n",
    "            ax.set_title(f'{s_title1}\\n{s_title2}\\np={results.summary.p[0]:.2}',fontsize=10)\n",
    "            ax.legend(loc='upper right')\n",
    "            plt.tight_layout()\n",
    "            fig.savefig(f\"{codedir}/data/Survival_Plots/KM_{s_title1.replace(' ','_')}_{s_title2.replace(' ','_')}.png\",dpi=300)\n",
    "            cph = CoxPHFitter(penalizer=0.1)\n",
    "            with warnings.catch_warnings():\n",
    "                warnings.simplefilter('ignore')\n",
    "                try:\n",
    "                    cph.fit(df_st.loc[:,[s_col,'Survival','Survival_time']], duration_col='Survival_time', event_col='Survival')\n",
    "                    if cph.summary.p[0] < 0.1:\n",
    "                        print(s_col)\n",
    "                        fig, ax = plt.subplots(figsize=(2.5,2),dpi=300)\n",
    "                        cph.plot(ax=ax)\n",
    "                        s_title1 = f'{s_subtype} {s_plat}'\n",
    "                        s_title2 = f'{s_cell} {s_col}'\n",
    "                        ax.set_title(f'{s_title1}\\n{s_title2}\\np={cph.summary.p[0]:.2}',fontsize=10)\n",
    "                        plt.tight_layout()\n",
    "                        fig.savefig(f\"{codedir}/data/Survival_Plots/CPH_{s_title1.replace(' ','_')}_{s_title2.replace(' ','_')}.png\",dpi=300)\n",
    "                except:\n",
    "                    print(f'skipped {s_col}')   \n",
    "        #break\n",
    "    #break"
   ]
  },
  {
   "cell_type": "code",
   "execution_count": null,
   "metadata": {},
   "outputs": [],
   "source": [
    "#df_a = df_a.drop_duplicates(subset='PID',keep='first')"
   ]
  },
  {
   "cell_type": "code",
   "execution_count": null,
   "metadata": {},
   "outputs": [],
   "source": [
    "#df_a[df_a.PID.isin(df_p[(df_p.leiden=='0') & (df_p.Platform=='IMC') & (df_p.Subtype=='ER+')].index)].groupby('HR').count()\n",
    "#df_p[(df_p.leiden=='0') & (df_p.Platform=='IMC') & (df_p.Subtype=='ER+')].sort_values('Luminal t.',ascending=False)[0:1]"
   ]
  },
  {
   "cell_type": "code",
   "execution_count": null,
   "metadata": {},
   "outputs": [],
   "source": [
    "#df_a[df_a.PID.isin(df_p[(df_p.leiden=='1') & (df_p.Platform=='IMC') & (df_p.Subtype=='ER+')].index)].groupby('HR').count()\n",
    "#df_p[(df_p.leiden=='1') & (df_p.Platform=='IMC') & (df_p.Subtype=='ER+')]"
   ]
  },
  {
   "cell_type": "code",
   "execution_count": null,
   "metadata": {},
   "outputs": [],
   "source": [
    "#df_p[(df_p.leiden=='1') & (df_p.Platform=='IMC') & (df_p.Subtype=='TNBC')]"
   ]
  },
  {
   "cell_type": "code",
   "execution_count": null,
   "metadata": {},
   "outputs": [],
   "source": [
    "#df_a[df_a.PID.isin(df_p[(df_p.leiden=='2') & (df_p.Platform=='IMC')& (df_p.Subtype=='ER+')].index)].groupby('HR').count()\n",
    "#df_a[df_a.PID.isin(df_p[(df_p.leiden=='0') & (df_p.Platform=='IMC') & (df_p.Subtype=='ER+')].index)].groupby('HR').count()\n",
    "#df_p[(df_p.leiden=='3') & (df_p.Platform=='IMC') & (df_p.Subtype=='ER+')].sort_values('poorly diff t.',ascending=False)[0:15]"
   ]
  },
  {
   "cell_type": "code",
   "execution_count": null,
   "metadata": {},
   "outputs": [],
   "source": [
    "#df_a[df_a.PID.isin(df_p[(df_p.leiden=='3') & (df_p.Platform=='IMC')& (df_p.Subtype=='ER+')].index)].groupby('HR').count()"
   ]
  },
  {
   "cell_type": "code",
   "execution_count": null,
   "metadata": {},
   "outputs": [],
   "source": [
    "#df_a[df_a.PID.isin(df_p[(df_p.leiden=='4') & (df_p.Platform=='IMC')& (df_p.Subtype=='ER+')].index)].groupby('HR').count()"
   ]
  },
  {
   "cell_type": "code",
   "execution_count": null,
   "metadata": {},
   "outputs": [],
   "source": [
    "#more plots\n",
    "#color by platform/leiden\n",
    "from matplotlib.pyplot import gcf\n",
    "d_color = dict(zip(sorted(adata.obs.leiden.unique()),sns.color_palette()[0:len(adata.obs.leiden.unique())]))\n",
    "d_color_p = {'cycIF':'gold','IMC':'darkblue'}\n",
    "network_colors = df_p.leiden.astype('str').map(d_color)#pd.Series(network_labels, index=networks.columns).map(network_lut)\n",
    "node_colors  = df_p.Platform.astype('str').map(d_color_p)\n",
    "network_node_colors = pd.DataFrame(node_colors).join(pd.DataFrame(network_colors))\n",
    "\n",
    "g = sns.clustermap(df_p.loc[:,ls_col].dropna(),figsize=(7,6),cmap='viridis',\n",
    "        row_colors=network_node_colors,method='ward',dendrogram_ratio=0.16)\n",
    "for label,color in d_color_p.items():\n",
    "    g.ax_col_dendrogram.bar(0, 0, color=color,label=label, linewidth=0)\n",
    "l1 = g.ax_col_dendrogram.legend(loc=\"right\", ncol=1,bbox_to_anchor=(0.12, 0.7),bbox_transform=gcf().transFigure)\n",
    "for label,color in d_color.items():\n",
    "    g.ax_row_dendrogram.bar(0, 0, color=color,label=label, linewidth=0)\n",
    "l2 = g.ax_row_dendrogram.legend(loc=\"right\", ncol=1,bbox_to_anchor=(0.1, 0.5),bbox_transform=gcf().transFigure)\n",
    "g.savefig(f'{codedir}/Survival_Plots_Both/clustermap_PlatformandSubtype_{s_sample}_{s_type}_{s_partition}_{s_cell}_{s_type}_{n_neighbors}_{resolution}.png',dpi=200)\n",
    "\n",
    "#subtypes' mean\n",
    "d_replace = {}\n",
    "df_plot = df_p.loc[:,ls_col.tolist()+['leiden']].dropna().groupby('leiden').mean()\n",
    "df_plot.index.name = f'leiden {resolution}'\n",
    "g = sns.clustermap(df_plot.dropna().T,z_score=1,figsize=(4,3),cmap='viridis',vmin=-2,vmax=2,method='ward')\n",
    "g.fig.suptitle(f'leiden {resolution}',x=.9) \n",
    "g.savefig(f'{codedir}/Survival_Plots_Both/clustermap_subtypes_{s_sample}_{s_type}_{s_partition}_{s_cell}_{s_type}_{n_neighbors}_{resolution}.png',dpi=200)\n",
    "marker_genes = df_plot.dropna().T.iloc[:,g.dendrogram_col.reordered_ind].columns.tolist()\n",
    "categories_order = df_plot.dropna().T.iloc[g.dendrogram_row.reordered_ind,:].index.tolist()\n",
    "#barplot\n",
    "fig,ax=plt.subplots(figsize=(2.5,2.5),dpi=200)\n",
    "df_p.groupby(['leiden','Platform']).count().iloc[:,0].unstack().loc[marker_genes].plot(kind='barh',title='Patient Count',ax=ax)\n",
    "plt.tight_layout()\n",
    "fig.savefig(f'./Survival_Plots_Both/barplot_subtyping_{s_sample}_{s_type}_{s_partition}_{s_cell}_{s_type}_{n_neighbors}_{resolution}.png')\n"
   ]
  },
  {
   "cell_type": "markdown",
   "metadata": {},
   "source": [
    "## spatial <a name=\"neigh\"></a>\n",
    "\n",
    "- neighborhoods\n",
    "\n",
    "\n",
    "[contents](#contents)"
   ]
  },
  {
   "cell_type": "code",
   "execution_count": null,
   "metadata": {},
   "outputs": [],
   "source": [
    "df_b = pd.read_csv(f'{imcdir}/BaselTMA/Basel_PatientMetadata.csv')\n",
    "df_b['PID'] = [item.split('_')[2] for item in df_b.core]\n",
    "#no survival data for zurich\n",
    "df_z = pd.read_csv(f'{imcdir}/ZurichTMA/Zuri_PatientMetadata.csv',index_col=0)\n",
    "df_z['PID'] = ['Z'+item.split('_')[2] for item in df_z.core]\n",
    "#combine\n",
    "df_bz = df_b.append(df_z)"
   ]
  },
  {
   "cell_type": "code",
   "execution_count": null,
   "metadata": {},
   "outputs": [],
   "source": [
    "#load intensity data\n",
    "df_norm_all = pd.DataFrame()\n",
    "#cyclic\n",
    "d_replace = {'Basal like Cells':'TNBC', 'Claudin-Low Cells':'TNBC', 'Colon Cancer':'other', #'ER+',\n",
    " 'HER2 Cells':'HER2+', #'HER2+',\n",
    " 'Luminal A Cells':'ER+', 'Luminal B Cells':'ER+',\n",
    " #'Normal Breast', #'Normal Tonsil',\n",
    " 'Pancreas':'other', 'Smooth muscle':'other',\n",
    " #'TNBC','other'\n",
    "            }\n",
    "s_sample = '20220118_JP-TMAs'\n",
    "df_norm  = pd.read_csv(f'{codedir}/data/{s_sample}_BGSubtractedMeanIntensity.csv',index_col=0)\n",
    "df_norm['slide_scene'] = [item.split('_cell')[0] for item in df_norm.index]\n",
    "df_norm['subtype'] = df_norm.slide_scene.map(d_cyc_sub).fillna('other').replace(d_replace)\n",
    "df_norm['TMA'] = [item.split('_')[0] for item in df_norm.index]\n",
    "df_norm['Patient'] = df_norm.slide_scene.map(dict(zip(df_cyc_a.index,df_cyc_a.Accession)))\n",
    "df_norm['Platform'] = 'cycIF'\n",
    "df_norm_all = df_norm_all.append(df_norm)\n",
    "\n",
    "#basel/zurich\n",
    "s_sample = '20220201_IMC-TMAs'\n",
    "df_norm = pd.read_csv(f'{imcdir}/data/{s_sample}_MeanIntensity.csv',index_col=0)\n",
    "#rename columns\n",
    "d_rename = {'CD20_cytoplasm': 'CD20', 'CD31vWF_cytoplasm': 'CD31', 'CD3_cytoplasm': 'CD3', 'CD44_cytoplasm': 'CD44',\n",
    " 'CD45_cytoplasm': 'CD45', 'CD68_cytoplasm': 'CD68', 'CAIX_cytoplasm': 'CAIX', 'CK19_cytoplasm': 'CK19',\n",
    " 'CK5_cytoplasm': 'CK5', 'CK7_cytoplasm': 'CK7', 'CK8_cytoplasm': 'CK8', 'DAPI1_nuclei': 'DAPI1',\n",
    " 'EGFR_cytoplasm': 'EGFR', 'Ecad_cytoplasm': 'Ecad', 'EpCAM_cytoplasm': 'EpCAM', 'Erk12_nuclei': 'Erk12',\n",
    " 'FN_cytoplasm': 'FN', 'GATA3_nuclei': 'GATA3', 'HH3_nuclei': 'HH3', 'CK14_cytoplasm': 'CK14',\n",
    " 'Ki67_nuclei': 'Ki67', 'PgR_nuclei': 'PgR', #'RabbitIgGHL_cell': 'RbtIgG',\n",
    "            'S6_cytoplasm': 'S6', 'ER_nuclei': 'ER',\n",
    " 'SMA_cytoplasm': 'SMA', 'Slug_nuclei': 'Slug', 'Sox9_nuclei': 'Sox9', 'Twist_nuclei': 'Twist',\n",
    " 'Vim_cytoplasm': 'Vim', 'area_nuclei': 'area', 'bCatenin_nuclei': 'bCatenin', 'cMyc_nuclei': 'cMyc',\n",
    " 'HER2_cytoplasm': 'HER2', 'CC3cPARP_nuclei': 'CC3_cPARP', 'eccentricity_nuclei': 'eccentricity', 'mTOR_cytoplasm': 'mTOR',\n",
    " 'p53_nuclei': 'p53', 'panCK_cytoplasm': 'panCK', #'slide_scene': 'slide', #'DAPI_Y': 'DAPI', #'DAPI_X': 'DAPI',\n",
    " 'core': 'core'}\n",
    "df_norm.rename(d_rename,axis=1,inplace=True)\n",
    "df_norm['Platform'] = 'IMC'\n",
    "#add annotation\n",
    "df_norm['subtype'] = df_norm.core.map(dict(zip(df_bz.core,df_bz.clinical_type)))\n",
    "df_norm['subtype'] = df_norm.subtype.replace({'TripleNeg':'TNBC','HR+HER2-':'ER+'})\n",
    "df_norm['Patient'] = df_norm.core.map(dict(zip(df_bz.core,df_bz.PID)))\n",
    "df_norm['TMA'] = [item.split('TMA')[0][0] for item in df_norm.core.fillna(' TMA')]\n",
    "df_norm =df_norm.dropna()\n",
    "df_norm_all = df_norm_all.append(df_norm)"
   ]
  },
  {
   "cell_type": "code",
   "execution_count": null,
   "metadata": {
    "scrolled": true
   },
   "outputs": [],
   "source": [
    "df_norm_all.isna().sum().sort_values()[20:40]"
   ]
  },
  {
   "cell_type": "code",
   "execution_count": null,
   "metadata": {
    "scrolled": true
   },
   "outputs": [],
   "source": [
    "#RUN \n",
    "#load and rename original dataframes\n",
    "#leiden cell types (cyclic)\n",
    "df_lei_both = pd.DataFrame()\n",
    "df_lei = pd.read_csv(f'{codedir}/data/20220118_JP-TMAs_LeidenClustering_neighbors30_resolution0.4_markers22_2sub.csv',index_col=0)\n",
    "df_lei['slide_scene'] = [item.split('_cell')[0] for item in df_lei.index]\n",
    "df_lei['Patient'] = df_lei.slide_scene.map(dict(zip(df_cyc_a.index,df_cyc_a.Accession)))\n",
    "df_lei['subtype'] = df_lei.slide_scene.map(dict(zip(df_cyc_a.index,df_cyc_a.ID)))\n",
    "df_lei['leidencelltype2'] = df_lei.leidencelltype3.replace({'tumor':'epithelial','endothelial':'stromal','immune':'stromal'})\n",
    "df_lei['celltype1'] = 'all'\n",
    "df_lei['countme'] = True\n",
    "df_lei['Platform'] = 'cycIF'\n",
    "df_lei['gatedcelltype3'] = df_lei.celltype.replace({'endothelial':'stromal'})\n",
    "df_lei['leiden'] = df_lei.leiden.replace(d_celltype_cycif)\n",
    "df_lei = df_lei.rename({'aSMA':'SMA'},axis=1)\n",
    "#dont rescale\n",
    "#df_lei.loc[:,['DAPI_X','DAPI_Y']] = df_lei.loc[:,['DAPI_X','DAPI_Y']]*.325\n",
    "df_lei_both = df_lei_both.append(df_lei)\n",
    "print(len(df_lei))\n",
    "print(df_lei.loc[:,['DAPI_X','DAPI_Y']].median())\n",
    "#se_cyc = set(df_lei.leiden.replace(d_celltype_cycif).unique())\n",
    "#se_imc = set(df_lei.leiden.replace(d_celltype_IMC))\n",
    "#len(se_cyc.intersection(se_imc)) #20 shared cell types\n",
    "#427797 + 494723 #922520\n",
    "#len(se_cyc.intersection(se_imc)) #20 shared cell types\n",
    "#leiden cell types (IMC)\n",
    "\n",
    "df_lei = pd.read_csv(f'{imcdir}/data/20220114_BaselTMA_s_LeidenClusteringGating_neighbors30_resolution0.6_markers21_2sub.csv',index_col=0)\n",
    "df_lei.rename({'celltype3':'leidencelltype3'},axis=1,inplace=True)\n",
    "df_lei['leidencelltype2'] = df_lei.leidencelltype3.replace({'tumor':'epithelial','endothelial':'stromal','immune':'stromal','str.':'stromal','imm.':'stromal'})\n",
    "#df_lei['gated_celltype3'] = df_lei.celltype3.replace({'tumor':'epithelial','endothelial':'stromal','fibroblast':'stromal','str.':'stromal','imm.':'immune'})\n",
    "df_lei['celltype1'] = 'all'\n",
    "df_lei['countme'] = True\n",
    "df_lei['Platform'] = 'IMC'\n",
    "df_lei.Patient = df_lei.Patient.astype('int').astype('str')\n",
    "df_lei['leiden'] = df_lei.leiden.astype('str').replace(d_celltype_IMC)\n",
    "df_lei['subtype'] = df_lei.subtype.replace({'TripleNeg':'TNBC','HR+HER2-':'ER+'})\n",
    "df_lei_both = df_lei_both.append(df_lei)\n",
    "print(len(df_lei))\n",
    "print(df_lei.loc[:,['DAPI_X','DAPI_Y']].median())\n",
    "#save combined\n",
    "print(df_lei_both.isna().sum())\n",
    "'''\n",
    "s_out = f'{codedir}/data/20220125_JP-TMAs_BaselTMA_CombinedCelltypes.csv'\n",
    "if not os.path.exists(s_out):\n",
    "    print('saving csv')\n",
    "    df_lei_both.to_csv(s_out)\n",
    "'''"
   ]
  },
  {
   "cell_type": "markdown",
   "metadata": {},
   "source": [
    "## nieghborhoods\n",
    "\n",
    "intratrumoral vs immunehotspot\n",
    "\n",
    "redo with new neigborhoods"
   ]
  },
  {
   "cell_type": "code",
   "execution_count": null,
   "metadata": {},
   "outputs": [],
   "source": [
    "from mplex_image import features\n",
    "import importlib\n",
    "importlib.reload(features)\n",
    "from skimage import io\n",
    "from matplotlib.colors import LogNorm\n",
    "from scipy import stats"
   ]
  },
  {
   "cell_type": "code",
   "execution_count": null,
   "metadata": {},
   "outputs": [],
   "source": [
    "s_celltype = 'gatedcelltype5' #'leidencelltype5'#\n",
    "nbr_r = 50\n",
    "counts_df = pd.read_csv(f'{codedir}/data/20220125_JP-TMAs_BaselTMA_CombinedCelltypes_{s_celltype}_NeighborhoodCounts_r{nbr_r}.csv',index_col=0)"
   ]
  },
  {
   "cell_type": "code",
   "execution_count": null,
   "metadata": {},
   "outputs": [],
   "source": [
    "#df  has immune neighborhoods: annotate\n",
    "df =counts_df.merge(df_lei_both.loc[:,[s_celltype,'subtype','Patient','Platform']],left_index=True,right_index=True)"
   ]
  },
  {
   "cell_type": "code",
   "execution_count": null,
   "metadata": {},
   "outputs": [],
   "source": [
    "#df_neigh - neighbors to celltypes\n",
    "df_neigh = df.loc[:,['endothelial','epithelial','immune','stromal']].stack().reset_index().rename({'level_0':'cellindex','level_1':'neighbor',0:'count'},axis=1)\n",
    "df['cellindex'] = df.index\n",
    "df_neigh = df_neigh.merge(df.loc[:,[s_celltype,'subtype','Platform','Patient','cellindex']],how='left',on='cellindex')"
   ]
  },
  {
   "cell_type": "code",
   "execution_count": null,
   "metadata": {
    "scrolled": true
   },
   "outputs": [],
   "source": [
    "for s_cell in df_neigh.loc[:,s_celltype].unique():\n",
    "    s_cell = 'immune' #'epithelial'#\n",
    "    df_cell = df_neigh[df_neigh.loc[:,s_celltype]==s_cell]\n",
    "    g = sns.catplot(data=df_cell, y='count',x='neighbor',hue='subtype',kind='box',row='Platform',\n",
    "                    height=3,aspect=2,showfliers=False)\n",
    "    g.fig.suptitle(s_cell,y=1.01)\n",
    "    break"
   ]
  },
  {
   "cell_type": "code",
   "execution_count": null,
   "metadata": {
    "scrolled": true
   },
   "outputs": [],
   "source": [
    "df['intratumor'] =  ( (df.epithelial > df.immune))\n",
    "df['immune_hotspot'] =   ((df.immune > 5) & (df.epithelial < df.immune)) #\n",
    "for s_cell in df.loc[:,s_celltype].unique():\n",
    "    #g=sns.relplot(data=df.loc[df.loc[:,s_celltype]==s_cell],x='immune',y='epithelial',s=3,kind='scatter',\n",
    "    #            hue='intratumor',row='Platform',col='subtype',alpha=0.5)\n",
    "    #g.fig.suptitle(s_cell,y=1.01)\n",
    "    g=sns.relplot(data=df.loc[df.loc[:,s_celltype]==s_cell],x='immune',y='epithelial',s=3,kind='scatter',\n",
    "                hue='immune_hotspot',row='Platform',col='subtype',alpha=0.5)\n",
    "    g.fig.suptitle(s_cell,y=1.01)"
   ]
  },
  {
   "cell_type": "code",
   "execution_count": null,
   "metadata": {
    "scrolled": true
   },
   "outputs": [],
   "source": [
    "#all cells\n",
    "sns.relplot(data=df,x='immune',y='epithelial',s=3,kind='scatter',\n",
    "                hue='intratumor',row='Platform',col='subtype',alpha=0.5)\n",
    "sns.relplot(data=df,x='immune',y='epithelial',s=3,kind='scatter',\n",
    "                hue='immune_hotspot',row='Platform',col='subtype',alpha=0.5)"
   ]
  },
  {
   "cell_type": "code",
   "execution_count": null,
   "metadata": {
    "scrolled": true
   },
   "outputs": [],
   "source": [
    "#simplify: 5 cell types to 5 cell types neighbors\n",
    "#nothing interesting here\n",
    "#immune neighbors are good ... but immune is just good!\n",
    "for s_cell_surd in df.loc[:,s_celltype].unique():\n",
    "    df_im = df.loc[df.loc[:,s_celltype]==s_cell_surd]\n",
    "    for s_cell_neigh in df.loc[:,s_celltype].unique():\n",
    "        s_col = s_cell_neigh\n",
    "        df_it = df_im.loc[:,[s_cell_neigh,'Patient']].groupby('Patient').mean()\n",
    "        df_p.index = df_p.index.astype('str')\n",
    "        df_it= df_it.merge(df_p.loc[:,['Subtype','Platform','Survival','Survival_time']],left_index=True,right_index=True)\n",
    "        for s_subtype in ['ER+','TNBC']:\n",
    "            for s_platform in ['IMC','cycIF']:\n",
    "                df_all = df_it.loc[df_it.Platform==s_platform]\n",
    "                dff = df_all[df_all.Subtype==s_subtype]\n",
    "                dff = dff.dropna()\n",
    "                b_low = dff.loc[:,s_col] <= dff.loc[:,s_col].median()\n",
    "                if dff.loc[:,s_col].median() == 0:\n",
    "                    b_low = dff.loc[:,s_col] == 0\n",
    "                dff.loc[b_low,'abundance'] = 'low'\n",
    "                dff.loc[~b_low,'abundance'] = 'high'\n",
    "                kmf = KaplanMeierFitter()\n",
    "                results = multivariate_logrank_test(event_durations=dff.Survival_time,\n",
    "                                                    groups=dff.abundance, event_observed=dff.Survival)\n",
    "                print(f'{s_cell_surd} {s_col} {s_platform} {s_subtype}')\n",
    "                if results.summary.p[0] < 0.1:\n",
    "                    fig, ax = plt.subplots(figsize=(2,2.5),dpi=300)\n",
    "                    for s_group in ['high','low']:\n",
    "                        df_abun = dff[dff.abundance==s_group]\n",
    "                        durations = df_abun.Survival_time\n",
    "                        event_observed = df_abun.Survival\n",
    "                        kmf.fit(durations, event_observed,label=s_group)\n",
    "                        kmf.plot(ax=ax,ci_show=False)\n",
    "                    s_title1 = f'{s_subtype} {s_platform}'\n",
    "                    s_title2 = f'{s_cell_surd} {s_col}'\n",
    "                    ax.set_title(f'{s_title1}\\n{s_title2}\\np={results.summary.p[0]:.2}',fontsize=10)\n",
    "                    ax.legend(loc='upper right')\n",
    "                    plt.tight_layout()\n",
    "                    fig.savefig(f\"{codedir}/data/Survival_Plots/KM_intratumoral_{s_celltype}_{s_title1.replace(' ','_')}_{s_title2.replace(' ','_')}.png\",dpi=300)\n",
    "        \n",
    "    "
   ]
  },
  {
   "cell_type": "code",
   "execution_count": null,
   "metadata": {
    "scrolled": true
   },
   "outputs": [],
   "source": [
    "#leiden clusters vs survival 30 ER+, 18 TNBC\n",
    "# so i found that if all cells have more tumor neigbors than immune neigbors (poor prognosis)\n",
    "#versus all cells have more immune neighbors (>5) is good prognosis\n",
    "s_col = 'intratumor'#'immune_hotspot'#\n",
    "for s_cell_surd in df.loc[:,s_celltype].unique():\n",
    "    df_im = df.loc[df.loc[:,s_celltype]==s_cell_surd]\n",
    "    if s_col == 'intratumor':\n",
    "        df_it = pd.DataFrame(df_im.groupby('Patient').intratumor.sum()/df_im.groupby('Patient').intratumor.count())\n",
    "    elif s_col == 'immune_hotspot':\n",
    "        df_it = pd.DataFrame(df_im.groupby('Patient').immune_hotspot.sum()/df_im.groupby('Patient').immune_hotspot.count())\n",
    "    df_p.index = df_p.index.astype('str')\n",
    "    df_it= df_it.merge(df_p.loc[:,['Subtype','Platform','Survival','Survival_time']],left_index=True,right_index=True)\n",
    "    for s_platform in ['IMC','cycIF']:\n",
    "        df_all = df_it.loc[df_it.Platform==s_platform]\n",
    "        for s_subtype in ['ER+','TNBC']:\n",
    "            #print(s_subtype)\n",
    "            dff = df_all[df_all.Subtype==s_subtype]\n",
    "            dff = dff.dropna()\n",
    "            b_low = dff.loc[:,s_col] <= dff.loc[:,s_col].median()\n",
    "            if dff.loc[:,s_col].median() == 0:\n",
    "                b_low = dff.loc[:,s_col] == 0\n",
    "            dff.loc[b_low,'abundance'] = 'low'\n",
    "            dff.loc[~b_low,'abundance'] = 'high'\n",
    "            kmf = KaplanMeierFitter()\n",
    "            results = multivariate_logrank_test(event_durations=dff.Survival_time,\n",
    "                                                groups=dff.abundance, event_observed=dff.Survival)\n",
    "\n",
    "            print(f'{s_cell_surd} {s_col} {s_platform} {s_subtype}')\n",
    "            for s_abun in ['high','low']:\n",
    "                df_norm_all.loc[((df_norm_all.Platform==s_platform)&(df_norm_all.subtype==s_subtype))&(df_norm_all.Patient.isin(dff[dff.abundance==s_abun].index)),f'{s_col}_abundance'] = s_abun\n",
    "            fig, ax = plt.subplots(figsize=(3,3),dpi=300)\n",
    "            for s_group in ['high','low']:\n",
    "                df_abun = dff[dff.abundance==s_group]\n",
    "                durations = df_abun.Survival_time\n",
    "                event_observed = df_abun.Survival\n",
    "                kmf.fit(durations, event_observed,label=s_group)\n",
    "                kmf.plot(ax=ax,ci_show=False)\n",
    "            s_title1 = f'{s_subtype} {s_platform}'\n",
    "            s_title2 = f'{s_cell_surd} {s_col}'\n",
    "            ax.set_title(f'{s_title1}\\n{s_title2}\\np={results.summary.p[0]:.2}',fontsize=10)\n",
    "            ax.legend(loc='upper right')\n",
    "            plt.tight_layout()\n",
    "            if results.summary.p[0] < 0.1:\n",
    "                fig.savefig(f\"{codedir}/data/Survival_Plots/KM_intratumoral_{s_celltype}_{s_title1.replace(' ','_')}_{s_title2.replace(' ','_')}.png\",dpi=300)\n",
    "            else:\n",
    "                plt.close(fig)\n",
    "            #break\n",
    "        #break\n",
    "    #break"
   ]
  },
  {
   "cell_type": "code",
   "execution_count": null,
   "metadata": {
    "scrolled": true
   },
   "outputs": [],
   "source": [
    "#error here?\n",
    "df_result = df_norm_all.loc[~df_norm_all.intratumor_abundance.isna(),['Patient','intratumor_abundance','immune_hotspot_abundance','Platform','subtype']].groupby('Patient').first()\n",
    "for s_platform in ['IMC','cycIF']:\n",
    "    for s_subtype in ['ER+','TNBC']:\n",
    "        df_corr = df_result[((df_result.Platform==s_platform) & (df_result.subtype==s_subtype))]\n",
    "        confusion_matrix = pd.crosstab(df_corr.intratumor_abundance,df_corr.immune_hotspot_abundance)\n",
    "        fig,ax = plt.subplots(dpi=400,figsize=(3,3))\n",
    "        sns.heatmap(confusion_matrix, annot=True,ax=ax,cbar_kws={'label':'No. Pts.'},cmap='viridis')\n",
    "        chi2, pvalue, dof, expected  = stats.chi2_contingency(confusion_matrix)\n",
    "        print(pvalue)\n",
    "        ax.set_title(f\"Intratumor vs. Hotspot Immune\\n{s_subtype} {s_platform}\\n(p = {pvalue:.4f})\")\n",
    "        plt.tight_layout()\n",
    "        fig.savefig(f'{codedir}/{s_date}/Chi_square_intratumor_vs_hotspot_{s_subtype}_{s_platform}.png')\n",
    "    "
   ]
  },
  {
   "cell_type": "code",
   "execution_count": null,
   "metadata": {},
   "outputs": [],
   "source": [
    "sns.heatmap(expected,annot=True,cmap='viridis')"
   ]
  },
  {
   "cell_type": "code",
   "execution_count": null,
   "metadata": {},
   "outputs": [],
   "source": []
  },
  {
   "cell_type": "code",
   "execution_count": null,
   "metadata": {
    "scrolled": true
   },
   "outputs": [],
   "source": [
    "#clustering - not used\n",
    "counts_df = pd.read_csv('./data/20220118_JP-TMAs_LeidenClustering_neighbors30_resolution0.4_markers22_2sub_NeighborhoodCounts.csv',index_col=0)\n",
    "print('counts dataframe loaded')\n",
    "s_type='neighborhoods'\n",
    "n_markers = 22\n",
    "n_neighbors = 30\n",
    "s_sample = '20220118_JP-TMAs'\n",
    "for resolution in [0.4,0.2,0.3]:\n",
    "    results_file = f'./data/{s_sample}_NeighborhoodClustering_{n_neighbors}neighbors_{n_markers}celltypes_leiden{resolution}_full.h5ad'   \n",
    "    adata = sc.read_h5ad(results_file)\n",
    "    counts_df['leiden'] = adata.obs.leiden.astype('str')\n",
    "    ls_index = counts_df.groupby('leiden').count()[counts_df.groupby('leiden').count().loc[:,'0']<200].index.to_list()\n",
    "    counts_df.loc[counts_df.leiden.isin(ls_index),'leiden'] = 'small'\n",
    "    adata.obs['leiden_'] = counts_df.loc[:,'leiden'].astype('str')\n",
    "    figname = f'UmapLeidenNeighborhoods_{n_neighbors}_{resolution}_full.png'\n",
    "    adata.uns['leiden_colors'] = mpl.cm.tab20b.colors + mpl.cm.tab20c.colors\n",
    "    fig = sc.pl.umap(adata, color='leiden_',save=figname,title=f'Leiden Neighborhoods {n_neighbors} {resolution}',color_map='gist_ncar') #\n",
    "    break"
   ]
  },
  {
   "cell_type": "markdown",
   "metadata": {},
   "source": [
    "### neighborhoods of leiden celltypes\n",
    "\n",
    "neighborhhod clusters\n",
    "\n",
    "not predictive"
   ]
  },
  {
   "cell_type": "code",
   "execution_count": null,
   "metadata": {
    "scrolled": true
   },
   "outputs": [],
   "source": [
    "s_sample = '20220125_JP-TMAs_BaselTMA_gatedcelltype5'\n",
    "nbr_r = 50\n",
    "for k in [6, 9, 8, 7, 5,6,9]:\n",
    "    df_k = pd.read_csv(f'{codedir}/data/{s_sample}_Kmeans_{k}_r{nbr_r}.csv',index_col=0)\n",
    "    counts_df[f'K{k}'] = df_k.loc[:,str(k)]\n",
    "    df_plot = counts_df.loc[:,['endothelial', 'immune', 'stromal', 'epithelial','fibroblast',f'K{k}']].groupby(f'K{k}').mean()\n",
    "    g = sns.clustermap(df_plot,figsize=(6,5),cmap='bwr',z_score=1,\n",
    "                           vmin=-2,vmax=2)\n",
    "    g.savefig(f'figures/clustermap_neighborhood_{nbr_r}_{k}.png',dpi=200)\n",
    "    categories_order = df_plot.iloc[g.dendrogram_row.reordered_ind,:].index.tolist()\n",
    "    break"
   ]
  },
  {
   "cell_type": "code",
   "execution_count": null,
   "metadata": {},
   "outputs": [],
   "source": [
    "df_plot = counts_df.merge(df_lei_both.loc[:,['leiden','subtype','Platform','Patient']],left_index=True,right_index=True)\n",
    "#df_plot['leiden_neigh'] = df_plot.leiden + '_' + df_plot.K6.astype('str')\n",
    "df_neigh_surv = (df_plot.groupby([f'K{k}','Patient']).count().endothelial/df_plot.groupby(['Patient']).count().endothelial).reset_index()\n",
    "df_neigh_surv['subtype'] = df_neigh_surv.Patient.map(dict(zip(df_lei_both.Patient,df_lei_both.subtype)))\n",
    "df_neigh_surv['Platform'] = df_neigh_surv.Patient.map(dict(zip(df_lei_both.Patient,df_lei_both.Platform)))\n",
    "df_neigh_surv['Survival_time'] = df_neigh_surv.Patient.map(dict(zip(df_surv.index.astype('str'),df_surv.Survival_time)))\n",
    "df_neigh_surv['Survival'] = df_neigh_surv.Patient.map(dict(zip(df_surv.index.astype('str'),df_surv.Survival)))"
   ]
  },
  {
   "cell_type": "code",
   "execution_count": null,
   "metadata": {},
   "outputs": [],
   "source": [
    "#leiden clusters vs survival 30 ER+, 18 TNBC\n",
    "#nope \n",
    "for s_platform in ['IMC','cycIF']:\n",
    "    df_all = df_neigh_surv.loc[df_neigh_surv.Platform==s_platform]\n",
    "    for s_subtype in ['ER+','TNBC']:\n",
    "        print(s_subtype)\n",
    "        df_sub = df_all[df_all.subtype==s_subtype]\n",
    "        for s_k in df_sub.loc[:,f'K{k}'].unique(): #['intratumor']: #, #df.columns.drop(['durations','event_observed','subtype']):\n",
    "            s_col = 'endothelial'\n",
    "            dff = df_sub[df_sub.loc[:,f'K{k}']==s_k]\n",
    "            dff=dff.dropna()\n",
    "            b_low = dff.loc[:,s_col] <= dff.loc[:,s_col].median()\n",
    "            if len(dff) == 0:\n",
    "                print('skipping')\n",
    "                continue\n",
    "            if dff.loc[:,s_col].median() == 0:\n",
    "                b_low = dff.loc[:,s_col] == 0\n",
    "            dff.loc[b_low,'abundance'] = 'low'\n",
    "            dff.loc[~b_low,'abundance'] = 'high'\n",
    "            kmf = KaplanMeierFitter()\n",
    "            results = multivariate_logrank_test(event_durations=dff.Survival_time,\n",
    "                                                groups=dff.abundance, event_observed=dff.Survival)\n",
    "            if results.p_value < 0.1:\n",
    "                fig, ax = plt.subplots(figsize=(3,3),dpi=300)\n",
    "                for s_group in ['high','low']:\n",
    "                    df_abun = dff[dff.abundance==s_group]\n",
    "                    durations = df_abun.Survival_time\n",
    "                    event_observed = df_abun.Survival\n",
    "                    kmf.fit(durations, event_observed,label=s_group)\n",
    "                    kmf.plot(ax=ax,ci_show=False)\n",
    "                s_title1 = f'{s_subtype} {s_platform}'\n",
    "                s_title2 = f'neighborhood {s_k}'\n",
    "                ax.set_title(f'{s_title1}\\n{s_title2}\\np={results.summary.p[0]:.2}',fontsize=10)\n",
    "                ax.legend(loc='upper right')\n",
    "                plt.tight_layout()\n",
    "                fig.savefig(f\"{codedir}/data/Survival_Plots/KM_kmeans{s_k}_{s_celltype}_{s_title1.replace(' ','_')}_{s_title2.replace(' ','_')}.png\",dpi=300)\n"
   ]
  },
  {
   "cell_type": "code",
   "execution_count": null,
   "metadata": {},
   "outputs": [],
   "source": [
    "for s_cell in ls_cells:\n",
    "    g = sns.catplot(data=df_plot[df_plot.leiden==s_cell],y='K6',hue='subtype',row='Platform',kind='count',orient='horizontal')\n",
    "    g.fig.suptitle(s_cell,y=.95)\n",
    "    #break"
   ]
  },
  {
   "cell_type": "code",
   "execution_count": null,
   "metadata": {},
   "outputs": [],
   "source": [
    "ls_cells =['NOS str.', 'CD44+ str.', 'Vim++ str.', 'Vim+ t.', 'Large t.',\n",
    "       'Luminal t.', 'Proliferating t.', 'Ecad- t.', 'poorly diff t.',\n",
    "       'Basal t.', 'Endothelial', 'CD3 T cell', 'EGFR hi t.',\n",
    "       'Macrophage', 'Luminal ER+ t.', 'Myoepithelial', 'CD44+ t.',\n",
    "       'Luminal hi t.', 'ECM++ str.', 'CD20 B cell']"
   ]
  },
  {
   "cell_type": "code",
   "execution_count": null,
   "metadata": {},
   "outputs": [],
   "source": [
    "for s_cell in ls_cells:\n",
    "    print(s_cell)\n",
    "    ls_index = df_lei_both.loc[df_lei_both.leiden==s_cell].index\n",
    "    print(counts_df.loc[ls_index].mean())\n",
    "    #break"
   ]
  },
  {
   "cell_type": "code",
   "execution_count": null,
   "metadata": {},
   "outputs": [],
   "source": [
    "df_plot = counts_df.merge(df_lei_both.loc[:,['leiden','subtype','Platform']],left_index=True,right_index=True)"
   ]
  },
  {
   "cell_type": "code",
   "execution_count": null,
   "metadata": {
    "scrolled": true
   },
   "outputs": [],
   "source": [
    "#luminal ER or Ki67 versus neigbors\n",
    "for s_cell in ['epithelial','immune','endothelial','stromal','fibroblast']:\n",
    "    sns.catplot(data=df_plot,x=s_cell,y='leiden',hue='subtype',col='Platform',kind='box',orient='horizontal',showfliers=False)"
   ]
  },
  {
   "cell_type": "markdown",
   "metadata": {},
   "source": [
    "### neighborhood enrichment <a name=\"sqpy\"></a>\n",
    "\n",
    "- permutation test in squidpy\n",
    "\n",
    "\n",
    "[contents](#contents)\n"
   ]
  },
  {
   "cell_type": "code",
   "execution_count": null,
   "metadata": {},
   "outputs": [],
   "source": [
    "#zurich\n",
    "df_sq_z = pd.read_csv(f'20220203_ZurichTMA_neighborhood_enrichment_50_leiden.csv')\n",
    "df_sq_z = df_sq_z.rename({'Unnamed: 0':'slide_scene','Unnamed: 1':'center_cell'},axis=1)\n",
    "df_sq_z['Patient'] = [item.split('_')[0] for item in df_sq_z.slide_scene]\n",
    "df_z = pd.read_csv(f'{imcdir}/ZurichTMA/Zuri_PatientMetadata.csv',index_col=0)\n",
    "#print(df_z.OSmonth.isna().sum())\n",
    "df_z['PID'] = [item.split('_')[2] for item in df_z.core]\n",
    "df_sq_z['ID'] = df_sq_z.Patient.map(dict(zip(df_z.PID,df_z.clinical_type))).replace({'TripleNeg':'TNBC','HR+HER2-':'ER+'})\n",
    "df_sq_z['Platform'] = 'IMC'\n",
    "df_sq_z.reset_index(inplace=True)\n",
    "df_sq_z =df_sq_z.drop('index',axis=1)"
   ]
  },
  {
   "cell_type": "code",
   "execution_count": null,
   "metadata": {},
   "outputs": [],
   "source": [
    "s_sample = 'ZTMA'\n",
    "i_rad = 50\n",
    "ls_sub = ['ER+','TNBC']\n",
    "ls_cell = df_sq_z.loc[:,(df_sq_z.dtypes=='float64')].columns\n",
    "ls_cell = ['CD3 T cell', 'Endothelial', 'FN+ str.', 'FN++ SMA+ str.',\n",
    "       'Luminal ER+ t.', 'Myoepithelial', 'Proliferating t.', 'Vim++ str.',\n",
    "       #'CD44+ t.', 'Ecad- t.',  'poorly diff t.', 'CD20 B cell', 'EGFR hi t.', 'Basal t.'\n",
    "      'Macrophage',]\n",
    "for s_center in ['Luminal ER+ t.','Basal t.','Proliferating t.','poorly diff t.']:\n",
    "    for s_subtype in ls_sub:\n",
    "        for s_platform in ['IMC']:\n",
    "            df_sub = df_sq_z[(df_sq_z.ID==s_subtype) & (df_sq_z.Platform==s_platform)] #\n",
    "            df_same = df_sub.loc[(df_sub.center_cell==s_center),df_sub.loc[df_sub.center_cell==s_center,ls_cell].median().sort_values(ascending=False).index]\n",
    "            if s_subtype == 'TNBC':\n",
    "                df_same = df_same.rename({'Luminal ER+ t.':'Luminal t.'},axis=1)\n",
    "                s_center = s_center.replace('Luminal ER+ t.','Luminal t.')\n",
    "            fig, ax = plt.subplots(figsize = (3,4.5),dpi=200)\n",
    "            sns.boxplot(data=df_same,showfliers=False,palette='muted', orient='h',ax=ax)\n",
    "            sns.stripplot(data=df_same, palette='dark', orient='h',ax=ax,s=2)\n",
    "            ax.axvline(x=0, ymin=0, ymax=1,ls='--',color='black')\n",
    "            ax.set_title(f'Neighborhood Enrichment\\n{s_center}\\n in {s_subtype} {s_platform}')\n",
    "            ax.set_xlim(-55,55)\n",
    "            fig.savefig(f'{s_date}/boxplots/Boxplot_{s_sample}_{s_center}_{i_rad}_{s_subtype}_{s_platform}.png')"
   ]
  },
  {
   "cell_type": "code",
   "execution_count": null,
   "metadata": {},
   "outputs": [],
   "source": [
    "ls_drop = ['JP-TMA1-1_scene001','JP-TMA1-1_scene009','JP-TMA1-1_scene015','JP-TMA1-1_scene023','JP-TMA1-1_scene025',\n",
    "          'JP-TMA1-1_scene026','JP-TMA1-1_scene030','JP-TMA1-1_scene042','JP-TMA1-1_scene046','JP-TMA1-1_scene050',\n",
    "          'JP-TMA1-1_scene051','JP-TMA1-1_scene053','JP-TMA1-1_scene072','JP-TMA1-1_scene073','JP-TMA1-1_scene078',\n",
    "          'JP-TMA1-1_scene085','JP-TMA1-1_scene089','JP-TMA1-1_scene090','JP-TMA1-1_scene091','JP-TMA1-1_scene092',\n",
    "          'JP-TMA1-1_scene094','JP-TMA1-1_scene118','JP-TMA1-1_scene126','JP-TMA2-1_scene16']\n",
    "print(len(ls_drop))\n",
    "#print(len(df_sq[df_sq.slide_scene.isin(ls_drop)].slide_scene.unique()))"
   ]
  },
  {
   "cell_type": "code",
   "execution_count": null,
   "metadata": {},
   "outputs": [],
   "source": [
    "#basel\n",
    "i_rad = 50\n",
    "#df_sq = pd.read_csv(f'20220125_JP-TMAs_neighborhood_enrichment_{i_rad}_leiden.csv')\n",
    "#df_sq = df_sq.append(pd.read_csv(f'20220125_BaselTMA_neighborhood_enrichment_{i_rad}_leiden.csv'))\n",
    "df_sq_b = pd.read_csv(f'20220125_BaselTMA_neighborhood_enrichment_{i_rad}_leiden.csv')\n",
    "df_sq_b = df_sq_b.rename({'Unnamed: 0':'slide_scene','Unnamed: 1':'center_cell'},axis=1)\n",
    "df_sq_b['Patient'] = [item.split('_')[0] for item in df_sq_b.slide_scene]\n",
    "df_b = pd.read_csv(f'{imcdir}/BaselTMA/Basel_PatientMetadata.csv')\n",
    "df_b['PID'] = [item.split('_')[2] for item in df_b.core]\n",
    "df_sq_b['ID'] = df_sq_b.Patient.map(dict(zip(df_b.PID,df_b.clinical_type))).replace({'TripleNeg':'TNBC','HR+HER2-':'ER+'})\n",
    "df_sq_b['Platform'] = 'IMC'\n",
    "\n",
    "\n",
    "if not os.path.exists(f'{s_date}/boxplots'):\n",
    "    os.mkdir(f'{s_date}/boxplots')\n",
    "#annot\n",
    "'''\n",
    "d_patient = dict(zip([item.split('_cell')[0] for item in df_lei_both.index],df_lei_both.Patient))\n",
    "df_sq['Patient'] = df_sq.slide_scene.map(d_patient)\n",
    "df_sq['ID'] = df_sq.Patient.map(dict(zip(df_lei_both.Patient,df_lei_both.subtype)))\n",
    "df_sq['Platform'] = df_sq.slide_scene.map(dict(zip([item.split('_cell')[0] for item in df_lei_both.index],df_lei_both.Platform)))\n",
    "df_sq = df_sq[~df_sq.slide_scene.isin(ls_drop)]\n",
    "df_sq.reset_index(inplace=True)\n",
    "df_sq =df_sq.drop('index',axis=1)\n",
    "'''\n",
    "#cyclic\n",
    "df_sq = pd.read_csv(f'20220125_JP-TMAs_neighborhood_enrichment_{i_rad}_leiden.csv')\n",
    "df_sq = df_sq.rename({'Unnamed: 0':'slide_scene','Unnamed: 1':'center_cell'},axis=1)\n",
    "df_sq['Platform'] = 'cycIF'\n",
    "df_sq['Patient'] = df_sq.slide_scene.map(dict(zip(df_cyc_a.index,df_cyc_a.Accession)))\n",
    "df_sq['ID'] = df_sq.Patient.map(dict(zip(df_cyc_a.Accession,df_cyc_a.ID)))\n",
    "df_sq = df_sq[~df_sq.slide_scene.isin(ls_drop)]\n",
    "df_sq.reset_index(inplace=True)\n",
    "df_sq =df_sq.drop('index',axis=1)\n",
    "df_sq = df_sq.append(df_sq_b).append(df_sq_z)"
   ]
  },
  {
   "cell_type": "code",
   "execution_count": null,
   "metadata": {},
   "outputs": [],
   "source": [
    "s_sample = 'both'\n",
    "i_rad = 50\n",
    "ls_sub = ['ER+','TNBC']\n",
    "ls_cell = df_sq.loc[:,(df_sq.dtypes=='float64')].columns\n",
    "ls_cell = ['CD3 T cell','Basal t.', #'CD44+ str.', #'CD44+ t.', 'EGFR hi t.',\n",
    "      'Luminal ER+ t.', 'Endothelial', #'Large t.', 'Ecad- t.', 'Luminal hi t.', 'Luminal t.','Vim+ t.', 'poorly diff t.',\n",
    "        'Macrophage', 'Myoepithelial',\n",
    "       'NOS str.', 'Proliferating t.',  'Vim++ str.',#'CD20 B cell'\n",
    "       'ECM++ str.', ]\n",
    "for s_center in ['Luminal ER+ t.','Basal t.','Proliferating t.','poorly diff t.']:\n",
    "    for s_subtype in ls_sub:\n",
    "        for s_platform in ['IMC','cycIF']:\n",
    "            df_sub = df_sq[(df_sq.ID==s_subtype) & (df_sq.Platform==s_platform)] #\n",
    "            df_same = df_sub.loc[(df_sub.center_cell==s_center),df_sub.loc[df_sub.center_cell==s_center,ls_cell].median().sort_values(ascending=False).index]\n",
    "            if s_subtype == 'TNBC':\n",
    "                df_same = df_same.rename({'Luminal ER+ t.':'Luminal t.'},axis=1)\n",
    "                s_center = s_center.replace('Luminal ER+ t.','Luminal t.')\n",
    "            fig, ax = plt.subplots(figsize = (3,4.5),dpi=200)\n",
    "            sns.boxplot(data=df_same,showfliers=False,palette='muted', orient='h',ax=ax)\n",
    "            sns.stripplot(data=df_same, palette='dark', orient='h',ax=ax,s=2)\n",
    "            ax.axvline(x=0, ymin=0, ymax=1,ls='--',color='black')\n",
    "            ax.set_xlim(-55,55)\n",
    "            ax.set_title(f'Neighborhood Enrichment\\n{s_center}\\n in {s_subtype} {s_platform}')\n",
    "            fig.savefig(f'{s_date}/boxplots/Boxplot_{s_sample}_{s_center}_{i_rad}_{s_subtype}_{s_platform}.png')"
   ]
  },
  {
   "cell_type": "code",
   "execution_count": null,
   "metadata": {},
   "outputs": [],
   "source": [
    "df_sq.groupby(['slide_scene','center_cell']).mean().unstack()"
   ]
  },
  {
   "cell_type": "code",
   "execution_count": null,
   "metadata": {},
   "outputs": [],
   "source": [
    "#too many interactions\n",
    "ls_cell = df_sq.loc[:,(df_sq.dtypes=='float64')].columns\n",
    "d_color = dict(zip(df_sq.slide_scene,df_sq.ID.map({'TNBC':'C0','ER+':'C1'})))\n",
    "row_colors = df_sq.groupby(['slide_scene','center_cell']).mean().unstack().index.map(d_color)\n",
    "\n",
    "sns.clustermap(df_sq.groupby(['slide_scene','center_cell']).mean().loc[:,ls_cell].unstack().fillna(0),\n",
    "               #z_score=0,\n",
    "               cmap='bwr',center=0,row_colors=row_colors,method='ward')\n"
   ]
  },
  {
   "cell_type": "code",
   "execution_count": null,
   "metadata": {},
   "outputs": [],
   "source": []
  },
  {
   "cell_type": "code",
   "execution_count": null,
   "metadata": {
    "scrolled": true
   },
   "outputs": [],
   "source": [
    "#diff states\n",
    "ls_sub = ['ER+','TNBC']\n",
    "d_diff = {#'Luminal ER+ t.':'poorly diff t.',\n",
    "          #'Luminal ER+ t.':'Luminal t.',\n",
    "          #'Luminal ER+ t.':'Large t.',\n",
    "         #'Proliferating t.':'Luminal t.',\n",
    "         #'Proliferating t.':'poorly diff t.',\n",
    "        #'Proliferating t.':'Luminal ER+ t.',\n",
    "          #'Proliferating t.':'Basal t.',\n",
    "        #'Proliferating t.':'Large t.',\n",
    "        #'Luminal t.':'Basal t.',\n",
    "         'Luminal t.':'poorly diff t.',\n",
    "         }\n",
    "df_patient = pd.DataFrame.from_dict(dict(zip(df_lei_both.Patient,df_lei_both.subtype)),orient='index',columns=['ID'])\n",
    "ls_cell = df_sq.loc[:,(df_sq.dtypes=='float64')].columns\n",
    "ls_cell = [ 'CD3 T cell', 'CD44+ str.','Endothelial', #'Large t.', 'Luminal ER+ t.', 'Luminal hi t.', 'Luminal t.',\n",
    "       'Macrophage', 'Myoepithelial', 'NOS str.', #'Proliferating t.', 'Vim+ t.','poorly diff t.', \n",
    "       'Vim++ str.', 'ECM++ str.', 'CD20 B cell',] \n",
    "for s_cell in ls_cell:\n",
    "    for key, item in d_diff.items():\n",
    "        for s_subtype in ls_sub:\n",
    "            #s_subtype = 'both'\n",
    "            for s_platform in ['cycIF','IMC']:\n",
    "                df_sub = df_sq[(df_sq.ID==s_subtype) & (df_sq.Platform==s_platform)] #\n",
    "                df_same = df_sub.loc[((df_sub.center_cell==key) | (df_sub.center_cell == item)),['center_cell',s_cell]]\n",
    "                fig, ax = plt.subplots(figsize = (3.6,3.2),dpi=200)\n",
    "                sns.boxplot(data=df_same, x='center_cell',y=s_cell,showfliers=False, ax=ax,order=[key, item])\n",
    "                sns.stripplot(data=df_same, x='center_cell',y=s_cell,palette='dark',ax=ax,order=[key, item])\n",
    "                a = df_same.loc[df_same.center_cell.isin([key]),s_cell].values\n",
    "                b = df_same.loc[df_same.center_cell.isin([item]),s_cell].values\n",
    "                statistic, pvalue = scipy.stats.ttest_ind(a, b)\n",
    "                ax.set_ylim(-45,20)\n",
    "                ax.set_ylabel('Z-score\\n neigborhood enrichment',fontsize=12)\n",
    "                if pvalue < 0.05:\n",
    "                        ax.set_title(f'{s_subtype} {s_platform} {s_cell.replace(\"_\",\" \")}*\\np={pvalue:.2}',fontsize=14)\n",
    "                        plt.tight_layout()\n",
    "                        fig.savefig(f'{s_date}/boxplots/Boxplot_{s_cell}_{key}-{item}_{i_rad}_{s_subtype}_{s_platform}.png')\n",
    "\n",
    "                else:\n",
    "                        ax.set_title(f'{s_subtype} {s_cell}')\n",
    "                        plt.close(fig)\n",
    "                #break\n"
   ]
  },
  {
   "cell_type": "code",
   "execution_count": null,
   "metadata": {},
   "outputs": [],
   "source": [
    "##\n",
    "lut ={'ER+':'C1','TNBC':'C0'}\n",
    "#subtype\n",
    "df_patient = pd.DataFrame.from_dict(dict(zip(df_lei_both.Patient,df_lei_both.subtype)),orient='index',columns=['ID'])\n",
    "ls_cell = df_sq.loc[:,(df_sq.dtypes=='float64')].columns.tolist()\n",
    "for s_cell in ls_cell:\n",
    "    #print(s_platform)\n",
    "    #df_plot = df_sq.loc[((df_sq.center_cell==s_cell)&(df_sq.ID.isin(ls_sub))&(df_sq.Platform==s_platform)),(df_sq.dtypes=='float64')].fillna(0).replace([np.inf, -np.inf], np.nan).dropna()\n",
    "    #row_colors = df_sq.loc[((df_sq.center_cell==s_cell) &(df_sq.Platform==s_platform)) ,'ID'].map(lut)\n",
    "    df_plot = df_sq.loc[((df_sq.center_cell==s_cell)&(df_sq.ID.isin(ls_sub))),ls_cell + ['Platform']].fillna(0).replace([np.inf, -np.inf], np.nan).dropna()\n",
    "    #g = sns.clustermap(df_plot,row_colors=row_colors,cmap='viridis')\n",
    "    #g.fig.suptitle(s_cell,x=0.5,y=.9,fontsize='x-large')\n",
    "    #plt.close()\n",
    "    for s_cell_target in ls_cell:\n",
    "        for s_platform in ['cycIF','IMC']:\n",
    "            #print(s_platform)\n",
    "            df_same = df_plot.merge(df_sq.loc[df_sq.Platform==s_platform,['ID']],left_index=True,right_index=True,how='left').loc[:,[s_cell_target,'ID']]\n",
    "            if len(df_same) == 0:\n",
    "                continue\n",
    "            fig, ax = plt.subplots(figsize = (3.2,3.2),dpi=200)\n",
    "            sns.boxplot(data=df_same, x='ID',y=s_cell_target,showfliers=False, ax=ax,order=['TNBC','ER+'])\n",
    "            sns.stripplot(data=df_same, x='ID',y=s_cell_target,palette='dark',ax=ax,order=['TNBC','ER+'])\n",
    "            a = df_same.loc[df_same.ID.isin(['ER+']),s_cell_target].values\n",
    "            b = df_same.loc[df_same.ID.isin(['TNBC']),s_cell_target].values\n",
    "            #z = df_same.loc[df_same.ID.isin(['HER2+']),s_cell].values\n",
    "            #statistic, pvalue = scipy.stats.f_oneway(x,y,z)\n",
    "            statistic, pvalue = scipy.stats.ttest_ind(a, b)\n",
    "            if pvalue < 0.05:\n",
    "                ax.set_ylabel(f'Z-score')\n",
    "                ax.set_title(f'{s_cell} to {s_cell_target} \\n{s_platform} p={pvalue:.2}')\n",
    "                plt.tight_layout()\n",
    "                fig.savefig(f'{s_date}/boxplots/Boxplot_{s_cell}-{s_cell_target}_{i_rad}_{s_platform}.png')\n",
    "            else:\n",
    "                    plt.close(fig)\n",
    "        continue\n",
    "    #break\n",
    "#df_patient.to_csv(f'result_neighborhood_enrichment_by_patient_{i_rad}_{s_celltype}.csv')"
   ]
  },
  {
   "cell_type": "code",
   "execution_count": null,
   "metadata": {},
   "outputs": [],
   "source": [
    "## load up the 5 cell type (proliferation?)\n"
   ]
  },
  {
   "cell_type": "code",
   "execution_count": null,
   "metadata": {},
   "outputs": [],
   "source": [
    "#are the z-scores prognostic?"
   ]
  },
  {
   "cell_type": "code",
   "execution_count": null,
   "metadata": {},
   "outputs": [],
   "source": []
  },
  {
   "cell_type": "code",
   "execution_count": null,
   "metadata": {},
   "outputs": [],
   "source": []
  },
  {
   "cell_type": "markdown",
   "metadata": {},
   "source": [
    "## distances <a name=\"dist\"></a>\n",
    "\n",
    "- neighborhoods\n",
    "\n",
    "\n",
    "[contents](#contents)"
   ]
  },
  {
   "cell_type": "code",
   "execution_count": null,
   "metadata": {},
   "outputs": [],
   "source": [
    "#neighbor distance\n",
    "# collagen detection\n",
    "'''\n",
    "# ColI, ColIV\n",
    "d_thresh =  {'SMT101Bx2-5-Scene-001':[3.8,18],\n",
    " 'SMT101Bx2-5-Scene-002':[3.8,18],\n",
    " 'SMT101Bx3-Scene-004': [9,7],\n",
    " 'SMT101Bx4-3-Scene-001': [15,4],\n",
    " 'SMT101Bx4-3-Scene-002': [6,4]\n",
    " }\n",
    "from mplex_image import features\n",
    "import importlib\n",
    "importlib.reload(features)\n",
    "from skimage import io\n",
    "from matplotlib.colors import LogNorm\n",
    "df_thresh = pd.read_csv('/home/groups/graylab_share/OMERO.rdsStore/engje/Data/20201105_SMT101/101paper_data/thresh_JE_SMT101.csv',index_col=0)\n",
    "for s_sample in ls_sample:\n",
    "    df_xy = pd.read_csv(f'{segdir}/features_{s_sample}_CentroidXY.csv',index_col=0)\n",
    "    os.chdir(f'{subdir}/{s_sample}')\n",
    "    df_img = mpimage.parse_org()\n",
    "    for idxs, s_marker in enumerate(['CD31','PDPN','Vim','aSMA','CD68','ColI','ColIV']):\n",
    "        df_marker = df_img[(df_img.marker==s_marker) & (df_img.scene=='SMT101Bx3-Scene-004')]\n",
    "        df_dist = pd.DataFrame()\n",
    "        for idx, s_index in enumerate(df_marker.index):\n",
    "            img = io.imread(s_index)\n",
    "            s_scene = df_marker.loc[s_index,'scene']\n",
    "            print(s_scene)\n",
    "            #i_thresh = d_thresh[s_scene][idxs]*256\n",
    "            i_thresh = df_thresh.loc[s_scene.replace('-Scene-','_scene'),s_marker]*256\n",
    "            mask = img > i_thresh\n",
    "            fig, ax = plt.subplots()\n",
    "            ax.imshow(mask)\n",
    "            fig.savefig(f'{qcdir}/mask_{s_scene}_{s_marker}.png',dpi=200)\n",
    "            mask_out,shrunk_mask,maskdist,distances = features.mask_border(~mask,type='inner',pixel_distance= 50)\n",
    "            fig, ax = plt.subplots()\n",
    "            ax.imshow(distances.clip(min=0.01), norm=LogNorm(vmin=0.01, vmax=2000))\n",
    "            fig.savefig(f'{qcdir}/mask_{s_scene}_{s_marker}_distances.png',dpi=200)\n",
    "            df_scene = features.cell_distances(df_xy,s_scene,distances)\n",
    "            df_dist = df_dist.append(df_scene)\n",
    "        df_dist.rename({'pixel_dist':f'{s_marker}_dist'},axis=1,inplace=True)\n",
    "        df_xy = df_xy.merge(df_dist.loc[:,f'{s_marker}_dist'],left_index=True,right_index=True,how='left')\n",
    "    df_xy.to_csv(f'{segdir}/features_{s_sample}_MaskDistances.csv')\n",
    "'''"
   ]
  },
  {
   "cell_type": "code",
   "execution_count": null,
   "metadata": {},
   "outputs": [],
   "source": [
    "import scipy\n",
    "def mask_border(mask,type='inner',pixel_distance = 50):\n",
    "    '''\n",
    "    for inner, distance transform from mask to background\n",
    "    for outer, distance transform from back ground to mask\n",
    "    returns a mask\n",
    "    '''\n",
    "    shrunk_mask = mask.copy()\n",
    "    if type == 'inner':\n",
    "        foreground = ~mask\n",
    "        background = mask\n",
    "    elif type == 'outer':\n",
    "        foreground = ~mask\n",
    "        background = mask\n",
    "    distances, (i, j) = scipy.ndimage.distance_transform_edt(\n",
    "                background, return_indices=True\n",
    "            )\n",
    "    maskdist = mask & (distances <= pixel_distance)\n",
    "    shrunk_mask[maskdist] = shrunk_mask[i[maskdist], j[maskdist]]\n",
    "    mask_out = np.logical_and(mask,np.logical_not(shrunk_mask))\n",
    "    return(mask_out,shrunk_mask,maskdist,distances)\n",
    "\n",
    "def cell_distances(df_scene,distances):\n",
    "    '''\n",
    "    load a binary mask of tissue, cell labels, and xy coord datafreame.\n",
    "    return data frame of cells witin binary mask\n",
    "    '''\n",
    "    df_scene = df_scene.copy()\n",
    "    df_scene['DAPI_Y'] = df_scene.DAPI_Y.astype('int64')\n",
    "    df_scene['DAPI_X'] = df_scene.DAPI_X.astype('int64')\n",
    "    df_scene['pixel_dist'] = distances[df_scene.DAPI_Y,df_scene.DAPI_X]\n",
    "    return(df_scene)"
   ]
  },
  {
   "cell_type": "code",
   "execution_count": null,
   "metadata": {},
   "outputs": [],
   "source": [
    "#mask will be positive cell centroids\n",
    "df_result = pd.DataFrame()\n",
    "for s_scene in sorted(set(df_lei.slide_scene)):\n",
    "    print(s_scene)\n",
    "    df_scene = df_lei[df_lei.slide_scene==s_scene]   \n",
    "    df_result_scene=pd.DataFrame(index=df_scene.index)\n",
    "    for s_cell in df_scene.leiden.unique():\n",
    "        #print(s_cell)\n",
    "        a_scene = np.zeros(shape=(round(df_scene.DAPI_Y.max()+1),round(df_scene.DAPI_X.max())+1),dtype='int')\n",
    "        df_cell = df_scene[df_scene.leiden==s_cell]\n",
    "        #print(len(df_cell))\n",
    "        a_scene[round(df_cell.DAPI_Y).astype('int').values,round(df_cell.DAPI_X).astype('int').values] = 255\n",
    "        mask = a_scene > 200\n",
    "        distances, (i, j) = scipy.ndimage.distance_transform_edt(~mask, return_indices=True)\n",
    "        df_scene_dist = cell_distances(df_scene.loc[:,['DAPI_X','DAPI_Y']],distances)\n",
    "        df_result_scene[f'{s_cell}_dist'] = df_scene_dist.pixel_dist\n",
    "        #break\n",
    "    df_result = df_result.append(df_result_scene)"
   ]
  },
  {
   "cell_type": "code",
   "execution_count": null,
   "metadata": {},
   "outputs": [],
   "source": [
    "#df_result.to_csv(f'{codedir}/data/{s_sample}_PixelDistances.csv')"
   ]
  },
  {
   "cell_type": "code",
   "execution_count": null,
   "metadata": {},
   "outputs": [],
   "source": [
    "fig,ax=plt.subplots()\n",
    "ax.imshow(distances.clip(min=0.01),norm=LogNorm(vmin=0.01, vmax=3000))"
   ]
  },
  {
   "cell_type": "code",
   "execution_count": null,
   "metadata": {},
   "outputs": [],
   "source": [
    "df_lei = pd.read_csv(f'{codedir}/data/20220118_JP-TMAs_LeidenClustering_neighbors30_resolution0.4_markers22_2sub.csv',index_col=0)\n",
    "df_lei['slide_scene'] = [item.split('_cell')[0] for item in df_lei.index]\n",
    "df_lei['Patient'] = df_lei.slide_scene.map(dict(zip(df_cyc_a.index,df_cyc_a.Accession)))\n",
    "df_lei['subtype'] = df_lei.slide_scene.map(dict(zip(df_cyc_a.index,df_cyc_a.ID)))\n",
    "df_lei['leidencelltype2'] = df_lei.leidencelltype3.replace({'tumor':'epithelial','endothelial':'stromal','immune':'stromal'})\n",
    "df_lei['celltype1'] = 'all'\n",
    "df_lei['countme'] = True\n",
    "df_lei['Platform'] = 'cycIF'\n",
    "df_lei['gatedcelltype3'] = df_lei.celltype.replace({'endothelial':'stromal'})\n",
    "df_lei['leiden'] = df_lei.leiden.replace(d_celltype_cycif)\n",
    "df_lei = df_lei.rename({'aSMA':'SMA'},axis=1)"
   ]
  },
  {
   "cell_type": "code",
   "execution_count": null,
   "metadata": {},
   "outputs": [],
   "source": [
    "s_sample = '20220118_JP-TMAs_s'\n",
    "df_dist = pd.read_csv(f'{codedir}/data/{s_sample}_PixelDistances.csv',index_col=0)"
   ]
  },
  {
   "cell_type": "code",
   "execution_count": null,
   "metadata": {},
   "outputs": [],
   "source": [
    "df_dist.head()"
   ]
  },
  {
   "cell_type": "code",
   "execution_count": null,
   "metadata": {},
   "outputs": [],
   "source": [
    "df_lei.head()"
   ]
  },
  {
   "cell_type": "code",
   "execution_count": null,
   "metadata": {},
   "outputs": [],
   "source": [
    "from joypy import joyplot\n",
    "s_subtype = 'ER+'\n",
    "ls_er_index = df_lei[(df_lei.leiden=='Luminal ER+ t.') & (df_lei.subtype==s_subtype)].index\n",
    "ls_pro_index = df_lei[(df_lei.leiden=='Proliferating t.')& (df_lei.subtype==s_subtype)].index"
   ]
  },
  {
   "cell_type": "code",
   "execution_count": null,
   "metadata": {},
   "outputs": [],
   "source": [
    "#proliferating cell counts\n",
    "ls_str = ['Vim++ str._dist','NOS str._dist', 'Macrophage_dist', 'Endothelial_dist',\n",
    "        'CD3 T cell_dist', 'CD44+ str._dist', \n",
    "      'ECM++ str._dist', 'CD20 B cell_dist', ]\n",
    "ls_tum = ['Vim+ t._dist', 'Ecad- t._dist', 'poorly diff t._dist', 'Basal t._dist','Large t._dist',\n",
    "         'Myoepithelial_dist', #'Proliferating t._dist',\n",
    "          'CD44+ t._dist', 'EGFR hi t._dist','Luminal ER+ t._dist',\n",
    "          'Luminal t._dist', 'Luminal hi t._dist']\n",
    "fig, ax = joyplot(data=df_dist.loc[ls_pro_index,df_dist.loc[ls_pro_index,ls_str].mean().sort_values().index],grid=True)\n",
    "fig2, ax2 = joyplot(data=df_dist.loc[ls_pro_index,df_dist.loc[ls_pro_index,ls_tum].mean().sort_values().index],grid=True)"
   ]
  },
  {
   "cell_type": "code",
   "execution_count": null,
   "metadata": {},
   "outputs": [],
   "source": [
    "\n",
    "#ER + cell counts\n",
    "ls_str = ['NOS str._dist', 'Macrophage_dist', 'Endothelial_dist',\n",
    "       'Vim++ str._dist', 'CD3 T cell_dist', 'CD44+ str._dist', \n",
    "      'ECM++ str._dist', 'CD20 B cell_dist', ]\n",
    "ls_tum = ['Vim+ t._dist', 'Ecad- t._dist', 'poorly diff t._dist', 'Large t._dist','Basal t._dist',\n",
    "         'Myoepithelial_dist', 'Proliferating t._dist','CD44+ t._dist', 'EGFR hi t._dist',#'Luminal ER+ t._dist',\n",
    "          'Luminal t._dist', 'Luminal hi t._dist']\n",
    "fig, ax = joyplot(data=df_dist.loc[ls_er_index,df_dist.loc[ls_er_index,ls_str].mean().sort_values().index],grid=True)\n",
    "fig2, ax2 = joyplot(data=df_dist.loc[ls_er_index,df_dist.loc[ls_er_index,ls_tum].mean().sort_values().index],grid=True)"
   ]
  },
  {
   "cell_type": "code",
   "execution_count": null,
   "metadata": {},
   "outputs": [],
   "source": [
    "#ER expression vs stromal\n",
    "bins = pd.IntervalIndex.from_tuples([(75, 150), (150, 225), (225, 300), (300, 375), (375, 450), (450, 525), (525, 600)])\n",
    "\n",
    "df_er = df_lei.loc[ls_er_index,['ER']]\n",
    "for s_dist in ls_str:  #df_dist.columns:\n",
    "    df_dist.loc[ls_er_index,s_dist]\n",
    "    #se_q,bins = pd.qcut(x=df_dist.loc[ls_er_index,s_dist], q=20,retbins=True)\n",
    "    se_q = pd.cut(df_dist.loc[ls_er_index,s_dist], bins)\n",
    "    s_cell = s_dist.split('_dist')[0]\n",
    "    df_er['Distance_Quartile'] = se_q\n",
    "    df_er[f'{s_dist}_Quartile'] = se_q\n",
    "    print(s_dist)\n",
    "    df_er.groupby('Distance_Quartile').median().plot(title=s_dist)\n",
    "    df_er.groupby('Distance_Quartile').mean().plot(title=s_dist)\n",
    "    #plot\n",
    "    fig,ax = joyplot(data=df_er.dropna(),by='Distance_Quartile',grid=True)\n",
    "    ax[0].set_title(s_cell)\n",
    "    #break"
   ]
  },
  {
   "cell_type": "code",
   "execution_count": null,
   "metadata": {},
   "outputs": [],
   "source": [
    "\n",
    "ls_columns= ['Vim++ str._dist_Quartile', 'NOS str._dist_Quartile',\n",
    "       'Macrophage_dist_Quartile', 'Endothelial_dist_Quartile',\n",
    "       'CD3 T cell_dist_Quartile', 'CD44+ str._dist_Quartile',\n",
    "       'ECM++ str._dist_Quartile', 'CD20 B cell_dist_Quartile']\n",
    "#\n",
    "df_er['slide_scene'] =[item.split('_cell')[0] for item in df_er.index]\n",
    "for s_marker in ls_columns:\n",
    "    df_plot = df_er.drop('Distance_Quartile',axis=1).groupby(['slide_scene',s_marker]).mean().reset_index()\n",
    "    fig,ax=plt.subplots()\n",
    "    sns.boxplot(data=df_plot,y='ER',x=s_marker,showfliers=False,ax=ax,palette='muted')\n",
    "    sns.stripplot(data=df_plot,y='ER',x=s_marker,ax=ax,palette='dark')\n",
    "    ax.set_title(s_marker)\n",
    "    ax.set_ylim(0,5)\n",
    "    #break"
   ]
  },
  {
   "cell_type": "code",
   "execution_count": null,
   "metadata": {},
   "outputs": [],
   "source": [
    "#ER expression vs tumor\n",
    "ls_tum = ['Vim+ t._dist', 'Ecad- t._dist', 'poorly diff t._dist', 'Basal t._dist','Large t._dist',\n",
    "         'Myoepithelial_dist', 'Proliferating t._dist','CD44+ t._dist', #'EGFR hi t._dist',#'Luminal ER+ t._dist',\n",
    "          'Luminal t._dist', 'Luminal hi t._dist']\n",
    "df_er = df_lei.loc[ls_er_index,['ER']]\n",
    "for s_dist in ls_tum:  #df_dist.columns:\n",
    "    df_dist.loc[ls_er_index,s_dist]\n",
    "    #se_q,bins = pd.qcut(x=df_dist.loc[ls_er_index,s_dist], q=15,retbins=True)\n",
    "    se_q = pd.cut(df_dist.loc[ls_er_index,s_dist], bins)\n",
    "    s_cell = s_dist.split('_dist')[0]\n",
    "    df_er['Distance_Quartile'] = se_q\n",
    "    df_er[f'{s_dist}_Quartile'] = se_q\n",
    "    #plot\n",
    "    fig,ax = joyplot(data=df_er.dropna(),by='Distance_Quartile',grid=True)\n",
    "    ax[0].set_title(s_cell)\n",
    "    #break"
   ]
  },
  {
   "cell_type": "code",
   "execution_count": null,
   "metadata": {},
   "outputs": [],
   "source": [
    "ls_columns = ['Vim+ t._dist_Quartile',\n",
    "       'Ecad- t._dist_Quartile', 'poorly diff t._dist_Quartile',\n",
    "       'Basal t._dist_Quartile', 'Large t._dist_Quartile',\n",
    "       'Myoepithelial_dist_Quartile', 'Proliferating t._dist_Quartile',\n",
    "       'CD44+ t._dist_Quartile', 'Luminal t._dist_Quartile']\n",
    "#\n",
    "df_er['slide_scene'] =[item.split('_cell')[0] for item in df_er.index]\n",
    "for s_marker in ls_columns:\n",
    "    df_plot = df_er.drop('Distance_Quartile',axis=1).groupby(['slide_scene',s_marker]).mean().reset_index()\n",
    "    fig,ax=plt.subplots()\n",
    "    sns.boxplot(data=df_plot,y='ER',x=s_marker,showfliers=False,ax=ax,palette='muted')\n",
    "    sns.stripplot(data=df_plot,y='ER',x=s_marker,ax=ax,palette='dark')\n",
    "    ax.set_title(s_marker)\n",
    "    ax.set_ylim(0,5)\n",
    "    #break"
   ]
  },
  {
   "cell_type": "code",
   "execution_count": null,
   "metadata": {},
   "outputs": [],
   "source": [
    "df_er = df_lei.loc[ls_pro_index,['Ki67']]\n",
    "df_ki67 = df_er.copy()\n",
    "ls_str = ['NOS str._dist', 'Macrophage_dist', 'Endothelial_dist',\n",
    "       'Vim++ str._dist',\n",
    "          'CD3 T cell_dist', 'CD44+ str._dist', \n",
    "      'ECM++ str._dist', 'CD20 B cell_dist',\n",
    "         ]\n",
    "for s_dist in ls_str:  #df_dist.columns:\n",
    "    df_dist.loc[ls_pro_index,s_dist]\n",
    "    #se_q,bins = pd.qcut(x=df_dist.loc[ls_pro_index,s_dist], q=20,retbins=True)\n",
    "    se_q = pd.cut(df_dist.loc[ls_pro_index,s_dist], bins)\n",
    "    s_cell = s_dist.split('_dist')[0]\n",
    "    df_er['Distance_Quartile'] = se_q\n",
    "    df_ki67[f'{s_dist}_Quartile'] = se_q\n",
    "    #df_er.groupby('Distance_Quartile').median().plot(title=s_dist)\n",
    "    #df_er.groupby('Distance_Quartile').mean().plot(title=s_dist)\n",
    "    #plot\n",
    "    fig,ax = joyplot(data=df_er.dropna(),by='Distance_Quartile',grid=True)\n",
    "    ax[0].set_title(s_cell)\n",
    "    #break"
   ]
  },
  {
   "cell_type": "code",
   "execution_count": null,
   "metadata": {},
   "outputs": [],
   "source": [
    "\n",
    "ls_columns= ['Vim++ str._dist_Quartile', 'NOS str._dist_Quartile',\n",
    "       'Macrophage_dist_Quartile', 'Endothelial_dist_Quartile',\n",
    "       'CD3 T cell_dist_Quartile', 'CD44+ str._dist_Quartile',\n",
    "       'ECM++ str._dist_Quartile', 'CD20 B cell_dist_Quartile']\n",
    "#\n",
    "df_ki67['slide_scene'] =[item.split('_cell')[0] for item in df_ki67.index]\n",
    "for s_marker in ls_columns:\n",
    "    df_plot = df_ki67.groupby(['slide_scene',s_marker]).mean().reset_index()\n",
    "    fig,ax=plt.subplots()\n",
    "    sns.boxplot(data=df_plot,y='Ki67',x=s_marker,showfliers=False,ax=ax,palette='muted')\n",
    "    sns.stripplot(data=df_plot,y='Ki67',x=s_marker,ax=ax,palette='dark')\n",
    "    ax.set_title(s_marker)\n",
    "    ax.set_ylim(0,5)\n",
    "    #break"
   ]
  },
  {
   "cell_type": "code",
   "execution_count": null,
   "metadata": {},
   "outputs": [],
   "source": [
    "ls_tum = ['Vim+ t._dist', 'Ecad- t._dist', 'poorly diff t._dist', #'Basal t._dist',\n",
    "          'Large t._dist',\n",
    "         'Myoepithelial_dist',# 'Proliferating t._dist',\n",
    "          'CD44+ t._dist', 'EGFR hi t._dist','Luminal ER+ t._dist',\n",
    "          'Luminal t._dist', 'Luminal hi t._dist']\n",
    "for s_dist in ls_tum:  #df_dist.columns:\n",
    "    df_dist.loc[ls_pro_index,s_dist]\n",
    "    #se_q,bins = pd.qcut(x=df_dist.loc[ls_pro_index,s_dist], q=15,retbins=True)\n",
    "    se_q = pd.cut(df_dist.loc[ls_pro_index,s_dist], bins)\n",
    "    s_cell = s_dist.split('_dist')[0]\n",
    "    df_er['Distance_Quartile'] = se_q\n",
    "    df_ki67[f'{s_dist}_Quartile'] = se_q\n",
    "    #plot\n",
    "    fig,ax = joyplot(data=df_er.dropna(),by='Distance_Quartile',grid=True)\n",
    "    ax[0].set_title(s_cell)\n",
    "    #break"
   ]
  },
  {
   "cell_type": "code",
   "execution_count": null,
   "metadata": {},
   "outputs": [],
   "source": [
    "df_ki67.columns"
   ]
  },
  {
   "cell_type": "code",
   "execution_count": null,
   "metadata": {},
   "outputs": [],
   "source": [
    "\n",
    "ls_columns= ['Vim+ t._dist_Quartile', 'Ecad- t._dist_Quartile',\n",
    "       'poorly diff t._dist_Quartile', 'Large t._dist_Quartile',\n",
    "       'Myoepithelial_dist_Quartile', 'CD44+ t._dist_Quartile',\n",
    "       'EGFR hi t._dist_Quartile', 'Luminal ER+ t._dist_Quartile',\n",
    "       'Luminal t._dist_Quartile', 'Luminal hi t._dist_Quartile']\n",
    "#\n",
    "df_ki67['slide_scene'] =[item.split('_cell')[0] for item in df_ki67.index]\n",
    "for s_marker in ls_columns:\n",
    "    df_plot = df_ki67.groupby(['slide_scene',s_marker]).mean().reset_index()\n",
    "    fig,ax=plt.subplots()\n",
    "    sns.boxplot(data=df_plot,y='Ki67',x=s_marker,showfliers=False,ax=ax,palette='muted')\n",
    "    sns.stripplot(data=df_plot,y='Ki67',x=s_marker,ax=ax,palette='dark')\n",
    "    ax.set_title(s_marker)\n",
    "    ax.set_ylim(0,10)\n",
    "    #break"
   ]
  },
  {
   "cell_type": "code",
   "execution_count": null,
   "metadata": {},
   "outputs": [],
   "source": []
  }
 ],
 "metadata": {
  "kernelspec": {
   "display_name": "python3.9.5",
   "language": "python",
   "name": "base"
  },
  "language_info": {
   "codemirror_mode": {
    "name": "ipython",
    "version": 3
   },
   "file_extension": ".py",
   "mimetype": "text/x-python",
   "name": "python",
   "nbconvert_exporter": "python",
   "pygments_lexer": "ipython3",
   "version": "3.9.5"
  }
 },
 "nbformat": 4,
 "nbformat_minor": 4
}
