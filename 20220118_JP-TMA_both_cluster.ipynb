{
 "cells": [
  {
   "cell_type": "markdown",
   "metadata": {},
   "source": [
    "## Cluster TMAs\n",
    "\n",
    "**Samples:** \n",
    "- JP-TMA-1\n",
    "- JP-TMA-2 (only 2 ER+, and no survival data)\n",
    "\n",
    "**Method**: \n",
    "\n",
    "- threshold and gate cell types\n",
    "\n",
    "- marker expression in tumor/stroma\n",
    "\n",
    "- leiden cluster on good biomarkers for celltypes\n"
   ]
  },
  {
   "cell_type": "code",
   "execution_count": null,
   "metadata": {},
   "outputs": [],
   "source": [
    "#load libraries\n",
    "import pandas as pd\n",
    "import matplotlib.pyplot as plt\n",
    "import numpy as np\n",
    "import os\n",
    "import seaborn as sns\n",
    "import scipy\n",
    "import scanpy as sc\n",
    "import matplotlib as mpl\n",
    "from matplotlib import cm\n",
    "mpl.rc('figure', max_open_warning = 0)\n",
    "codedir = '/home/groups/graylab_share/OMERO.rdsStore/engje/Data/20200000/20200406_JP-TMAs'#os.getcwd()\n",
    "import phenograph\n",
    "os.chdir('/home/groups/graylab_share/OMERO.rdsStore/engje/Data')\n",
    "from mplex_image import visualize as viz, process, preprocess, normalize, mics, mpimage\n",
    "np.random.seed(126)"
   ]
  },
  {
   "cell_type": "code",
   "execution_count": null,
   "metadata": {},
   "outputs": [],
   "source": [
    "codedir"
   ]
  },
  {
   "cell_type": "code",
   "execution_count": null,
   "metadata": {},
   "outputs": [],
   "source": [
    "#change to correct directory\n",
    "datadir = f'/home/groups/graylab_share/OMERO.rdsStore/engje/Data/20200000/20200406_JP-TMAs/data'\n",
    "s_date = '20220118'\n",
    "os.chdir(codedir)\n",
    "if not os.path.exists(s_date):\n",
    "    os.mkdir(s_date)\n",
    "%matplotlib inline"
   ]
  },
  {
   "cell_type": "markdown",
   "metadata": {},
   "source": [
    "# Table of contents <a name=\"contents\"></a>\n",
    "1. [Load annotation](#loadold)\n",
    "2. [load data](#cluster)\n",
    "3. [load thresholds](#load)\n",
    "  [gating](#gating)  [colocalization](#coloc)\n",
    "4. [bg subtract](#leiden)\n",
    "5. [single cell Umap](#l7)\n",
    "6. [Leiden celltypes](#l8)\n",
    "[annotate leiden celltypes](#lbar)\n",
    "7. [Tissue means](#tissue)\n",
    "8. [single variable survival](#surv)\n",
    "9. [subtyping survival](#subt)\n",
    "10. [IMC subtyping survival](#subtIMC)\n",
    "11. [Neighborhoods](#neigh)"
   ]
  },
  {
   "cell_type": "markdown",
   "metadata": {},
   "source": [
    "# Load annotation <a name=\"loadold\"></a>\n",
    "\n",
    "[contents](#contents)"
   ]
  },
  {
   "cell_type": "code",
   "execution_count": null,
   "metadata": {},
   "outputs": [],
   "source": [
    "df_cyc_a = pd.read_csv(f'{codedir}/20210403_JP-TMA1_Annotation+Clinical-Subtype.csv',index_col=0)\n",
    "df_cyc_a.rename({'ClinicalSubtype':'ID'},axis=1,inplace=True)\n",
    "#collapse Subtypes\n",
    "d_replace = {'0':'other','?':'other', np.nan:'other'}\n",
    "df_cyc_a.ID.replace(d_replace,inplace=True)\n",
    "df_cyc_a.loc[df_cyc_a.index.str.contains('JP-TMA2-1'),'Accession'] = df_cyc_a.loc[df_cyc_a.index.str.contains('JP-TMA2-1'),'TMA_scene.1']\n",
    "#add subtype and patient\n",
    "d_cyc_sub = dict(zip(df_cyc_a.index.tolist(),df_cyc_a.ID.tolist()))\n",
    "d_patient = dict(zip(df_cyc_a.index,df_cyc_a.Accession))\n"
   ]
  },
  {
   "cell_type": "markdown",
   "metadata": {},
   "source": [
    "# JP-TMAs  <a name=\"cluster\"></a>\n",
    "\n",
    "load and check JP-TMA-2 and JP-TMA-1\n",
    "\n",
    "filter markers, filter out edge cores (load manual data frame)\n",
    "\n",
    "\n",
    "[contents](#contents)"
   ]
  },
  {
   "cell_type": "code",
   "execution_count": null,
   "metadata": {},
   "outputs": [],
   "source": [
    "os.chdir(datadir)\n",
    "#load manual\n",
    "ls_man = ['20211221_JP-TMA2_ManualPositive.csv','20211207_JP-TMA1_ManualPositive.csv']\n",
    "df_man = pd.DataFrame()\n",
    "for s_man in ls_man:\n",
    "    df_man = df_man.append(pd.read_csv(s_man,index_col=0))\n",
    "#this version has the cores cropped so the bordering cores are not included\n",
    "len(df_man)"
   ]
  },
  {
   "cell_type": "code",
   "execution_count": null,
   "metadata": {},
   "outputs": [],
   "source": [
    "#mean int\n",
    "ls_sample = ['JP-TMA2-1','JP-TMA1-1'] #, 'JP-TMA2-1','JE-TMA-42'\n",
    "df_mi = pd.DataFrame()\n",
    "df_xy = pd.DataFrame()\n",
    "for s_sample in ls_sample:\n",
    "    df_mi2 = pd.read_csv(f'{datadir}/features_{s_sample}_FilteredMeanIntensity.csv',index_col=0)\n",
    "    #df_mi2.rename({'slide_scene':'slidescene'},axis=1,inplace=True)\n",
    "    df_xy2 = pd.read_csv(f'{datadir}/features_{s_sample}_CentroidXY.csv',index_col=0)\n",
    "    #df_xy['slide_scene'] = [item.split('_cell')[0] for item in df_xy.index]\n",
    "    df_mi2.columns = [item.replace('_nucleipos','pos') for item in df_mi2.columns]\n",
    "    #df_mi2['slide'] = s_sample\n",
    "    #df_xy2['slide'] = s_sample\n",
    "    df_mi =df_mi.append(df_mi2)\n",
    "    df_xy =df_xy.append(df_xy2)\n",
    "    #break"
   ]
  },
  {
   "cell_type": "code",
   "execution_count": null,
   "metadata": {},
   "outputs": [],
   "source": [
    "len(df_mi.loc[df_man.index])"
   ]
  },
  {
   "cell_type": "code",
   "execution_count": null,
   "metadata": {},
   "outputs": [],
   "source": [
    "df_mi = df_mi.loc[df_man.index]"
   ]
  },
  {
   "cell_type": "code",
   "execution_count": null,
   "metadata": {},
   "outputs": [],
   "source": [
    "df_mi.columns"
   ]
  },
  {
   "cell_type": "code",
   "execution_count": null,
   "metadata": {},
   "outputs": [],
   "source": [
    "#synchronize with 20201017_JP-TMAs_cellpose_OutputPositive.iynb - just HER2 and EGFR cell mem 25\n",
    "ls_drop = ['CD44_nucadj2','AR_nuclei25','EGFR_perinuc5','ER_nuclei25','HER2_cytoplasm','Vim_nucadj2',\n",
    "          'Ecad_cellmem25','R1c2_perinuc5', 'R5Qc2_perinuc5', 'R5Qc3_perinuc5', 'R5Qc4_perinuc5','R5Qc5_perinuc5'] #\n",
    "df_mi = df_mi.drop(ls_drop,axis=1)"
   ]
  },
  {
   "cell_type": "code",
   "execution_count": null,
   "metadata": {},
   "outputs": [],
   "source": [
    "#shorten and check\n",
    "df_mi.columns = [item.split('_')[0] for item in df_mi.columns]\n",
    "print(len(df_mi.columns))\n",
    "df_mi.columns[df_mi.columns.duplicated()]"
   ]
  },
  {
   "cell_type": "code",
   "execution_count": null,
   "metadata": {},
   "outputs": [],
   "source": [
    "#thresholds new (with added cores)\n",
    "ls_sample = ['JP-TMA2-1','JP-TMA1-1'] #, 'JP-TMA2-1','JE-TMA-42'\n",
    "df_thresh = pd.DataFrame()\n",
    "for s_sample in ls_sample:\n",
    "    df = pd.read_csv(f'{codedir}/data/thresh_JE_{s_sample}.csv',index_col=0)\n",
    "    df['slide'] = s_sample\n",
    "    df_thresh =df_thresh.append(df)\n",
    "#se_test = df_thresh.loc['global'].dropna() #drop 'PDGFRa', 'ColI'"
   ]
  },
  {
   "cell_type": "code",
   "execution_count": null,
   "metadata": {},
   "outputs": [],
   "source": [
    "df_mi = df_mi.merge(df_xy,left_index=True, right_index=True)\n",
    "df_mi.rename({'nuclei_area':'area','nuclei_eccentricity':'eccentricity'},axis=1,inplace=True)"
   ]
  },
  {
   "cell_type": "code",
   "execution_count": null,
   "metadata": {},
   "outputs": [],
   "source": [
    "df_mi.columns"
   ]
  },
  {
   "cell_type": "code",
   "execution_count": null,
   "metadata": {},
   "outputs": [],
   "source": [
    "#save\n",
    "#s_out = f'{codedir}/data/20211221_JP-TMA2_FilteredMeanIntensity.csv'\n",
    "s_out = f'{codedir}/data/20220118_JP-TMAs_FilteredMeanIntensity.csv'\n",
    "if not os.path.exists(s_out):\n",
    "    print('saving csv')\n",
    "    df_mi.to_csv(s_out)"
   ]
  },
  {
   "cell_type": "markdown",
   "metadata": {},
   "source": [
    "# thresholding <a name=\"load\"></a>\n",
    "\n",
    "load thresholds, apply to get positive/negative\n",
    "\n",
    "filter out edge cores\n",
    "\n",
    "JP-TMA1 (?) done in 20211207_JP-TMA_ER_cluster.ipynb\n",
    "\n",
    "[contents](#contents)"
   ]
  },
  {
   "cell_type": "code",
   "execution_count": null,
   "metadata": {},
   "outputs": [],
   "source": [
    "d_thresh = {}\n",
    "for s_sample in ['JP-TMA2-1','JP-TMA1-1']\n",
    "    d_combos = {'Tumor':{'AR', 'EGFR', 'ER', 'Ecad','HER2', 'PgR'},\n",
    "                'Immune':{'CD20', 'CD3', 'CD4', 'CD44', 'CD45', 'CD68', 'CD8','FoxP3', 'GRNZB','PD1'},\n",
    "                'Differentiation':{'CK14', 'CK17', 'CK19', 'CK5', 'CK7', 'CK8'},\n",
    "                'Stroma':{ 'CD31','PDPN',  'Vim', 'aSMA','ColIV'},\n",
    "                'Nuclear': {'LamAC', 'LamB1','LamB2','H3K27', 'H3K4','Ki67','PCNA'},\n",
    "                'Signal':{ 'CoxIV',   'Glut1',  'pAKT', 'pERK', 'pHH3', 'pRB', 'pS6RP','BMP2'},\n",
    "                'DAPI':{'DAPI1','DAPI6','DAPI10','DAPI12'}\n",
    "                }\n",
    "    #load manual thresholds\n",
    "    df_thresh = viz.load_thresh_csv(s_sample)"
   ]
  },
  {
   "cell_type": "code",
   "execution_count": null,
   "metadata": {},
   "outputs": [],
   "source": [
    "#filter\n",
    "d_filter = {\n",
    " #'JP-TMA1-1_scene001':((df_xy.DAPI_Y < 1000) | (df_xy.DAPI_X < 500) | (df_xy.DAPI_X > 4500)| (df_xy.DAPI_Y > 5000)),\n",
    " 'JP-TMA2-1_scene03': ((df_xy.DAPI_Y > 6000)),\n",
    " 'JP-TMA2-1_scene04': ((df_xy.DAPI_Y > 5000)),\n",
    " 'JP-TMA2-1_scene05': ((df_xy.DAPI_Y < 1000)),    \n",
    " 'JP-TMA2-1_scene06': ((df_xy.DAPI_Y < 1000)),        \n",
    " 'JP-TMA2-1_scene07': ((df_xy.DAPI_Y < 1000) | (df_xy.DAPI_Y > 6000) | (df_xy.DAPI_X < 1000)),      \n",
    " 'JP-TMA2-1_scene09': ((df_xy.DAPI_X > 5000)),    \n",
    " 'JP-TMA2-1_scene10': ((df_xy.DAPI_Y < 1000) | (df_xy.DAPI_X > 6000) | (df_xy.DAPI_X < 1000)),     \n",
    " 'JP-TMA2-1_scene11': ((df_xy.DAPI_Y < 1000)),     \n",
    " 'JP-TMA2-1_scene14': ((df_xy.DAPI_Y > 5000)),\n",
    " 'JP-TMA2-1_scene15': ((df_xy.DAPI_X > 5000)),    \n",
    " 'JP-TMA2-1_scene16': ((df_xy.DAPI_Y < 1200)),      \n",
    " 'JP-TMA2-1_scene17': ((df_xy.DAPI_Y > 5000)),\n",
    " 'JP-TMA2-1_scene18': ((df_xy.DAPI_Y < 800)),  \n",
    " 'JP-TMA2-1_scene19': ((df_xy.DAPI_X < 800)),  \n",
    " 'JP-TMA2-1_scene21': ((df_xy.DAPI_Y < 1500)),   \n",
    " 'JP-TMA2-1_scene27': ((df_xy.DAPI_Y > 4500)),\n",
    " 'JP-TMA2-1_scene28': ((df_xy.DAPI_Y > 4500)),\n",
    " 'JP-TMA2-1_scene30': ((df_xy.DAPI_Y < 1500)),  \n",
    " 'JP-TMA2-1_scene31': ((df_xy.DAPI_Y < 1500)),  \n",
    " 'JP-TMA2-1_scene32': ((df_xy.DAPI_Y > 4000)), \n",
    "}\n",
    "ls_filter_all = []\n",
    "for s_scene, filtercon in d_filter.items():\n",
    "    ls_filter = df_xy[(df_xy.slide_scene==s_scene) & filtercon].index.tolist()\n",
    "    ls_filter_all = ls_filter_all + ls_filter"
   ]
  },
  {
   "cell_type": "code",
   "execution_count": null,
   "metadata": {},
   "outputs": [],
   "source": [
    "#threshold\n",
    "d_thresh_record,df_pos = viz.threshold_postive(df_thresh,df_mi2.loc[(~df_mi2.index.isin(ls_filter_all)),(df_mi2.dtypes=='float64') | (df_mi2.columns=='slide_scene')])"
   ]
  },
  {
   "cell_type": "code",
   "execution_count": null,
   "metadata": {},
   "outputs": [],
   "source": [
    "#markers by type\n",
    "s_type = 'Tumor'\n",
    "s_type = 'DAPI'\n",
    "plt.ioff()\n",
    "\n",
    "ls_fig = viz.plot_positive(s_type,d_combos,df_pos,d_thresh_record,df_xy)\n",
    "\n",
    "#manual gating\n",
    "#df_man = pd.read_csv(f'{codedir}/data/20211115_JP-TMAs_GatedPositiveCellNames.csv',index_col=0)\n",
    "#df_man['celltype3'] = df_man.celltype.replace({'endothelial':'stromal','tumor':'epithelial'})"
   ]
  },
  {
   "cell_type": "code",
   "execution_count": null,
   "metadata": {},
   "outputs": [],
   "source": [
    "for fig in ls_fig:\n",
    "    plt.show(fig)\n",
    "    break"
   ]
  },
  {
   "cell_type": "code",
   "execution_count": null,
   "metadata": {},
   "outputs": [],
   "source": [
    "#df_pos.loc[:,['DAPI1_nuclei','DAPI6_nuclei','DAPI10_nuclei','DAPI12_nuclei']].sum()/len(df_pos)\n",
    "df_pos.loc[:,['DAPI1','DAPI6','DAPI10','DAPI12']].sum()/len(df_pos)"
   ]
  },
  {
   "cell_type": "code",
   "execution_count": null,
   "metadata": {},
   "outputs": [],
   "source": [
    "df_pos_manual = pd.merge(df_pos,df_xy.loc[:,['DAPI_X','DAPI_Y']],left_index=True,right_index=True)"
   ]
  },
  {
   "cell_type": "code",
   "execution_count": null,
   "metadata": {},
   "outputs": [],
   "source": [
    "len(df_pos_manual)"
   ]
  },
  {
   "cell_type": "code",
   "execution_count": null,
   "metadata": {},
   "outputs": [],
   "source": [
    "len(df_pos)"
   ]
  },
  {
   "cell_type": "code",
   "execution_count": null,
   "metadata": {},
   "outputs": [],
   "source": [
    "s_out = '20211221_JP-TMA2_ManualPositive.csv'\n",
    "if not os.path.exists(s_out):\n",
    "    print('saving csv')\n",
    "    df_pos_manual.to_csv(s_out)"
   ]
  },
  {
   "cell_type": "markdown",
   "metadata": {},
   "source": [
    "### gating <a name=\"gating\"></a>\n",
    "\n",
    "specify combinations of manual postive/negative to get heiarchically gated call types\n",
    "\n",
    "[contents](#contents)"
   ]
  },
  {
   "cell_type": "code",
   "execution_count": null,
   "metadata": {},
   "outputs": [],
   "source": [
    "#gating\n",
    "# library\n",
    "import os\n",
    "import pandas as pd\n",
    "import shutil\n",
    "from mplex_image import analyze\n",
    "import numpy as np\n",
    "\n",
    "# const input output\n",
    "s_path = \"/home/groups/graylab_share/OMERO.rdsStore/engje/Data/20200000/20200406_JP-TMAs/data\"\n",
    "\n",
    "ls_file = [\"20211207_JP-TMA1_ManualPositive\",\"20211221_JP-TMA2_ManualPositive\"] \n",
    "s_out = '20211221_JP-TMAs'\n",
    "\n",
    "df_data = pd.DataFrame()\n",
    "\n",
    "for s_file in ls_file:\n",
    "    print(f'Loading {s_file}')\n",
    "    df_tt = pd.read_csv(f'{s_path}/{s_file}.csv', index_col=0)\n",
    "    df_data=df_data.append(df_tt, sort=True)\n",
    "\n",
    "# do we want slide or scene?\n",
    "df_data['slide'] = [item.split('_')[0] for item in df_data.index]\n",
    "df_data['scene'] = [item.split('_')[1] for item in df_data.index]\n",
    "#call slide_scene \"slide\"\n",
    "df_data['slide'] = df_data.slide + '_' + df_data.scene\n",
    "df_data.drop('scene',axis=1,inplace=True)"
   ]
  },
  {
   "cell_type": "code",
   "execution_count": null,
   "metadata": {},
   "outputs": [],
   "source": [
    "#parameters (as in 20210312_JP_TNP-TMAs_GateCellTypes.pynb)\n",
    "from mplex_image import gating\n",
    "# cell types\n",
    "ls_endothelial = ['CD31']\n",
    "ls_immune = ['CD45','CD3'] #no 'CD68 for JP-TMA AACR analysis\n",
    "ls_tumor = ['CK7','CK19','CK5','CK14','Ecad'] \n",
    "ls_prolif = ['Ki67']\n",
    "\n",
    "#tcell/myeloid\n",
    "s_tcell = 'CD3' \n",
    "s_bcell = 'CD20'\n",
    "s_myeloid = 'CD68'\n",
    "ls_immune_functional = ['PD1','FoxP3','Ki67','GRNZB'] #\n",
    "\n",
    "#luminal/basal/mesenchymal\n",
    "ls_luminal = ['CK19','CK7','CK8'] #\n",
    "ls_basal = ['CK5','CK14','CK17'] \n",
    "ls_mes = ['Vim'] \n",
    "ls_tumor_plus = ['EGFR', 'CD44', 'Ecad', 'Lum_all', 'Bas_all', 'Mes_all', 'ER', 'HER2_all']\n",
    "ls_stromal_function =  ['Vim','aSMA','PDPN','ColI','CD68'] #'CAV1',\n",
    "ls_tumor_prolif = ['PCNA','Ki67','pHH3']  \n",
    "ls_tumor_signal = ['CoxIV','pS6RP','LamAC','pRB']#['BCL2','CoxIV','pS6RP']\n",
    "\n",
    "#index of cell line samples (i.e. 100% tumor)\n",
    "ls_cellline_index = ['TNP-TMA-7_scene11','TNP-TMA-7_scene13','TNP-TMA-7_scene19',\n",
    "                    'TNP-TMA-7_scene22','TNP-TMA-7_scene33','TNP-TMA-7_scene38',\n",
    "                    'TNP-TMA-7_scene42','TNP-TMA-7_scene44','TNP-TMA-7_scene55',\n",
    "                    'TNP-TMA-7_scene66','TNP-TMA-7_scene77','TNP-TMA-7_scene78',\n",
    "                    'TNP-TMA-7_scene82','TNP-TMA-7_scene88','JE-TMA-63_scene06',\n",
    "                    'JE-TMA-63_scene02','JE-TMA-63_scene03','JE-TMA-63_scene05',\n",
    "                    'JE-TMA-63_scene08','JE-TMA-63_scene09','JE-TMA-63_scene10',\n",
    "                    'JE-TMA-63_scene11','JE-TMA-63_scene13','JE-TMA-63_scene14',\n",
    "                    'JE-TMA-42_scene02','JE-TMA-42_scene03','JE-TMA-42_scene05','JE-TMA-42_scene06',\n",
    "                    'JE-TMA-42_scene08','JE-TMA-42_scene09','JE-TMA-42_scene10',\n",
    "                    'JE-TMA-42_scene11','JE-TMA-42_scene13','JE-TMA-42_scene14']\n",
    "d_rename = {'CD4':'CD4_Ring','CD8':'CD8_Ring',\n",
    "           'HER2':'HER2_Ring','ER':'ER_Nuclei','PgR':'PgR_Nuclei'}\n",
    "df_data = df_data.rename(d_rename, axis=1)\n",
    "if df_data.columns.str.contains('PgR_Nuclei').sum() > 0:\n",
    "    df_data.drop('PgR_Nuclei',axis=1,inplace=True)\n",
    "df_data.columns"
   ]
  },
  {
   "cell_type": "code",
   "execution_count": null,
   "metadata": {},
   "outputs": [],
   "source": [
    "%%capture\n",
    "#custom gating\n",
    "df_data = gating.main_celltypes(df_data,ls_endothelial,ls_immune,ls_tumor,ls_cellline_index)\n",
    "df_data = gating.proliferation(df_data,ls_prolif)\n",
    "df_data = gating.immune_types(df_data,s_myeloid,s_bcell,s_tcell)\n",
    "df_data = gating.immune_functional(df_data,ls_immune_functional)\n",
    "df_data = gating.cell_prolif(df_data)\n",
    "df_data = gating.diff_hr_state(df_data,ls_luminal,ls_basal,ls_mes)"
   ]
  },
  {
   "cell_type": "code",
   "execution_count": null,
   "metadata": {},
   "outputs": [],
   "source": [
    "#have to use lum all Bas all \n",
    "(df_data.loc[((df_data.celltype=='tumor') & (~df_data.slide_scene.isin(ls_cellline_index))),['Lum_all','Bas_all','Ecad']].sum(axis=1)==0).sum()"
   ]
  },
  {
   "cell_type": "code",
   "execution_count": null,
   "metadata": {},
   "outputs": [],
   "source": [
    "%%capture\n",
    "#even more tumor states\n",
    "df_func = analyze.combinations(df_data,ls_tumor_plus)\n",
    "s_celltype = 'tumor'\n",
    "s_new_name='TumorDiffPlus'\n",
    "df_data = df_data.merge(df_func,how='left', left_index=True, right_index=True, suffixes = ('_all',''))\n",
    "ls_cell_names = df_func.columns.tolist()\n",
    "analyze.add_celltype(df_data, ls_cell_names, s_new_name)\n",
    "df_data.loc[df_data[df_data.celltype != s_celltype].index,s_new_name] = np.nan\n",
    "d_replace = dict(zip(df_data.loc[:,'TumorDiffPlus'].dropna().unique(),[item.replace('_all','') for item in df_data.loc[:,'TumorDiffPlus'].dropna().unique()]))\n",
    "df_data['TumorDiffPlus'] = df_data.TumorDiffPlus.replace(d_replace)"
   ]
  },
  {
   "cell_type": "code",
   "execution_count": null,
   "metadata": {},
   "outputs": [],
   "source": [
    "%%capture\n",
    "#general gating\n",
    "df_data = gating.celltype_gates(df_data,ls_tumor_prolif,s_new_name='TumorProlif',s_celltype='tumor')\n",
    "#df_data = gating.celltype_gates(df_data,ls_tumor_plus,s_new_name='TumorDiffPlus',s_celltype='tumor')\n",
    "df_data = gating.celltype_gates(df_data,ls_stromal_function,s_new_name='StromalType',s_celltype='stromal')\n",
    "df_data = gating.celltype_gates(df_data,ls_tumor_signal,s_new_name='TumorSignal',s_celltype='tumor')\n",
    "df_data = gating.non_tumor(df_data)"
   ]
  },
  {
   "cell_type": "code",
   "execution_count": null,
   "metadata": {},
   "outputs": [],
   "source": [
    "#check\n",
    "#df_data.loc[:,df_data.dtypes=='object'].columns"
   ]
  },
  {
   "cell_type": "code",
   "execution_count": null,
   "metadata": {},
   "outputs": [],
   "source": [
    "#drop extra colums\n",
    "df_gate = df_data.loc[:,df_data.dtypes!='bool']#.drop(['BMP2', 'ColIV', 'Glut1', 'pAKT', 'H3K27', 'LamB1', 'LamB2', 'pERK',\n",
    "       #'CSF1R', 'CAV1', 'BCL2', 'MUC1', 'CCND1', 'RAD51', 'gH2AX'],axis=1)"
   ]
  },
  {
   "cell_type": "code",
   "execution_count": null,
   "metadata": {},
   "outputs": [],
   "source": [
    "s_out = '20211221_JP-TMAs'\n",
    "if not os.path.exists(f'{s_out}_GatedPositiveCellNames.csv'):\n",
    "    print('saving new csv')\n",
    "    df_gate.to_csv(f'{s_out}_GatedPositiveCellNames.csv')"
   ]
  },
  {
   "cell_type": "markdown",
   "metadata": {},
   "source": [
    "### load gated "
   ]
  },
  {
   "cell_type": "code",
   "execution_count": null,
   "metadata": {},
   "outputs": [],
   "source": [
    "os.chdir(datadir)\n",
    "s_gate = '20211221_JP-TMAs_GatedPositiveCellNames.csv'\n",
    "df_data = pd.read_csv(s_gate,index_col=0)"
   ]
  },
  {
   "cell_type": "markdown",
   "metadata": {},
   "source": [
    "### colocalization <a name=\"coloc\"></a>\n",
    "\n",
    "load pixel coverage per single cell segmentation mask (calculated in 20201005_JP-TMA_Pipeline.py)\n",
    "\n",
    "calculate manders coeffcients differentiate true double positive cells from false positive caused by lateral bleed through\n",
    "\n",
    "[contents](#contents)"
   ]
  },
  {
   "cell_type": "code",
   "execution_count": null,
   "metadata": {},
   "outputs": [],
   "source": [
    "df_coloc = pd.DataFrame()\n",
    "for s_slide in ['JP-TMA1-1','JP-TMA2-1']: #,'JE-TMA-42','TNP-TMA-7','JE-TMA-63',\n",
    "    df_coloc = df_coloc.append(pd.read_csv(f'{codedir}/data/features_{s_slide}_Colocalization.csv',index_col=0))\n",
    "    break"
   ]
  },
  {
   "cell_type": "code",
   "execution_count": null,
   "metadata": {},
   "outputs": [],
   "source": [
    "#df_coloc.head()"
   ]
  },
  {
   "cell_type": "markdown",
   "metadata": {},
   "source": [
    "# Background subtract <a name=\"leiden\"></a>\n",
    "\n",
    "subtract background intensity defined by manual thresholds\n",
    "\n",
    " done in 20211207_JP-TMA_ER_cluster.ipynb\n",
    "\n",
    "\n",
    "[contents](#contents)"
   ]
  },
  {
   "cell_type": "code",
   "execution_count": null,
   "metadata": {},
   "outputs": [],
   "source": [
    "#s_mi =  f'{codedir}/data/20211221_JP-TMA2_FilteredMeanIntensity.csv'\n",
    "s_mi =  f'{codedir}/data/20220118_JP-TMAs_FilteredMeanIntensity.csv' #both TMA\n",
    "df_mi2 = pd.read_csv(s_mi,index_col=0)\n",
    "df_mi2['slide'] = [item.split('_')[0] for item in df_mi2.slide_scene]"
   ]
  },
  {
   "cell_type": "code",
   "execution_count": null,
   "metadata": {},
   "outputs": [],
   "source": [
    "#subtract background\n",
    "ls_sample = ['JP-TMA2-1', 'JP-TMA1-1']\n",
    "df_bg_all = pd.DataFrame()\n",
    "for s_sample in ls_sample:\n",
    "    print(s_sample)\n",
    "    d_bg = df_thresh[df_thresh.slide==s_sample].loc['global'].dropna().drop('slide').to_dict()\n",
    "    df_bg = df_mi2[df_mi2.slide==s_sample].copy()\n",
    "    print(len(df_bg))\n",
    "    for s_marker, i_thresh in d_bg.items():\n",
    "        df_bg[s_marker] = np.clip(df_mi2.loc[df_mi2.slide==s_sample,s_marker] - i_thresh*256, a_min=0.01, a_max=None) #amin not 0\n",
    "    df_bg_all = df_bg_all.append(df_bg)\n",
    "    #break"
   ]
  },
  {
   "cell_type": "code",
   "execution_count": null,
   "metadata": {},
   "outputs": [],
   "source": [
    "df_bg_all.loc[df_bg_all.slide_scene.isin(dd_special.keys()),['CD20','CD44','CD45']].mean()"
   ]
  },
  {
   "cell_type": "code",
   "execution_count": null,
   "metadata": {},
   "outputs": [],
   "source": [
    "df_bg_all.loc[~df_bg_all.slide_scene.isin(dd_special.keys()),['CD20','CD44','CD45']].mean()"
   ]
  },
  {
   "cell_type": "code",
   "execution_count": null,
   "metadata": {},
   "outputs": [],
   "source": [
    "#specicial BG subtract\n",
    "dd_special = {'JP-TMA1-1_scene105':{'CD20':77,'CD44':9.5}, #8952 cells\n",
    " 'JP-TMA1-1_scene041':{'CD20':51,'CD44':9}, #6515 cells\n",
    "             }\n",
    "for s_scene, d_bg in dd_special.items():\n",
    "    #print(len(df_mi2[df_mi2.slide_scene==s_scene]))\n",
    "    for s_marker, i_thresh in d_bg.items():\n",
    "        #print(df_thresh.loc[df_thresh.slide==s_scene.split('_')[0]].loc['global',s_marker])\n",
    "        #print(i_thresh)\n",
    "        df_bg_all.loc[df_mi2.slide_scene==s_scene,s_marker] = np.clip(df_mi2.loc[df_mi2.slide_scene==s_scene,s_marker] - i_thresh*256, a_min=0.01, a_max=None)\n",
    "        #break"
   ]
  },
  {
   "cell_type": "code",
   "execution_count": null,
   "metadata": {},
   "outputs": [],
   "source": [
    "for s_key in dd_special.keys():\n",
    "    print(df_bg_all.loc[df_bg_all.slide_scene.isin([s_key]),['CD20','CD44','CD45']].mean())"
   ]
  },
  {
   "cell_type": "code",
   "execution_count": null,
   "metadata": {},
   "outputs": [],
   "source": [
    "df_bg_all.loc[~df_bg_all.slide_scene.isin(dd_special.keys()),['CD20','CD44','CD45']].mean()"
   ]
  },
  {
   "cell_type": "code",
   "execution_count": null,
   "metadata": {},
   "outputs": [],
   "source": [
    "df_bg_all"
   ]
  },
  {
   "cell_type": "code",
   "execution_count": null,
   "metadata": {},
   "outputs": [],
   "source": [
    "#save\n",
    "s_out = f'{codedir}/data/20220118_JP-TMAs_BGSubtractedMeanIntensity.csv'\n",
    "if not os.path.exists(s_out):\n",
    "    print('saving csv')\n",
    "    df_bg_all.to_csv(s_out)"
   ]
  },
  {
   "cell_type": "markdown",
   "metadata": {},
   "source": [
    "## Umap <a name=\"l7\"></a>\n",
    "\n",
    "umap projection of single cells\n",
    "\n",
    "first use all markers, all subtypes, just to evaluate markers\n",
    "\n",
    "[contents](#contents)"
   ]
  },
  {
   "cell_type": "code",
   "execution_count": null,
   "metadata": {},
   "outputs": [],
   "source": [
    "import scanpy as sc\n",
    "import os\n",
    "import pandas as pd\n",
    "import seaborn as sns\n",
    "import matplotlib.pyplot as plt"
   ]
  },
  {
   "cell_type": "code",
   "execution_count": null,
   "metadata": {},
   "outputs": [],
   "source": [
    "os.chdir(datadir)\n",
    "s_sample = '20211221_JP-TMAs'\n",
    "s_gate = f'{s_sample}_GatedPositiveCellNames.csv'\n",
    "df_man = pd.read_csv(s_gate,index_col=0)\n",
    "#df_norm = pd.DataFrame()\n",
    "#for s_slide in ['20211207_JP-TMA1','20211221_JP-TMA2']:\n",
    "#    df_norm = df_norm.append(pd.read_csv(f'{s_slide}_BGSubtractedMeanIntensity.csv',index_col=0))\n",
    "s_sample = '20220118_JP-TMAs'\n",
    "df_norm  = pd.read_csv(f'{s_sample}_BGSubtractedMeanIntensity.csv',index_col=0) #20220118_JP-TMAs_BGSubtractedMeanIntensity.csv\n",
    "df_man['celltype3'] = df_man.celltype.replace({'tumor':'epithelial','endothelial':'stromal'})\n",
    "print(len(df_norm))"
   ]
  },
  {
   "cell_type": "code",
   "execution_count": null,
   "metadata": {},
   "outputs": [],
   "source": [
    "d_replace = {'Basal like Cells':'TNBC', 'Claudin-Low Cells':'TNBC', 'Colon Cancer':'other', #'ER+',\n",
    " 'HER2 Cells':'HER2+', #'HER2+',\n",
    " 'Luminal A Cells':'ER+', 'Luminal B Cells':'ER+',\n",
    " #'Normal Breast', #'Normal Tonsil',\n",
    " 'Pancreas':'other', 'Smooth muscle':'other',\n",
    " #'TNBC','other'\n",
    "            }"
   ]
  },
  {
   "cell_type": "code",
   "execution_count": null,
   "metadata": {},
   "outputs": [],
   "source": [
    "#ER+\n",
    "df_exclude = pd.read_csv('exclude_JP-TMA-1_ER+_34markers_leiden0.6_20.csv',index_col=0)\n",
    "\n",
    "ls_exclude = ['JP-TMA1-1_scene038_cell6690', 'JP-TMA1-1_scene038_cell6694','JP-TMA1-1_scene038_cell6697', 'JP-TMA1-1_scene038_cell6698',  'JP-TMA1-1_scene038_cell6700', 'JP-TMA1-1_scene038_cell6701',\n",
    "       'JP-TMA1-1_scene038_cell6702', 'JP-TMA1-1_scene038_cell6703', 'JP-TMA1-1_scene038_cell6704', 'JP-TMA1-1_scene038_cell6705',    'JP-TMA1-1_scene038_cell6706', 'JP-TMA1-1_scene038_cell6707',\n",
    "       'JP-TMA1-1_scene038_cell6708', 'JP-TMA1-1_scene038_cell6709',       'JP-TMA1-1_scene038_cell6710', 'JP-TMA1-1_scene038_cell6711',       'JP-TMA1-1_scene038_cell6712', 'JP-TMA1-1_scene038_cell6713',       'JP-TMA1-1_scene038_cell6714', 'JP-TMA1-1_scene038_cell6715',\n",
    "       'JP-TMA1-1_scene038_cell6716', 'JP-TMA1-1_scene038_cell6717',       'JP-TMA1-1_scene038_cell6718', 'JP-TMA1-1_scene038_cell6719',       'JP-TMA1-1_scene038_cell6720', 'JP-TMA1-1_scene038_cell6721',       'JP-TMA1-1_scene038_cell6722', 'JP-TMA1-1_scene038_cell6723',\n",
    "       'JP-TMA1-1_scene038_cell6724', 'JP-TMA1-1_scene038_cell6725',       'JP-TMA1-1_scene038_cell6726', 'JP-TMA1-1_scene038_cell6727',       'JP-TMA1-1_scene038_cell6728', 'JP-TMA1-1_scene038_cell6729',       'JP-TMA1-1_scene038_cell6730', 'JP-TMA1-1_scene038_cell6731',\n",
    "       'JP-TMA1-1_scene038_cell6732', 'JP-TMA1-1_scene038_cell6733',       'JP-TMA1-1_scene038_cell6734', 'JP-TMA1-1_scene038_cell6735',       'JP-TMA1-1_scene038_cell6736', 'JP-TMA1-1_scene038_cell6737',       'JP-TMA1-1_scene038_cell6738', 'JP-TMA1-1_scene038_cell6739',\n",
    "       'JP-TMA1-1_scene038_cell6740', 'JP-TMA1-1_scene038_cell6741',       'JP-TMA1-1_scene038_cell6742', 'JP-TMA1-1_scene038_cell6743',       'JP-TMA1-1_scene038_cell6744', 'JP-TMA1-1_scene038_cell6745',       'JP-TMA1-1_scene038_cell6746', 'JP-TMA1-1_scene038_cell6747',\n",
    "       'JP-TMA1-1_scene038_cell6748', 'JP-TMA1-1_scene038_cell6749',       'JP-TMA1-1_scene038_cell6750', 'JP-TMA1-1_scene038_cell6751',       'JP-TMA1-1_scene038_cell6752', 'JP-TMA1-1_scene038_cell6753',       'JP-TMA1-1_scene038_cell6754', 'JP-TMA1-1_scene038_cell6755',\n",
    "       'JP-TMA1-1_scene038_cell6756', 'JP-TMA1-1_scene038_cell6757',       'JP-TMA1-1_scene038_cell6758', 'JP-TMA1-1_scene038_cell6759',       'JP-TMA1-1_scene038_cell6760', 'JP-TMA1-1_scene038_cell6761',       'JP-TMA1-1_scene038_cell6762', 'JP-TMA1-1_scene038_cell6763',\n",
    "       'JP-TMA1-1_scene038_cell6764', 'JP-TMA1-1_scene038_cell6765',       'JP-TMA1-1_scene038_cell6766', 'JP-TMA1-1_scene038_cell6767',       'JP-TMA1-1_scene038_cell6768', 'JP-TMA1-1_scene038_cell6769',       'JP-TMA1-1_scene038_cell6770', 'JP-TMA1-1_scene038_cell6771',\n",
    "       'JP-TMA1-1_scene038_cell6772', 'JP-TMA1-1_scene038_cell6773',       'JP-TMA1-1_scene038_cell6774', 'JP-TMA1-1_scene038_cell6775',       'JP-TMA1-1_scene038_cell6776', 'JP-TMA1-1_scene038_cell6777',       'JP-TMA1-1_scene038_cell6778', 'JP-TMA1-1_scene038_cell6779',\n",
    "       'JP-TMA1-1_scene038_cell6780', 'JP-TMA1-1_scene038_cell6781',       'JP-TMA1-1_scene038_cell6782', 'JP-TMA1-1_scene038_cell6783',       'JP-TMA1-1_scene038_cell6784', 'JP-TMA1-1_scene038_cell6785',       'JP-TMA1-1_scene038_cell6786', 'JP-TMA1-1_scene038_cell6787',\n",
    "       'JP-TMA1-1_scene038_cell6788', 'JP-TMA1-1_scene038_cell6789',       'JP-TMA1-1_scene038_cell6790', 'JP-TMA1-1_scene038_cell6791',       'JP-TMA1-1_scene038_cell6792',\n",
    "        'JP-TMA1-1_scene038_cell3327', 'JP-TMA1-1_scene080_cell1795',       'JP-TMA1-1_scene038_cell574', 'JP-TMA1-1_scene009_cell5642',\n",
    "       'JP-TMA1-1_scene038_cell3278', 'JP-TMA1-1_scene092_cell4080'  #HER2\n",
    "             ]\n",
    "ls_exclude_all = sorted(set(df_norm[df_norm.loc[:,'PD1'] > 1365].loc[:,'PD1'].index.tolist()).union(set(ls_exclude))) #PD1\n",
    "df_exclude = df_exclude.append(pd.DataFrame(index=ls_exclude_all,columns=df_exclude.columns))\n",
    "df_exclude_er = df_exclude.copy()\n",
    "print(len(df_exclude_er))"
   ]
  },
  {
   "cell_type": "code",
   "execution_count": null,
   "metadata": {},
   "outputs": [],
   "source": [
    "#manual TNBCs\n",
    "df_exclude = pd.read_csv('exclude_JP-TMA1-1_scene029.csv',index_col=0)#pd.DataFrame() #pd.read_csv('exclude_JP-TMA-1_ER+_34markers_leiden0.6_20.csv',index_col=0)\n",
    "df_exclude = df_exclude.append(pd.read_csv('exclude_JP-TMA1-1_scene070.csv',index_col=0))\n",
    "df_exclude = df_exclude.append(pd.read_csv('exclude_JP-TMA1-1_scene017.csv',index_col=0))\n",
    "df_exclude = df_exclude.append(pd.read_csv('exclude_JP-TMA-1_TNBC_32markers_leiden0.6_31.csv',index_col=0))\n",
    "df_exclude = df_exclude.append(pd.read_csv('exclude_JP-TMA-1_TNBC_30markers_leiden0.4_25.csv',index_col=0))\n",
    "\n",
    "ls_index_tn = df_norm.slide_scene.map(d_cyc_sub).loc[df_exclude_er.index][df_norm.slide_scene.map(d_cyc_sub).loc[df_exclude_er.index]=='TNBC'].index\n",
    "print(len(df_exclude) + len(df_exclude_er))\n",
    "df_exclude = df_exclude.append(df_exclude_er)\n",
    "print(len(df_exclude))\n",
    "print(df_exclude.index.duplicated().sum()) #but duplictes don't matter"
   ]
  },
  {
   "cell_type": "code",
   "execution_count": null,
   "metadata": {},
   "outputs": [],
   "source": [
    "#32 features\n",
    "\n",
    "ls_col = ['EGFR', 'HER2', 'BMP2', 'CD20', 'CD3', 'CD31', 'CD4', 'CD44', 'CD45',\n",
    "       'CD68', 'CD8',  'ColIV', 'CoxIV', 'Glut1', 'PD1', #'PDGFRa','ColI',\n",
    "       'PDPN',  'R1c2', 'Vim', 'aSMA',\n",
    "        'pS6RP', 'CK14', 'CK17',  'CK5', 'CK7', 'CK8',# 'Ecad','CK19',\n",
    "       'AR', 'DAPI11', 'ER', 'FoxP3', 'GRNZB', 'H3K27', 'H3K4',  'Ki67', 'LamAC',\n",
    "       'LamB1', 'LamB2', 'PCNA', 'PgR', 'area', #'cPARP', 'gH2AX', 'pERK', 'pHH3', 'pRB','HIF1a','pAKT','DAPI_Y', 'DAPI_X',\n",
    "        'eccentricity']\n",
    "#almost same features as IMC\n",
    "ls_col = [ 'CD31', 'CD44', 'CD45','CD20','CD3','CD4','CD8',#\n",
    "        'CK14','CK5','EGFR', 'CK19',  'CK8','CK7','Ecad',  #\n",
    "       'Ki67','ER','PgR','CD68', 'aSMA','ColI', #i wish we had 'FN', it would be similar to Colagen I...\n",
    "        'Vim','area'] #\n",
    "print(len(ls_col))\n",
    "#adata = sc.AnnData(df_norm.merge(df_both.loc[:,['area','eccentricity']],left_index=True,right_index=True).loc[:,ls_col])\n",
    "adata = sc.AnnData(df_norm.loc[((df_norm.DAPI12pos) & (~df_norm.index.isin(df_exclude.index))),ls_col]) #487449 cells versus 602881\n",
    "adata.obs['slide_scene'] = [item.split('_cell')[0] for item in adata.obs.index]\n",
    "adata.obs['subtype'] = adata.obs.slide_scene.map(d_cyc_sub).fillna('other').replace(d_replace)\n",
    "#two subtypes\n",
    "adata.obs['TMA'] = [item.split('_')[0] for item in adata.obs.index]\n",
    "adata.obs['celltype3'] = df_man.loc[adata.obs.index,'celltype3']\n",
    "adata = adata[adata.obs.subtype.isin(['TNBC', 'ER+'])]\n",
    "print(len(adata))"
   ]
  },
  {
   "cell_type": "code",
   "execution_count": null,
   "metadata": {},
   "outputs": [],
   "source": [
    "#include two TNBC TMAs\n",
    "print(adata.obs['TMA'].unique())\n",
    "print(adata.obs['subtype'].unique())"
   ]
  },
  {
   "cell_type": "code",
   "execution_count": null,
   "metadata": {
    "scrolled": true
   },
   "outputs": [],
   "source": [
    "#raw\n",
    "b_scale = True\n",
    "adata.raw = adata\n",
    "#reduce dimensionality\n",
    "sc.tl.pca(adata, svd_solver='auto')\n",
    "fig,ax=plt.subplots(figsize=(3.5,5))\n",
    "sc.pl.highest_expr_genes(adata, n_top=48,ax=ax,save=f'Expression_{len(ls_col)}.png')\n",
    "plt.tight_layout()\n",
    "sc.pl.pca_variance_ratio(adata,n_pcs=32, log=True)\n",
    "\n",
    "if b_scale:\n",
    "    sc.pp.scale(adata, zero_center=False, max_value=20)\n",
    "    s_sample = s_sample + '_s'"
   ]
  },
  {
   "cell_type": "code",
   "execution_count": null,
   "metadata": {},
   "outputs": [],
   "source": [
    "len(ls_col)"
   ]
  },
  {
   "cell_type": "code",
   "execution_count": null,
   "metadata": {
    "scrolled": true
   },
   "outputs": [],
   "source": [
    "#umap\n",
    "for n_neighbors in [30,15]:\n",
    "    results_file = f'{s_sample}_{n_neighbors}neighbors_{len(ls_col)}markers.h5ad'\n",
    "    if not os.path.exists(results_file):\n",
    "        print('calc umap')\n",
    "        # calculate neighbors \n",
    "        sc.pp.neighbors(adata, n_neighbors=n_neighbors) #, method='rapids'\n",
    "        sc.tl.umap(adata)\n",
    "    else:\n",
    "        print('loading umap')\n",
    "        adata = sc.read_h5ad(results_file)\n",
    "        adata.obs['slide_scene'] = [item.split('_cell')[0] for item in adata.obs.index]\n",
    "        adata.obs['subtype'] = adata.obs.slide_scene.map(d_cyc_sub).fillna('other').replace(d_replace)\n",
    "        adata.obs['celltype3'] = df_man.loc[adata.obs.index,'celltype3']\n",
    "    #save results\n",
    "\n",
    "    #color by markers\n",
    "    #figname = f\"Umap{s_sample}_markers_{n_neighbors}neighbors_{len(ls_col)}markers.png\"\n",
    "    #sc.pl.umap(adata, color=ls_col,vmin='p1.5',vmax='p98.5',save=figname,ncols=6)\n",
    "    #color by TMA\n",
    "    figname = f\"Umap{s_sample}_TMA_{n_neighbors}neighbors_{len(ls_col)}markers.png\"\n",
    "    fig,ax = plt.subplots(figsize=(3,2), dpi=200)\n",
    "    sc.pl.umap(adata, color='TMA',wspace=.25,save=figname,ax=ax)\n",
    "    \n",
    "    figname = f\"Umap{s_sample}_subtype_{n_neighbors}neighbors_{len(ls_col)}markers.png\"\n",
    "    fig,ax = plt.subplots(figsize=(3,2), dpi=200)\n",
    "    sc.pl.umap(adata, color='subtype',wspace=.25,save=figname,ax=ax)\n",
    "    \n",
    "    figname = f\"Umap{s_sample}_celltype3_{n_neighbors}neighbors_{len(ls_col)}markers.png\"\n",
    "    fig,ax = plt.subplots(figsize=(3,2), dpi=200)\n",
    "    sc.pl.umap(adata, color='celltype3',wspace=.25,save=figname,ax=ax,legend_loc='on data')\n",
    "    \n",
    "    if not os.path.exists(results_file):\n",
    "        adata.write(results_file)\n",
    "    break\n"
   ]
  },
  {
   "cell_type": "markdown",
   "metadata": {},
   "source": [
    "##  Cluster Leiden <a name=\"l8\"></a>\n",
    "\n",
    "cluster umap projection of single cells\n",
    "\n",
    "\n",
    "[contents](#contents)"
   ]
  },
  {
   "cell_type": "code",
   "execution_count": null,
   "metadata": {
    "scrolled": true
   },
   "outputs": [],
   "source": [
    "#cluster\n",
    "s_sample = '20220118_JP-TMAs_s'#'20211221_JP-TMAs_s'\n",
    "n_neighbors = 30 #15 #30 #16\n",
    "n_markers = 22 #32 # 34 #32 #40 #34\n",
    "s_type = '2sub'\n",
    "resolution = 0.4\n",
    "results_file = f'{s_sample}_{n_neighbors}neighbors_{n_markers}markers_{s_type}_leiden{resolution}.h5ad'\n",
    "if not os.path.exists(results_file):\n",
    "    print('clustering')\n",
    "    sc.tl.leiden(adata,resolution=resolution)\n",
    "    adata.write(results_file)\n",
    "else:\n",
    "    print('loading leiden')\n",
    "    adata = sc.read_h5ad(results_file)\n",
    "\n",
    "fig,ax = plt.subplots(figsize=(3,2),dpi=200)\n",
    "figname=f'leiden_{n_neighbors}_{n_markers}_{resolution}_{s_type}_nolegend.png'\n",
    "sc.pl.umap(adata, color='leiden',ax=ax,save=figname,title=figname.split('.png')[0].replace('_',' '),legend_loc=None)\n",
    "\n",
    "\n",
    "#fig,ax = plt.subplots(figsize=(3,2),dpi=200)\n",
    "#figname=f'leiden_{n_neighbors}_{n_markers}_{resolution}_{s_type}.png'\n",
    "#sc.pl.umap(adata, color='leiden',ax=ax,save=figname,title=figname.split('.png')[0].replace('_',' '))"
   ]
  },
  {
   "cell_type": "code",
   "execution_count": null,
   "metadata": {},
   "outputs": [],
   "source": [
    "#merge\n",
    "'''\n",
    "if results_file == '20211207_JP-TMA1_16neighbors_34markers_ER+_leiden0.8.h5ad':\n",
    "    print('annotating')\n",
    "    ls_merge = ['17', '12', '14','20','10','4']\n",
    "    adata[adata.obs.leiden.isin(ls_merge)].to_df().to_csv('annotated_JP-TMA1-1_unmarked_stroma.csv')\n",
    "elif results_file == '20211207_JP-TMA1_15neighbors_30markers_TNBC_leiden0.4.h5ad':\n",
    "    print('annotating')\n",
    "    ls_merge = ['24','20','23','25']\n",
    "    adata[adata.obs.leiden.isin(ls_merge)].to_df().to_csv(f'annotated_JP-TMA1-1_unmarked_stroma_{s_type}.csv')\n",
    "elif results_file == '20211221_JP-TMAs_s_30neighbors_21markers_2sub_leiden0.5.h5ad':\n",
    "    #none  '36', '41', '33', '37' # colI '28', '34', '35', '38', #vim '19', '21' no #Ecad '32', '17' no\n",
    "    print('annotating')\n",
    "    ls_merge = ['34', '35', '38','36', '41', '33', '37','28']\n",
    "    adata[adata.obs.leiden.isin(ls_merge)].to_df().to_csv(f'annotated_JP-TMAs_unmarked_stroma_{s_type}.csv')\n",
    "'''"
   ]
  },
  {
   "cell_type": "code",
   "execution_count": null,
   "metadata": {
    "scrolled": true
   },
   "outputs": [],
   "source": [
    "#viz\n",
    "'''\n",
    "ls_merge = ['34', '35', '38','36', '41', '33', '37','28'] # merge into 28? #39? #33 is in tumor a bit\n",
    "adata.obs['test'] = (adata.obs.leiden.isin(ls_merge)).replace({True:1,False:0})\n",
    "sc.pl.umap(adata, color='test',title='merged')\n",
    "#ls_merge = ['28'] #16\n",
    "#adata.obs['test'] = (adata.obs.leiden.isin(ls_merge)).replace({True:1,False:0})\n",
    "#sc.pl.umap(adata, color='test',title=ls_merge[0])\n",
    "'''"
   ]
  },
  {
   "cell_type": "code",
   "execution_count": null,
   "metadata": {
    "scrolled": true
   },
   "outputs": [],
   "source": [
    "sc.pl.umap(adata, color='Vim',vmin='p1.5',vmax='p98.5')\n",
    "sc.pl.umap(adata, color='ColI',vmin='p1.5',vmax='p98.5')\n",
    "sc.pl.umap(adata, color='Ecad',vmin='p1.5',vmax='p98.5')"
   ]
  },
  {
   "cell_type": "markdown",
   "metadata": {},
   "source": [
    "## Annotate Leiden <a name=\"lbar\"></a>\n",
    "\n",
    "annotate epitelial, immune a stroma cell types\n",
    "\n",
    "also visualize cluster results on tissue scatter plots. Additional visualization done using 20201018_JP-TMAs_napari.py,\n",
    "to visualize ome.tiff created in 20201005_JP-TMA_Pipeline.py\n",
    "\n",
    "\n",
    "[contents](#contents)"
   ]
  },
  {
   "cell_type": "code",
   "execution_count": null,
   "metadata": {},
   "outputs": [],
   "source": [
    "os.chdir(f'{codedir}/data')"
   ]
  },
  {
   "cell_type": "code",
   "execution_count": null,
   "metadata": {},
   "outputs": [],
   "source": [
    "#load leiden\n",
    "resolution =0.4 #24 clust #0.6 30 clust # #0.5 28clust\n",
    "s_sample = '20220118_JP-TMAs_s' #'20211221_JP-TMAs_s'#'20211221_JP-TMAs' s_sample = '20211207_JP-TMA1\n",
    "n_neighbors = 30 #15 #\n",
    "n_markers = 22 #30 #\n",
    "s_type = '2sub'#'TNBC' #''#\n",
    "results_file = f'{s_sample}_{n_neighbors}neighbors_{n_markers}markers_{s_type}_leiden{resolution}.h5ad'\n",
    "adata = sc.read_h5ad(results_file)"
   ]
  },
  {
   "cell_type": "code",
   "execution_count": null,
   "metadata": {},
   "outputs": [],
   "source": [
    "#unmarked stroma\n",
    "#df_str = pd.read_csv(f'annotated_JP-TMA1-1_unmarked_stroma_{s_type}.csv',index_col=0)\n",
    "#df_str = pd.read_csv(f'annotated_JP-TMAs_unmarked_stroma_{s_type}.csv',index_col=0)\n",
    "fig,ax = plt.subplots(figsize=(3,2),dpi=200)\n",
    "figname=f'leiden_{n_neighbors}_{n_markers}_{resolution}_{s_type}_legend.png'\n",
    "sc.pl.umap(adata, color='leiden',ax=ax,save=figname,title=figname.split('.png')[0].replace('_',' '))\n",
    "\n",
    "results_file"
   ]
  },
  {
   "cell_type": "code",
   "execution_count": null,
   "metadata": {},
   "outputs": [],
   "source": [
    "# annotate\n",
    "df_p = adata.to_df()\n",
    "df_p['leiden'] = adata.obs['leiden']\n",
    "'''OLD #df_p = pd.DataFrame(data=adata.X,index=adata.obs.index,columns=adata.var.index)\n",
    "#ls_merge = ['17', '12', '14','20','10','4']\n",
    "#df_p.loc[df_p.leiden.isin(ls_merge),'leiden'] = '20'\n",
    "if results_file == '20211207_JP-TMA1_15neighbors_30markers_TNBC_leiden0.4.h5ad':\n",
    "    print('merging')\n",
    "    df_p.loc[df_p.index.isin(df_str.index),'leiden'] = '20'\n",
    "elif results_file == '20211207_JP-TMA1_30neighbors_30markers_TNBC_leiden0.4.h5ad':\n",
    "    print('merging')\n",
    "    df_p.loc[df_p.leiden.isin(['16','18','20']),'leiden'] = '16'\n",
    "'''\n",
    "if results_file =='20211207_JP-TMA1_30neighbors_33markers_ER+_leiden0.4.h5ad':\n",
    "    tum_clust = ['8', '9', '10', '0', '11', '4', '13','12','3']\n",
    "    str_clust = ['15', '5', '7','14'] #14 is macrophage\n",
    "    imm_clust = ['1','2'] \n",
    "    endo_clust = ['6']\n",
    "elif results_file == '20211207_JP-TMA1_15neighbors_32markers_TNBC_leiden0.4.h5ad': #10 is in epithelial half (caused by laminAC)\n",
    "    tum_clust=['21','17','14', '20','2','3', '11', '9', '13', '18', '8', '7','5']\n",
    "    str_clust = ['0', '1', '10', '12',  '15',  '19',   '22', '6'] \n",
    "    imm_clust = ['4','16'] #0 is macrophage\n",
    "    endo_clust = ['12']\n",
    "elif results_file == '20211207_JP-TMA1_15neighbors_30markers_TNBC_leiden0.4_old.h5ad':\n",
    "    tum_clust=['21','14','4','2', '9', '18', '11', '5', '7', '15', '20', '3', '19', '10',]\n",
    "    str_clust = ['0', '1', '12',  '16', '17',  '22', '23', '24', '25', '26',  '8'] \n",
    "    imm_clust = ['6','13'] # 0 macrophage\n",
    "    endo_clust = ['1','20','8']\n",
    "elif results_file == '20211207_JP-TMA1_16neighbors_30markers_TNBC_leiden0.4.h5ad':\n",
    "    tum_clust=[ '18', '11', '5',  '3', '19', '10', '1', '13', '14',  '6', '8','7']\n",
    "    str_clust = ['17','20','0',  '12',  '16',  '21', '22', '23', '24', '25'] \n",
    "    imm_clust = ['4','15'] # 0 macrophage\n",
    "    endo_clust = ['2','9']  \n",
    "elif results_file == '20211207_JP-TMA1_15neighbors_30markers_TNBC_leiden0.4.h5ad':\n",
    "    tum_clust=['5','21','17','4', '10', '12', '13', '7', '15', '6', '3', '19', '9']#17 and 21 split\n",
    "    str_clust = ['0',  '11', '16',  '18', '20',    '22',  ] #'23', '24', '25', \n",
    "    imm_clust = ['2','14'] # 0 macrophage\n",
    "    endo_clust = ['1','8']\n",
    "elif results_file =='20211207_JP-TMA1_30neighbors_30markers_TNBC_leiden0.4.h5ad':\n",
    "    tum_clust = ['15','1', '7', '11', '3', '19', '5', '4', '17','6', '9']\n",
    "    str_clust = ['0', '10', '12', '13',  '16', '18', '2', '20', ] #16 18 20 unmarked\n",
    "    imm_clust = ['14','8']\n",
    "    endo_clust = ['2','10']\n",
    "elif results_file == '20211221_JP-TMAs_30neighbors_30markers_TNBC_leiden0.4.h5ad':\n",
    "    ls_merge = ['30', '26', '29', '28', '31', '33',]\n",
    "    df_p.loc[df_p.leiden.isin(ls_merge),'leiden'] = '26'\n",
    "    ls_merge = ['21', '34',]\n",
    "    df_p.loc[df_p.leiden.isin(ls_merge),'leiden'] = '21'\n",
    "    tum_clust = []\n",
    "    str_clust = [ ] #16 18 20 unmarked\n",
    "    imm_clust = []\n",
    "    endo_clust = []    \n",
    "elif results_file =='20211221_JP-TMAs_30neighbors_30markers_TNBC_leiden0.3.h5ad':\n",
    "    ls_merge = ['17', '22', '20', '24',]\n",
    "    df_p.loc[df_p.leiden.isin(ls_merge),'leiden'] = '17'\n",
    "    ls_merge = ['25','1']\n",
    "    df_p.loc[df_p.leiden.isin(ls_merge),'leiden'] = '1'\n",
    "    #ls_merge = ['19','26']\n",
    "    #df_p.loc[df_p.leiden.isin(ls_merge),'leiden'] = '19'\n",
    "    tum_clust = ['7','13','5', '26', '4', '11', '25', '19', '1', '6', '12', '10', '9', '16', '21', '14',] #7 is tum\n",
    "    str_clust = [ '15', '17', '2',  '23',  '3',  '8'] \n",
    "    imm_clust = ['0','18']\n",
    "    endo_clust = ['23']   \n",
    "elif results_file == '20211221_JP-TMAs_s_30neighbors_21markers_2sub_leiden0.5.h5ad':\n",
    "    print('both')\n",
    "    #unmarked stroma\n",
    "    ls_merge = ['34', '35', '38','36', '41', '33', '37','28','19'] #include 19\n",
    "    df_p.loc[df_p.leiden.isin(ls_merge),'leiden'] = '19'\n",
    "    ls_merge = ['32','17']\n",
    "    #low expressing tumor\n",
    "    df_p.loc[df_p.leiden.isin(ls_merge),'leiden'] = '17'\n",
    "    #some colI\n",
    "    ls_merge = ['29','39']\n",
    "    df_p.loc[df_p.leiden.isin(ls_merge),'leiden'] = '29'\n",
    "elif results_file == '20220118_JP-TMAs_s_30neighbors_22markers_2sub_leiden0.5.h5ad':\n",
    "    tum_clust = ['13', '15', '27', '16', '0', '11', '24', '5', '1', '3', '9',\n",
    "                  '4', '14', '20', ] \n",
    "    str_clust = [] \n",
    "    imm_clust = ['2','6','25'] # 8 is macrophage\n",
    "    endo_clust = ['22']   \n",
    "elif results_file == '20220118_JP-TMAs_s_30neighbors_22markers_2sub_leiden0.4.h5ad':\n",
    "    print('good one')\n",
    "    tum_clust = ['22', '17', '24', '1', '11',  '6', '20', '0', '14', '3', '15',  '2t','10',] #2 is t/str '21'and 24, merege to 1\n",
    "    str_clust = ['12', '13', '16', '18', '7', '8', '9','2s'] \n",
    "    imm_clust = ['4','5','23'] # 9 is macrophage\n",
    "    endo_clust = ['19']  \n",
    "    #split 2 into tum and stroma\n",
    "    df_p= df_p.merge(df_man.loc[:,['celltype']],left_index=True,right_index=True)\n",
    "    df_p.leiden = df_p.leiden.astype('str')\n",
    "    df_p.loc[((df_p.leiden=='2')& (df_p.celltype!='tumor')),'leiden'] = '2s'\n",
    "    df_p.loc[((df_p.leiden=='2')& (df_p.celltype=='tumor')),'leiden'] = '2t'\n",
    "    #print((df_p.leiden=='24').sum())\n",
    "    #pgr not good ab\n",
    "    ls_merge = ['24','21','17','1']\n",
    "    df_p = df_p.drop('PgR',axis=1)\n",
    "    df_p.loc[df_p.leiden.isin(ls_merge),'leiden'] = '1'\n",
    "    #colI+ vim+ FB\n",
    "    ls_merge = ['18','8'] #13 is colI-\n",
    "    df_p.loc[df_p.leiden.isin(ls_merge),'leiden'] = '8'\n",
    "    \n",
    "#df_p.groupby('leiden').mean().Ecad.sort_values(ascending=False).index\n",
    "#set(df_p.groupby('leiden').mean().CK19.sort_values(ascending=False).index) - set(tum_clust + imm_clust )\n",
    "#set(tum_clust)"
   ]
  },
  {
   "cell_type": "code",
   "execution_count": null,
   "metadata": {
    "scrolled": false
   },
   "outputs": [],
   "source": [
    "#clustermap\n",
    "b_annot = False\n",
    "\n",
    "d_replace = {}\n",
    "if b_annot:\n",
    "    d_replace.update(dict(zip(tum_clust,[f'{item}\\nep' for item in tum_clust])))\n",
    "    d_replace.update(dict(zip(imm_clust,[f'{item}\\nim' for item in imm_clust])))\n",
    "    d_replace.update(dict(zip(str_clust,[f'{item}\\ns' for item in str_clust])))\n",
    "    d_replace.update(dict(zip(endo_clust,[f'{item}\\nen' for item in endo_clust])))\n",
    "    df_plot = df_p.loc[:,(df_p.dtypes=='float32') | (df_p.columns=='leiden')].groupby('leiden').mean().dropna().rename(d_replace)\n",
    "else:\n",
    "    df_plot = df_p.loc[:,(df_p.dtypes=='float32') | (df_p.columns=='leiden')].groupby('leiden').mean().dropna()#.fillna(0)\n",
    "df_plot.index.name = f'leiden {resolution}'\n",
    "df_plot = df_plot.loc[:,df_plot.sum() > 0]\n",
    "#df_plot = df_plot.drop(['BMP2','H3K27'],axis=1)\n",
    "g = sns.clustermap(df_plot,z_score=1,figsize=(5,6.5),cmap='viridis',dendrogram_ratio=0.1,\n",
    "                   vmin=-2,vmax=2,cbar_pos=(.01, .9, .05, .1),method='ward'\n",
    "                   )\n",
    "g.savefig(f'{codedir}/{s_date}/{s_sample}_clustermap_{n_neighbors}_{n_markers}markers_{s_type}_leiden{resolution}.png',dpi=200)\n",
    "marker_genes = df_plot.iloc[:,g.dendrogram_col.reordered_ind].columns.tolist()\n",
    "categories_order = df_plot.iloc[g.dendrogram_row.reordered_ind,:].index.tolist()"
   ]
  },
  {
   "cell_type": "code",
   "execution_count": null,
   "metadata": {
    "scrolled": true
   },
   "outputs": [],
   "source": [
    "categories_order\n",
    "ls_merge = tum_clust #['0','12'] #16\n",
    "adata.obs.leiden = df_p.leiden\n",
    "adata.obs['test'] = (adata.obs.leiden.isin(ls_merge)).replace({True:1,False:0})\n",
    "sc.pl.umap(adata, color='test',title='tumor')"
   ]
  },
  {
   "cell_type": "code",
   "execution_count": null,
   "metadata": {},
   "outputs": [],
   "source": [
    "ls_merge = ['0']\n",
    "#ls_merge=str_clust\n",
    "adata.obs['test'] = (adata.obs.leiden.isin(ls_merge)).replace({True:1,False:0})\n",
    "sc.pl.umap(adata, color='test',title='merged')"
   ]
  },
  {
   "cell_type": "code",
   "execution_count": null,
   "metadata": {
    "scrolled": true
   },
   "outputs": [],
   "source": [
    "adata.obs['leiden'] = df_p['leiden']\n",
    "fig,ax = plt.subplots(figsize=(3,3),dpi=200)\n",
    "figname=f'leiden_{n_neighbors}_{n_markers}_{resolution}_{s_type}.png'\n",
    "sc.pl.umap(adata, color='leiden',ax=ax,save=figname,title=figname.split('.png')[0].replace('_',' '))"
   ]
  },
  {
   "cell_type": "code",
   "execution_count": null,
   "metadata": {
    "scrolled": true
   },
   "outputs": [],
   "source": [
    "fig,ax=plt.subplots(figsize=(1.4,3.7),dpi=200)\n",
    "df_p.groupby('leiden').count().loc[categories_order[::-1]].iloc[:,1].plot(kind='barh',title='Cell No.',ax=ax,width=0.7)\n",
    "plt.tight_layout()\n",
    "fig.savefig(f'{codedir}/{s_date}/barplot_{s_sample}_{n_neighbors}neighbors_{len(marker_genes)}markers_leiden{resolution}_{s_type}.png')"
   ]
  },
  {
   "cell_type": "code",
   "execution_count": null,
   "metadata": {
    "scrolled": true
   },
   "outputs": [],
   "source": [
    "#ER+ leiden 0.6 notes 34 markers\n",
    "#look for artifact: REMOVE: 20\n",
    "#20 scene35 - most of this tissue is faint AF in EGFR,HER2,PDPN. take out 20, but sacrifice scene 35\n",
    "#20 scene 108 most of tumor lost, maybe analysis @ an ealier round would be better?, looks like R1c1 AF\n",
    "#21 looks like a patch of smooth muscle in 42, myoepithelial in 98\n",
    "#15 is endothelial\n",
    "#24 are immune CD20, out of focus. Could merge with 5\n",
    "#19 is tumor with PD1 bright dots: need to exclude cells with extremely high PD1 (scene007 and 073)\n",
    "#10 grnzb in a few cells. could merge with 1 and 23. take out grnzb from clustering\n",
    "# 8 small cells because of unfocesed DAPI in scene 32. remove area? \n",
    "#22 is very PgR bright.\n",
    "#23 is tumor, segmentation not great - lots of eccentricity. can't trust morphology much in some of these cores\n",
    "#plan: recluster: take out PD1, GRNZ, area, eccentricity, DAPI11 cluster 20 \n",
    "\n",
    "#ER+ 32 markers leiden 0.6 notes\n",
    "# 17 is real, take out R1 c2\n",
    "#don't understand 12. HER2 driven?? filter outliers HER2 q=.99999\n",
    "#filter ouliters PD1: real PD1 is maximum 800-maybe 1300,use q=.9993.  artifact is 1600+\n",
    "#28 Ki67 ... weird\n",
    "\n",
    "\n",
    "s_clust = '23'\n",
    "df_p['slide_scene'] = [item.split('_cell')[0] for item in df_p.index]\n",
    "df_p.groupby(['leiden','slide_scene']).count().loc[s_clust].iloc[:,1].sort_values(ascending=False)"
   ]
  },
  {
   "cell_type": "code",
   "execution_count": null,
   "metadata": {},
   "outputs": [],
   "source": [
    "results_file"
   ]
  },
  {
   "cell_type": "code",
   "execution_count": null,
   "metadata": {},
   "outputs": [],
   "source": [
    "#df_p[df_p.leiden=='20'].to_csv('exclude_JP-TMA-1_ER+_34markers_leiden0.6_20.csv')\n",
    "#df_p[df_p.leiden=='31'].to_csv('exclude_JP-TMA-1_TNBC_32markers_leiden0.6_31.csv')\n",
    "#df_p[df_p.leiden=='25'].to_csv('exclude_JP-TMA-1_TNBC_30markers_leiden0.4_25.csv')\n",
    "#results_file\n",
    "#s_marker = 'HER2'#'PD1'#'Ki67'#'CK19'#'GRNZB'#'GRNZB' #\n",
    "#df_norm[df_norm.loc[:,s_marker] > np.quantile(df_norm.loc[:,s_marker],q=.99999)].loc[:,s_marker].sort_values()"
   ]
  },
  {
   "cell_type": "code",
   "execution_count": null,
   "metadata": {},
   "outputs": [],
   "source": [
    "#plot all groups spatially - leiden \n",
    "from mplex_image import analyze\n",
    "df_data = df_norm\n",
    "colors = mpl.cm.tab20b.colors + mpl.cm.tab20c.colors\n",
    "\n",
    "df_pos = analyze.celltype_to_bool(df_p,'leiden')\n",
    "df_pos.columns = [str(item) for item in df_pos.columns]\n",
    "for s_slide in sorted(set(df_p.slide_scene)):\n",
    "    s_slide = 'JP-TMA1-1_scene108'#'JP-TMA1-1_scene068'#'JP-TMA1-1_scene039'#'JP-TMA1-1_scene055'#'JP-TMA1-1_scene041'#'JP-TMA1-1_scene036'#'JP-TMA1-1_scene048'#'JP-TMA1-1_scene034'#'JP-TMA1-1_scene029'#'JP-TMA1-1_scene007'#'JP-TMA1-1_scene021'\n",
    "    s_slide = 'JP-TMA2-1_scene39' #'JP-TMA1-1_scene099'#'JP-TMA1-1_scene082'#'JP-TMA2-1_scene24'\n",
    "    fig,ax = plt.subplots(figsize=(5,4.5),dpi=200)\n",
    "    #plot negative cells\n",
    "    df_scene = df_data[df_data.index.str.contains(s_slide)]\n",
    "    ax.scatter(data=df_scene,x='DAPI_X',y='DAPI_Y',color='silver',s=0.1,label=f'')\n",
    "    #for idxs, s_color_int in enumerate(range(len(df_pos.columns))):\n",
    "    for idxs, s_color in enumerate(df_pos.columns):\n",
    "        s_color = s_clust\n",
    "        s_color = str(s_color)\n",
    "        if len(df_p[(df_p.slide_scene==s_slide) & (df_pos.loc[:,s_color])])>=1:\n",
    "            #plot positive cells\n",
    "            ls_index = df_p[(df_p.slide_scene==s_slide) & (df_pos.loc[:,s_color])].index\n",
    "            ax.scatter(data=df_data.loc[ls_index],x='DAPI_X',y='DAPI_Y',label=f'{s_color}',s=0.1,color=colors[idxs])\n",
    "        break\n",
    "    ax.set_title(f\"{s_slide}\", fontsize=16) # \\n {d_a[s_slide]}\n",
    "    ax.axis('equal')\n",
    "    ax.set_ylim(ax.get_ylim()[::-1])\n",
    "    #ax.set_xticklabels('')\n",
    "    #ax.set_yticklabels('')\n",
    "    #break\n",
    "    plt.legend(markerscale=10,framealpha=.5) \n",
    "    #fig.savefig(f'{codedir}/{s_date}/{s_slide}_leiden{resolution}_scatterplot.png')\n",
    "    break"
   ]
  },
  {
   "cell_type": "code",
   "execution_count": null,
   "metadata": {},
   "outputs": [],
   "source": [
    "df_p.loc[df_p.leiden.isin(tum_clust),'leidencelltype3'] = 'epithelial'\n",
    "df_p.loc[df_p.leiden.isin(str_clust),'leidencelltype3'] = 'stromal'\n",
    "df_p.loc[df_p.leiden.isin(endo_clust),'leidencelltype3'] = 'stromal'\n",
    "df_p.loc[df_p.leiden.isin(imm_clust),'leidencelltype3'] = 'immune'"
   ]
  },
  {
   "cell_type": "code",
   "execution_count": null,
   "metadata": {},
   "outputs": [],
   "source": [
    "adata.obs['leidencelltype3'] = df_p.leidencelltype3\n",
    "fig,ax = plt.subplots(figsize=(3,2),dpi=200)\n",
    "figname=f'leiden_{n_neighbors}_{n_markers}_{resolution}_{s_type}leidencelltype3.png'\n",
    "sc.pl.umap(adata, color='leidencelltype3',ax=ax,save=figname,title=figname.split('.png')[0].replace('_',' '),legend_loc='on data')"
   ]
  },
  {
   "cell_type": "code",
   "execution_count": null,
   "metadata": {},
   "outputs": [],
   "source": [
    "df_p.loc[df_p.leiden.isin(tum_clust),'leidencelltype4'] = 'epithelial'\n",
    "df_p.loc[df_p.leiden.isin(str_clust),'leidencelltype4'] = 'stromal'\n",
    "df_p.loc[df_p.leiden.isin(endo_clust),'leidencelltype4'] = 'endothelial'\n",
    "df_p.loc[df_p.leiden.isin(imm_clust),'leidencelltype4'] = 'immune'"
   ]
  },
  {
   "cell_type": "code",
   "execution_count": null,
   "metadata": {
    "scrolled": true
   },
   "outputs": [],
   "source": [
    "adata.obs['leidencelltype4'] = df_p.leidencelltype4\n",
    "fig,ax = plt.subplots(figsize=(3,2),dpi=200)\n",
    "figname=f'leiden_{n_neighbors}_{n_markers}_{resolution}_{s_type}_leidencelltype4.png'\n",
    "sc.pl.umap(adata, color='leidencelltype4',ax=ax,save=figname,title=figname.split('.png')[0].replace('_',' '),legend_loc='on data')"
   ]
  },
  {
   "cell_type": "code",
   "execution_count": null,
   "metadata": {},
   "outputs": [],
   "source": [
    "df_p['celltype'] = df_man.loc[df_p.index,'celltype'].replace({'tumor':'epithelial'})\n",
    "adata.obs['celltype'] = df_p.celltype\n",
    "fig,ax = plt.subplots(figsize=(3,2),dpi=200)\n",
    "figname=f'leiden_{n_neighbors}_{n_markers}_{resolution}_{s_type}celltype.png'\n",
    "sc.pl.umap(adata, color='celltype',ax=ax,save=figname,title=figname.split('.png')[0].replace('_',' '),legend_loc='on data')"
   ]
  },
  {
   "cell_type": "code",
   "execution_count": null,
   "metadata": {},
   "outputs": [],
   "source": [
    "s_out"
   ]
  },
  {
   "cell_type": "code",
   "execution_count": null,
   "metadata": {},
   "outputs": [],
   "source": [
    "#save good one '20211207_JP-TMA1_LeidenClustering_neighbors15_resolution0.4_markers30_TNBC.csv'\n",
    "#incl TMA2 '20211221_JP-TMAs_LeidenClustering_neighbors30_resolution0.3_markers30_TNBC.csv'\n",
    "#s_out = f'20211221_JP-TMAs_LeidenClustering_neighbors{n_neighbors}_resolution{resolution}_markers{n_markers}_{s_type}.csv'\n",
    "s_out = f'20220118_JP-TMAs_LeidenClustering_neighbors{n_neighbors}_resolution{resolution}_markers{n_markers}_{s_type}.csv'\n",
    "df_out = df_p.merge(df_man.loc[:,['DAPI_X','DAPI_Y']],left_index=True,right_index=True)\n",
    "if not os.path.exists(s_out):\n",
    "    print('saving csv')\n",
    "    df_out.to_csv(s_out)"
   ]
  },
  {
   "cell_type": "markdown",
   "metadata": {},
   "source": [
    "## Summarize Tissue Variables <a name=\"tissue\"></a>\n",
    "\n",
    "per patient means\n",
    "\n",
    "\n",
    "[contents](#contents)"
   ]
  },
  {
   "cell_type": "code",
   "execution_count": null,
   "metadata": {},
   "outputs": [],
   "source": [
    "#leiden cell types (fraction)\n",
    "n_neighbors=30\n",
    "resolution= 0.4 #0.4\n",
    "n_markers=22\n",
    "s_type='2sub'  #'TNBC'\n",
    "s_subtype = s_type\n",
    "s_sample = '20220118_JP-TMAs'#'20211221_JP-TMAs' #'20211207_JP-TMA1'\n",
    "df_lei = pd.read_csv(f'{s_sample}_LeidenClustering_neighbors{n_neighbors}_resolution{resolution}_markers{n_markers}_{s_type}.csv',index_col=0)\n",
    "df_lei['slide_scene'] = [item.split('_cell')[0] for item in df_lei.index]\n",
    "df_lei['Patient'] = df_lei.slide_scene.map(dict(zip(df_cyc_a.index,df_cyc_a.Accession)))\n",
    "df_lei['leidencelltype2'] = df_lei.leidencelltype3.replace({'tumor':'epithelial','endothelial':'stromal','immune':'stromal'})\n",
    "df_lei['celltype1'] = 'all'\n",
    "df_lei['countme'] = True"
   ]
  },
  {
   "cell_type": "code",
   "execution_count": null,
   "metadata": {},
   "outputs": [],
   "source": [
    "#leiden\n",
    "for s_celltype in ['leidencelltype2','celltype1']: #'celltype3','celltype',\n",
    "    for s_cell in df_lei.loc[:,s_celltype].unique():\n",
    "        df_cell = df_lei.loc[df_lei.loc[:,s_celltype]==s_cell]\n",
    "        df_prop = viz.prop_positive(df_cell,s_cell='leiden',s_grouper='Patient')\n",
    "        s_out = f'results_{s_sample}_LeidenClustering_{n_neighbors}_{n_markers}_{resolution}_byPatient_by{s_celltype}_in{s_cell}_{s_type}.csv'\n",
    "        df_prop.fillna(0).to_csv(s_out)\n",
    "        print(s_out)"
   ]
  },
  {
   "cell_type": "code",
   "execution_count": null,
   "metadata": {},
   "outputs": [],
   "source": [
    "#gated celltypes (fraction)\n",
    "\n",
    "#s_sample = s_sample.replace('_s','')# = '20220114_BaselTMA'\n",
    "s_grouper='Patient'\n",
    "ls_cell = ['leidencelltype3','leidencelltype4','celltype']#,'celltype'\n",
    "for s_cell in ls_cell:\n",
    "    df_prop = viz.prop_positive(df_lei,s_cell=s_cell,s_grouper=s_grouper)\n",
    "    s_out = f'results_{s_sample}_GatedCellTypes_by{s_grouper}_by{s_cell}_{s_subtype}.csv'\n",
    "    print(s_out)\n",
    "    df_prop.to_csv(f'{codedir}/{s_out}')\n",
    "    #break"
   ]
  },
  {
   "cell_type": "markdown",
   "metadata": {},
   "source": [
    "## survival analysis <a name=\"surv\"></a>\n",
    "\n",
    "\n",
    "- single variable\n",
    "\n",
    "- subtypes\n",
    "\n",
    "[contents](#contents)\n"
   ]
  },
  {
   "cell_type": "code",
   "execution_count": null,
   "metadata": {},
   "outputs": [],
   "source": [
    "import lifelines\n",
    "from lifelines import KaplanMeierFitter\n",
    "from lifelines.statistics import multivariate_logrank_test\n",
    "from lifelines import CoxPHFitter\n",
    "import warnings\n",
    "\n",
    "df_surv_cyc = pd.read_csv(f'{codedir}/data/cycIF_clinical_outcome.csv',index_col=0)\n",
    "#os.mkdir('Survival_Plots')"
   ]
  },
  {
   "cell_type": "code",
   "execution_count": null,
   "metadata": {},
   "outputs": [],
   "source": [
    "os.chdir(codedir)"
   ]
  },
  {
   "cell_type": "code",
   "execution_count": null,
   "metadata": {},
   "outputs": [],
   "source": [
    "#example file names 'results_20211207_JP-TMA1_BGSubtractedMeanIntensity_byPatient_bycelltype3_inimmune_TNBC.csv',\n",
    "#'results_20211207_JP-TMA1_GatedCellTypes_M1M2_byPatient_bycelltype_TNBC.csv',\n",
    "#'results_20211207_JP-TMA1_LeidenClustering_30_33_0.4_byPatient_bycelltype1_inall_ER+.csv']\n",
    "\n",
    "#preprocess.dchange_fname({'_byTumorDiffPlus_M2':'_byTumorDiffPlusM2'},b_test=False)\n",
    "#s_sample = '20211207_JP-TMA1'\n",
    "#s_sample = '20211221_JP-TMAs' #use this\n",
    "s_sample = '20220118_JP-TMAs' #combine 1 and 17\n",
    "\n",
    "df_file = pd.DataFrame()\n",
    "for s_file in os.listdir():\n",
    "    if s_file.find(f'results_{s_sample}_BGSubtractedMeanIntensity_byPatient') > -1:\n",
    "        continue\n",
    "        s_type = 'BGSubtractedMeanIntensity'\n",
    "        s_subtype = s_file.split('.csv')[0].split('_')[-1]\n",
    "        s_partition = s_file.split('.csv')[0].split('_')[-3].split('by')[1]\n",
    "        s_cell = s_file.split('.csv')[0].split('_')[-2].split('in')[1]       \n",
    "    elif s_file.find(f'results_{s_sample}_GatedCellTypes_M1M2_byPatient') > -1:\n",
    "        continue\n",
    "        s_type = 'GatedCellTypes_M1M2'\n",
    "        s_subtype = s_file.split('.csv')[0].split('_')[-1]\n",
    "        s_partition = 'gating'\n",
    "        s_cell = s_file.split('.csv')[0].split('_')[-2].split('by')[1]\n",
    "    elif s_file.find(f'results_{s_sample}_GatedCellTypes') > -1:\n",
    "        s_type = 'GatedCellTypes'\n",
    "        s_subtype = s_file.split('.csv')[0].split('_')[-1]\n",
    "        s_partition = 'gating'\n",
    "        s_cell = s_file.split('.csv')[0].split('_')[-2].split('by')[1]\n",
    "    elif s_file.find(f'results_{s_sample}_LeidenClustering_') > -1:\n",
    "        #df = pd.read_csv(s_file)\n",
    "        s_type = 'LeidenClustering'\n",
    "        s_subtype = s_file.split('.csv')[0].split('_')[-1]\n",
    "        s_partition = s_file.split('.csv')[0].split('_')[-3].split('by')[1]\n",
    "        s_cell = s_file.split('.csv')[0].split('_')[-2].split('in')[1]   \n",
    "    else:\n",
    "        continue\n",
    "    df_file.loc[s_file,'subtype'] = s_subtype\n",
    "    df_file.loc[s_file,'type'] = s_type\n",
    "    df_file.loc[s_file,'partition'] = s_partition\n",
    "    df_file.loc[s_file,'cell'] = s_cell\n",
    "    #break\n",
    "    "
   ]
  },
  {
   "cell_type": "code",
   "execution_count": null,
   "metadata": {},
   "outputs": [],
   "source": [
    "#leiden clusters vs survival 30 ER+, 18 TNBC\n",
    "for s_index in df_file[df_file.subtype=='2sub'].index:\n",
    "    s_index = 'results_20220118_JP-TMAs_GatedCellTypes_byPatient_bycelltype_2sub.csv'\n",
    "    s_index = 'results_20220118_JP-TMAs_GatedCellTypes_byPatient_byleidencelltype3_2sub.csv'\n",
    "    s_index = 'results_20220118_JP-TMAs_GatedCellTypes_byPatient_byleidencelltype4_2sub.csv'\n",
    "    print(s_index)\n",
    "    df_all=pd.read_csv(s_index,index_col=0)\n",
    "    df_all = df_all.loc[:,df_all.dtypes=='float64'].fillna(0)\n",
    "    #break\n",
    "    df_all['subtype'] = df_all.index.map(dict(zip(df_cyc_a.Accession,df_cyc_a.ID)))\n",
    "    s_type = df_file.loc[s_index,'type'] \n",
    "    s_partition = df_file.loc[s_index,'partition'] \n",
    "    s_cell =df_file.loc[s_index,'cell'] \n",
    "    df_all.loc[:,'durations'] = df_all.index.map(dict(zip(df_surv_cyc.index,df_surv_cyc.Survival_time)))\n",
    "    df_all.loc[:,'event_observed'] = df_all.index.map(dict(zip(df_surv_cyc.index,df_surv_cyc.Survival)))\n",
    "    for s_subtype in ['ER+','TNBC']:\n",
    "        print(s_subtype)\n",
    "        df = df_all[df_all.subtype==s_subtype]\n",
    "        df = df.dropna()\n",
    "        for s_col in df.columns.drop(['durations','event_observed','subtype']):\n",
    "            b_low = df.loc[:,s_col] <= df.loc[:,s_col].median()\n",
    "            if df.loc[:,s_col].median() == 0:\n",
    "                continue\n",
    "            df.loc[b_low,'abundance'] = 'low'\n",
    "            df.loc[~b_low,'abundance'] = 'high'\n",
    "            kmf = KaplanMeierFitter()\n",
    "            results = multivariate_logrank_test(event_durations=df.durations, groups=df.abundance, event_observed=df.event_observed)\n",
    "            if results.summary.p[0] < 0.51:\n",
    "                print(s_col)\n",
    "                fig, ax = plt.subplots(figsize=(3,3),dpi=300)\n",
    "                for s_group in ['high','low']:\n",
    "                    df_abun = df[df.abundance==s_group]\n",
    "                    durations = df_abun.durations\n",
    "                    event_observed = df_abun.event_observed\n",
    "                    kmf.fit(durations, event_observed,label=s_group)\n",
    "                    kmf.plot(ax=ax,ci_show=False)\n",
    "                s_title1 = f'{s_subtype} {s_type} {s_partition}'\n",
    "                s_title2 = f'{s_cell} {s_col}'\n",
    "                ax.set_title(f'{s_title1}\\n{s_title2}\\np={results.summary.p[0]:.2}',fontsize=10)\n",
    "                ax.legend(loc='upper right')\n",
    "                plt.tight_layout()\n",
    "                fig.savefig(f\"{codedir}/data/Survival_Plots/KM_{s_title1.replace(' ','_')}_{s_title2.replace(' ','_')}.png\",dpi=300)\n",
    "            cph = CoxPHFitter(penalizer=0.1)\n",
    "            with warnings.catch_warnings():\n",
    "                warnings.simplefilter('ignore')\n",
    "                try:\n",
    "                    cph.fit(df.loc[:,[s_col,'durations','event_observed']], duration_col='durations', event_col='event_observed')\n",
    "                    if cph.summary.p[0] < 0.051:\n",
    "                        fig, ax = plt.subplots(figsize=(2.5,2),dpi=300)\n",
    "                        cph.plot(ax=ax)\n",
    "                        s_title1 = f'{s_subtype} {s_type} {s_partition}'\n",
    "                        s_title2 = f'{s_cell} {s_col}'\n",
    "                        ax.set_title(f'{s_title1}\\n{s_title2}\\np={cph.summary.p[0]:.2}',fontsize=10)\n",
    "                        plt.tight_layout()\n",
    "                        fig.savefig(f\"{codedir}/data/Survival_Plots/CPH_{s_title1.replace(' ','_')}_{s_title2.replace(' ','_')}.png\",dpi=300)\n",
    "                except:\n",
    "                    print(f'skipped {s_col}')        \n",
    "\n",
    "    break"
   ]
  },
  {
   "cell_type": "code",
   "execution_count": null,
   "metadata": {
    "scrolled": true
   },
   "outputs": [],
   "source": [
    "#old\n",
    "'''\n",
    "for s_index in df_file.index:\n",
    "    df=pd.read_csv(s_index,index_col=0)\n",
    "    df = df.loc[:,df.dtypes=='float64'].fillna(0)\n",
    "    s_subtype = df_file.loc[s_index,'subtype'] \n",
    "    s_type = df_file.loc[s_index,'type'] \n",
    "    s_partition = df_file.loc[s_index,'partition'] \n",
    "    s_cell =df_file.loc[s_index,'cell'] \n",
    "    df.loc[:,'durations'] = df.index.map(dict(zip(df_surv_cyc.index,df_surv_cyc.Survival_time)))\n",
    "    df.loc[:,'event_observed'] = df.index.map(dict(zip(df_surv_cyc.index,df_surv_cyc.Survival_time)))\n",
    "    #break\n",
    "    df = df.dropna()\n",
    "    for s_col in df.columns.drop(['durations','event_observed']):\n",
    "        b_low = df.loc[:,s_col] <= df.loc[:,s_col].median()\n",
    "        if df.loc[:,s_col].median() == 0:\n",
    "            continue\n",
    "        df.loc[b_low,'abundance'] = 'low'\n",
    "        df.loc[~b_low,'abundance'] = 'high'\n",
    "        kmf = KaplanMeierFitter()\n",
    "        results = multivariate_logrank_test(event_durations=df.durations, groups=df.abundance, event_observed=df.event_observed)\n",
    "        if results.summary.p[0] < 0.05:\n",
    "            print(s_col)\n",
    "            fig, ax = plt.subplots(figsize=(3,3),dpi=300)\n",
    "            for s_group in ['high','low']:\n",
    "                df_abun = df[df.abundance==s_group]\n",
    "                durations = df_abun.durations\n",
    "                event_observed = df_abun.event_observed\n",
    "                kmf.fit(durations, event_observed,label=s_group)\n",
    "                kmf.plot(ax=ax,ci_show=False)\n",
    "            s_title1 = f'{s_subtype} {s_type} {s_partition}'\n",
    "            s_title2 = f'{s_cell} {s_col}'\n",
    "            ax.set_title(f'{s_title1}\\n{s_title2}\\np={results.summary.p[0]:.2}',fontsize=10)\n",
    "            ax.legend(loc='upper right')\n",
    "            plt.tight_layout()\n",
    "            fig.savefig(f\"./Survival_Plots/KM_{s_title1.replace(' ','_')}_{s_title2.replace(' ','_')}.png\",dpi=300)\n",
    "        cph = CoxPHFitter(penalizer=0.1)\n",
    "        with warnings.catch_warnings():\n",
    "            warnings.simplefilter('ignore')\n",
    "            try:\n",
    "                cph.fit(df.loc[:,[s_col,'durations','event_observed']], duration_col='durations', event_col='event_observed')\n",
    "                if cph.summary.p[0] < 0.05:\n",
    "                    fig, ax = plt.subplots(figsize=(2.5,2),dpi=300)\n",
    "                    cph.plot(ax=ax)\n",
    "                    s_title1 = f'{s_subtype} {s_type} {s_partition}'\n",
    "                    s_title2 = f'{s_cell} {s_col}'\n",
    "                    ax.set_title(f'{s_title1}\\n{s_title2}\\np={cph.summary.p[0]:.2}',fontsize=10)\n",
    "                    plt.tight_layout()\n",
    "                    fig.savefig(f\"./Survival_Plots/CPH_{s_title1.replace(' ','_')}_{s_title2.replace(' ','_')}.png\",dpi=300)\n",
    "            except:\n",
    "                print(f'skipped {s_col}')\n",
    "    #break\n",
    "'''"
   ]
  },
  {
   "cell_type": "code",
   "execution_count": null,
   "metadata": {},
   "outputs": [],
   "source": [
    "df_file.to_csv(f'{codedir}/cycIF_results_files.csv')"
   ]
  },
  {
   "cell_type": "markdown",
   "metadata": {},
   "source": [
    "## survival analysis <a name=\"subt\"></a>\n",
    "\n",
    "- subtypes\n",
    "\n",
    "ER Subtyping: Tumor diff plus, non tumor, celltype, BG subtracted all and celltype 2, leiden, tumor prolif\n",
    "\n",
    "TN Subtyping: Tumor diff plus, non tumor, celltype, BG subtracted all and celltype 2, leiden, tumor signal\n",
    "\n",
    "\n",
    "\n",
    "[contents](#contents)"
   ]
  },
  {
   "cell_type": "code",
   "execution_count": null,
   "metadata": {},
   "outputs": [],
   "source": [
    "import lifelines\n",
    "from lifelines import KaplanMeierFitter\n",
    "from lifelines.statistics import multivariate_logrank_test\n",
    "from lifelines import CoxPHFitter\n",
    "import warnings\n",
    "\n",
    "df_surv_cyc = pd.read_csv(f'{codedir}/data/cycIF_clinical_outcome.csv',index_col=0)\n",
    "#os.mkdir('Survival_Plots')"
   ]
  },
  {
   "cell_type": "code",
   "execution_count": null,
   "metadata": {},
   "outputs": [],
   "source": [
    "#s_subtype = 'TNBC'\n",
    "#s_type = 'BGSubtractedMeanIntensity'# 'GatedCellTypes_M1M2'# 'LeidenClustering' #\n",
    "#df_file[(df_file.subtype==s_subtype) & (df_file.type== s_type)]"
   ]
  },
  {
   "cell_type": "code",
   "execution_count": null,
   "metadata": {},
   "outputs": [],
   "source": [
    "ls_subt = [#'leiden'\n",
    "    #'results_20211221_JP-TMAs_LeidenClustering_30_30_0.3_byPatient_bycelltype2_instromal_TNBC.csv',\n",
    "    'results_20211221_JP-TMAs_LeidenClustering_30_30_0.3_byPatient_bycelltype1_inall_TNBC.csv',\n",
    "    #'results_20211221_JP-TMAs_LeidenClustering_30_30_0.3_byPatient_bycelltype2_inepithelial_TNBC.csv',\n",
    "    #intensity\n",
    "    #'results_20211207_JP-TMA1_BGSubtractedMeanIntensity_byPatient_bycelltype1_inall_TNBC.csv',\n",
    "    #'results_20211207_JP-TMA1_BGSubtractedMeanIntensity_byPatient_bycelltype2_inepithelial_TNBC.csv',\n",
    "    #'results_20211207_JP-TMA1_BGSubtractedMeanIntensity_byPatient_bycelltype2_instromal_TNBC.csv',\n",
    "    #gating\n",
    "    #'results_20211207_JP-TMA1_GatedCellTypes_M1M2_byPatient_byTumorDiffPlusM1M2_TNBC.csv',\n",
    "    #'results_20211207_JP-TMA1_GatedCellTypes_M1M2_byPatient_byNonTumor_TNBC.csv',\n",
    "    'results_20211207_JP-TMA1_GatedCellTypes_M1M2_byPatient_bycelltype3_TNBC.csv',#this is crazy predictive\n",
    "    'results_20211207_JP-TMA1_GatedCellTypes_M1M2_byPatient_byTumorSignal_TNBC.csv']\n",
    "\n",
    "ls_subt = ['results_20220118_JP-TMAs_LeidenClustering_30_22_0.4_byPatient_bycelltype1_inall_2sub.csv',\n",
    "           #'results_20220118_JP-TMAs_LeidenClustering_30_22_0.4_byPatient_byleidencelltype2_instromal_2sub.csv',\n",
    "           #'results_20220118_JP-TMAs_LeidenClustering_30_22_0.4_byPatient_byleidencelltype2_inepithelial_2sub.csv'\n",
    "       'results_20220118_JP-TMAs_GatedCellTypes_byPatient_bycelltype_2sub.csv',\n",
    "       #'results_20220118_JP-TMAs_GatedCellTypes_byPatient_byleidencelltype3_2sub.csv',\n",
    "       ]"
   ]
  },
  {
   "cell_type": "code",
   "execution_count": null,
   "metadata": {},
   "outputs": [],
   "source": [
    "for s_index in ls_subt:\n",
    "    df = pd.read_csv(f'{codedir}/{s_index}',index_col=0)\n",
    "    s_subtype = df_file.loc[s_index,'subtype'] \n",
    "    s_type = df_file.loc[s_index,'type'] \n",
    "    s_partition = df_file.loc[s_index,'partition'] \n",
    "    s_cell =df_file.loc[s_index,'cell'] \n",
    "    break"
   ]
  },
  {
   "cell_type": "code",
   "execution_count": null,
   "metadata": {},
   "outputs": [],
   "source": [
    "if s_type == 'LeidenClustering':\n",
    "    d_celltypes = {'4': 'CD8 T cell',\n",
    "'23': 'CD20 B cell',\n",
    "'5': 'CD4 T cell',\n",
    "'22': 'Luminal hi t.',\n",
    "'1': 'Luminal ER+ t.',\n",
    "'17': 'Ecad hi ER+ t.',\n",
    "'11': 'Basal t.',\n",
    "'12': 'Vim++ str.',\n",
    "'19': 'Endothelial',\n",
    "'9': 'Macrophage',\n",
    "'7': 'ColI++ str.',\n",
    "'2s': 'CD44+ str.',\n",
    "'2t': 'CD44+ t.',\n",
    "'15': 'Myoepithelial',\n",
    "'14': 'Large t.',\n",
    "'13': 'NOS str.',\n",
    "'8': 'Vim+ ColI+ str.',\n",
    "'0': 'Luminal t.',\n",
    "'10': 'Vim+ t.',\n",
    "'16': 'Ecad- t.',\n",
    "'3': 'poorly diff t.',\n",
    "'20': 'EGFR hi t. ',\n",
    "'6': 'Proliferating t.',}\n",
    "    df = df.rename(d_celltypes,axis=1)\n",
    "\n",
    "\n"
   ]
  },
  {
   "cell_type": "code",
   "execution_count": null,
   "metadata": {
    "scrolled": false
   },
   "outputs": [],
   "source": [
    "ls_col = df.columns[(~df.columns.str.contains('DAPI')) & (~df.columns.str.contains('R5Q')) & (df.dtypes=='float64')].tolist()\n",
    "ls_col = df.loc[:,ls_col].sum().sort_values(ascending=False)[0:11].index.tolist()\n",
    "ls_col = df.columns\n",
    "#umap\n",
    "for n_neighbors in [4]: \n",
    "    results_file = f'{s_date}/results_{s_subtype}_{s_type}_{s_partition}_{s_cell}_{n_neighbors}neighbors_{len(ls_col)}markers.h5ad'\n",
    "    if not os.path.exists(f'{codedir}/{results_file}'):\n",
    "        print('making adata')\n",
    "        adata = sc.AnnData(df.loc[:,ls_col].fillna(0))\n",
    "        adata.raw = adata\n",
    "        #reduce dimensionality\n",
    "        sc.tl.pca(adata, svd_solver='auto')\n",
    "        if s_type == 'LeidenClustering':\n",
    "            print('scaling')\n",
    "            sc.pp.scale(adata, zero_center=False, max_value=20)\n",
    "        print('calc umap')\n",
    "        # calculate neighbors \n",
    "        sc.pp.neighbors(adata, n_neighbors=n_neighbors) \n",
    "        sc.tl.umap(adata)\n",
    "        adata.write(f'{codedir}/{results_file}')\n",
    "    else:\n",
    "        print('loading umap')\n",
    "        adata = sc.read_h5ad(f'{codedir}/{results_file}')\n",
    "    #color by markers   \n",
    "    figname = f\"Umap_markers_{s_subtype}_{s_type}_{s_partition}_{s_cell}_{n_neighbors}neigh.png\"\n",
    "    title=figname.split('.png')[0].replace('_',' ')\n",
    "    sc.pl.umap(adata, color=ls_col,vmin='p1.5',vmax='p99.5',ncols=4,save=figname,size=250)\n",
    "    #subtype\n",
    "    adata.obs['Subtype'] = adata.obs.index.map(dict(zip(df_cyc_a.Accession,df_cyc_a.ID)))\n",
    "    figname = f\"Umap_Subtype_{s_subtype}_{s_type}_{s_partition}_{s_cell}_{n_neighbors}neigh.png\"\n",
    "    title=figname.split('.png')[0].replace('_',' ')\n",
    "    sc.pl.umap(adata, color='Subtype',vmin='p1.5',vmax='p99.5',ncols=4,save=figname,size=250)\n",
    "    break"
   ]
  },
  {
   "cell_type": "code",
   "execution_count": null,
   "metadata": {},
   "outputs": [],
   "source": [
    "#leiden\n",
    "for resolution in [0.3]: #0.3,\n",
    "    results_file = f'{s_date}/results_{s_subtype}_{s_type}_{s_partition}_{s_cell}_{n_neighbors}neighbors_{len(ls_col)}markers_leiden{resolution}.h5ad'\n",
    "    sc.tl.leiden(adata,resolution=resolution)\n",
    "    fig,ax = plt.subplots(figsize=(2.5,2),dpi=200)\n",
    "    figname=f'leiden_{s_subtype}_{s_type}_{s_partition}_{s_cell}_{n_neighbors}_{resolution}.png'\n",
    "    sc.pl.umap(adata, color='leiden',ax=ax,title=figname.split('.png')[0].replace('_',' '),wspace=.25,save=figname,size=40)\n",
    "    break"
   ]
  },
  {
   "cell_type": "code",
   "execution_count": null,
   "metadata": {},
   "outputs": [],
   "source": [
    "for s_subtype in ['TNBC','ER+']:\n",
    "    df_p = adata.to_df()\n",
    "    ls_index = df_cyc_a[df_cyc_a.ID==s_subtype].Accession.unique()\n",
    "    df_p['leiden'] = adata.obs['leiden']\n",
    "    df_p = df_p.loc[ls_index]\n",
    "    df_st = df_p.merge(df_surv_cyc.loc[:,['Survival','Survival_time']],left_index=True,right_index=True)\n",
    "    T = df_st['Survival_time']     ## time to event\n",
    "    E = df_st['Survival']      ## event occurred or censored\n",
    "    groups = df_st.loc[:,'leiden']  \n",
    "    kmf1 = KaplanMeierFitter() ## instantiate the class to create an object\n",
    "    fig, ax = plt.subplots(figsize=(3,3),dpi=200)\n",
    "    for s_group in sorted(groups.unique()):\n",
    "        i1 = (groups == s_group)\n",
    "        kmf1.fit(T[i1], E[i1], label=s_group)    ## fit thedata\n",
    "        kmf1.plot(ax=ax,ci_show=False)\n",
    "        #print(kmf1.median_survival_time_)\n",
    "    results = multivariate_logrank_test(event_durations=T, groups=groups, event_observed=E)\n",
    "    ax.set_title(f'{s_subtype} {s_cell} res={resolution} \\n neigh={n_neighbors} p={results.summary.p[0]:.2}')\n",
    "    ax.legend(loc='upper right')\n",
    "    plt.tight_layout()\n",
    "    if results.summary.p[0] < 0.05:\n",
    "        fig.savefig(f'{codedir}/data/Survival_Plots/KM_{s_subtype}_{s_type}_{s_partition}_{s_cell}_{n_neighbors}_{resolution}.png',dpi=200)\n",
    "        #more plots\n",
    "        d_a = dict(zip(adata.obs.index,adata.obs.leiden))\n",
    "        d_color = dict(zip(sorted(adata.obs.leiden.unique()),sns.color_palette()[0:len(adata.obs.leiden.unique())]))\n",
    "        row_colors = df_p.index.map(d_a).map(d_color)\n",
    "        g = sns.clustermap(df_p.loc[:,ls_col].dropna(),figsize=(7,5),cmap='viridis',\n",
    "                row_colors=row_colors,method='ward')\n",
    "        for label in d_color.keys():\n",
    "            g.ax_row_dendrogram.bar(0, 0, color=d_color[label],\n",
    "                                label=label, linewidth=0)\n",
    "        g.ax_row_dendrogram.legend(loc=\"right\", ncol=1)\n",
    "        g.savefig(f'{codedir}/{s_date}/clustermap_patients_{s_sample}_{s_type}_{s_partition}_{s_cell}_{s_type}_{n_neighbors}_{resolution}.png',dpi=200)\n",
    "        #subtypes\n",
    "        d_replace = {}\n",
    "        df_plot = df_p.dropna().groupby('leiden').mean()\n",
    "        df_plot.index.name = f'leiden {resolution}'\n",
    "        g = sns.clustermap(df_plot.dropna().T,z_score=1,figsize=(3,6),cmap='viridis',\n",
    "                           vmin=-2,vmax=2,method='ward')\n",
    "        g.fig.suptitle(f'leiden {resolution}',x=.9) \n",
    "        g.savefig(f'{codedir}/{s_date}/clustermap_subtypes_{s_sample}_{s_type}_{s_partition}_{s_cell}_{s_type}_{n_neighbors}_{resolution}.png',dpi=200)\n",
    "        marker_genes = df_plot.dropna().T.iloc[:,g.dendrogram_col.reordered_ind].columns.tolist()\n",
    "        categories_order = df_plot.dropna().T.iloc[g.dendrogram_row.reordered_ind,:].index.tolist()\n",
    "        #barplot\n",
    "        fig,ax=plt.subplots(figsize=(2.5,3),dpi=200)\n",
    "        df_p.groupby('leiden').count().loc[marker_genes[::-1]].iloc[:,1].plot(kind='barh',title='Patient Count',ax=ax)\n",
    "        plt.tight_layout()\n",
    "        fig.savefig(f'./{s_date}/barplot_subtyping_{s_sample}_{s_sample}_{s_type}_{s_partition}_{s_cell}_{s_type}_{n_neighbors}_{resolution}.png')\n",
    "    #break\n",
    "    #CPH    \n",
    "    df_dummy = pd.get_dummies(df_st.loc[:,['Survival_time','Survival','leiden']])\n",
    "    df_dummy = df_dummy.loc[:,df_dummy.sum() != 0]\n",
    "    cph = CoxPHFitter(penalizer=0.1)  ## Instantiate the class to create a cph object\n",
    "    cph.fit(df_dummy, 'Survival_time', event_col='Survival')\n",
    "    fig, ax = plt.subplots(figsize=(3,3),dpi=300)\n",
    "    cph.plot(ax=ax)\n",
    "    ax.set_title(f'CPH: {s_subtype} {s_type} {s_cell}')\n",
    "    plt.tight_layout()\n",
    "    fig.savefig(f'{codedir}/data/Survival_Plots/CoxPH_{s_subtype}_{s_type}_{s_partition}_{s_cell}_{n_neighbors}_{resolution}.png',dpi=200)\n",
    "    "
   ]
  },
  {
   "cell_type": "code",
   "execution_count": null,
   "metadata": {},
   "outputs": [],
   "source": [
    "        fig.savefig(f'{codedir}/data/Survival_Plots/KM_{s_subtype}_{s_type}_{s_partition}_{s_cell}_{n_neighbors}_{resolution}.png',dpi=200)\n",
    "        #more plots\n",
    "        d_a = dict(zip(adata.obs.index,adata.obs.leiden))\n",
    "        d_color = dict(zip(sorted(adata.obs.leiden.unique()),sns.color_palette()[0:len(adata.obs.leiden.unique())]))\n",
    "        row_colors = df_p.index.map(d_a).map(d_color)\n",
    "        g = sns.clustermap(df_p.loc[:,ls_col].dropna(),figsize=(7,5),cmap='viridis',\n",
    "                row_colors=row_colors,method='ward')\n",
    "        for label in d_color.keys():\n",
    "            g.ax_row_dendrogram.bar(0, 0, color=d_color[label],\n",
    "                                label=label, linewidth=0)\n",
    "        g.ax_row_dendrogram.legend(loc=\"right\", ncol=1)\n",
    "        g.savefig(f'{codedir}/{s_date}/clustermap_patients_{s_sample}_{s_type}_{s_partition}_{s_cell}_{s_type}_{n_neighbors}_{resolution}.png',dpi=200)\n",
    "        #subtypes\n",
    "        d_replace = {}\n",
    "        df_plot = df_p.dropna().groupby('leiden').mean()\n",
    "        df_plot.index.name = f'leiden {resolution}'\n",
    "        g = sns.clustermap(df_plot.dropna().T,z_score=1,figsize=(3,6),cmap='viridis',\n",
    "                           vmin=-2,vmax=2,method='ward')\n",
    "        g.fig.suptitle(f'leiden {resolution}',x=.9) \n",
    "        g.savefig(f'{codedir}/{s_date}/clustermap_subtypes_{s_sample}_{s_type}_{s_partition}_{s_cell}_{s_type}_{n_neighbors}_{resolution}.png',dpi=200)\n",
    "        marker_genes = df_plot.dropna().T.iloc[:,g.dendrogram_col.reordered_ind].columns.tolist()\n",
    "        categories_order = df_plot.dropna().T.iloc[g.dendrogram_row.reordered_ind,:].index.tolist()\n",
    "        #barplot\n",
    "        fig,ax=plt.subplots(figsize=(2.5,3),dpi=200)\n",
    "        df_p.groupby('leiden').count().loc[marker_genes[::-1]].iloc[:,1].plot(kind='barh',title='Patient Count',ax=ax)\n",
    "        plt.tight_layout()\n",
    "        fig.savefig(f'./{s_date}/barplot_subtyping_{s_sample}_{s_sample}_{s_type}_{s_partition}_{s_cell}_{s_type}_{n_neighbors}_{resolution}.png')\n"
   ]
  },
  {
   "cell_type": "code",
   "execution_count": null,
   "metadata": {},
   "outputs": [],
   "source": []
  },
  {
   "cell_type": "code",
   "execution_count": null,
   "metadata": {},
   "outputs": [],
   "source": [
    "        fig.savefig(f'{codedir}/data/Survival_Plots/KM_{s_subtype}_{s_type}_{s_partition}_{s_cell}_{n_neighbors}_{resolution}.png',dpi=200)\n",
    "        #more plots\n",
    "        d_a = dict(zip(adata.obs.index,adata.obs.leiden))\n",
    "        d_color = dict(zip(sorted(adata.obs.leiden.unique()),sns.color_palette()[0:len(adata.obs.leiden.unique())]))\n",
    "        row_colors = df_p.index.map(d_a).map(d_color)\n",
    "        g = sns.clustermap(df_p.loc[:,ls_col].dropna(),figsize=(5,5),cmap='viridis',\n",
    "                row_colors=row_colors,method='ward')\n",
    "        for label in d_color.keys():\n",
    "            g.ax_row_dendrogram.bar(0, 0, color=d_color[label],\n",
    "                                label=label, linewidth=0)\n",
    "        g.ax_row_dendrogram.legend(loc=\"right\", ncol=1)\n",
    "        g.savefig(f'{codedir}/{s_date}/clustermap_patients_{s_sample}_{s_type}_{s_partition}_{s_cell}_{s_type}_{n_neighbors}_{resolution}.png',dpi=200)\n",
    "        #subtypes\n",
    "        d_replace = {}\n",
    "        df_plot = df_p.dropna().groupby('leiden').mean()\n",
    "        df_plot.index.name = f'leiden {resolution}'\n",
    "        g = sns.clustermap(df_plot.dropna(),z_score=1,figsize=(5,3),cmap='viridis',\n",
    "                           vmin=-2,vmax=2,method='ward')\n",
    "        g.fig.suptitle(f'leiden {resolution}',x=.9) \n",
    "        g.savefig(f'{codedir}/{s_date}/clustermap_subtypes_{s_sample}_{s_type}_{s_partition}_{s_cell}_{s_type}_{n_neighbors}_{resolution}.png',dpi=200)\n",
    "        marker_genes = df_p.groupby('leiden').mean().iloc[:,g.dendrogram_col.reordered_ind].columns.tolist()\n",
    "        categories_order = df_p.groupby('leiden').mean().iloc[g.dendrogram_row.reordered_ind,:].index.tolist()\n",
    "        #barplot\n",
    "        fig,ax=plt.subplots(figsize=(2.5,3),dpi=200)\n",
    "        df_p.groupby('leiden').count().loc[categories_order[::-1]].iloc[:,1].plot(kind='barh',title='Patient Count',ax=ax)\n",
    "        plt.tight_layout()\n",
    "        fig.savefig(f'./{s_date}/barplot_subtyping_{s_sample}_{s_sample}_{s_type}_{s_partition}_{s_cell}_{s_type}_{n_neighbors}_{resolution}.png')\n",
    "        "
   ]
  },
  {
   "cell_type": "markdown",
   "metadata": {},
   "source": [
    "## survival analysis <a name=\"subtIMC\"></a>\n",
    "\n",
    "- subtypes IMC and cyclic\n",
    "\n",
    "\n",
    "[contents](#contents)"
   ]
  },
  {
   "cell_type": "code",
   "execution_count": null,
   "metadata": {},
   "outputs": [],
   "source": [
    "d_cyc_sub2 = {'JP-TMA2-1_scene01': 'TNBC', 'JP-TMA2-1_scene02': 'TNBC', 'JP-TMA2-1_scene03': 'TNBC', 'JP-TMA2-1_scene04': 'TNBC',\n",
    " 'JP-TMA2-1_scene05': 'TNBC', 'JP-TMA2-1_scene06': 'TNBC', 'JP-TMA2-1_scene07': 'TNBC', 'JP-TMA2-1_scene08': 'HER2+',\n",
    " 'JP-TMA2-1_scene09': 'TNBC', 'JP-TMA2-1_scene10': 'TNBC', 'JP-TMA2-1_scene11': 'TNBC', 'JP-TMA2-1_scene12': 'TNBC',\n",
    " 'JP-TMA2-1_scene13': 'TNBC', 'JP-TMA2-1_scene14': 'TNBC', 'JP-TMA2-1_scene15': 'TNBC', 'JP-TMA2-1_scene16': 'TNBC',\n",
    " 'JP-TMA2-1_scene17': 'TNBC', 'JP-TMA2-1_scene18': 'TNBC', 'JP-TMA2-1_scene19': 'TNBC', 'JP-TMA2-1_scene20': 'TNBC',\n",
    " 'JP-TMA2-1_scene21': 'TNBC', 'JP-TMA2-1_scene22': 'TNBC', 'JP-TMA2-1_scene23': 'TNBC', 'JP-TMA2-1_scene24': 'TNBC',\n",
    " 'JP-TMA2-1_scene25': 'TNBC', 'JP-TMA2-1_scene26': 'TNBC', 'JP-TMA2-1_scene27': 'TNBC', 'JP-TMA2-1_scene28': 'TNBC',\n",
    " 'JP-TMA2-1_scene29': 'TNBC', 'JP-TMA2-1_scene30': 'TNBC', 'JP-TMA2-1_scene31': 'TNBC', 'JP-TMA2-1_scene32': 'TNBC',\n",
    " 'JP-TMA2-1_scene33': 'TNBC', 'JP-TMA2-1_scene34': 'TNBC', 'JP-TMA2-1_scene35': 'TNBC', 'JP-TMA2-1_scene36': 'TNBC',\n",
    " 'JP-TMA2-1_scene37': 'TNBC', 'JP-TMA2-1_scene38': 'TNBC', 'JP-TMA2-1_scene39': 'TNBC', 'JP-TMA2-1_scene40': 'TNBC',\n",
    " 'JP-TMA2-1_scene41': 'TNBC', 'JP-TMA2-1_scene42': 'TNBC',}"
   ]
  },
  {
   "cell_type": "code",
   "execution_count": null,
   "metadata": {},
   "outputs": [],
   "source": [
    "#annotation\n",
    "df_surv_cyc = pd.read_csv(f'{codedir}/data/cycIF_clinical_outcome.csv',index_col=0)\n",
    "#os.mkdir('Survival_Plots_Both')\n",
    "df_a = pd.read_csv(f'{imcdir}/BaselTMA/Basel_PatientMetadata.csv')\n",
    "df_imc_a = pd.DataFrame(data=pd.Series(data=dict(zip(df_a.PID,df_a.clinical_type))),columns=['subtype'])\n",
    "df_imc_a['subtype'] = df_imc_a.subtype.replace({'TripleNeg':'TNBC','HR+HER2-':'ER+'})\n",
    "df_imc_a['Survival_time'] = df_imc_a.index.map(dict(zip(df_a.PID,df_a.OSmonth)))/12*365\n",
    "df_imc_a['Survival'] = df_imc_a.index.map(dict(zip(df_a.PID,df_a.Patientstatus.str.contains('death'))))\n",
    "df_imc_a['Survival'] = df_imc_a.Survival.replace({True:1,False:0})\n",
    "#\n",
    "d_sub_both = dict(zip(df_cyc_a.Accession,df_cyc_a.ID))\n",
    "d_sub_both.update(d_cyc_sub2)\n",
    "df_surv_cyc['subtype'] = df_surv_cyc.index.map(d_sub_both)\n",
    "#\n",
    "df_surv = df_surv_cyc.append(df_imc_a)"
   ]
  },
  {
   "cell_type": "code",
   "execution_count": null,
   "metadata": {},
   "outputs": [],
   "source": [
    "#results data\n",
    "imcdir = '/home/groups/graylab_share/OMERO.rdsStore/engje/Data/IMC_Data_publication'\n",
    "df_imc = pd.read_csv(f'{imcdir}/IMC_results_files.csv',index_col=0)\n",
    "df_imc['platform'] = 'IMC'\n",
    "df_cycif = pd.read_csv(f'{codedir}/cycIF_results_files.csv',index_col=0)\n",
    "df_cycif['platform'] = 'cycIF'\n",
    "df_file = df_cycif.append(df_imc)"
   ]
  },
  {
   "cell_type": "code",
   "execution_count": null,
   "metadata": {},
   "outputs": [],
   "source": [
    "#match celltypes\n",
    "d_celltype_IMC = {'19':'Luminal hi t.',\n",
    " '9': 'Myoepithelial',\n",
    " '9b': 'Basal t.',\n",
    " '15':  'Luminal ER+ t.',#'PgR+ t.',\n",
    " '7': 'Luminal ER+ t.',\n",
    " '11': 'Luminal t.',#'Ecad hi t.',\n",
    " '6': 'Luminal t.',\n",
    " '23': 'EGFR hi t.',\n",
    " '10': 'Proliferating t.',\n",
    " '21': 'Vim+ t.',\n",
    " '16': 'CD44+ t.',\n",
    " '2': 'CD3 T cell',\n",
    " '17': 'CD20 B cell',\n",
    " '3': 'ECM++ str.',#'FN++ str.',\n",
    " '5': 'Large t.',\n",
    " '0': 'NOS str.',\n",
    " '20': 'Ecad- t.',\n",
    " '8': 'Vim++ str.',\n",
    " '1': 'poorly diff t.',\n",
    " '12': 'CD44+ str.',\n",
    " '4': 'NOS str.',#'Sm. NOS str.',\n",
    " '14': 'Endothelial',\n",
    " '18': 'Macrophage'}\n",
    "d_celltype_cycif = {'4': 'CD3 T cell', #'CD8 T cell',\n",
    " '23': 'CD20 B cell',\n",
    " '5': 'CD3 T cell', #'CD4 T cell',\n",
    " '22': 'Luminal hi t.',\n",
    " '1': 'Luminal ER+ t.',\n",
    " '17':  'Luminal ER+ t.',#'Ecad hi ER+ t.',\n",
    " '11': 'Basal t.',\n",
    " '12': 'Vim++ str.',\n",
    " '19': 'Endothelial',\n",
    " '9': 'Macrophage',\n",
    " '7': 'ECM++ str.',#'ColI++ str.',\n",
    " '2s': 'CD44+ str.',\n",
    " '2t': 'CD44+ t.',\n",
    " '15': 'Myoepithelial',\n",
    " '14': 'Large t.',\n",
    " '13': 'NOS str.',\n",
    " '8': 'NOS str.',#'Vim+ ECM+ str.',#'Vim+ ColI+ str.',\n",
    " '0': 'Luminal t.',\n",
    " '10': 'Vim+ t.',\n",
    " '16': 'Ecad- t.',\n",
    " '3': 'poorly diff t.',\n",
    " '20': 'EGFR hi t.',\n",
    " '6': 'Proliferating t.'}"
   ]
  },
  {
   "cell_type": "code",
   "execution_count": null,
   "metadata": {},
   "outputs": [],
   "source": [
    "n_neighbors = 8\n",
    "\n",
    "#cluster for subtypes\n",
    "for s_cell in ['all','celltype','epithelial','leidencelltype3','leidencelltype4']:\n",
    "    s_cell = 'celltype'\n",
    "    df_load = df_file[df_file.cell==s_cell]\n",
    "    df = pd.DataFrame()\n",
    "    for s_plat in sorted(set(df_file.platform)):\n",
    "        s_index = df_load[df_load.platform == s_plat].index[0]\n",
    "        if s_plat == 'IMC':\n",
    "            df_plat = pd.read_csv(f'{imcdir}/{s_index}',index_col=0)\n",
    "            df_plat = df_plat.rename({'str.':'stromal','imm.':'immune'},axis=1)\n",
    "            d_celltypes = d_celltype_IMC\n",
    "        else:\n",
    "            df_plat = pd.read_csv(f'{codedir}/{s_index}',index_col=0)\n",
    "            d_celltypes = d_celltype_cycif          \n",
    "        df_plat = df_plat.fillna(0)\n",
    "        if df_load.loc[s_index,'type'] == 'LeidenClustering':\n",
    "            df_plat = df_plat.rename(d_celltypes,axis=1)\n",
    "            for s_marker in df_plat.columns[df_plat.columns.duplicated()]:\n",
    "                df_plat.loc[:,df_plat.columns==s_marker]\n",
    "                se_sum = df_plat.loc[:,df_plat.columns==s_marker].sum(axis=1)\n",
    "                df_plat = df_plat.drop(s_marker,axis=1)\n",
    "                df_plat[s_marker] = se_sum\n",
    "        df_plat['platform'] = s_plat\n",
    "        #break\n",
    "        df = df.append(df_plat)\n",
    "    s_subtype = df_file.loc[s_index,'subtype'] \n",
    "    s_type = df_file.loc[s_index,'type'] \n",
    "    s_partition = df_file.loc[s_index,'partition'] \n",
    "    s_cell =df_file.loc[s_index,'cell'] \n",
    "    #subtyping adata\n",
    "    if s_cell == 'celltype':\n",
    "        ls_col = df.columns[df.dtypes=='float64']\n",
    "    elif s_cell == 'epithelial':\n",
    "        ls_col = df.columns[df.dtypes=='float64'][df.loc[:,df.columns[df.dtypes=='float64']].sum()/len(df) > 0.1]\n",
    "    else:\n",
    "        ls_col = df.columns[df.dtypes=='float64']\n",
    "    print('making adata')\n",
    "    adata = sc.AnnData(df.loc[:,ls_col].fillna(0))\n",
    "    adata.raw = adata\n",
    "    #reduce dimensionality\n",
    "    sc.tl.pca(adata, svd_solver='auto')\n",
    "    print('scaling')\n",
    "    sc.pp.scale(adata, zero_center=False, max_value=20)\n",
    "    print('calc umap')\n",
    "    # calculate neighbors \n",
    "    sc.pp.neighbors(adata, n_neighbors=n_neighbors) \n",
    "    sc.tl.umap(adata)\n",
    "    #color by markers   \n",
    "    figname = f\"Umapboth_markers_{s_subtype}_{s_type}_{s_partition}_{s_cell}_{n_neighbors}neigh.png\"\n",
    "    title=figname.split('.png')[0].replace('_',' ')\n",
    "    sc.pl.umap(adata, color=ls_col,vmin='p1.5',vmax='p99.5',ncols=4,save=figname,size=250)\n",
    "    #subtype\n",
    "    adata.obs['Platform'] = df.platform\n",
    "    figname = f\"Umapboth_Platform_{s_subtype}_{s_type}_{s_partition}_{s_cell}_{n_neighbors}neigh.png\"\n",
    "    title=figname.split('.png')[0].replace('_',' ')\n",
    "    sc.pl.umap(adata, color='Platform',vmin='p1.5',vmax='p99.5',ncols=4,save=figname,size=250)\n",
    "    adata.obs['subtype'] = adata.obs.index.astype('str').map(dict(zip(df_surv.index.astype('str'),df_surv.subtype)))\n",
    "    adata.obs['subtype'] = adata.obs['subtype'].fillna('TNBC')\n",
    "    figname = f\"Umapboth_subtype_{s_subtype}_{s_type}_{s_partition}_{s_cell}_{n_neighbors}neigh.png\"\n",
    "    title=figname.split('.png')[0].replace('_',' ')\n",
    "    sc.pl.umap(adata, color='subtype',vmin='p1.5',vmax='p99.5',ncols=4,save=figname,size=250)\n",
    "    break"
   ]
  },
  {
   "cell_type": "code",
   "execution_count": null,
   "metadata": {},
   "outputs": [],
   "source": [
    "resolution = 0.2\n",
    "sc.tl.leiden(adata,resolution=resolution)\n",
    "fig,ax = plt.subplots(figsize=(2.5,2),dpi=200)\n",
    "figname=f'both_{s_subtype}_{s_partition}_{s_cell}_{n_neighbors}_{resolution}.png'\n",
    "sc.pl.umap(adata, color='leiden',ax=ax,title=figname.split('.png')[0].replace('_',' '),wspace=.25,save=figname,size=40)"
   ]
  },
  {
   "cell_type": "code",
   "execution_count": null,
   "metadata": {},
   "outputs": [],
   "source": [
    "for s_subtype in ['ER+','TNBC']:\n",
    "    df_p = pd.DataFrame(data=adata.raw.X, index=adata.obs.index, columns=adata.var.index) #adata.to_df()\n",
    "    df_p['Subtype'] = adata.obs.subtype\n",
    "    df_p['leiden'] = adata.obs.leiden\n",
    "    df_p['Platform'] = adata.obs.Platform\n",
    "    df_p['Survival'] = df_p.index.map(dict(zip(df_surv.index,df_surv.Survival)))\n",
    "    df_p['Survival_time'] = df_p.index.map(dict(zip(df_surv.index,df_surv.Survival_time)))\n",
    "    df_st = df_p[(df_p.Subtype==s_subtype)].dropna()\n",
    "    s_plat = 'Both'\n",
    "    T = df_st['Survival_time']     ## time to event\n",
    "    E = df_st['Survival']      ## event occurred or censored\n",
    "    groups = df_st.loc[:,'leiden']  \n",
    "    kmf1 = KaplanMeierFitter() ## instantiate the class to create an object\n",
    "    fig, ax = plt.subplots(figsize=(3,3),dpi=200)\n",
    "    for s_group in sorted(groups.unique()):\n",
    "        i1 = (groups == s_group)\n",
    "        kmf1.fit(T[i1], E[i1], label=s_group)    ## fit thedata\n",
    "        kmf1.plot(ax=ax,ci_show=False)\n",
    "        #print(kmf1.median_survival_time_)\n",
    "    results = multivariate_logrank_test(event_durations=T, groups=groups, event_observed=E)\n",
    "    ax.set_title(f'{s_subtype} {s_plat} {s_cell} res={resolution} \\n neigh={n_neighbors} p={results.summary.p[0]:.1}')\n",
    "    ax.legend(loc='upper right')\n",
    "    ax.set_ylim(-0.05,1.05)\n",
    "    plt.tight_layout()\n",
    "    fig.savefig(f'{codedir}/Survival_Plots_Both/KM_{s_subtype}_{s_plat}_{s_type}_{s_partition}_{s_cell}_{n_neighbors}_{resolution}.png',dpi=200)\n",
    "    #CPH\n",
    "    df_dummy = pd.get_dummies(df_st.loc[:,['Survival_time','Survival','leiden']])\n",
    "    df_dummy = df_dummy.loc[:,df_dummy.sum() != 0]\n",
    "    cph = CoxPHFitter(penalizer=0.1)  ## Instantiate the class to create a cph object\n",
    "    cph.fit(df_dummy, 'Survival_time', event_col='Survival')\n",
    "    fig, ax = plt.subplots(figsize=(3,3),dpi=300)\n",
    "    cph.plot(ax=ax)\n",
    "    ax.set_title(f'CPH: {s_subtype} {s_plat} {s_cell}')\n",
    "    plt.tight_layout()\n",
    "    fig.savefig(f'{codedir}/Survival_Plots_Both/CoxPH_{s_subtype}_{s_plat}_{s_type}_{s_partition}_{s_cell}_{n_neighbors}_{resolution}.png',dpi=200)\n",
    "\n",
    "    #break"
   ]
  },
  {
   "cell_type": "code",
   "execution_count": null,
   "metadata": {},
   "outputs": [],
   "source": [
    "for s_subtype in ['ER+','TNBC']:\n",
    "    df_p = pd.DataFrame(data=adata.raw.X, index=adata.obs.index, columns=adata.var.index) #\n",
    "    if s_cell =='celltype':\n",
    "        df_p = adata.to_df()\n",
    "    df_p['Subtype'] = adata.obs.subtype\n",
    "    df_p['leiden'] = adata.obs.leiden\n",
    "    df_p['Platform'] = adata.obs.Platform\n",
    "    df_p['Survival'] = df_p.index.map(dict(zip(df_surv.index,df_surv.Survival)))\n",
    "    df_p['Survival_time'] = df_p.index.map(dict(zip(df_surv.index,df_surv.Survival_time)))\n",
    "    for s_plat in df_p.Platform.unique():\n",
    "        df_st = df_p[(df_p.Platform==s_plat) & (df_p.Subtype==s_subtype)].dropna()\n",
    "        T = df_st['Survival_time']     ## time to event\n",
    "        E = df_st['Survival']      ## event occurred or censored\n",
    "        groups = df_st.loc[:,'leiden']  \n",
    "        kmf1 = KaplanMeierFitter() ## instantiate the class to create an object\n",
    "        fig, ax = plt.subplots(figsize=(3,3),dpi=200)\n",
    "        for s_group in sorted(groups.unique()):\n",
    "            i1 = (groups == s_group)\n",
    "            kmf1.fit(T[i1], E[i1], label=s_group)    ## fit thedata\n",
    "            kmf1.plot(ax=ax,ci_show=False)\n",
    "            #print(kmf1.median_survival_time_)\n",
    "        results = multivariate_logrank_test(event_durations=T, groups=groups, event_observed=E)\n",
    "        ax.set_title(f'{s_subtype} {s_plat} {s_cell} res={resolution} \\n neigh={n_neighbors} p={results.summary.p[0]:.2}')\n",
    "        ax.legend(loc='upper right')\n",
    "        ax.set_ylim(-0.05,1.05)\n",
    "        plt.tight_layout()\n",
    "        fig.savefig(f'{codedir}/Survival_Plots_Both/KM_{s_subtype}_{s_plat}_{s_type}_{s_partition}_{s_cell}_{n_neighbors}_{resolution}.png',dpi=200)\n",
    "        #CPH\n",
    "        df_dummy = pd.get_dummies(df_st.loc[:,['Survival_time','Survival','leiden']])\n",
    "        df_dummy = df_dummy.loc[:,df_dummy.sum() != 0]\n",
    "        cph = CoxPHFitter(penalizer=0.1)  ## Instantiate the class to create a cph object\n",
    "        cph.fit(df_dummy, 'Survival_time', event_col='Survival')\n",
    "        fig, ax = plt.subplots(figsize=(3,3),dpi=300)\n",
    "        cph.plot(ax=ax)\n",
    "        ax.set_title(f'CPH: {s_subtype} {s_plat} {s_cell}')\n",
    "        plt.tight_layout()\n",
    "        fig.savefig(f'{codedir}/Survival_Plots_Both/CoxPH_{s_subtype}_{s_plat}_{s_type}_{s_partition}_{s_cell}_{n_neighbors}_{resolution}.png',dpi=200)\n",
    "\n",
    "    break"
   ]
  },
  {
   "cell_type": "code",
   "execution_count": null,
   "metadata": {},
   "outputs": [],
   "source": [
    "print(s_subtype)\n",
    "df_p[ (df_p.Subtype==s_subtype)].dropna()"
   ]
  },
  {
   "cell_type": "code",
   "execution_count": null,
   "metadata": {},
   "outputs": [],
   "source": [
    "#more plots\n",
    "#color by platform/leiden\n",
    "d_color = dict(zip(sorted(adata.obs.leiden.unique()),sns.color_palette()[0:len(adata.obs.leiden.unique())]))\n",
    "d_color_p = {'cycIF':'gold','IMC':'darkblue'}\n",
    "network_colors = df_p.leiden.astype('str').map(d_color)#pd.Series(network_labels, index=networks.columns).map(network_lut)\n",
    "node_colors  = df_p.Platform.astype('str').map(d_color_p)\n",
    "network_node_colors = pd.DataFrame(node_colors).join(pd.DataFrame(network_colors))\n",
    "\n",
    "g = sns.clustermap(df_p.loc[:,ls_col].dropna(),figsize=(7,6),cmap='viridis',\n",
    "        row_colors=network_node_colors,method='ward',dendrogram_ratio=0.16)\n",
    "for label,color in d_color_p.items():\n",
    "    g.ax_col_dendrogram.bar(0, 0, color=color,label=label, linewidth=0)\n",
    "l1 = g.ax_col_dendrogram.legend(loc=\"right\", ncol=1,bbox_to_anchor=(0.12, 0.7),bbox_transform=gcf().transFigure)\n",
    "for label,color in d_color.items():\n",
    "    g.ax_row_dendrogram.bar(0, 0, color=color,label=label, linewidth=0)\n",
    "l2 = g.ax_row_dendrogram.legend(loc=\"right\", ncol=1,bbox_to_anchor=(0.1, 0.5),bbox_transform=gcf().transFigure)\n",
    "g.savefig(f'{codedir}/Survival_Plots_Both/clustermap_PlatformandSubtype_{s_sample}_{s_type}_{s_partition}_{s_cell}_{s_type}_{n_neighbors}_{resolution}.png',dpi=200)\n",
    "\n",
    "#subtypes' mean\n",
    "d_replace = {}\n",
    "df_plot = df_p.loc[:,ls_col.tolist()+['leiden']].dropna().groupby('leiden').mean()\n",
    "df_plot.index.name = f'leiden {resolution}'\n",
    "g = sns.clustermap(df_plot.dropna().T,z_score=1,figsize=(4,3),cmap='viridis',vmin=-2,vmax=2,method='ward')\n",
    "g.fig.suptitle(f'leiden {resolution}',x=.9) \n",
    "g.savefig(f'{codedir}/Survival_Plots_Both/clustermap_subtypes_{s_sample}_{s_type}_{s_partition}_{s_cell}_{s_type}_{n_neighbors}_{resolution}.png',dpi=200)\n",
    "marker_genes = df_plot.dropna().T.iloc[:,g.dendrogram_col.reordered_ind].columns.tolist()\n",
    "categories_order = df_plot.dropna().T.iloc[g.dendrogram_row.reordered_ind,:].index.tolist()\n",
    "#barplot\n",
    "fig,ax=plt.subplots(figsize=(2.5,2.5),dpi=200)\n",
    "df_p.groupby('leiden').count().loc[marker_genes].iloc[:,1].plot(kind='barh',title='Patient Count',ax=ax)\n",
    "plt.tight_layout()\n",
    "fig.savefig(f'./Survival_Plots_Both/barplot_subtyping_{s_sample}_{s_type}_{s_partition}_{s_cell}_{s_type}_{n_neighbors}_{resolution}.png')\n"
   ]
  },
  {
   "cell_type": "markdown",
   "metadata": {},
   "source": [
    "## spatial <a name=\"neigh\"></a>\n",
    "\n",
    "- neighborhoods\n",
    "\n",
    "\n",
    "[contents](#contents)"
   ]
  },
  {
   "cell_type": "code",
   "execution_count": null,
   "metadata": {},
   "outputs": [],
   "source": [
    "counts_df = pd.read_csv('./data/20220118_JP-TMAs_LeidenClustering_neighbors30_resolution0.4_markers22_2sub_NeighborhoodCounts.csv',index_col=0)\n",
    "print('counts dataframe loaded')"
   ]
  },
  {
   "cell_type": "code",
   "execution_count": null,
   "metadata": {},
   "outputs": [],
   "source": [
    "s_type='neighborhoods'\n",
    "n_markers = 22\n",
    "n_neighbors = 30\n",
    "s_sample = '20220118_JP-TMAs'\n",
    "for resolution in [0.4,0.2,0.3]:\n",
    "    results_file = f'./data/{s_sample}_NeighborhoodClustering_{n_neighbors}neighbors_{n_markers}celltypes_leiden{resolution}_full.h5ad'   \n",
    "    adata = sc.read_h5ad(results_file)\n",
    "    counts_df['leiden'] = adata.obs.leiden.astype('str')\n",
    "    ls_index = counts_df.groupby('leiden').count()[counts_df.groupby('leiden').count().loc[:,'0']<200].index.to_list()\n",
    "    counts_df.loc[counts_df.leiden.isin(ls_index),'leiden'] = 'small'\n",
    "    adata.obs['leiden_'] = counts_df.loc[:,'leiden'].astype('str')\n",
    "    figname = f'UmapLeidenNeighborhoods_{n_neighbors}_{resolution}_full.png'\n",
    "    adata.uns['leiden_colors'] = mpl.cm.tab20b.colors + mpl.cm.tab20c.colors\n",
    "    fig = sc.pl.umap(adata, color='leiden_',save=figname,title=f'Leiden Neighborhoods {n_neighbors} {resolution}',color_map='gist_ncar') #"
   ]
  },
  {
   "cell_type": "code",
   "execution_count": null,
   "metadata": {},
   "outputs": [],
   "source": []
  },
  {
   "cell_type": "code",
   "execution_count": null,
   "metadata": {},
   "outputs": [],
   "source": []
  }
 ],
 "metadata": {
  "kernelspec": {
   "display_name": "Python3.9.5",
   "language": "python",
   "name": "python3.9.5"
  },
  "language_info": {
   "codemirror_mode": {
    "name": "ipython",
    "version": 3
   },
   "file_extension": ".py",
   "mimetype": "text/x-python",
   "name": "python",
   "nbconvert_exporter": "python",
   "pygments_lexer": "ipython3",
   "version": "3.9.5"
  }
 },
 "nbformat": 4,
 "nbformat_minor": 4
}
