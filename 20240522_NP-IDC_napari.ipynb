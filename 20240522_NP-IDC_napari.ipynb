{
 "cells": [
  {
   "cell_type": "code",
   "execution_count": null,
   "id": "f6d1763d",
   "metadata": {},
   "outputs": [],
   "source": [
    "import napari\n",
    "import os\n",
    "import skimage\n",
    "from skimage import io, measure\n",
    "from skimage.io import imread\n",
    "import numpy as np\n",
    "import copy\n",
    "import pandas as pd\n",
    "import tifffile\n",
    "from PIL import Image, ImageFont, ImageDraw \n",
    "import seaborn as sns\n",
    "import matplotlib.pyplot as plt\n",
    "\n",
    "import palettable.cartocolors.qualitative as qual_palettes"
   ]
  },
  {
   "cell_type": "code",
   "execution_count": null,
   "id": "2f6aeb93",
   "metadata": {},
   "outputs": [],
   "source": [
    "#paths\n",
    "codedir = '/Users/engje/Documents/Data/cycIF_TMAs'\n",
    "regdir = f'{codedir}/Cropped'\n",
    "#regdir = '/Volumes/BCC_Chin_Lab_RDS/ChinData/Cyclic_Workflow/cmIF_2022-03-25_mTMA2/Cropped'\n",
    "\n",
    "#segdir ='/Volumes/BCC_Chin_Lab_RDS/ChinData/Cyclic_Analysis/cmIF_2021-05-03_PDAC/U54-TMA-9/Jenny/Segmentation/Mesmer_Segmentation'\n",
    "\n",
    "os.chdir(codedir)\n",
    "os.chdir('..')\n",
    "from mplex_image import visualize as viz\n",
    "from mplex_image import mpimage, analyze\n",
    "os.chdir(codedir)\n",
    "title_font = ImageFont.truetype('SansSerifBldFLF.otf',50)"
   ]
  },
  {
   "cell_type": "code",
   "execution_count": null,
   "id": "bfb46a20",
   "metadata": {},
   "outputs": [],
   "source": [
    "# RNA seq - done\n",
    "# # Python to translate ensembl to gene name: done\n",
    "# a = 'Tempus300'#'SingleEnd'#'PairedEnd'\n",
    "# df_annot = pd.read_csv(f\"results_annotation_{a}.csv\",index_col=0)\n",
    "# df_annot.head()\n",
    "\n",
    "# df_tpm = pd.read_csv(f\"results_TPM_{a}.csv\",index_col=0)\n",
    "# # if df_tpm.index[0].find('.')>-1: #periods\n",
    "# #     df_tpm.index = [item.split('.')[0] for item in df_tpm.index]\n",
    "# df_tpm.index = df_tpm.index.map(dict(zip(df_annot.gene_id,df_annot.gene_name)))\n",
    "# print(len(df_tpm))\n",
    "# print(len(df_tpm[~df_tpm.index.duplicated(keep='first')]))\n",
    "# df_tpm_sum = df_tpm.groupby(by=df_tpm.index, axis=0).sum()\n",
    "# print(len(df_tpm_sum))\n",
    "# df_tpm_sum.to_csv(f\"results_TPM_{a}_sum.csv\")"
   ]
  },
  {
   "cell_type": "markdown",
   "id": "65d260dd",
   "metadata": {},
   "source": [
    "# load data"
   ]
  },
  {
   "cell_type": "code",
   "execution_count": null,
   "id": "61cf5a68-702a-4023-b0ff-e68a6ee8912d",
   "metadata": {},
   "outputs": [],
   "source": [
    "#load single cell data\n",
    "os.chdir(codedir)\n",
    "s_data = '20240520_NP-Tissues_FilteredMeanIntensity.csv'#\"20230326_U54-TMA_CombinedCelltypes_PDAC.csv\"#'20220721_U54-TMA_CombinedCelltypes_PDAC.csv'\n",
    "\n",
    "\n",
    "df_mi = pd.read_csv(f'{s_data}',index_col=0)\n",
    "df_mi['cellid'] = [item.split('cell')[1] for item in df_mi.index]\n",
    "\n",
    "df_mi.head()"
   ]
  },
  {
   "cell_type": "code",
   "execution_count": null,
   "id": "68f7b7e5-5343-443b-ac8f-03b34d942a3e",
   "metadata": {},
   "outputs": [],
   "source": [
    "# make the intensity data (done)\n",
    "# ls_file = ['features_mTMA2-4_Ecad_patched_MeanIntensity_Shape_DAPI1_DAPI6_registeredimages.csv',\n",
    "#  'features_mTMA2-5_Ecad_patched_MeanIntensity_Shape_DAPI1_DAPI6_registeredimages.csv']\n",
    "# df_all = pd.DataFrame()\n",
    "# for s_file in ls_file:\n",
    "#     df = pd.read_csv(s_file,index_col=0)\n",
    "#     df_all = pd.concat([df_all,df])\n",
    "# df_all = df_all.loc[:,df_all.dtypes=='float64']\n",
    "# df_all = df_all.loc[:,~df_all.columns.str.contains('DAPI')]\n",
    "# df_all = df_all.loc[:,~df_all.columns.str.contains('cellmem2p25')]\n",
    "# df_all.columns = [item.split('_')[0] for item in df_all.columns]\n",
    "# df_all = df_all.loc[:,~df_all.columns.duplicated(keep=False)]\n",
    "# df_all.drop('nuclei',axis=1,inplace=True)\n",
    "# df_mi.loc[:,['seurat_clusters']].merge(df_all,left_index=True,right_index=True).to_csv('tma_int.data.csv')\n",
    "\n",
    "#load intensity data\n",
    "# df_clust = df_mi.loc[:,(df_mi.dtypes=='float64') | (df_mi.columns=='HDBSCAN')].drop(['DAPI_X','DAPI_Y','0','1'],axis=1) #pd.read_csv('tma_int.data.csv',index_col=0)"
   ]
  },
  {
   "cell_type": "code",
   "execution_count": null,
   "id": "195b873a",
   "metadata": {},
   "outputs": [],
   "source": [
    "# d_replace = dict(zip(df_mi.HDBSCAN,df_mi.leidencelltype5))\n",
    "# d_color = dict(zip(['endothelial', 'epithelial', 'fibroblast', 'immune', 'stromal'],sns.color_palette()[0:5]))"
   ]
  },
  {
   "cell_type": "code",
   "execution_count": null,
   "id": "16056c66-051e-47db-ae1a-e483fc877f11",
   "metadata": {},
   "outputs": [],
   "source": [
    "# %matplotlib inline \n",
    "# ls_drop =  [] #['LamAC','RAD51', 'gH2AX','pMYC','pRPA','CD4', 'CD8','ColI']\n",
    "# df_plot = df_clust.drop(ls_drop,axis=1).groupby('HDBSCAN').mean()\n",
    "# row_colors = df_plot.index.map(d_replace).map(d_color)\n",
    "# g = sns.clustermap(df_plot,z_score=1,vmin=-2,vmax=2,cmap='viridis',figsize=(6,5),xticklabels=1,yticklabels=1,\n",
    "#                    dendrogram_ratio=0.08, cbar_pos=(-0.01, 0.92, 0.03, 0.10),row_colors=row_colors,\n",
    "#                   cbar_kws={'label':'Z-score'})\n",
    "# for label in d_color.keys():\n",
    "#     g.ax_row_dendrogram.bar(0, 0, color=d_color[label],\n",
    "#                             label=label, linewidth=0)\n",
    "# g.ax_row_dendrogram.legend(loc=\"right\",title='Lineage',ncol=1,bbox_to_anchor=(0.1,0.45))\n",
    "# g.ax_heatmap.set_ylabel('Annotated Cell Type')\n",
    "# g.ax_heatmap.set_xlabel('Marker',labelpad=-10)\n",
    "# g.savefig('clusters_heatmap.png',dpi=300)"
   ]
  },
  {
   "cell_type": "code",
   "execution_count": null,
   "id": "0fd2370a-e08d-47fa-950e-553c1d5a14db",
   "metadata": {},
   "outputs": [],
   "source": [
    "# ## QC/ identify high expressing cores\n",
    "\n",
    "# # df_clust['slide_scene'] = [item.split('_cell')[0] for item in df_clust.index]\n",
    "# # df_test = df_clust.loc[:,['slide_scene','HDBSCAN']].groupby('slide_scene').value_counts().unstack() #normalize=True\n",
    "\n",
    "# # df_core[df_core.Old_Pt_ID== '4832-T'] #CD68+ with Ecad+ or Vim+ cells, cell-in-cell\n",
    "# # df_core[df_core.Old_Pt_ID== '4741-T'] \n",
    "# # df_core[df_core.Old_Pt_ID== '4806-T'] \n",
    "# # df_core[df_core.Old_Pt_ID== '4832-T'] \n",
    "# # df_core[df_core.Old_Pt_ID== '4612-T'] \n",
    "# # df_core.sort_values(by='PurIST_Score',ascending=False)[0:10]\n",
    "# # df_test.sort_values('CK17+ tumor',ascending=False)\n",
    "# # df_test.sort_values('CK19 low CD44+ tumor',ascending=False)\n",
    "# test_cluster = 'CD68+ immune'#'CK5+ PDPN+ tumor'#'aSMA+ blood vessel'\n",
    "# df_clust['slide_scene'] = [item.split('_cell')[0] for item in df_clust.index]\n",
    "# df_test = df_clust.loc[:,['slide_scene','HDBSCAN']].groupby('slide_scene').value_counts().unstack() #normalize=True\n",
    "# df_test.sort_values(by=test_cluster,ascending=False)[0:4]"
   ]
  },
  {
   "cell_type": "code",
   "execution_count": null,
   "id": "43eff375",
   "metadata": {},
   "outputs": [],
   "source": [
    "# identify patients\n",
    "# d_pt = dict(zip(df_core.coor_mplexable,df_core.Old_Pt_ID))\n",
    "# df_test['PT'] = df_test.index.map(d_pt)\n",
    "# # s_col = 'CD68+ immune'\n",
    "# # df_test.loc[:,['PT',s_col]].sort_values(by=s_col,ascending=False)"
   ]
  },
  {
   "cell_type": "markdown",
   "id": "5c43f8c5-3b53-4732-8745-ab1945398124",
   "metadata": {},
   "source": [
    "## Load a core\n",
    "\n",
    "scatterplot clustering results"
   ]
  },
  {
   "cell_type": "code",
   "execution_count": null,
   "id": "058fc4dd",
   "metadata": {},
   "outputs": [],
   "source": [
    "# #colors\n",
    "# %matplotlib inline\n",
    "# color_palette =  qual_palettes.Bold_8.mpl_colors +  qual_palettes.Safe_8.mpl_colors + qual_palettes.Pastel_10.mpl_colors\n",
    "# d_color = dict(zip(df_mi.HDBSCAN2.unique(),color_palette))\n",
    "# #d_color.update({'intraductal cells':'lightgray', 'small round cells':'lightgray'})\n",
    "# #ls_scene = ['U54-TMA-9_sceneH03', 'U54-TMA-9_sceneF03', 'U54-TMA-9_sceneB11'] #tumor K\n",
    "# #ls_scene = ['U54-TMA-9_sceneB07', 'U54-TMA-9_sceneH11', 'U54-TMA-9_sceneG07'] # b cell K\n",
    "# #ls_scene = ['U54-TMA-9_sceneE09','U54-TMA-9_sceneC04','U54-TMA-9_sceneB07',] # pericyte\n",
    "# #ls_scene = ['U54-TMA-9_sceneH11', 'U54-TMA-9_sceneE02', 'U54-TMA-9_sceneI06'] #endothelial\n",
    "# #ls_scene = ['U54-TMA-9_sceneI10','U54-TMA-9_sceneG05','U54-TMA-9_sceneC06'] # B cell change to FB\n",
    "# #ls_scene = ['U54-TMA-9_sceneE10','U54-TMA-9_sceneG05','U54-TMA-9_sceneB07','U54-TMA-9_sceneH11','U54-TMA-9_sceneC11','U54-TMA-9_sceneG09','U54-TMA-9_sceneC06',] #examples: aSMA+ FB, PDPN+ tumor\n",
    "# ls_scene = df_test.sort_values(by=test_cluster,ascending=False)[0:4].index\n",
    "# #scatterplot the celltypes\n",
    "# for s_slide in ls_scene:\n",
    "#     s_slide = 'U54-TMA-9_sceneE04'\n",
    "#     df_scene = df_mi[df_mi.slide==s_slide]\n",
    "#     fig,ax=plt.subplots(figsize=(10,9),dpi=200)\n",
    "#     sns.scatterplot(data=df_scene, x='DAPI_X', y='DAPI_Y', hue='HDBSCAN2',palette=d_color,ax=ax,\n",
    "#                    s=8,edgecolor=None)\n",
    "#     ax.legend(bbox_to_anchor=(1.01,0.9))\n",
    "#     ax.set_title(f\"{s_slide}\", fontsize=16) \n",
    "#     ax.axis('equal')\n",
    "#     ax.set_ylim(ax.get_ylim()[::-1])\n",
    "#     ax.set_xticklabels('')\n",
    "#     ax.set_yticklabels('')\n",
    "#     break\n",
    "    "
   ]
  },
  {
   "cell_type": "code",
   "execution_count": null,
   "id": "13c54ca0-cf34-4574-8258-7255ac5d2769",
   "metadata": {},
   "outputs": [],
   "source": [
    "os.listdir(regdir)"
   ]
  },
  {
   "cell_type": "markdown",
   "id": "4370190e",
   "metadata": {},
   "source": [
    "# napari viewer"
   ]
  },
  {
   "cell_type": "code",
   "execution_count": null,
   "id": "667a89a1",
   "metadata": {
    "scrolled": true,
    "tags": []
   },
   "outputs": [],
   "source": [
    "# crops/local\n",
    "from skimage import transform, io, segmentation\n",
    "ls_file = [#'ReRegistered-R11_S100.AR.LaminB2.CD45_NP9-IDC2-Scene-001_c1_ORG.tif'\n",
    " 'ReRegistered-R11_S100.AR.LaminB2.CD45_NP9-IDC2-Scene-003_c1_ORG.tif',\n",
    " 'ReRegistered-R1_PCNA.CD8.PD1.CK19_NP9-IDC2-Scene-003_c5_ORG.tif']\n",
    "s_marker = 'DAPI11'\n",
    "#s_file = 'ReRegistered-R0_blank.blank.blank_NP9-IDC2-Scene-001_c2_ORG.tif'\n",
    "#s_marker = 'R0c2'\n",
    "\n",
    "#load images\n",
    "#print(s_slide)\n",
    "os.chdir(f'{regdir}')\n",
    "\n",
    "viewer = napari.Viewer()\n",
    "for s_file in ls_file:\n",
    "    img = io.imread(s_file)\n",
    "    viewer.add_image(img,name=s_marker,rgb=False,blending='additive',colormap='blue',contrast_limits = (np.quantile(img,0),(np.quantile(img,0.9999)+1)*1.5))\n",
    "\n",
    "#scale bar\n",
    "viewer.scale_bar.visible = True\n",
    "title_text = s_file\n",
    "\n",
    "#viz.add_slide_name(viewer, title_text,title_font, s_layer='DAPI11')\n",
    "\n"
   ]
  },
  {
   "cell_type": "code",
   "execution_count": null,
   "id": "598c22a3",
   "metadata": {},
   "outputs": [],
   "source": [
    "print('done')"
   ]
  },
  {
   "cell_type": "code",
   "execution_count": null,
   "id": "529780fd-93aa-44fe-877e-b400b8f724f0",
   "metadata": {},
   "outputs": [],
   "source": [
    "# # # add all the clusters\n",
    "# df_scene = df_mi[df_mi.slide==s_slide] #[:-1]\n",
    "# s_col = 'HDBSCAN2' # 'leidencelltype5' #\n",
    "# for idx,i_clust in enumerate(sorted(df_scene.loc[:,s_col].unique())): \n",
    "#     viz.add_cluster(viewer,df_scene,s_col,i_clust,idx,label_corrected)"
   ]
  },
  {
   "cell_type": "markdown",
   "id": "b06c8646-c3d3-4a96-a72c-bb6e5accd12a",
   "metadata": {},
   "source": [
    "## ROI selection\n",
    "\n",
    "select areas of the tissue to analyze or exclude"
   ]
  },
  {
   "cell_type": "code",
   "execution_count": null,
   "id": "5ff41c01-a14e-4ab3-8ea5-409a18be81a4",
   "metadata": {},
   "outputs": [],
   "source": [
    "s_slide = s_file.split('-Scene-')[0].split('_')[-1]\n",
    "s_scene = s_file.split('-Scene-')[1].split('_')[0]\n",
    "s_slide_scene = f'{s_slide}_scene{s_scene}'\n",
    "df_scene = df_mi[df_mi.slide_scene==s_slide_scene]\n",
    "print(s_slide_scene)"
   ]
  },
  {
   "cell_type": "code",
   "execution_count": null,
   "id": "99cfbc6c-60db-4d59-bef6-554b6ed9224a",
   "metadata": {},
   "outputs": [],
   "source": [
    "# add points at centroids\n",
    "s_crop = 'x0y0'\n",
    "points,x_arr = viz.add_points(s_crop,df_scene,s_slide)\n",
    "viewer.add_points(points)"
   ]
  },
  {
   "cell_type": "code",
   "execution_count": null,
   "id": "191c11c1-7ce5-4eec-ba67-c16380a7756e",
   "metadata": {},
   "outputs": [],
   "source": [
    "#draw shape, then run this cell (after every new shape)\n",
    "\n",
    "verts = viewer.layers['Shapes'].data[0]\n",
    "b_poly = measure.points_in_poly(points, verts)\n",
    "point_properties = {\n",
    "    'label': np.array(df_scene.loc[df_scene.index.str.contains(s_slide),'cellid']),\n",
    "    'in_poly' : np.array(b_poly)\n",
    "}\n",
    "points_layer = viewer.add_points(points, properties=point_properties, face_color='in_poly',face_color_cycle=['magenta', 'black'],edge_width=0)\n"
   ]
  },
  {
   "cell_type": "code",
   "execution_count": null,
   "id": "b67169dd-bdcf-454f-807e-6e82258fc00b",
   "metadata": {},
   "outputs": [],
   "source": [
    "# specify if points to exclude are ...\n",
    "# in polygon (might be black or magenta)\n",
    "df_exclude = x_arr.loc[b_poly]\n",
    "# out of polygon (again, color can change)\n",
    "#df_exclude = x_arr.loc[~b_poly]"
   ]
  },
  {
   "cell_type": "code",
   "execution_count": null,
   "id": "7711b497-6eed-4691-ad94-e79f19efe221",
   "metadata": {},
   "outputs": [],
   "source": [
    "# # add another ROI\n",
    "# # more in poly\n",
    "# df_exclude = pd.concat([df_exclude,x_arr.loc[b_poly]])\n",
    "# # more out of poly\n",
    "# #df_exclude = pd.concat([df_exclude,x_arr.loc[~b_poly]])"
   ]
  },
  {
   "cell_type": "code",
   "execution_count": null,
   "id": "a700d3bf-b1f1-4a0d-9fe4-0ea2262f5275",
   "metadata": {},
   "outputs": [],
   "source": [
    "# save\n",
    "df_exclude.to_csv(f'exclude_{s_slide}_Normal4.csv')"
   ]
  },
  {
   "cell_type": "code",
   "execution_count": null,
   "id": "5e80c86c-9619-47a0-a0b7-bff635a38b57",
   "metadata": {},
   "outputs": [],
   "source": [
    "df_exclude"
   ]
  },
  {
   "cell_type": "code",
   "execution_count": null,
   "id": "53e73fbe-44bd-4192-9202-9706f5e0034f",
   "metadata": {},
   "outputs": [],
   "source": []
  },
  {
   "cell_type": "markdown",
   "id": "8416b314-fa17-4cb3-bc5f-e28a945cffc2",
   "metadata": {},
   "source": [
    "# not used"
   ]
  },
  {
   "cell_type": "markdown",
   "id": "38c39144-71a0-4921-a8c2-41970673d1a2",
   "metadata": {},
   "source": [
    "## Equalized display range\n",
    "\n",
    "View multiple tissues with same markers and display range"
   ]
  },
  {
   "cell_type": "code",
   "execution_count": null,
   "id": "0caa21ba",
   "metadata": {},
   "outputs": [],
   "source": [
    "for s_tissue in ['Liver_Met','Lung_Met','Normal_Lung','Normal_Liver']:\n",
    "    ls_slide = df_core.loc[df_core.Tissue==s_tissue,['coor_mplexable','Old_Pt_ID','pORG_Score','Cohort']].coor_mplexable.unique()\n",
    "    break"
   ]
  },
  {
   "cell_type": "code",
   "execution_count": null,
   "id": "6164fb35",
   "metadata": {},
   "outputs": [],
   "source": [
    "df_core[df_core.Old_Pt_ID=='4702-T'] #sceneI05: is this one labelled wrong?. it does have CD31 and CD68"
   ]
  },
  {
   "cell_type": "code",
   "execution_count": null,
   "id": "1848bf8d",
   "metadata": {},
   "outputs": [],
   "source": [
    "ls_slide = ['U54-TMA-9_sceneG05', 'U54-TMA-9_sceneE10', 'U54-TMA-9_sceneH12',\n",
    "       'U54-TMA-9_sceneE03', 'U54-TMA-9_sceneB06', 'U54-TMA-9_sceneE02',\n",
    "       'U54-TMA-9_sceneH01', 'U54-TMA-9_sceneH09', 'U54-TMA-9_sceneI05',\n",
    "       'U54-TMA-9_sceneB11', 'U54-TMA-9_sceneB12', 'U54-TMA-9_sceneD02',\n",
    "       'U54-TMA-9_sceneD05', 'U54-TMA-9_sceneE04', 'U54-TMA-9_sceneG07'] # ck5\n",
    "ls_slide = ['U54-TMA-9_sceneA10', 'U54-TMA-9_sceneB11', 'U54-TMA-9_sceneE03',\n",
    "       'U54-TMA-9_sceneG10', 'U54-TMA-9_sceneC11', 'U54-TMA-9_sceneE11',\n",
    "       'U54-TMA-9_sceneB02', 'U54-TMA-9_sceneE10', 'U54-TMA-9_sceneA09',\n",
    "       'U54-TMA-9_sceneC09', 'U54-TMA-9_sceneB09', 'U54-TMA-9_sceneB06',\n",
    "       'U54-TMA-9_sceneC08', 'U54-TMA-9_sceneG09', 'U54-TMA-9_sceneD08',\n",
    "       'U54-TMA-9_sceneC06', 'U54-TMA-9_sceneI10', 'U54-TMA-9_sceneA07',\n",
    "       'U54-TMA-9_sceneF03', 'U54-TMA-9_sceneF02', 'U54-TMA-9_sceneD02',\n",
    "       'U54-TMA-9_sceneB12', 'U54-TMA-9_sceneE04', 'U54-TMA-9_sceneG01',\n",
    "       'U54-TMA-9_sceneF07', 'U54-TMA-9_sceneD11', 'U54-TMA-9_sceneD09',\n",
    "       'U54-TMA-9_sceneE09', 'U54-TMA-9_sceneE05', 'U54-TMA-9_sceneE02',\n",
    "       'U54-TMA-9_sceneF04', 'U54-TMA-9_sceneF11', 'U54-TMA-9_sceneC10',\n",
    "       'U54-TMA-9_sceneG02', 'U54-TMA-9_sceneC04', 'U54-TMA-9_sceneB04',\n",
    "       'U54-TMA-9_sceneH01', 'U54-TMA-9_sceneI06', 'U54-TMA-9_sceneA05'] #CK17"
   ]
  },
  {
   "cell_type": "code",
   "execution_count": null,
   "id": "b77c717b",
   "metadata": {},
   "outputs": [],
   "source": [
    "# equalized display range for making figures\n",
    "#ls_slide = ['mTMA2-4_sceneA04','mTMA2-4_sceneA01',]\n",
    "d_marker = {'DAPI1':0,'Ecad':50,'panCK':150,'CK19':150,'Vim':35,#'CD45':(2,30),'CD31':(3,150),\n",
    "           'CK17':(1,10),'CK5':80,'Ki67':80} #,'Ki67':80,'\"panCK':150,\n",
    "d_marker = {'DAPI1':0,'Ecad':50,#'panCK':150,'CK19':150,'Vim':35,#'CD45':(2,30),'CD31':(3,150),\n",
    "           'CK17':(1,10),'CK5':80}#,'Ki67':80} \n",
    "os.chdir(regdir)\n",
    "for s_slide in ls_slide: \n",
    "    #s_slide = 'U54-TMA-9_sceneI05'#'U54-TMA-9_sceneG09'\n",
    "    print(s_slide)\n",
    "    for s_file in os.listdir():\n",
    "        if s_file.find(s_slide) > -1:\n",
    "            if s_file.find('Ecad') == -1:\n",
    "                s_crop = s_file.split('_')[2]\n",
    "    viewer = napari.Viewer()\n",
    "    label_image = viz.load_marker(viewer,s_crop,s_slide,d_marker)\n",
    "    #scale bar\n",
    "    viewer.scale_bar.visible = True\n",
    "    se_core = df_core[df_core.coor_mplexable==s_slide].iloc[0]\n",
    "    try: \n",
    "        title_text = se_core.coor_mplexable + ' ' + se_core.Old_Pt_ID + ' pORG=' + str(se_core.pORG_Score) + ' ' + se_core.Cohort#f'{s_slide}'\n",
    "    except:\n",
    "        title_text = se_core.coor_mplexable + ' ' + se_core.Old_Pt_ID #+ ' ' + se_core.Tissue\n",
    "    viz.add_slide_name(viewer, title_text,title_font, s_layer='DAPI1')\n",
    "    #break"
   ]
  },
  {
   "cell_type": "code",
   "execution_count": null,
   "id": "19979bcf",
   "metadata": {},
   "outputs": [],
   "source": [
    "print('done')"
   ]
  },
  {
   "cell_type": "markdown",
   "id": "70a3b9ee-3753-4a9d-93f6-5a8e7bc1934e",
   "metadata": {},
   "source": [
    "## Viewing markers at full resolution (server)\n",
    "\n",
    "make sure to mount server (cmd-k)\n",
    "\n",
    "requires access"
   ]
  },
  {
   "cell_type": "code",
   "execution_count": null,
   "id": "0e95158f",
   "metadata": {},
   "outputs": [],
   "source": [
    "#functions\n",
    "def add_slide_name(viewer, title_text, s_layer='DAPI1'):\n",
    "    name_img  = np.zeros(viewer.layers[s_layer].data.shape)\n",
    "    my_image=Image.fromarray(name_img)\n",
    "    image_editable = ImageDraw.Draw(my_image)\n",
    "    image_editable.text(xy=(150,150), text=title_text, fill=(200), font=title_font)\n",
    "    viewer.add_image(np.asarray(my_image), blending='additive',visible=True,name=title_text)\n",
    "\n",
    "\n",
    "def make_title_text(df_core,s_slide):\n",
    "    s_patient = df_core.loc[df_core.coor_mplexable==s_slide,\"SpecimenID\"].iloc[0]\n",
    "    s_porg = str(df_core.loc[df_core.coor_mplexable==s_slide,\"pORG_Score\"].iloc[0].round(3))\n",
    "    if df_core.loc[df_core.coor_mplexable==s_slide].Liver_Met_Radiographic.iloc[0] == 'metastasis':\n",
    "        s_met = 'liver'\n",
    "    elif df_core.loc[df_core.coor_mplexable==s_slide].Lung_Met_Raidographic.iloc[0] == 'metastasis':\n",
    "        s_met = 'lung'\n",
    "    else:\n",
    "        s_met = ''\n",
    "    title_text = f'{s_slide}  {s_patient} {s_met} pORG={s_porg}'\n",
    "    return(title_text)"
   ]
  },
  {
   "cell_type": "code",
   "execution_count": null,
   "id": "b9599b4e",
   "metadata": {},
   "outputs": [],
   "source": [
    "## viewing markers at full resolution (server)\n",
    "regdir_server = '/Volumes/BCC_Chin_Lab_RDS/ChinData/Cyclic_Workflow/cmIF_2021-05-03_PDAC/SubtractedRegisteredImages'\n",
    "segdir = '/Volumes/BCC_Chin_Lab_RDS/ChinData/Cyclic_Workflow/cmIF_2021-05-03_PDAC/Segmentation/U54-TMA-9_CellposeSegmentation'\n",
    "\n",
    "from skimage.io import imread\n",
    "ls_rpa = ['U54-TMA-9_sceneG05', 'U54-TMA-9_sceneB06',\n",
    "          'U54-TMA-9_sceneC12',#'mTMA2-4_sceneA01'\n",
    " ]\n",
    "\n",
    "ls_marker = ['pMYC','DAPI1','CK19','Ecad']\n",
    "ls_marker = ['pMYC','DAPI1','PDPN','Ecad','panCK','Vim','CK19','CK5','CK17']\n",
    "for s_slide in ls_rpa:\n",
    "    regdir_slide = f'{regdir_server}/{s_slide}'\n",
    "    os.chdir(regdir_slide)\n",
    "    df_img = mpimage.parse_org()\n",
    "    #update dapis\n",
    "    d_out = {item:'DAPI' + df_img.loc[item,'round_num'].astype('int').astype('str') for item in df_img[df_img.marker=='DAPI'].index}\n",
    "    for s_index, s_dapi in d_out.items():\n",
    "        df_img.loc[s_index,'marker'] = s_dapi\n",
    "    filenames = df_img[df_img.marker.isin(ls_marker)].index\n",
    "    viewer = napari.Viewer()\n",
    "    for i, filename in enumerate(filenames):\n",
    "        if filename.find('Registered') > -1:\n",
    "            s_index = f\"Registered{filename.split('Registered')[1]}\"\n",
    "            s_marker = df_img.loc[s_index,'marker']\n",
    "            img = imread(s_index)\n",
    "            q99 = np.quantile(img,0.998)\n",
    "            if s_marker.find('DAPI') > -1:\n",
    "                viewer.add_image(img, contrast_limits=[1000,65000], multiscale=False, blending='additive',visible=True,name=s_marker,colormap='blue')\n",
    "            elif s_marker == 'CK19' or s_marker == 'Ecad':\n",
    "                viewer.add_image(img, contrast_limits=[750,q99*1.5], multiscale=False, blending='additive',visible=False,name=s_marker)\n",
    "            else:\n",
    "                viewer.add_image(img, contrast_limits=[0,q99*1.5], multiscale=False, blending='additive',visible=False,name=s_marker)\n",
    "    os.chdir(segdir)\n",
    "    labels = io.imread(f'{s_slide}_Ecad_nuc30_cell30_matched_exp5_CellSegmentationBasins.tif')\n",
    "    viewer.add_labels(labels,blending='additive')\n",
    "#     nuclabels = io.imread(f'{s_slide}_nuclei0.5_NucleiSegmentationBasins.tif')\n",
    "#     viewer.add_labels(nuclabels,blending='additive')\n",
    "    add_slide_name(viewer, s_slide,s_layer='DAPI1')\n",
    "    viewer.scale_bar.visible = True\n",
    "    break\n"
   ]
  },
  {
   "cell_type": "markdown",
   "id": "e9e2bc97-2ac5-44a8-a854-64b420393026",
   "metadata": {},
   "source": [
    "###  move images around on one drive\n",
    "\n",
    "copy cores analyzed by zinab"
   ]
  },
  {
   "cell_type": "code",
   "execution_count": null,
   "id": "5ea9a910-d564-4f03-aaed-8350be722a76",
   "metadata": {},
   "outputs": [],
   "source": [
    "## server (works way better)\n",
    "# import shutil\n",
    "# cropdir = '/Volumes/BCC_Chin_Lab_RDS/ChinData/Cyclic_Workflow/cmIF_2022-03-25_mTMA2/Cropped'\n",
    "# os.chdir(cropdir)\n",
    "# ls_scene = df_mi.slidescene.unique()[2::]\n",
    "# df_img = pd.DataFrame(index=os.listdir())\n",
    "# df_img['scene'] = [item.split('_')[0] + '_' + item.split('_')[1] for item in df_img.index]\n",
    "# for s_scene in ls_scene:\n",
    "#     print(s_scene)\n",
    "#     ls_img = df_img[df_img.scene==s_scene].index\n",
    "#     for s_img in ls_img:\n",
    "#         source = s_img\n",
    "#         destination = f'{regdir}/{s_img}'\n",
    "#         shutil.copy(source, destination)\n",
    "#     #break\n",
    "# os.chdir(codedir)"
   ]
  },
  {
   "cell_type": "code",
   "execution_count": null,
   "id": "f1ee82c9-1362-4bae-9128-3569fd0cf8b2",
   "metadata": {},
   "outputs": [],
   "source": [
    "## one drive (works poorly)\n",
    "# ls_scene = df_mi.slidescene.unique()\n",
    "# os.chdir('/Users/engje//Oregon Health & Science University - Zinab Doha - cyclic_IF_ZD_JE/Cropped1')\n",
    "# import shutil\n",
    "# df_img = pd.DataFrame(index=os.listdir())\n",
    "# df_img['scene'] = [item.split('_')[0] + '_' + item.split('_')[1] for item in df_img.index]\n",
    "# for s_scene in ls_scene:\n",
    "#     print(s_scene)\n",
    "#     ls_img = df_img[df_img.scene==s_scene].index\n",
    "#     for s_img in ls_img:\n",
    "#         source = s_img\n",
    "#         destination = f'../Cropped/{s_img}'\n",
    "#         shutil.copy(source, destination)\n",
    "#os.chdir(codedir)"
   ]
  },
  {
   "cell_type": "code",
   "execution_count": null,
   "id": "f36696d3-6b2e-4bac-ad47-77d497f6d862",
   "metadata": {},
   "outputs": [],
   "source": []
  }
 ],
 "metadata": {
  "kernelspec": {
   "display_name": "Python 3 (ipykernel)",
   "language": "python",
   "name": "python3"
  },
  "language_info": {
   "codemirror_mode": {
    "name": "ipython",
    "version": 3
   },
   "file_extension": ".py",
   "mimetype": "text/x-python",
   "name": "python",
   "nbconvert_exporter": "python",
   "pygments_lexer": "ipython3",
   "version": "3.9.15"
  }
 },
 "nbformat": 4,
 "nbformat_minor": 5
}
