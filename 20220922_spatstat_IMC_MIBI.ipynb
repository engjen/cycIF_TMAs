{
 "cells": [
  {
   "cell_type": "markdown",
   "id": "8cda780a",
   "metadata": {},
   "source": [
    "# MIBI and IMC"
   ]
  },
  {
   "cell_type": "code",
   "execution_count": null,
   "id": "ec74adfa",
   "metadata": {
    "scrolled": true
   },
   "outputs": [],
   "source": [
    "library(spatstat)\n",
    "library(dplyr)\n",
    "#library(ggplot2)\n",
    "#library(imager,quietly = True)\n",
    "library(stringr)\n",
    "#ulimit::memory_limit(6000)"
   ]
  },
  {
   "cell_type": "code",
   "execution_count": null,
   "id": "6168d68d",
   "metadata": {},
   "outputs": [],
   "source": [
    "mydata <- read.csv(\"./data/20220420_JP-TMAs_IMC-TMAs_MIBI_CombinedCelltypes_all.csv\")\n"
   ]
  },
  {
   "cell_type": "code",
   "execution_count": null,
   "id": "a147753f",
   "metadata": {},
   "outputs": [],
   "source": [
    "#df[, 12:18][df[, 12:18] == 0] <- NA\n",
    "#simplify to tumor\n",
    "mydata[,'leiden'][mydata[,'leidencelltype5'] == 'epithelial'] <- 'tumor'"
   ]
  },
  {
   "cell_type": "code",
   "execution_count": null,
   "id": "dc9e9470",
   "metadata": {
    "scrolled": true
   },
   "outputs": [],
   "source": [
    "# not cycIF\n",
    "mydata <- mydata[!grepl(\"JP-TMA\", mydata$X),]\n",
    "head(mydata)\n",
    "tail(mydata)"
   ]
  },
  {
   "cell_type": "markdown",
   "id": "18557661",
   "metadata": {},
   "source": [
    "## start here\n",
    "\n",
    "4/19/2023"
   ]
  },
  {
   "cell_type": "code",
   "execution_count": null,
   "id": "61b40657",
   "metadata": {},
   "outputs": [],
   "source": [
    "#### all the measures\n",
    "ls_scene = unique(mydata$slide_scene)\n",
    "ls_cells = unique(mydata$leiden) #c('T cell','B cell')#,'tumor','Endothelial','CD68+ immune','fibroblast','CD45 low immune'\n",
    "ls_from = unique(mydata$leiden) #c('T cell','B cell','tumor')#\n",
    "#ls_cells = c('tumor','Quies. str.','Vim+ FB','Macrophage','endothelial','CD3 T cell')#,'CD4 T cell','CD8 T cell''FN+ FB',\n",
    "#ls_from = c('tumor','CD3 T cell') #,'CD4 T cell','CD8 T cell'\n",
    "combined_df_Kcross <- data.frame(r=double(),\n",
    "                    theo=double(),\n",
    "                    iso=double(),\n",
    "                    slide_scene=character(),\n",
    "                    cell=character())\n",
    "combined_df_Kest <- data.frame(r=double(),\n",
    "                    theo=double(),\n",
    "                    iso=double(),\n",
    "                    slide_scene=character(),\n",
    "                    cell=character())\n",
    "combined_df_density <- data.frame(d=double(),\n",
    "                    slide_scene=character(),\n",
    "                    cell=character())\n",
    "\n",
    "combined_df_Gcross <- data.frame(d=double(),\n",
    "                    slide_scene=character(),\n",
    "                    cell=character())\n",
    "\n",
    "# loop version 1\n",
    "datalist = list()\n",
    "for (s_scene in ls_scene) { #ls_scene[1:18]\n",
    "  print(s_scene)\n",
    "  s_scene_scene = str_replace(s_scene, '_', '_scene')\n",
    "  s_scene_scene = str_replace(s_scene_scene, '_scenescene', '_scene')\n",
    "  print(s_scene_scene)\n",
    "  mydataSubset <- mydata[grep(s_scene_scene, mydata$X), c('X','DAPI_X','DAPI_Y','leiden')]\n",
    "  mymin <- mydataSubset %>% summarise_if(is.numeric, min)\n",
    "  mymax <- mydataSubset %>% summarise_if(is.numeric, max)\n",
    "  mypattern <- ppp(mydataSubset[,\"DAPI_X\"],mydataSubset[,\"DAPI_Y\"],c(mymin %>% pull('DAPI_X'),mymax %>% pull('DAPI_X')),\n",
    "                c(mymin %>% pull('DAPI_Y'),mymax %>% pull('DAPI_Y')))\n",
    "  win_p <- mypattern$window\n",
    "  marks(mypattern) <- factor(mydataSubset$leiden)\n",
    "  startTime <- Sys.time()\n",
    "  for (s_cell in intersect((unique(mydataSubset$leiden)),ls_cells)) {\n",
    "      print(s_cell)\n",
    "      for (s_center in intersect((unique(mydataSubset$leiden)),ls_from)) {\n",
    "          print(s_center)\n",
    "          if (s_cell!=s_center){\n",
    "              print(s_cell)\n",
    "              print(s_center)\n",
    "              # kcross\n",
    "              Kcross_cell <- Kcross(X=mypattern, from=s_center, to=s_cell,correction='isotropic',rmax=100,nlarge=3000)\n",
    "              Kcross_cell['slide_scene'] = s_scene\n",
    "              Kcross_cell['from_cell'] = s_center\n",
    "              Kcross_cell['to_cell'] = s_cell\n",
    "              combined_df_Kcross <- rbind(combined_df_Kcross, Kcross_cell)\n",
    "              #g cross\n",
    "              Gcross_cell <- Gcross(X=mypattern, i=s_center, j=s_cell, correction=c(\"rs\", \"km\", \"han\"))\n",
    "              Gcross_cell['slide_scene'] = s_scene\n",
    "              Gcross_cell['from_cell'] = s_center\n",
    "              Gcross_cell['to_cell'] = s_cell\n",
    "              combined_df_Gcross <- rbind(combined_df_Gcross, Gcross_cell)\n",
    "              }\n",
    "          else {\n",
    "            mydata_cell = mydataSubset[grep(s_cell, mydataSubset$leiden), ]\n",
    "            mypatternK <- ppp(x=(mydata_cell[,\"DAPI_X\"]),y=((mydata_cell[,\"DAPI_Y\"])),window=win_p)\n",
    "            Kest_cell <- Kest(mypatternK,correction = 'isotropic',rmax=100,nlarge=3000)\n",
    "            #fit <- ppm(mypatternK, ~ polynom(x,y,2), Poisson())\n",
    "            #lambda <- predict(fit, locations=mypatternK, type=\"trend\")\n",
    "            #Kest_cell <- Kinhom(mypatternK,lambda,correction = 'isotropic',rmax=100/.325,nlarge=4000) #inhom\n",
    "            Kest_cell['slide_scene'] = s_scene\n",
    "            Kest_cell['cell'] = s_cell\n",
    "            combined_df_Kest <- rbind(combined_df_Kest, Kest_cell)\n",
    "            D <- intensity(mypatternK)\n",
    "            combined_df_density[nrow(combined_df_density) + 1,] <- list(D, s_scene, s_cell)\n",
    "             }\n",
    "          }\n",
    "      \n",
    "  }\n",
    "  endTime <- Sys.time()\n",
    "  print(endTime - startTime)\n",
    "  #break\n",
    "    }\n"
   ]
  },
  {
   "cell_type": "code",
   "execution_count": null,
   "id": "2eeb0dbb",
   "metadata": {},
   "outputs": [],
   "source": [
    "# #save out\n",
    "# s_num = 'ROI'#'inhom' #first\n",
    "# write.csv(combined_df_Kcross,sprintf(\"./data/IMC-MIBI_%s_Kcross.csv\",s_num), row.names = FALSE)\n",
    "# write.csv(combined_df_Kest,sprintf(\"./data/IMC-MIBI_%s_Kest.csv\",s_num), row.names = FALSE)\n",
    "# write.csv(combined_df_density,sprintf(\"./data/IMC-MIBI_%s_density.csv\",s_num), row.names = FALSE)\n",
    "# write.csv(combined_df_Gcross,sprintf(\"./data/IMC-MIBI_%s_Gcross.csv\",s_num), row.names = FALSE)"
   ]
  },
  {
   "cell_type": "code",
   "execution_count": null,
   "id": "02c3cc4b",
   "metadata": {},
   "outputs": [],
   "source": [
    "print('done')"
   ]
  },
  {
   "cell_type": "markdown",
   "id": "75726f04",
   "metadata": {},
   "source": [
    "## Occupancy"
   ]
  },
  {
   "cell_type": "code",
   "execution_count": null,
   "id": "d49072ec",
   "metadata": {},
   "outputs": [],
   "source": [
    "makeQuadrats <- function(p, squareLength) {\n",
    "  require(spatstat)\n",
    "  \n",
    "  dx <- Window(p)$xrange[2] - Window(p)$xrange[1]\n",
    "  dy <- Window(p)$yrange[2] - Window(p)$yrange[1]\n",
    "  \n",
    "  nx <- floor(dx/squareLength)\n",
    "  ny <- floor(dy/squareLength)\n",
    "  return(c(nx,ny))\n",
    " }"
   ]
  },
  {
   "cell_type": "code",
   "execution_count": null,
   "id": "5474f477",
   "metadata": {},
   "outputs": [],
   "source": [
    "#### occupancy counts\n",
    "ls_scene = unique(mydata$slide_scene)\n",
    "mydata[,'leiden2'] = sub(\"$\",\"_\",mydata$leiden)\n",
    "combined_df_occ <- data.frame(unlist.result_table.=double(),\n",
    "                    slide_scene=character())\n",
    "# loop \n",
    "pList = list()\n",
    "for (s_scene in ls_scene) { #ls_scene[1:18]\n",
    "  print(s_scene)\n",
    "  s_scene_scene = str_replace(s_scene, '_', '_scene')\n",
    "  s_scene_scene = str_replace(s_scene_scene, '_scenescene', '_scene')\n",
    "  print(s_scene_scene)\n",
    "  mydataSubset <- mydata[grep(s_scene_scene, mydata$X), c('X','DAPI_X','DAPI_Y','leiden2')]\n",
    "  mymin <- mydataSubset %>% summarise_if(is.numeric, min)\n",
    "  mymax <- mydataSubset %>% summarise_if(is.numeric, max)\n",
    "  mypattern <- ppp(mydataSubset[,\"DAPI_X\"],mydataSubset[,\"DAPI_Y\"],c(mymin %>% pull('DAPI_X'),mymax %>% pull('DAPI_X')),\n",
    "                c(mymin %>% pull('DAPI_Y'),mymax %>% pull('DAPI_Y')))\n",
    "  win_p <- mypattern$window\n",
    "  marks(mypattern) <- factor(mydataSubset$leiden2)\n",
    "  nxny <- makeQuadrats(mypattern,50)\n",
    "  result_table <- quadratcount.splitppp(split(mypattern), nx=nxny[1], ny=nxny[2])\n",
    "  counts <- data.frame(unlist(result_table))\n",
    "  if (length(counts) > 0) {\n",
    "    counts['slide_scene'] = s_scene\n",
    "    combined_df_occ <- rbind(combined_df_occ, counts)\n",
    "    }\n",
    "  \n",
    "  #break\n",
    "  }\n",
    "\n",
    "# #save out\n",
    "s_num = 'ROI'#'inhom' #first\n",
    "write.csv(combined_df_occ,sprintf(\"./data/IMC-MIBI_%s_Occ.csv\",s_num), row.names = TRUE)\n",
    "print('done')"
   ]
  },
  {
   "cell_type": "code",
   "execution_count": null,
   "id": "8f9982b7",
   "metadata": {},
   "outputs": [],
   "source": []
  }
 ],
 "metadata": {
  "kernelspec": {
   "display_name": "R",
   "language": "R",
   "name": "ir"
  },
  "language_info": {
   "codemirror_mode": "r",
   "file_extension": ".r",
   "mimetype": "text/x-r-source",
   "name": "R",
   "pygments_lexer": "r",
   "version": "4.2.0"
  }
 },
 "nbformat": 4,
 "nbformat_minor": 5
}
